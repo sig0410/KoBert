{
  "nbformat": 4,
  "nbformat_minor": 0,
  "metadata": {
    "colab": {
      "name": "한글BERT+HuggingFace(되는것_불용어_추가,_다중분류,_평가척도_TPU_Khaii).ipynb",
      "provenance": [],
      "collapsed_sections": [],
      "machine_shape": "hm"
    },
    "kernelspec": {
      "name": "python3",
      "display_name": "Python 3"
    },
    "widgets": {
      "application/vnd.jupyter.widget-state+json": {
        "393cea6ba04d4912aef569efb72e0147": {
          "model_module": "@jupyter-widgets/controls",
          "model_name": "HBoxModel",
          "state": {
            "_view_name": "HBoxView",
            "_dom_classes": [],
            "_model_name": "HBoxModel",
            "_view_module": "@jupyter-widgets/controls",
            "_model_module_version": "1.5.0",
            "_view_count": null,
            "_view_module_version": "1.5.0",
            "box_style": "",
            "layout": "IPY_MODEL_af5c6e7fcc0d44e88f00e81151dc66dd",
            "_model_module": "@jupyter-widgets/controls",
            "children": [
              "IPY_MODEL_ae60a359b0194a3ba96c61eccfc761a1",
              "IPY_MODEL_f7e1de2cb1634537a1f9c6ff29c6825e"
            ]
          }
        },
        "af5c6e7fcc0d44e88f00e81151dc66dd": {
          "model_module": "@jupyter-widgets/base",
          "model_name": "LayoutModel",
          "state": {
            "_view_name": "LayoutView",
            "grid_template_rows": null,
            "right": null,
            "justify_content": null,
            "_view_module": "@jupyter-widgets/base",
            "overflow": null,
            "_model_module_version": "1.2.0",
            "_view_count": null,
            "flex_flow": null,
            "width": null,
            "min_width": null,
            "border": null,
            "align_items": null,
            "bottom": null,
            "_model_module": "@jupyter-widgets/base",
            "top": null,
            "grid_column": null,
            "overflow_y": null,
            "overflow_x": null,
            "grid_auto_flow": null,
            "grid_area": null,
            "grid_template_columns": null,
            "flex": null,
            "_model_name": "LayoutModel",
            "justify_items": null,
            "grid_row": null,
            "max_height": null,
            "align_content": null,
            "visibility": null,
            "align_self": null,
            "height": null,
            "min_height": null,
            "padding": null,
            "grid_auto_rows": null,
            "grid_gap": null,
            "max_width": null,
            "order": null,
            "_view_module_version": "1.2.0",
            "grid_template_areas": null,
            "object_position": null,
            "object_fit": null,
            "grid_auto_columns": null,
            "margin": null,
            "display": null,
            "left": null
          }
        },
        "ae60a359b0194a3ba96c61eccfc761a1": {
          "model_module": "@jupyter-widgets/controls",
          "model_name": "FloatProgressModel",
          "state": {
            "_view_name": "ProgressView",
            "style": "IPY_MODEL_7692e2dbe5d74054ae257a292aff58bc",
            "_dom_classes": [],
            "description": "Downloading: 100%",
            "_model_name": "FloatProgressModel",
            "bar_style": "success",
            "max": 426,
            "_view_module": "@jupyter-widgets/controls",
            "_model_module_version": "1.5.0",
            "value": 426,
            "_view_count": null,
            "_view_module_version": "1.5.0",
            "orientation": "horizontal",
            "min": 0,
            "description_tooltip": null,
            "_model_module": "@jupyter-widgets/controls",
            "layout": "IPY_MODEL_349c00ae7eba4cc3aa1b78ba359a4c48"
          }
        },
        "f7e1de2cb1634537a1f9c6ff29c6825e": {
          "model_module": "@jupyter-widgets/controls",
          "model_name": "HTMLModel",
          "state": {
            "_view_name": "HTMLView",
            "style": "IPY_MODEL_1c8d4d85252c4abea1a04a694bcf5705",
            "_dom_classes": [],
            "description": "",
            "_model_name": "HTMLModel",
            "placeholder": "​",
            "_view_module": "@jupyter-widgets/controls",
            "_model_module_version": "1.5.0",
            "value": " 426/426 [00:05&lt;00:00, 76.4B/s]",
            "_view_count": null,
            "_view_module_version": "1.5.0",
            "description_tooltip": null,
            "_model_module": "@jupyter-widgets/controls",
            "layout": "IPY_MODEL_3f05d2b5e1ae4b009322d118019aab11"
          }
        },
        "7692e2dbe5d74054ae257a292aff58bc": {
          "model_module": "@jupyter-widgets/controls",
          "model_name": "ProgressStyleModel",
          "state": {
            "_view_name": "StyleView",
            "_model_name": "ProgressStyleModel",
            "description_width": "initial",
            "_view_module": "@jupyter-widgets/base",
            "_model_module_version": "1.5.0",
            "_view_count": null,
            "_view_module_version": "1.2.0",
            "bar_color": null,
            "_model_module": "@jupyter-widgets/controls"
          }
        },
        "349c00ae7eba4cc3aa1b78ba359a4c48": {
          "model_module": "@jupyter-widgets/base",
          "model_name": "LayoutModel",
          "state": {
            "_view_name": "LayoutView",
            "grid_template_rows": null,
            "right": null,
            "justify_content": null,
            "_view_module": "@jupyter-widgets/base",
            "overflow": null,
            "_model_module_version": "1.2.0",
            "_view_count": null,
            "flex_flow": null,
            "width": null,
            "min_width": null,
            "border": null,
            "align_items": null,
            "bottom": null,
            "_model_module": "@jupyter-widgets/base",
            "top": null,
            "grid_column": null,
            "overflow_y": null,
            "overflow_x": null,
            "grid_auto_flow": null,
            "grid_area": null,
            "grid_template_columns": null,
            "flex": null,
            "_model_name": "LayoutModel",
            "justify_items": null,
            "grid_row": null,
            "max_height": null,
            "align_content": null,
            "visibility": null,
            "align_self": null,
            "height": null,
            "min_height": null,
            "padding": null,
            "grid_auto_rows": null,
            "grid_gap": null,
            "max_width": null,
            "order": null,
            "_view_module_version": "1.2.0",
            "grid_template_areas": null,
            "object_position": null,
            "object_fit": null,
            "grid_auto_columns": null,
            "margin": null,
            "display": null,
            "left": null
          }
        },
        "1c8d4d85252c4abea1a04a694bcf5705": {
          "model_module": "@jupyter-widgets/controls",
          "model_name": "DescriptionStyleModel",
          "state": {
            "_view_name": "StyleView",
            "_model_name": "DescriptionStyleModel",
            "description_width": "",
            "_view_module": "@jupyter-widgets/base",
            "_model_module_version": "1.5.0",
            "_view_count": null,
            "_view_module_version": "1.2.0",
            "_model_module": "@jupyter-widgets/controls"
          }
        },
        "3f05d2b5e1ae4b009322d118019aab11": {
          "model_module": "@jupyter-widgets/base",
          "model_name": "LayoutModel",
          "state": {
            "_view_name": "LayoutView",
            "grid_template_rows": null,
            "right": null,
            "justify_content": null,
            "_view_module": "@jupyter-widgets/base",
            "overflow": null,
            "_model_module_version": "1.2.0",
            "_view_count": null,
            "flex_flow": null,
            "width": null,
            "min_width": null,
            "border": null,
            "align_items": null,
            "bottom": null,
            "_model_module": "@jupyter-widgets/base",
            "top": null,
            "grid_column": null,
            "overflow_y": null,
            "overflow_x": null,
            "grid_auto_flow": null,
            "grid_area": null,
            "grid_template_columns": null,
            "flex": null,
            "_model_name": "LayoutModel",
            "justify_items": null,
            "grid_row": null,
            "max_height": null,
            "align_content": null,
            "visibility": null,
            "align_self": null,
            "height": null,
            "min_height": null,
            "padding": null,
            "grid_auto_rows": null,
            "grid_gap": null,
            "max_width": null,
            "order": null,
            "_view_module_version": "1.2.0",
            "grid_template_areas": null,
            "object_position": null,
            "object_fit": null,
            "grid_auto_columns": null,
            "margin": null,
            "display": null,
            "left": null
          }
        },
        "f51b330dc61d40f69faf1e5bd76a99e5": {
          "model_module": "@jupyter-widgets/controls",
          "model_name": "HBoxModel",
          "state": {
            "_view_name": "HBoxView",
            "_dom_classes": [],
            "_model_name": "HBoxModel",
            "_view_module": "@jupyter-widgets/controls",
            "_model_module_version": "1.5.0",
            "_view_count": null,
            "_view_module_version": "1.5.0",
            "box_style": "",
            "layout": "IPY_MODEL_1283fbe06bcc436ba77c2565796200c9",
            "_model_module": "@jupyter-widgets/controls",
            "children": [
              "IPY_MODEL_f4b72323a5644f83ae622fd1644233c1",
              "IPY_MODEL_43859199cb7a406595aa040b2c019bdb"
            ]
          }
        },
        "1283fbe06bcc436ba77c2565796200c9": {
          "model_module": "@jupyter-widgets/base",
          "model_name": "LayoutModel",
          "state": {
            "_view_name": "LayoutView",
            "grid_template_rows": null,
            "right": null,
            "justify_content": null,
            "_view_module": "@jupyter-widgets/base",
            "overflow": null,
            "_model_module_version": "1.2.0",
            "_view_count": null,
            "flex_flow": null,
            "width": null,
            "min_width": null,
            "border": null,
            "align_items": null,
            "bottom": null,
            "_model_module": "@jupyter-widgets/base",
            "top": null,
            "grid_column": null,
            "overflow_y": null,
            "overflow_x": null,
            "grid_auto_flow": null,
            "grid_area": null,
            "grid_template_columns": null,
            "flex": null,
            "_model_name": "LayoutModel",
            "justify_items": null,
            "grid_row": null,
            "max_height": null,
            "align_content": null,
            "visibility": null,
            "align_self": null,
            "height": null,
            "min_height": null,
            "padding": null,
            "grid_auto_rows": null,
            "grid_gap": null,
            "max_width": null,
            "order": null,
            "_view_module_version": "1.2.0",
            "grid_template_areas": null,
            "object_position": null,
            "object_fit": null,
            "grid_auto_columns": null,
            "margin": null,
            "display": null,
            "left": null
          }
        },
        "f4b72323a5644f83ae622fd1644233c1": {
          "model_module": "@jupyter-widgets/controls",
          "model_name": "FloatProgressModel",
          "state": {
            "_view_name": "ProgressView",
            "style": "IPY_MODEL_16e90abca2fb4eb7befb97283d183b92",
            "_dom_classes": [],
            "description": "Downloading: 100%",
            "_model_name": "FloatProgressModel",
            "bar_style": "success",
            "max": 368792146,
            "_view_module": "@jupyter-widgets/controls",
            "_model_module_version": "1.5.0",
            "value": 368792146,
            "_view_count": null,
            "_view_module_version": "1.5.0",
            "orientation": "horizontal",
            "min": 0,
            "description_tooltip": null,
            "_model_module": "@jupyter-widgets/controls",
            "layout": "IPY_MODEL_f4c51e7df54e457e985ca3506a8f91fa"
          }
        },
        "43859199cb7a406595aa040b2c019bdb": {
          "model_module": "@jupyter-widgets/controls",
          "model_name": "HTMLModel",
          "state": {
            "_view_name": "HTMLView",
            "style": "IPY_MODEL_1fb3477448a84178a2138ef31e27ff7c",
            "_dom_classes": [],
            "description": "",
            "_model_name": "HTMLModel",
            "placeholder": "​",
            "_view_module": "@jupyter-widgets/controls",
            "_model_module_version": "1.5.0",
            "value": " 369M/369M [00:05&lt;00:00, 70.5MB/s]",
            "_view_count": null,
            "_view_module_version": "1.5.0",
            "description_tooltip": null,
            "_model_module": "@jupyter-widgets/controls",
            "layout": "IPY_MODEL_6f87da063b6f4fdc941e71f045ddb512"
          }
        },
        "16e90abca2fb4eb7befb97283d183b92": {
          "model_module": "@jupyter-widgets/controls",
          "model_name": "ProgressStyleModel",
          "state": {
            "_view_name": "StyleView",
            "_model_name": "ProgressStyleModel",
            "description_width": "initial",
            "_view_module": "@jupyter-widgets/base",
            "_model_module_version": "1.5.0",
            "_view_count": null,
            "_view_module_version": "1.2.0",
            "bar_color": null,
            "_model_module": "@jupyter-widgets/controls"
          }
        },
        "f4c51e7df54e457e985ca3506a8f91fa": {
          "model_module": "@jupyter-widgets/base",
          "model_name": "LayoutModel",
          "state": {
            "_view_name": "LayoutView",
            "grid_template_rows": null,
            "right": null,
            "justify_content": null,
            "_view_module": "@jupyter-widgets/base",
            "overflow": null,
            "_model_module_version": "1.2.0",
            "_view_count": null,
            "flex_flow": null,
            "width": null,
            "min_width": null,
            "border": null,
            "align_items": null,
            "bottom": null,
            "_model_module": "@jupyter-widgets/base",
            "top": null,
            "grid_column": null,
            "overflow_y": null,
            "overflow_x": null,
            "grid_auto_flow": null,
            "grid_area": null,
            "grid_template_columns": null,
            "flex": null,
            "_model_name": "LayoutModel",
            "justify_items": null,
            "grid_row": null,
            "max_height": null,
            "align_content": null,
            "visibility": null,
            "align_self": null,
            "height": null,
            "min_height": null,
            "padding": null,
            "grid_auto_rows": null,
            "grid_gap": null,
            "max_width": null,
            "order": null,
            "_view_module_version": "1.2.0",
            "grid_template_areas": null,
            "object_position": null,
            "object_fit": null,
            "grid_auto_columns": null,
            "margin": null,
            "display": null,
            "left": null
          }
        },
        "1fb3477448a84178a2138ef31e27ff7c": {
          "model_module": "@jupyter-widgets/controls",
          "model_name": "DescriptionStyleModel",
          "state": {
            "_view_name": "StyleView",
            "_model_name": "DescriptionStyleModel",
            "description_width": "",
            "_view_module": "@jupyter-widgets/base",
            "_model_module_version": "1.5.0",
            "_view_count": null,
            "_view_module_version": "1.2.0",
            "_model_module": "@jupyter-widgets/controls"
          }
        },
        "6f87da063b6f4fdc941e71f045ddb512": {
          "model_module": "@jupyter-widgets/base",
          "model_name": "LayoutModel",
          "state": {
            "_view_name": "LayoutView",
            "grid_template_rows": null,
            "right": null,
            "justify_content": null,
            "_view_module": "@jupyter-widgets/base",
            "overflow": null,
            "_model_module_version": "1.2.0",
            "_view_count": null,
            "flex_flow": null,
            "width": null,
            "min_width": null,
            "border": null,
            "align_items": null,
            "bottom": null,
            "_model_module": "@jupyter-widgets/base",
            "top": null,
            "grid_column": null,
            "overflow_y": null,
            "overflow_x": null,
            "grid_auto_flow": null,
            "grid_area": null,
            "grid_template_columns": null,
            "flex": null,
            "_model_name": "LayoutModel",
            "justify_items": null,
            "grid_row": null,
            "max_height": null,
            "align_content": null,
            "visibility": null,
            "align_self": null,
            "height": null,
            "min_height": null,
            "padding": null,
            "grid_auto_rows": null,
            "grid_gap": null,
            "max_width": null,
            "order": null,
            "_view_module_version": "1.2.0",
            "grid_template_areas": null,
            "object_position": null,
            "object_fit": null,
            "grid_auto_columns": null,
            "margin": null,
            "display": null,
            "left": null
          }
        }
      }
    },
    "accelerator": "TPU"
  },
  "cells": [
    {
      "cell_type": "code",
      "metadata": {
        "id": "8AB7YtQ3rZzF",
        "colab": {
          "base_uri": "https://localhost:8080/"
        },
        "outputId": "16646f98-0102-4801-b76d-2759abf9573f"
      },
      "source": [
        "!pip install transformers"
      ],
      "execution_count": null,
      "outputs": [
        {
          "output_type": "stream",
          "text": [
            "Collecting transformers\n",
            "\u001b[?25l  Downloading https://files.pythonhosted.org/packages/50/0c/7d5950fcd80b029be0a8891727ba21e0cd27692c407c51261c3c921f6da3/transformers-4.1.1-py3-none-any.whl (1.5MB)\n",
            "\u001b[K     |████████████████████████████████| 1.5MB 6.9MB/s \n",
            "\u001b[?25hRequirement already satisfied: filelock in /usr/local/lib/python3.6/dist-packages (from transformers) (3.0.12)\n",
            "Requirement already satisfied: numpy in /usr/local/lib/python3.6/dist-packages (from transformers) (1.19.4)\n",
            "Collecting tokenizers==0.9.4\n",
            "\u001b[?25l  Downloading https://files.pythonhosted.org/packages/0f/1c/e789a8b12e28be5bc1ce2156cf87cb522b379be9cadc7ad8091a4cc107c4/tokenizers-0.9.4-cp36-cp36m-manylinux2010_x86_64.whl (2.9MB)\n",
            "\u001b[K     |████████████████████████████████| 2.9MB 48.0MB/s \n",
            "\u001b[?25hRequirement already satisfied: regex!=2019.12.17 in /usr/local/lib/python3.6/dist-packages (from transformers) (2019.12.20)\n",
            "Requirement already satisfied: tqdm>=4.27 in /usr/local/lib/python3.6/dist-packages (from transformers) (4.41.1)\n",
            "Requirement already satisfied: packaging in /usr/local/lib/python3.6/dist-packages (from transformers) (20.8)\n",
            "Requirement already satisfied: dataclasses; python_version < \"3.7\" in /usr/local/lib/python3.6/dist-packages (from transformers) (0.8)\n",
            "Collecting sacremoses\n",
            "\u001b[?25l  Downloading https://files.pythonhosted.org/packages/7d/34/09d19aff26edcc8eb2a01bed8e98f13a1537005d31e95233fd48216eed10/sacremoses-0.0.43.tar.gz (883kB)\n",
            "\u001b[K     |████████████████████████████████| 890kB 51.6MB/s \n",
            "\u001b[?25hRequirement already satisfied: requests in /usr/local/lib/python3.6/dist-packages (from transformers) (2.23.0)\n",
            "Requirement already satisfied: pyparsing>=2.0.2 in /usr/local/lib/python3.6/dist-packages (from packaging->transformers) (2.4.7)\n",
            "Requirement already satisfied: six in /usr/local/lib/python3.6/dist-packages (from sacremoses->transformers) (1.15.0)\n",
            "Requirement already satisfied: click in /usr/local/lib/python3.6/dist-packages (from sacremoses->transformers) (7.1.2)\n",
            "Requirement already satisfied: joblib in /usr/local/lib/python3.6/dist-packages (from sacremoses->transformers) (1.0.0)\n",
            "Requirement already satisfied: urllib3!=1.25.0,!=1.25.1,<1.26,>=1.21.1 in /usr/local/lib/python3.6/dist-packages (from requests->transformers) (1.24.3)\n",
            "Requirement already satisfied: chardet<4,>=3.0.2 in /usr/local/lib/python3.6/dist-packages (from requests->transformers) (3.0.4)\n",
            "Requirement already satisfied: certifi>=2017.4.17 in /usr/local/lib/python3.6/dist-packages (from requests->transformers) (2020.12.5)\n",
            "Requirement already satisfied: idna<3,>=2.5 in /usr/local/lib/python3.6/dist-packages (from requests->transformers) (2.10)\n",
            "Building wheels for collected packages: sacremoses\n",
            "  Building wheel for sacremoses (setup.py) ... \u001b[?25l\u001b[?25hdone\n",
            "  Created wheel for sacremoses: filename=sacremoses-0.0.43-cp36-none-any.whl size=893261 sha256=d076031a0a3d049deae5de1ff549b877254d3320a2a53cb231a2197d6d06b5d9\n",
            "  Stored in directory: /root/.cache/pip/wheels/29/3c/fd/7ce5c3f0666dab31a50123635e6fb5e19ceb42ce38d4e58f45\n",
            "Successfully built sacremoses\n",
            "Installing collected packages: tokenizers, sacremoses, transformers\n",
            "Successfully installed sacremoses-0.0.43 tokenizers-0.9.4 transformers-4.1.1\n"
          ],
          "name": "stdout"
        }
      ]
    },
    {
      "cell_type": "code",
      "metadata": {
        "id": "KsyuOgF-UVGm",
        "colab": {
          "base_uri": "https://localhost:8080/"
        },
        "outputId": "2061defc-d1b1-4863-c57f-06d6aa348117"
      },
      "source": [
        "!pip install matplotlib"
      ],
      "execution_count": null,
      "outputs": [
        {
          "output_type": "stream",
          "text": [
            "Requirement already satisfied: matplotlib in /usr/local/lib/python3.6/dist-packages (3.2.2)\n",
            "Requirement already satisfied: numpy>=1.11 in /usr/local/lib/python3.6/dist-packages (from matplotlib) (1.19.4)\n",
            "Requirement already satisfied: cycler>=0.10 in /usr/local/lib/python3.6/dist-packages (from matplotlib) (0.10.0)\n",
            "Requirement already satisfied: pyparsing!=2.0.4,!=2.1.2,!=2.1.6,>=2.0.1 in /usr/local/lib/python3.6/dist-packages (from matplotlib) (2.4.7)\n",
            "Requirement already satisfied: kiwisolver>=1.0.1 in /usr/local/lib/python3.6/dist-packages (from matplotlib) (1.3.1)\n",
            "Requirement already satisfied: python-dateutil>=2.1 in /usr/local/lib/python3.6/dist-packages (from matplotlib) (2.8.1)\n",
            "Requirement already satisfied: six in /usr/local/lib/python3.6/dist-packages (from cycler>=0.10->matplotlib) (1.15.0)\n"
          ],
          "name": "stdout"
        }
      ]
    },
    {
      "cell_type": "code",
      "metadata": {
        "id": "jRXvtgWrrdk5"
      },
      "source": [
        "import tensorflow as tf\n",
        "import numpy as np\n",
        "import pandas as pd\n",
        "from transformers import *\n",
        "import json\n",
        "import numpy as np\n",
        "import pandas as pd\n",
        "from tqdm import tqdm\n",
        "import os\n",
        "import re\n",
        "\n",
        "from math import pi\n",
        "from tensorflow.keras.preprocessing.sequence import pad_sequences\n"
      ],
      "execution_count": null,
      "outputs": []
    },
    {
      "cell_type": "code",
      "metadata": {
        "id": "6X9kWOyaT_z3",
        "colab": {
          "base_uri": "https://localhost:8080/"
        },
        "outputId": "f770f911-a3bb-40c5-c2ba-e497636a8bd5"
      },
      "source": [
        "import matplotlib as mpl\n",
        "import matplotlib.pyplot as plt\n",
        "import matplotlib.font_manager as fm\n",
        "!apt-get update -qq\n",
        "!apt-get install fonts-nanum* -qq"
      ],
      "execution_count": null,
      "outputs": [
        {
          "output_type": "stream",
          "text": [
            "Selecting previously unselected package fonts-nanum.\n",
            "(Reading database ... 145480 files and directories currently installed.)\n",
            "Preparing to unpack .../fonts-nanum_20170925-1_all.deb ...\n",
            "Unpacking fonts-nanum (20170925-1) ...\n",
            "Selecting previously unselected package fonts-nanum-eco.\n",
            "Preparing to unpack .../fonts-nanum-eco_1.000-6_all.deb ...\n",
            "Unpacking fonts-nanum-eco (1.000-6) ...\n",
            "Selecting previously unselected package fonts-nanum-extra.\n",
            "Preparing to unpack .../fonts-nanum-extra_20170925-1_all.deb ...\n",
            "Unpacking fonts-nanum-extra (20170925-1) ...\n",
            "Selecting previously unselected package fonts-nanum-coding.\n",
            "Preparing to unpack .../fonts-nanum-coding_2.5-1_all.deb ...\n",
            "Unpacking fonts-nanum-coding (2.5-1) ...\n",
            "Setting up fonts-nanum-extra (20170925-1) ...\n",
            "Setting up fonts-nanum (20170925-1) ...\n",
            "Setting up fonts-nanum-coding (2.5-1) ...\n",
            "Setting up fonts-nanum-eco (1.000-6) ...\n",
            "Processing triggers for fontconfig (2.12.6-0ubuntu2) ...\n"
          ],
          "name": "stdout"
        }
      ]
    },
    {
      "cell_type": "code",
      "metadata": {
        "id": "SK4-SC1ZEeOj",
        "colab": {
          "base_uri": "https://localhost:8080/"
        },
        "outputId": "73293ff0-5c2c-4035-97ca-a8dc706902c2"
      },
      "source": [
        "# 체크해보면 폰트 개수가 늘어났다\n",
        "sys_font=fm.findSystemFonts()\n",
        "print(f\"sys_font number: {len(sys_font)}\")\n",
        "\n",
        "nanum_font = [f for f in sys_font if 'Nanum' in f]\n",
        "print(f\"nanum_font number: {len(nanum_font)}\")"
      ],
      "execution_count": null,
      "outputs": [
        {
          "output_type": "stream",
          "text": [
            "sys_font number: 48\n",
            "nanum_font number: 31\n"
          ],
          "name": "stdout"
        }
      ]
    },
    {
      "cell_type": "code",
      "metadata": {
        "id": "Vl7HbaPyHjA_",
        "colab": {
          "base_uri": "https://localhost:8080/"
        },
        "outputId": "ab7500a1-e9df-4cb6-a85f-8055e90f0612"
      },
      "source": [
        "!python --version\n",
        "def current_font():\n",
        "  print(f\"설정 폰트 글꼴: {plt.rcParams['font.family']}, 설정 폰트 사이즈: {plt.rcParams['font.size']}\")  # 파이썬 3.6 이상 사용가능하다\n",
        "        \n",
        "current_font()"
      ],
      "execution_count": null,
      "outputs": [
        {
          "output_type": "stream",
          "text": [
            "Python 3.6.9\n",
            "설정 폰트 글꼴: ['sans-serif'], 설정 폰트 사이즈: 10.0\n"
          ],
          "name": "stdout"
        }
      ]
    },
    {
      "cell_type": "code",
      "metadata": {
        "id": "CFFkSAWZEmVO",
        "colab": {
          "base_uri": "https://localhost:8080/"
        },
        "outputId": "c315cd24-da20-4d4f-9b02-3b87716f7963"
      },
      "source": [
        "path = '/usr/share/fonts/truetype/nanum/NanumGothicEco.ttf'  # 설치된 나눔글꼴중 원하는 녀석의 전체 경로를 가져오자\n",
        "font_name = fm.FontProperties(fname=path, size=10).get_name()\n",
        "print(font_name)\n",
        "plt.rc('font', family=font_name)"
      ],
      "execution_count": null,
      "outputs": [
        {
          "output_type": "stream",
          "text": [
            "NanumGothic Eco\n"
          ],
          "name": "stdout"
        }
      ]
    },
    {
      "cell_type": "code",
      "metadata": {
        "id": "u0gYnTW6EpEn"
      },
      "source": [
        "fm._rebuild()"
      ],
      "execution_count": null,
      "outputs": []
    },
    {
      "cell_type": "markdown",
      "metadata": {
        "id": "tTncidebqMqT"
      },
      "source": [
        "구글 드라이브와 Colab을 연동합니다."
      ]
    },
    {
      "cell_type": "code",
      "metadata": {
        "id": "1JSqucXTB-jX",
        "colab": {
          "base_uri": "https://localhost:8080/"
        },
        "outputId": "ac263248-b8af-47b3-a12c-c9f3d7282cb6"
      },
      "source": [
        "import os\n",
        "from google.colab import drive\n",
        "drive.mount('/content/gdrive/')"
      ],
      "execution_count": null,
      "outputs": [
        {
          "output_type": "stream",
          "text": [
            "Mounted at /content/gdrive/\n"
          ],
          "name": "stdout"
        }
      ]
    },
    {
      "cell_type": "code",
      "metadata": {
        "id": "8YXI6Q-hsQpn",
        "colab": {
          "base_uri": "https://localhost:8080/"
        },
        "outputId": "86043d6c-5ee4-48cd-fb9f-249de58e044f"
      },
      "source": [
        "os.listdir('gdrive/My Drive/pytest')"
      ],
      "execution_count": null,
      "outputs": [
        {
          "output_type": "execute_result",
          "data": {
            "text/plain": [
              "['201901-202003.csv',\n",
              " 'stopwords-ko.txt',\n",
              " '위험 척도 유형 (해당없음 제거) .csv',\n",
              " '학대별 라벨-중복제거.xlsx',\n",
              " 'model',\n",
              " 'sentiment_model.h5',\n",
              " 'sentiment_model1.h5',\n",
              " 'bert.h5',\n",
              " 'submission.csv',\n",
              " 'new_2007_2018_고지혈증.xlsx',\n",
              " '패스트캠퍼스']"
            ]
          },
          "metadata": {
            "tags": []
          },
          "execution_count": 10
        }
      ]
    },
    {
      "cell_type": "code",
      "metadata": {
        "id": "3XeWU_2OsRJ3"
      },
      "source": [
        "df = pd.read_csv('gdrive/My Drive/pytest/위험 척도 유형 (해당없음 제거) .csv')"
      ],
      "execution_count": null,
      "outputs": []
    },
    {
      "cell_type": "code",
      "metadata": {
        "id": "FugvVoSzCG92"
      },
      "source": [
        "list1 = df.values.tolist()"
      ],
      "execution_count": null,
      "outputs": []
    },
    {
      "cell_type": "code",
      "metadata": {
        "id": "p0rPWpR4x0IW"
      },
      "source": [
        "punct = \"/-'?!.,#$%\\'()*+-/:;<=>@[\\\\]^_`{|}~\" + '\"\"“”’' + '∞θ÷α•à−β∅³π‘₹´°£€\\×™√²—–&'\n",
        "punct_mapping = {\"‘\": \"'\", \"₹\": \"e\", \"´\": \"'\", \"°\": \"\", \"€\": \"e\", \"™\": \"tm\", \"√\": \" sqrt \", \"×\": \"x\", \"²\": \"2\", \"—\": \"-\", \"–\": \"-\", \"’\": \"'\", \"_\": \"-\", \"`\": \"'\", '“': '\"', '”': '\"', '“': '\"', \"£\": \"e\", '∞': 'infinity', 'θ': 'theta', '÷': '/', 'α': 'alpha', '•': '.', 'à': 'a', '−': '-', 'β': 'beta', '∅': '', '³': '3', 'π': 'pi', }"
      ],
      "execution_count": null,
      "outputs": []
    },
    {
      "cell_type": "code",
      "metadata": {
        "id": "aa3vbV32xySJ"
      },
      "source": [
        "def clean_punc(text, punct, mapping):\n",
        "  for p in mapping:\n",
        "    text = text.replace(p, mapping[p])\n",
        "\n",
        "  for p in punct:\n",
        "    text = text.replace(p, f' {p} ')\n",
        "\n",
        "  specials = {'\\u200b': ' ', '…': ' ... ', '\\ufeff': '', 'करना': '', 'है': ''}\n",
        "  for s in specials:\n",
        "    text = text.replace(s, specials[s])\n",
        "\n",
        "  return text.strip()\n"
      ],
      "execution_count": null,
      "outputs": []
    },
    {
      "cell_type": "code",
      "metadata": {
        "id": "nCOqHzlXzLDR"
      },
      "source": [
        "Text = []\n",
        "Senti = []\n",
        "for line in list1:\n",
        "  Text.append(str(line[1]))\n",
        "  # 텍스트가 있는 부분에 float형태가 있어 형태를 변환 \n",
        "  Senti.append(line[2])\n",
        "\n",
        "# 텍스트와 라벨을 개별 리스트에 저장 "
      ],
      "execution_count": null,
      "outputs": []
    },
    {
      "cell_type": "code",
      "metadata": {
        "colab": {
          "base_uri": "https://localhost:8080/"
        },
        "id": "Criyt77w-j6q",
        "outputId": "8f72752e-ebbd-42b2-8ec9-31d8e67d68a8"
      },
      "source": [
        "print(len(Text))\n",
        "print(len(Senti))"
      ],
      "execution_count": null,
      "outputs": [
        {
          "output_type": "stream",
          "text": [
            "6528\n",
            "6528\n"
          ],
          "name": "stdout"
        }
      ]
    },
    {
      "cell_type": "code",
      "metadata": {
        "id": "G_LmywGmylhx"
      },
      "source": [
        "cleaned_corpus = []\n",
        "# 빈 리스트 생성 \n",
        "for line in Text:\n",
        "  cleaned_corpus.append(clean_punc(line, punct, punct_mapping))"
      ],
      "execution_count": null,
      "outputs": []
    },
    {
      "cell_type": "code",
      "metadata": {
        "colab": {
          "base_uri": "https://localhost:8080/"
        },
        "id": "Y-Vjb-sY0dp7",
        "outputId": "0d1f4f4b-4182-4b0f-a23e-3057b3dfdde0"
      },
      "source": [
        "for i in range(0,10):\n",
        "  print(cleaned_corpus[i])\n",
        "# 처리가 잘된것을 볼 수 있다."
      ],
      "execution_count": null,
      "outputs": [
        {
          "output_type": "stream",
          "text": [
            "친부에게 정당한 이유 없이 뺨을 맞아서 고막에 천공이 생겨 고막패치술을 받았습니다 .  어머니는 협의이혼을 생각 중이신데 미성년자인 동생이 있어서 3개월 간 숙려기간을 가져야 한다고 알고 있습니다 . 1 )  협의이혼 시 3개월의 숙려기간 동안 친부와 따로 살도록 할 수 있나요 ?  가정폭력에 대한 증거가 고막천공으로 치료받았다는 진단서밖에 없는데 신고를 해서 접근금지 처분을 내릴 수 있나요 ? 2 )  만약 친부가 이혼에 반대하면 진단서로 가정폭력했다는 사실을 증명해서 이혼소송을 걸 수 있나요 ? 3 )  향후 미성년자인 동생의 양육권 분쟁에서 제가 당한 가정폭력을 근거로 친모가 양육권을 가져갈 수 있도록 할 수 있나요 ? 4 )  위 절차에 필요한 진단서는 치료를 받았던 의원에 가서 뗄 수 있나요 ?\n",
            "저는 스무살 여잔데 집에서 가정폭력이 일어나요어릴땐 신체적 폭력도 많이 당했는데 성인이 된 이후에는 손지검은 없지만 정신척 폭력을 심하게 당하고 있어요 신고를 하면 저는 어디로 가죠 그게 두려워서 신고 전화를 못하겠어요\n",
            "제가 아직 청소년인데 가정폭력 신고를 제가 직접 경찰서에 가서 녹음본이나 사진들을 보여드리며 신고를 하면 절차가 어떻게 되나요 . 엄마 , 아빠가 일을 하시는데 신고를 하면 시간이나 일을 빠지고 나와야 된다는 문제가 생기나요 ?\n",
            "남동생이 패륜아가 따로없네요밀치고 욕하고 공포심유발하듯 눈 뒤집으면서 말하고멱살잡고 폭력을 행사하는데한두번도 아니고 말도 안통하고 법적으로라도 정신차리게 하고싶은데 가정폭력 ( 언어 및 폭행 )  신고하면 어떤 처벌을 받나요 ?\n",
            "현재 21살대학생입니다 . 제목과 같이 현재 가정폭력으로 신고를 한 후 법원에서 벌금형을 부친에게 선고 하였습니다 .  ( 2019년도 초에 신고 )  접근금지도 신청하였고요 .  그런데 계속 고모 쪽이나 모르는 번호로 연락해서 저에게 집으로 들어올 기회를 뿌리치냐고 하며 학교든 집이든 알바하는곳이든 찾아온다고 합니다 .  매달 2 , 3번은 정기적으로 그렇게 할때마다 밖에 나가기 두렵고 악몽과 불안함 떨림을 겪고 있습니다 .  그 사람이 내앞에 나타날까 너무 무섭고 제가 기초 수급자라서 주소상 같은 집에 살고 있어 동사무소에선 제가 가정폭력으로 나와서 산다는것 조차 모릅니다 .  여기서 부터 질문입니다 . 완전히 연락을 못하게 하는 방법은 없을까요 ? 저에게 이렇게 찾아오겠다고 협박을 하는것이 신고가 가능한가요 ?  ( 만나면 죽여버리겠다는 문자내용은 저번에 신고하였을때 경찰에 제출하였습니다 .  ) 그 사람과 주소를 분리하여도 기초수급자에 선정 될 수 있나요 ? 그외에 너무 궁금한게 많지만 이렇게만 올리겠습니다 . 정말 제가 죽어야 이 악몽이 끝나겠지라는 생각을 하는 사람입니다 . 답변 부탁드립니다\n",
            "전 중학생이고 친아빠 가정폭력 신고로 신고하고싶어요참을대로 참아어ㅏㅆ고아빠는 술먹으면 제 물건을 집어던지면서 욕하고 폭력 휘두르시고저번에는 저한테 그릇을 던지고 욕하고 다 치우라고 했어요 얼마전에는 숟가락을 던지고 욕하고 오늘은 왜 라고 말하고 눈이 자기 마음에 안든다고 숟가락을 던지고 제 머리채를 잡고 제 귀를 때렸어요 계속 때릴라하는거는 엄마가 막아서 덜 맞았어요 엄마가 그만하라하면 아빠는 오히려 더 화내고 욕을 해요 이혼 얘기도 나오고 집을 안나가면 집을 불태워버린다하고 이혼하고 지금 살고있는 집도 팔거고 카드도 다 달라하고 재산도 반으로 분할 한다고 말했어요 엄마랑 얘기하다가 너무 서러워서 심하게 울었는데 욕을 섞어서 시끄럽다고 한 번만 더 울면 진짜 머리채잡고 쫓아낼거라고 나가 뒤져 나가 뒤져를 계속 반복했어요 이혼할거라고 난리 피우면서 이거 다 너 때문이야 라고 계속 죄책감 주고요 이혼 하면 돈도 없고 집도 없고 학원도 못다녀요 엄마도 힘들고요 사과 안할라했는데 엄마가 너무 힘들어보여서 어쩔수없이 상황설명 까지하고 오해 풀고 잘지내볼라했어요 아빠랑 말은 당연히 안통했고요 풀려는 부분도 응응 내가 잘못했어 거리면서 넘기다가 욕하지말라해도 계속 욕을 섞어서 말하고 해명할라해도 말을 끊었어요 제 폰도 니 거 아니라면서 폰 주고 집나가래요 너무 울어서 머리아파요 아빠가 그만 얘기하자고 그러길래 저도 답답해서 그냥 나갔어요 근데 그 이후로도 계속 저를 욕하고 엄마한테 돈 얘기하고 제 욕하고 그랬어요 여기서 가정폭력 신고하면 달라지는게 있을까요 ? 그리고 정신병원에 대해서 알려주세요\n",
            "청소년인데 가정폭력으로 아빠를 경찰서에 직접 가서 신고를 할 경우 신고 한 다음에는 집 말고 다른 곳에서 자야 하나요 ?  경찰서에 신고를 하게 되면 절차가 어떻게 되나요  .\n",
            "아빠가 엄마를 때리고 욕설한적이 있는데요 지금은 때리지는 않는데 확실하진 않아요 제가 나가있을때 그럴수도 있고요 욕설은 해요 근데 엄마가 작은 실수라도 하면 새벽까지 계속 뭐라 따지고 그래서 엄마가 힘들어하는데 이게 가정폭력 신고 대상이 되나요 ?\n",
            "안녕하세요 제가 12  /  3일날에 가정폭력를당햇구요 . 애들앞에서 폰이던져서이마에맞앗고 눈에도맞고머리도맞앗습니다 . 욕설도하고그랫구요 . 근데 제가신고를 햇구요 처벌를원한다고햇는데요저는 진술조사를끝난상태이고 신랑은1  /  5일날에 진술조사받고합의한다는데요 . 제가 처벌하고 합의를 보면 신랑이 처벌받고 재판도같이보나요 ?  그게궁금해서요 .  합의를하면 처벌를받는지요 ? 아니면 벌금형이 나오나요 ? 궁금해서요 어떻게해야되는지 몰라서요 머리가너무나복잡하네요 ㅜㅜ알려주시면감사하겟습니다신고햇던 기록이 남아요 ?  만약에또똑같은일로생기면 동일한걸로신고가되는지궁금하네요\n",
            "어릴적부터 고집과 이기적인 생각 본인 말이 무조건 맞다는 아빠와 그리고 엄마 저 남동생 살았습니다 .  아주 오래전부터 술만 먹으면 엄마에게 갖은 욕과 위협 ,  폭행을 쉽게 행했고 저희 엄마는 저희가 클때까지 그리고 이혼하게 되면 가만있지 않을 사람이라며 항상 참아왔습니다 .   한번은 이혼한다하니 칼을 들고 정말 죽이려한적도 있었고 ,  때리고 죽이려하기에 도망을 간적도 있었지만 집에 불질러놓고 그냥 자버리는 등 정말 뒤가 없는 인간이하인 사람 입니다 .  가진것도 없고 엄마와 30년을 살며 20년을 놀고 먹고 사기당해서 감옥다녀오고 사기당해서 빚은 엄마가 다 갚고 있고 그런 인간입니다 . 그러다 이번에 설 4일간 그렇게 술을 먹으며 괴롭히더니 집안에 온갖 유리를 다 깨고 칼로 밸브를 자르고 불지르려는 듯 하기에 뜯어말렸고 동생 뺨을 치고 죽이려 목조르고 하기에 더이상 안되겠다 싶어서 112이 신고를 했습니다 .  조사를 다 마치고 접근금지까지 신청하고 집에 오니 40분 뒤 집으로와 소리를 고래고래 지르며 난리를 피는겁니다 .  문열라고 .  .  또다시 경찰을 불렀고 협박죄로 또다시 잡혀갔습니다 .  경찰들에게도 절대 순응하지 않습니다 .  .  경찰들에게도 온갖 욕설을 퍼붓고 싸울듯이  .  .  . 결론으로 돌아와서 협박죄 조사 후 이젠 집 앞에 차에 앉아서 나올때까지 기다린다더군요 .  .  진짜 죽이겠다며 이 인간은 진심인거에요 통화를하니 내가 집에 들어가려는것도아니고 이앞에있는데 어쩔꺼냔 식입니다 . 통화내용 카톡내용 전부 다있습니다 . 신고를 해도 나아지지도 처벌을 이행하지도 않습니다 .  .  도데체 안전은 어디서 도움을 받아야하나요 .  . 저희 엄마는 1분1초 심장이 뜁니다 .  .  도움주실수 있으실까요 .  .\n"
          ],
          "name": "stdout"
        }
      ]
    },
    {
      "cell_type": "code",
      "metadata": {
        "colab": {
          "base_uri": "https://localhost:8080/"
        },
        "id": "Q3GmCNqK-eL2",
        "outputId": "d179c03b-4ab9-492e-c418-7eaaa8db7bf3"
      },
      "source": [
        "len(cleaned_corpus)"
      ],
      "execution_count": null,
      "outputs": [
        {
          "output_type": "execute_result",
          "data": {
            "text/plain": [
              "6528"
            ]
          },
          "metadata": {
            "tags": []
          },
          "execution_count": 20
        }
      ]
    },
    {
      "cell_type": "code",
      "metadata": {
        "id": "vhmDZxvVBPiQ"
      },
      "source": [
        "import re\n",
        "\n",
        "def clean_text(texts):\n",
        "    corpus = []\n",
        "    for i in range(0, len(texts)):\n",
        "        review = re.sub(r'[@%\\\\*=()/~#&\\+á?\\xc3\\xa1\\-\\|\\.\\:\\;\\!\\-\\,\\_\\~\\$\\'\\\"]', '',str(texts[i])) #remove punctuation\n",
        "        review = re.sub(r'\\d+','', str(texts[i]))# 숫자제거\n",
        "        review = review.lower() # 소문자 변환(한국어에는 필요 없음)\n",
        "        review = re.sub(r'\\s+', ' ', review) # 공백 제거\n",
        "        review = re.sub(r'<[^>]+>','',review) # HTML Tag 제거\n",
        "        review = re.sub(r'\\s+', ' ', review) # 공백 제거 \n",
        "        review = re.sub(r\"^\\s+\", '', review) # 시작 공백 제거 \n",
        "        review = re.sub(r'\\s+$', '', review) # 끝 공백 제거 \n",
        "        corpus.append(review)\n",
        "    return corpus"
      ],
      "execution_count": null,
      "outputs": []
    },
    {
      "cell_type": "code",
      "metadata": {
        "id": "47xaW0cr1BXz"
      },
      "source": [
        "basic_preprocessed_corpus = clean_text(cleaned_corpus)"
      ],
      "execution_count": null,
      "outputs": []
    },
    {
      "cell_type": "code",
      "metadata": {
        "colab": {
          "base_uri": "https://localhost:8080/"
        },
        "id": "x7pKZ-Kl1H3a",
        "outputId": "fb535a56-5139-463c-dc1f-1076a640ce47"
      },
      "source": [
        "for i in range(0,10):\n",
        "  print(basic_preprocessed_corpus[i])\n",
        "\n",
        "# 숫자나 의미 없는 빈공백이 제거된 것을 볼 수 있다."
      ],
      "execution_count": null,
      "outputs": [
        {
          "output_type": "stream",
          "text": [
            "친부에게 정당한 이유 없이 뺨을 맞아서 고막에 천공이 생겨 고막패치술을 받았습니다 . 어머니는 협의이혼을 생각 중이신데 미성년자인 동생이 있어서 개월 간 숙려기간을 가져야 한다고 알고 있습니다 . ) 협의이혼 시 개월의 숙려기간 동안 친부와 따로 살도록 할 수 있나요 ? 가정폭력에 대한 증거가 고막천공으로 치료받았다는 진단서밖에 없는데 신고를 해서 접근금지 처분을 내릴 수 있나요 ? ) 만약 친부가 이혼에 반대하면 진단서로 가정폭력했다는 사실을 증명해서 이혼소송을 걸 수 있나요 ? ) 향후 미성년자인 동생의 양육권 분쟁에서 제가 당한 가정폭력을 근거로 친모가 양육권을 가져갈 수 있도록 할 수 있나요 ? ) 위 절차에 필요한 진단서는 치료를 받았던 의원에 가서 뗄 수 있나요 ?\n",
            "저는 스무살 여잔데 집에서 가정폭력이 일어나요어릴땐 신체적 폭력도 많이 당했는데 성인이 된 이후에는 손지검은 없지만 정신척 폭력을 심하게 당하고 있어요 신고를 하면 저는 어디로 가죠 그게 두려워서 신고 전화를 못하겠어요\n",
            "제가 아직 청소년인데 가정폭력 신고를 제가 직접 경찰서에 가서 녹음본이나 사진들을 보여드리며 신고를 하면 절차가 어떻게 되나요 . 엄마 , 아빠가 일을 하시는데 신고를 하면 시간이나 일을 빠지고 나와야 된다는 문제가 생기나요 ?\n",
            "남동생이 패륜아가 따로없네요밀치고 욕하고 공포심유발하듯 눈 뒤집으면서 말하고멱살잡고 폭력을 행사하는데한두번도 아니고 말도 안통하고 법적으로라도 정신차리게 하고싶은데 가정폭력 ( 언어 및 폭행 ) 신고하면 어떤 처벌을 받나요 ?\n",
            "현재 살대학생입니다 . 제목과 같이 현재 가정폭력으로 신고를 한 후 법원에서 벌금형을 부친에게 선고 하였습니다 . ( 년도 초에 신고 ) 접근금지도 신청하였고요 . 그런데 계속 고모 쪽이나 모르는 번호로 연락해서 저에게 집으로 들어올 기회를 뿌리치냐고 하며 학교든 집이든 알바하는곳이든 찾아온다고 합니다 . 매달 , 번은 정기적으로 그렇게 할때마다 밖에 나가기 두렵고 악몽과 불안함 떨림을 겪고 있습니다 . 그 사람이 내앞에 나타날까 너무 무섭고 제가 기초 수급자라서 주소상 같은 집에 살고 있어 동사무소에선 제가 가정폭력으로 나와서 산다는것 조차 모릅니다 . 여기서 부터 질문입니다 . 완전히 연락을 못하게 하는 방법은 없을까요 ? 저에게 이렇게 찾아오겠다고 협박을 하는것이 신고가 가능한가요 ? ( 만나면 죽여버리겠다는 문자내용은 저번에 신고하였을때 경찰에 제출하였습니다 . ) 그 사람과 주소를 분리하여도 기초수급자에 선정 될 수 있나요 ? 그외에 너무 궁금한게 많지만 이렇게만 올리겠습니다 . 정말 제가 죽어야 이 악몽이 끝나겠지라는 생각을 하는 사람입니다 . 답변 부탁드립니다\n",
            "전 중학생이고 친아빠 가정폭력 신고로 신고하고싶어요참을대로 참아어ㅏㅆ고아빠는 술먹으면 제 물건을 집어던지면서 욕하고 폭력 휘두르시고저번에는 저한테 그릇을 던지고 욕하고 다 치우라고 했어요 얼마전에는 숟가락을 던지고 욕하고 오늘은 왜 라고 말하고 눈이 자기 마음에 안든다고 숟가락을 던지고 제 머리채를 잡고 제 귀를 때렸어요 계속 때릴라하는거는 엄마가 막아서 덜 맞았어요 엄마가 그만하라하면 아빠는 오히려 더 화내고 욕을 해요 이혼 얘기도 나오고 집을 안나가면 집을 불태워버린다하고 이혼하고 지금 살고있는 집도 팔거고 카드도 다 달라하고 재산도 반으로 분할 한다고 말했어요 엄마랑 얘기하다가 너무 서러워서 심하게 울었는데 욕을 섞어서 시끄럽다고 한 번만 더 울면 진짜 머리채잡고 쫓아낼거라고 나가 뒤져 나가 뒤져를 계속 반복했어요 이혼할거라고 난리 피우면서 이거 다 너 때문이야 라고 계속 죄책감 주고요 이혼 하면 돈도 없고 집도 없고 학원도 못다녀요 엄마도 힘들고요 사과 안할라했는데 엄마가 너무 힘들어보여서 어쩔수없이 상황설명 까지하고 오해 풀고 잘지내볼라했어요 아빠랑 말은 당연히 안통했고요 풀려는 부분도 응응 내가 잘못했어 거리면서 넘기다가 욕하지말라해도 계속 욕을 섞어서 말하고 해명할라해도 말을 끊었어요 제 폰도 니 거 아니라면서 폰 주고 집나가래요 너무 울어서 머리아파요 아빠가 그만 얘기하자고 그러길래 저도 답답해서 그냥 나갔어요 근데 그 이후로도 계속 저를 욕하고 엄마한테 돈 얘기하고 제 욕하고 그랬어요 여기서 가정폭력 신고하면 달라지는게 있을까요 ? 그리고 정신병원에 대해서 알려주세요\n",
            "청소년인데 가정폭력으로 아빠를 경찰서에 직접 가서 신고를 할 경우 신고 한 다음에는 집 말고 다른 곳에서 자야 하나요 ? 경찰서에 신고를 하게 되면 절차가 어떻게 되나요 .\n",
            "아빠가 엄마를 때리고 욕설한적이 있는데요 지금은 때리지는 않는데 확실하진 않아요 제가 나가있을때 그럴수도 있고요 욕설은 해요 근데 엄마가 작은 실수라도 하면 새벽까지 계속 뭐라 따지고 그래서 엄마가 힘들어하는데 이게 가정폭력 신고 대상이 되나요 ?\n",
            "안녕하세요 제가 / 일날에 가정폭력를당햇구요 . 애들앞에서 폰이던져서이마에맞앗고 눈에도맞고머리도맞앗습니다 . 욕설도하고그랫구요 . 근데 제가신고를 햇구요 처벌를원한다고햇는데요저는 진술조사를끝난상태이고 신랑은 / 일날에 진술조사받고합의한다는데요 . 제가 처벌하고 합의를 보면 신랑이 처벌받고 재판도같이보나요 ? 그게궁금해서요 . 합의를하면 처벌를받는지요 ? 아니면 벌금형이 나오나요 ? 궁금해서요 어떻게해야되는지 몰라서요 머리가너무나복잡하네요 ㅜㅜ알려주시면감사하겟습니다신고햇던 기록이 남아요 ? 만약에또똑같은일로생기면 동일한걸로신고가되는지궁금하네요\n",
            "어릴적부터 고집과 이기적인 생각 본인 말이 무조건 맞다는 아빠와 그리고 엄마 저 남동생 살았습니다 . 아주 오래전부터 술만 먹으면 엄마에게 갖은 욕과 위협 , 폭행을 쉽게 행했고 저희 엄마는 저희가 클때까지 그리고 이혼하게 되면 가만있지 않을 사람이라며 항상 참아왔습니다 . 한번은 이혼한다하니 칼을 들고 정말 죽이려한적도 있었고 , 때리고 죽이려하기에 도망을 간적도 있었지만 집에 불질러놓고 그냥 자버리는 등 정말 뒤가 없는 인간이하인 사람 입니다 . 가진것도 없고 엄마와 년을 살며 년을 놀고 먹고 사기당해서 감옥다녀오고 사기당해서 빚은 엄마가 다 갚고 있고 그런 인간입니다 . 그러다 이번에 설 일간 그렇게 술을 먹으며 괴롭히더니 집안에 온갖 유리를 다 깨고 칼로 밸브를 자르고 불지르려는 듯 하기에 뜯어말렸고 동생 뺨을 치고 죽이려 목조르고 하기에 더이상 안되겠다 싶어서 이 신고를 했습니다 . 조사를 다 마치고 접근금지까지 신청하고 집에 오니 분 뒤 집으로와 소리를 고래고래 지르며 난리를 피는겁니다 . 문열라고 . . 또다시 경찰을 불렀고 협박죄로 또다시 잡혀갔습니다 . 경찰들에게도 절대 순응하지 않습니다 . . 경찰들에게도 온갖 욕설을 퍼붓고 싸울듯이 . . . 결론으로 돌아와서 협박죄 조사 후 이젠 집 앞에 차에 앉아서 나올때까지 기다린다더군요 . . 진짜 죽이겠다며 이 인간은 진심인거에요 통화를하니 내가 집에 들어가려는것도아니고 이앞에있는데 어쩔꺼냔 식입니다 . 통화내용 카톡내용 전부 다있습니다 . 신고를 해도 나아지지도 처벌을 이행하지도 않습니다 . . 도데체 안전은 어디서 도움을 받아야하나요 . . 저희 엄마는 분초 심장이 뜁니다 . . 도움주실수 있으실까요 . .\n"
          ],
          "name": "stdout"
        }
      ]
    },
    {
      "cell_type": "code",
      "metadata": {
        "colab": {
          "base_uri": "https://localhost:8080/"
        },
        "id": "vb-uzBbs-nGh",
        "outputId": "77514873-e3bd-43c2-a89a-c69dc81d61d6"
      },
      "source": [
        "len(basic_preprocessed_corpus)"
      ],
      "execution_count": null,
      "outputs": [
        {
          "output_type": "execute_result",
          "data": {
            "text/plain": [
              "6528"
            ]
          },
          "metadata": {
            "tags": []
          },
          "execution_count": 24
        }
      ]
    },
    {
      "cell_type": "code",
      "metadata": {
        "id": "IrPtho2dtlzJ"
      },
      "source": [
        "# !apt-get update\n",
        "# !apt-get install g++ openjdk-8-jdk"
      ],
      "execution_count": null,
      "outputs": []
    },
    {
      "cell_type": "code",
      "metadata": {
        "id": "dt61HcWQtntt"
      },
      "source": [
        "# !pip install JPype1==0.7.4\n",
        "# !pip install rhinoMorph"
      ],
      "execution_count": null,
      "outputs": []
    },
    {
      "cell_type": "code",
      "metadata": {
        "id": "rr0zZ8U8tpja"
      },
      "source": [
        "# import rhinoMorph\n",
        "# rn = rhinoMorph.startRhino()"
      ],
      "execution_count": null,
      "outputs": []
    },
    {
      "cell_type": "markdown",
      "metadata": {
        "id": "tHk6J0Hy2YAp"
      },
      "source": [
        "띄어쓰기 검사"
      ]
    },
    {
      "cell_type": "code",
      "metadata": {
        "colab": {
          "base_uri": "https://localhost:8080/"
        },
        "id": "BN5vaEwZ2TeC",
        "outputId": "f3cdcd59-d66d-4fc5-a762-d76e9c3dc59d"
      },
      "source": [
        "!pip install git+https://github.com/haven-jeon/PyKoSpacing.git"
      ],
      "execution_count": null,
      "outputs": [
        {
          "output_type": "stream",
          "text": [
            "Collecting git+https://github.com/haven-jeon/PyKoSpacing.git\n",
            "  Cloning https://github.com/haven-jeon/PyKoSpacing.git to /tmp/pip-req-build-qf8dpksb\n",
            "  Running command git clone -q https://github.com/haven-jeon/PyKoSpacing.git /tmp/pip-req-build-qf8dpksb\n",
            "Requirement already satisfied (use --upgrade to upgrade): pykospacing==0.4 from git+https://github.com/haven-jeon/PyKoSpacing.git in /usr/local/lib/python3.6/dist-packages\n",
            "Requirement already satisfied: tensorflow==2.4.0 in /usr/local/lib/python3.6/dist-packages (from pykospacing==0.4) (2.4.0)\n",
            "Requirement already satisfied: keras>=2.4.3 in /usr/local/lib/python3.6/dist-packages (from pykospacing==0.4) (2.4.3)\n",
            "Requirement already satisfied: h5py==2.10.0 in /usr/local/lib/python3.6/dist-packages (from pykospacing==0.4) (2.10.0)\n",
            "Requirement already satisfied: argparse>=1.4.0 in /usr/local/lib/python3.6/dist-packages (from pykospacing==0.4) (1.4.0)\n",
            "Requirement already satisfied: flatbuffers~=1.12.0 in /usr/local/lib/python3.6/dist-packages (from tensorflow==2.4.0->pykospacing==0.4) (1.12)\n",
            "Requirement already satisfied: wheel~=0.35 in /usr/local/lib/python3.6/dist-packages (from tensorflow==2.4.0->pykospacing==0.4) (0.36.2)\n",
            "Requirement already satisfied: termcolor~=1.1.0 in /usr/local/lib/python3.6/dist-packages (from tensorflow==2.4.0->pykospacing==0.4) (1.1.0)\n",
            "Requirement already satisfied: tensorboard~=2.4 in /usr/local/lib/python3.6/dist-packages (from tensorflow==2.4.0->pykospacing==0.4) (2.4.0)\n",
            "Requirement already satisfied: gast==0.3.3 in /usr/local/lib/python3.6/dist-packages (from tensorflow==2.4.0->pykospacing==0.4) (0.3.3)\n",
            "Requirement already satisfied: keras-preprocessing~=1.1.2 in /usr/local/lib/python3.6/dist-packages (from tensorflow==2.4.0->pykospacing==0.4) (1.1.2)\n",
            "Requirement already satisfied: typing-extensions~=3.7.4 in /usr/local/lib/python3.6/dist-packages (from tensorflow==2.4.0->pykospacing==0.4) (3.7.4.3)\n",
            "Requirement already satisfied: six~=1.15.0 in /usr/local/lib/python3.6/dist-packages (from tensorflow==2.4.0->pykospacing==0.4) (1.15.0)\n",
            "Requirement already satisfied: tensorflow-estimator<2.5.0,>=2.4.0rc0 in /usr/local/lib/python3.6/dist-packages (from tensorflow==2.4.0->pykospacing==0.4) (2.4.0)\n",
            "Requirement already satisfied: google-pasta~=0.2 in /usr/local/lib/python3.6/dist-packages (from tensorflow==2.4.0->pykospacing==0.4) (0.2.0)\n",
            "Requirement already satisfied: wrapt~=1.12.1 in /usr/local/lib/python3.6/dist-packages (from tensorflow==2.4.0->pykospacing==0.4) (1.12.1)\n",
            "Requirement already satisfied: absl-py~=0.10 in /usr/local/lib/python3.6/dist-packages (from tensorflow==2.4.0->pykospacing==0.4) (0.10.0)\n",
            "Requirement already satisfied: opt-einsum~=3.3.0 in /usr/local/lib/python3.6/dist-packages (from tensorflow==2.4.0->pykospacing==0.4) (3.3.0)\n",
            "Requirement already satisfied: protobuf>=3.9.2 in /usr/local/lib/python3.6/dist-packages (from tensorflow==2.4.0->pykospacing==0.4) (3.12.4)\n",
            "Requirement already satisfied: grpcio~=1.32.0 in /usr/local/lib/python3.6/dist-packages (from tensorflow==2.4.0->pykospacing==0.4) (1.32.0)\n",
            "Requirement already satisfied: astunparse~=1.6.3 in /usr/local/lib/python3.6/dist-packages (from tensorflow==2.4.0->pykospacing==0.4) (1.6.3)\n",
            "Requirement already satisfied: numpy~=1.19.2 in /usr/local/lib/python3.6/dist-packages (from tensorflow==2.4.0->pykospacing==0.4) (1.19.4)\n",
            "Requirement already satisfied: scipy>=0.14 in /usr/local/lib/python3.6/dist-packages (from keras>=2.4.3->pykospacing==0.4) (1.4.1)\n",
            "Requirement already satisfied: pyyaml in /usr/local/lib/python3.6/dist-packages (from keras>=2.4.3->pykospacing==0.4) (3.13)\n",
            "Requirement already satisfied: werkzeug>=0.11.15 in /usr/local/lib/python3.6/dist-packages (from tensorboard~=2.4->tensorflow==2.4.0->pykospacing==0.4) (1.0.1)\n",
            "Requirement already satisfied: google-auth<2,>=1.6.3 in /usr/local/lib/python3.6/dist-packages (from tensorboard~=2.4->tensorflow==2.4.0->pykospacing==0.4) (1.17.2)\n",
            "Requirement already satisfied: google-auth-oauthlib<0.5,>=0.4.1 in /usr/local/lib/python3.6/dist-packages (from tensorboard~=2.4->tensorflow==2.4.0->pykospacing==0.4) (0.4.2)\n",
            "Requirement already satisfied: markdown>=2.6.8 in /usr/local/lib/python3.6/dist-packages (from tensorboard~=2.4->tensorflow==2.4.0->pykospacing==0.4) (3.3.3)\n",
            "Requirement already satisfied: tensorboard-plugin-wit>=1.6.0 in /usr/local/lib/python3.6/dist-packages (from tensorboard~=2.4->tensorflow==2.4.0->pykospacing==0.4) (1.7.0)\n",
            "Requirement already satisfied: requests<3,>=2.21.0 in /usr/local/lib/python3.6/dist-packages (from tensorboard~=2.4->tensorflow==2.4.0->pykospacing==0.4) (2.23.0)\n",
            "Requirement already satisfied: setuptools>=41.0.0 in /usr/local/lib/python3.6/dist-packages (from tensorboard~=2.4->tensorflow==2.4.0->pykospacing==0.4) (51.0.0)\n",
            "Requirement already satisfied: rsa<5,>=3.1.4; python_version >= \"3\" in /usr/local/lib/python3.6/dist-packages (from google-auth<2,>=1.6.3->tensorboard~=2.4->tensorflow==2.4.0->pykospacing==0.4) (4.6)\n",
            "Requirement already satisfied: cachetools<5.0,>=2.0.0 in /usr/local/lib/python3.6/dist-packages (from google-auth<2,>=1.6.3->tensorboard~=2.4->tensorflow==2.4.0->pykospacing==0.4) (4.2.0)\n",
            "Requirement already satisfied: pyasn1-modules>=0.2.1 in /usr/local/lib/python3.6/dist-packages (from google-auth<2,>=1.6.3->tensorboard~=2.4->tensorflow==2.4.0->pykospacing==0.4) (0.2.8)\n",
            "Requirement already satisfied: requests-oauthlib>=0.7.0 in /usr/local/lib/python3.6/dist-packages (from google-auth-oauthlib<0.5,>=0.4.1->tensorboard~=2.4->tensorflow==2.4.0->pykospacing==0.4) (1.3.0)\n",
            "Requirement already satisfied: importlib-metadata; python_version < \"3.8\" in /usr/local/lib/python3.6/dist-packages (from markdown>=2.6.8->tensorboard~=2.4->tensorflow==2.4.0->pykospacing==0.4) (3.3.0)\n",
            "Requirement already satisfied: certifi>=2017.4.17 in /usr/local/lib/python3.6/dist-packages (from requests<3,>=2.21.0->tensorboard~=2.4->tensorflow==2.4.0->pykospacing==0.4) (2020.12.5)\n",
            "Requirement already satisfied: chardet<4,>=3.0.2 in /usr/local/lib/python3.6/dist-packages (from requests<3,>=2.21.0->tensorboard~=2.4->tensorflow==2.4.0->pykospacing==0.4) (3.0.4)\n",
            "Requirement already satisfied: idna<3,>=2.5 in /usr/local/lib/python3.6/dist-packages (from requests<3,>=2.21.0->tensorboard~=2.4->tensorflow==2.4.0->pykospacing==0.4) (2.10)\n",
            "Requirement already satisfied: urllib3!=1.25.0,!=1.25.1,<1.26,>=1.21.1 in /usr/local/lib/python3.6/dist-packages (from requests<3,>=2.21.0->tensorboard~=2.4->tensorflow==2.4.0->pykospacing==0.4) (1.24.3)\n",
            "Requirement already satisfied: pyasn1>=0.1.3 in /usr/local/lib/python3.6/dist-packages (from rsa<5,>=3.1.4; python_version >= \"3\"->google-auth<2,>=1.6.3->tensorboard~=2.4->tensorflow==2.4.0->pykospacing==0.4) (0.4.8)\n",
            "Requirement already satisfied: oauthlib>=3.0.0 in /usr/local/lib/python3.6/dist-packages (from requests-oauthlib>=0.7.0->google-auth-oauthlib<0.5,>=0.4.1->tensorboard~=2.4->tensorflow==2.4.0->pykospacing==0.4) (3.1.0)\n",
            "Requirement already satisfied: zipp>=0.5 in /usr/local/lib/python3.6/dist-packages (from importlib-metadata; python_version < \"3.8\"->markdown>=2.6.8->tensorboard~=2.4->tensorflow==2.4.0->pykospacing==0.4) (3.4.0)\n",
            "Building wheels for collected packages: pykospacing\n",
            "  Building wheel for pykospacing (setup.py) ... \u001b[?25l\u001b[?25hdone\n",
            "  Created wheel for pykospacing: filename=pykospacing-0.4-cp36-none-any.whl size=2255638 sha256=53cc25e157526c19ed8e3b40b99547a29cd709762231fea8834d76f0410daa58\n",
            "  Stored in directory: /tmp/pip-ephem-wheel-cache-7ctlx5cm/wheels/4d/45/58/e26cb2b7f6a063d234158c6fd1e5700f6e15b99d67154340ba\n",
            "Successfully built pykospacing\n"
          ],
          "name": "stdout"
        }
      ]
    },
    {
      "cell_type": "code",
      "metadata": {
        "colab": {
          "base_uri": "https://localhost:8080/",
          "height": 35
        },
        "id": "g6oHGCF-5f9T",
        "outputId": "5f02774f-3db7-48d8-9292-caba1a11add9"
      },
      "source": [
        "from pykospacing import spacing \n",
        "\n",
        "spacing(\"김형호영화시장분석가는'1987'의네이버영화정보네티즌10점평에서언급된단어들을지난해12월27일부터올해1월10일까지통계프로그램R과KoNLP패키지로텍스트마이닝하여분석했다.\")\n",
        "# 띄어쓰기를 검사해주는 것을 확인할 수 있다."
      ],
      "execution_count": null,
      "outputs": [
        {
          "output_type": "execute_result",
          "data": {
            "application/vnd.google.colaboratory.intrinsic+json": {
              "type": "string"
            },
            "text/plain": [
              "\"김형호 영화시장 분석가는 '1987'의 네이버 영화 정보 네티즌 10점 평에서 언급된 단어들을 지난해 12월 27일부터 올해 1월 10일까지 통계 프로그램 R과 KoNLP 패키지로 텍스트마이닝하여 분석했다.\""
            ]
          },
          "metadata": {
            "tags": []
          },
          "execution_count": 22
        }
      ]
    },
    {
      "cell_type": "markdown",
      "metadata": {
        "id": "BG78jTIk5pK-"
      },
      "source": [
        "맞춤법 검사기 "
      ]
    },
    {
      "cell_type": "code",
      "metadata": {
        "colab": {
          "base_uri": "https://localhost:8080/"
        },
        "id": "4ae66PwO5m_Z",
        "outputId": "764e3428-99ce-4a48-8a75-e7ebbefa03d0"
      },
      "source": [
        "!pip install git+https://github.com/ssut/py-hanspell.git"
      ],
      "execution_count": null,
      "outputs": [
        {
          "output_type": "stream",
          "text": [
            "Collecting git+https://github.com/ssut/py-hanspell.git\n",
            "  Cloning https://github.com/ssut/py-hanspell.git to /tmp/pip-req-build-8z09ctl6\n",
            "  Running command git clone -q https://github.com/ssut/py-hanspell.git /tmp/pip-req-build-8z09ctl6\n",
            "Requirement already satisfied: requests in /usr/local/lib/python3.6/dist-packages (from py-hanspell==1.1) (2.23.0)\n",
            "Requirement already satisfied: idna<3,>=2.5 in /usr/local/lib/python3.6/dist-packages (from requests->py-hanspell==1.1) (2.10)\n",
            "Requirement already satisfied: chardet<4,>=3.0.2 in /usr/local/lib/python3.6/dist-packages (from requests->py-hanspell==1.1) (3.0.4)\n",
            "Requirement already satisfied: certifi>=2017.4.17 in /usr/local/lib/python3.6/dist-packages (from requests->py-hanspell==1.1) (2020.12.5)\n",
            "Requirement already satisfied: urllib3!=1.25.0,!=1.25.1,<1.26,>=1.21.1 in /usr/local/lib/python3.6/dist-packages (from requests->py-hanspell==1.1) (1.24.3)\n",
            "Building wheels for collected packages: py-hanspell\n",
            "  Building wheel for py-hanspell (setup.py) ... \u001b[?25l\u001b[?25hdone\n",
            "  Created wheel for py-hanspell: filename=py_hanspell-1.1-cp36-none-any.whl size=4854 sha256=03df34d24743bac2f0fbde4a189986f5740ee15ba7f5ec76fd7bbae087c82783\n",
            "  Stored in directory: /tmp/pip-ephem-wheel-cache-z8fsf257/wheels/0a/25/d1/e5e96476dbb1c318cc26c992dd493394fe42b0c204b3e65588\n",
            "Successfully built py-hanspell\n",
            "Installing collected packages: py-hanspell\n",
            "Successfully installed py-hanspell-1.1\n"
          ],
          "name": "stdout"
        }
      ]
    },
    {
      "cell_type": "code",
      "metadata": {
        "colab": {
          "base_uri": "https://localhost:8080/"
        },
        "id": "CQtn63sX4_Io",
        "outputId": "1cc0f177-f124-430b-f480-3b427605f5d1"
      },
      "source": [
        "from hanspell import spell_checker\n",
        "\n",
        "sent = '대체 왜 않되는지 설명을 해바'\n",
        "spelled_sent = spell_checker.check(sent)\n",
        "checked_sent = spelled_sent.checked\n",
        "\n",
        "print(spelled_sent)\n",
        "print(checked_sent)\n",
        "\n",
        "# 맞춤법 검사기\n",
        "# 틀린 맞춤법을 1로 표시하여 알려주고 맞춤법을 교정해줌 "
      ],
      "execution_count": null,
      "outputs": [
        {
          "output_type": "stream",
          "text": [
            "Checked(result=True, original='대체 왜 않되는지 설명을 해바', checked='대체 왜 안되는지 설명을 해봐', errors=2, words=OrderedDict([('대체', 0), ('왜', 0), ('안되는지', 1), ('설명을', 0), ('해봐', 1)]), time=0.17058658599853516)\n",
            "대체 왜 안되는지 설명을 해봐\n"
          ],
          "name": "stdout"
        }
      ]
    },
    {
      "cell_type": "markdown",
      "metadata": {
        "id": "hWRoSmkr50vt"
      },
      "source": [
        "이모티콘이나 자모를 normalization을 위한 라이브러리 설치"
      ]
    },
    {
      "cell_type": "code",
      "metadata": {
        "colab": {
          "base_uri": "https://localhost:8080/"
        },
        "id": "PtvFaVhu5wc8",
        "outputId": "e81daec0-78a1-40a9-c2ee-6740a1f8fdc8"
      },
      "source": [
        "!pip install soynlp"
      ],
      "execution_count": null,
      "outputs": [
        {
          "output_type": "stream",
          "text": [
            "Collecting soynlp\n",
            "\u001b[?25l  Downloading https://files.pythonhosted.org/packages/7e/50/6913dc52a86a6b189419e59f9eef1b8d599cffb6f44f7bb91854165fc603/soynlp-0.0.493-py3-none-any.whl (416kB)\n",
            "\r\u001b[K     |▉                               | 10kB 18.1MB/s eta 0:00:01\r\u001b[K     |█▋                              | 20kB 14.8MB/s eta 0:00:01\r\u001b[K     |██▍                             | 30kB 10.1MB/s eta 0:00:01\r\u001b[K     |███▏                            | 40kB 8.6MB/s eta 0:00:01\r\u001b[K     |████                            | 51kB 5.6MB/s eta 0:00:01\r\u001b[K     |████▊                           | 61kB 5.9MB/s eta 0:00:01\r\u001b[K     |█████▌                          | 71kB 6.2MB/s eta 0:00:01\r\u001b[K     |██████▎                         | 81kB 6.5MB/s eta 0:00:01\r\u001b[K     |███████                         | 92kB 6.5MB/s eta 0:00:01\r\u001b[K     |███████▉                        | 102kB 6.7MB/s eta 0:00:01\r\u001b[K     |████████▋                       | 112kB 6.7MB/s eta 0:00:01\r\u001b[K     |█████████▍                      | 122kB 6.7MB/s eta 0:00:01\r\u001b[K     |██████████▏                     | 133kB 6.7MB/s eta 0:00:01\r\u001b[K     |███████████                     | 143kB 6.7MB/s eta 0:00:01\r\u001b[K     |███████████▉                    | 153kB 6.7MB/s eta 0:00:01\r\u001b[K     |████████████▋                   | 163kB 6.7MB/s eta 0:00:01\r\u001b[K     |█████████████▍                  | 174kB 6.7MB/s eta 0:00:01\r\u001b[K     |██████████████▏                 | 184kB 6.7MB/s eta 0:00:01\r\u001b[K     |███████████████                 | 194kB 6.7MB/s eta 0:00:01\r\u001b[K     |███████████████▊                | 204kB 6.7MB/s eta 0:00:01\r\u001b[K     |████████████████▌               | 215kB 6.7MB/s eta 0:00:01\r\u001b[K     |█████████████████▎              | 225kB 6.7MB/s eta 0:00:01\r\u001b[K     |██████████████████              | 235kB 6.7MB/s eta 0:00:01\r\u001b[K     |██████████████████▉             | 245kB 6.7MB/s eta 0:00:01\r\u001b[K     |███████████████████▋            | 256kB 6.7MB/s eta 0:00:01\r\u001b[K     |████████████████████▍           | 266kB 6.7MB/s eta 0:00:01\r\u001b[K     |█████████████████████▎          | 276kB 6.7MB/s eta 0:00:01\r\u001b[K     |██████████████████████          | 286kB 6.7MB/s eta 0:00:01\r\u001b[K     |██████████████████████▉         | 296kB 6.7MB/s eta 0:00:01\r\u001b[K     |███████████████████████▋        | 307kB 6.7MB/s eta 0:00:01\r\u001b[K     |████████████████████████▍       | 317kB 6.7MB/s eta 0:00:01\r\u001b[K     |█████████████████████████▏      | 327kB 6.7MB/s eta 0:00:01\r\u001b[K     |██████████████████████████      | 337kB 6.7MB/s eta 0:00:01\r\u001b[K     |██████████████████████████▊     | 348kB 6.7MB/s eta 0:00:01\r\u001b[K     |███████████████████████████▌    | 358kB 6.7MB/s eta 0:00:01\r\u001b[K     |████████████████████████████▎   | 368kB 6.7MB/s eta 0:00:01\r\u001b[K     |█████████████████████████████   | 378kB 6.7MB/s eta 0:00:01\r\u001b[K     |█████████████████████████████▉  | 389kB 6.7MB/s eta 0:00:01\r\u001b[K     |██████████████████████████████▋ | 399kB 6.7MB/s eta 0:00:01\r\u001b[K     |███████████████████████████████▌| 409kB 6.7MB/s eta 0:00:01\r\u001b[K     |████████████████████████████████| 419kB 6.7MB/s \n",
            "\u001b[?25hRequirement already satisfied: scikit-learn>=0.20.0 in /usr/local/lib/python3.6/dist-packages (from soynlp) (0.22.2.post1)\n",
            "Requirement already satisfied: numpy>=1.12.1 in /usr/local/lib/python3.6/dist-packages (from soynlp) (1.19.4)\n",
            "Requirement already satisfied: scipy>=1.1.0 in /usr/local/lib/python3.6/dist-packages (from soynlp) (1.4.1)\n",
            "Requirement already satisfied: psutil>=5.0.1 in /usr/local/lib/python3.6/dist-packages (from soynlp) (5.4.8)\n",
            "Requirement already satisfied: joblib>=0.11 in /usr/local/lib/python3.6/dist-packages (from scikit-learn>=0.20.0->soynlp) (1.0.0)\n",
            "Installing collected packages: soynlp\n",
            "Successfully installed soynlp-0.0.493\n"
          ],
          "name": "stdout"
        }
      ]
    },
    {
      "cell_type": "code",
      "metadata": {
        "colab": {
          "base_uri": "https://localhost:8080/"
        },
        "id": "dyLC2DYU572_",
        "outputId": "cc18aad9-892e-4c60-acdc-93ee91bd027f"
      },
      "source": [
        "from soynlp.normalizer import *\n",
        "print(repeat_normalize('와하하하하하하하하핫', num_repeats = 2))\n",
        "# 의미없는 단어의 반복을 없애줌"
      ],
      "execution_count": null,
      "outputs": [
        {
          "output_type": "stream",
          "text": [
            "와하하핫\n"
          ],
          "name": "stdout"
        }
      ]
    },
    {
      "cell_type": "markdown",
      "metadata": {
        "id": "Jftz2mUS6tk5"
      },
      "source": [
        "외래어 사전"
      ]
    },
    {
      "cell_type": "code",
      "metadata": {
        "colab": {
          "base_uri": "https://localhost:8080/"
        },
        "id": "sygZpM6T6qbp",
        "outputId": "12ce4b6e-bbd3-4e73-a10e-3e4240711264"
      },
      "source": [
        "!curl -c ./cookie -s -L \"https://drive.google.com/uc?export=download&id=1RNYpLE-xbMCGtiEHIoNsCmfcyJP3kLYn\" > /dev/null\n",
        "!curl -Lb ./cookie \"https://drive.google.com/uc?export=download&confirm=`awk '/download/ {print $NF}' ./cookie`&id=1RNYpLE-xbMCGtiEHIoNsCmfcyJP3kLYn\" -o confused_loanwords.txt"
      ],
      "execution_count": null,
      "outputs": [
        {
          "output_type": "stream",
          "text": [
            "  % Total    % Received % Xferd  Average Speed   Time    Time     Time  Current\n",
            "                                 Dload  Upload   Total   Spent    Left  Speed\n",
            "100   408    0   408    0     0   1581      0 --:--:-- --:--:-- --:--:--  1581\n",
            "  0     0    0     0    0     0      0      0 --:--:-- --:--:-- --:--:--     0\n",
            "  0     0    0     0    0     0      0      0 --:--:-- --:--:-- --:--:--     0\n",
            "100 19779  100 19779    0     0  41378      0 --:--:-- --:--:-- --:--:-- 41378\n"
          ],
          "name": "stdout"
        }
      ]
    },
    {
      "cell_type": "code",
      "metadata": {
        "id": "JlgolAqp6xSN"
      },
      "source": [
        "lownword_map = {}\n",
        "lownword_data = open('/content/confused_loanwords.txt', 'r', encoding='utf-8')\n",
        "\n",
        "lines = lownword_data.readlines()\n",
        "\n",
        "for line in lines:\n",
        "  line = line.strip()\n",
        "  miss_spell = line.split('\\t')[0]\n",
        "  ori_word = line.split('\\t')[1]\n",
        "  lownword_map[miss_spell] = ori_word"
      ],
      "execution_count": null,
      "outputs": []
    },
    {
      "cell_type": "code",
      "metadata": {
        "id": "-JO5_MUy7JnP"
      },
      "source": [
        "def spell_check_text(texts):\n",
        "  corpus = []\n",
        "  for sent in texts:\n",
        "    spaced_text = spacing(sent) \n",
        "    # 띄어쓰기 교정 \n",
        "    spelled_sent = spell_checker.check(sent)\n",
        "    checked_sent = spelled_sent.checked\n",
        "    # 맞춤법 교정 \n",
        "    normalized_sent = repeat_normalize(checked_sent)\n",
        "    # 이모티콘이나 자모를 위해 사용 \n",
        "    for lownword in lownword_map:\n",
        "      normalized_sent = normalized_sent.replace(lownword, lownword_map[lownword])\n",
        "    corpus.append(normalized_sent)\n",
        "    # 코퍼스에 외래어사전 넣기 \n",
        "    return corpus"
      ],
      "execution_count": null,
      "outputs": []
    },
    {
      "cell_type": "code",
      "metadata": {
        "colab": {
          "base_uri": "https://localhost:8080/",
          "height": 426
        },
        "id": "xB_aNuBU-82H",
        "outputId": "b536f44d-7e26-4634-a98a-ac9f77e6dd05"
      },
      "source": [
        "b = [] \n",
        "for i in basic_preprocessed_corpus:\n",
        "  b.append(spell_check_text(i))\n",
        "\n",
        "# 이거 시간이 너무 오래걸림 \n",
        "# 우선 이거 빼고 실행해보기"
      ],
      "execution_count": null,
      "outputs": [
        {
          "output_type": "error",
          "ename": "KeyboardInterrupt",
          "evalue": "ignored",
          "traceback": [
            "\u001b[0;31m---------------------------------------------------------------------------\u001b[0m",
            "\u001b[0;31mTypeError\u001b[0m                                 Traceback (most recent call last)",
            "\u001b[0;32m/usr/local/lib/python3.6/dist-packages/urllib3/connectionpool.py\u001b[0m in \u001b[0;36m_make_request\u001b[0;34m(self, conn, method, url, timeout, chunked, **httplib_request_kw)\u001b[0m\n\u001b[1;32m    376\u001b[0m             \u001b[0;32mtry\u001b[0m\u001b[0;34m:\u001b[0m  \u001b[0;31m# Python 2.7, use buffering of HTTP responses\u001b[0m\u001b[0;34m\u001b[0m\u001b[0;34m\u001b[0m\u001b[0m\n\u001b[0;32m--> 377\u001b[0;31m                 \u001b[0mhttplib_response\u001b[0m \u001b[0;34m=\u001b[0m \u001b[0mconn\u001b[0m\u001b[0;34m.\u001b[0m\u001b[0mgetresponse\u001b[0m\u001b[0;34m(\u001b[0m\u001b[0mbuffering\u001b[0m\u001b[0;34m=\u001b[0m\u001b[0;32mTrue\u001b[0m\u001b[0;34m)\u001b[0m\u001b[0;34m\u001b[0m\u001b[0;34m\u001b[0m\u001b[0m\n\u001b[0m\u001b[1;32m    378\u001b[0m             \u001b[0;32mexcept\u001b[0m \u001b[0mTypeError\u001b[0m\u001b[0;34m:\u001b[0m  \u001b[0;31m# Python 3\u001b[0m\u001b[0;34m\u001b[0m\u001b[0;34m\u001b[0m\u001b[0m\n",
            "\u001b[0;31mTypeError\u001b[0m: getresponse() got an unexpected keyword argument 'buffering'",
            "\nDuring handling of the above exception, another exception occurred:\n",
            "\u001b[0;31mKeyboardInterrupt\u001b[0m                         Traceback (most recent call last)",
            "\u001b[0;32m<ipython-input-90-fd0355d17667>\u001b[0m in \u001b[0;36m<module>\u001b[0;34m()\u001b[0m\n\u001b[1;32m      1\u001b[0m \u001b[0mb\u001b[0m \u001b[0;34m=\u001b[0m \u001b[0;34m[\u001b[0m\u001b[0;34m]\u001b[0m\u001b[0;34m\u001b[0m\u001b[0;34m\u001b[0m\u001b[0m\n\u001b[1;32m      2\u001b[0m \u001b[0;32mfor\u001b[0m \u001b[0mi\u001b[0m \u001b[0;32min\u001b[0m \u001b[0mbasic_preprocessed_corpus\u001b[0m\u001b[0;34m:\u001b[0m\u001b[0;34m\u001b[0m\u001b[0;34m\u001b[0m\u001b[0m\n\u001b[0;32m----> 3\u001b[0;31m   \u001b[0mb\u001b[0m\u001b[0;34m.\u001b[0m\u001b[0mappend\u001b[0m\u001b[0;34m(\u001b[0m\u001b[0mspell_check_text\u001b[0m\u001b[0;34m(\u001b[0m\u001b[0mi\u001b[0m\u001b[0;34m)\u001b[0m\u001b[0;34m)\u001b[0m\u001b[0;34m\u001b[0m\u001b[0;34m\u001b[0m\u001b[0m\n\u001b[0m",
            "\u001b[0;32m<ipython-input-32-19a7a7af95cb>\u001b[0m in \u001b[0;36mspell_check_text\u001b[0;34m(texts)\u001b[0m\n\u001b[1;32m      4\u001b[0m     \u001b[0mspaced_text\u001b[0m \u001b[0;34m=\u001b[0m \u001b[0mspacing\u001b[0m\u001b[0;34m(\u001b[0m\u001b[0msent\u001b[0m\u001b[0;34m)\u001b[0m\u001b[0;34m\u001b[0m\u001b[0;34m\u001b[0m\u001b[0m\n\u001b[1;32m      5\u001b[0m     \u001b[0;31m# 띄어쓰기 교정\u001b[0m\u001b[0;34m\u001b[0m\u001b[0;34m\u001b[0m\u001b[0;34m\u001b[0m\u001b[0m\n\u001b[0;32m----> 6\u001b[0;31m     \u001b[0mspelled_sent\u001b[0m \u001b[0;34m=\u001b[0m \u001b[0mspell_checker\u001b[0m\u001b[0;34m.\u001b[0m\u001b[0mcheck\u001b[0m\u001b[0;34m(\u001b[0m\u001b[0msent\u001b[0m\u001b[0;34m)\u001b[0m\u001b[0;34m\u001b[0m\u001b[0;34m\u001b[0m\u001b[0m\n\u001b[0m\u001b[1;32m      7\u001b[0m     \u001b[0mchecked_sent\u001b[0m \u001b[0;34m=\u001b[0m \u001b[0mspelled_sent\u001b[0m\u001b[0;34m.\u001b[0m\u001b[0mchecked\u001b[0m\u001b[0;34m\u001b[0m\u001b[0;34m\u001b[0m\u001b[0m\n\u001b[1;32m      8\u001b[0m     \u001b[0;31m# 맞춤법 교정\u001b[0m\u001b[0;34m\u001b[0m\u001b[0;34m\u001b[0m\u001b[0;34m\u001b[0m\u001b[0m\n",
            "\u001b[0;32m/usr/local/lib/python3.6/dist-packages/hanspell/spell_checker.py\u001b[0m in \u001b[0;36mcheck\u001b[0;34m(text)\u001b[0m\n\u001b[1;32m     56\u001b[0m \u001b[0;34m\u001b[0m\u001b[0m\n\u001b[1;32m     57\u001b[0m     \u001b[0mstart_time\u001b[0m \u001b[0;34m=\u001b[0m \u001b[0mtime\u001b[0m\u001b[0;34m.\u001b[0m\u001b[0mtime\u001b[0m\u001b[0;34m(\u001b[0m\u001b[0;34m)\u001b[0m\u001b[0;34m\u001b[0m\u001b[0;34m\u001b[0m\u001b[0m\n\u001b[0;32m---> 58\u001b[0;31m     \u001b[0mr\u001b[0m \u001b[0;34m=\u001b[0m \u001b[0m_agent\u001b[0m\u001b[0;34m.\u001b[0m\u001b[0mget\u001b[0m\u001b[0;34m(\u001b[0m\u001b[0mbase_url\u001b[0m\u001b[0;34m,\u001b[0m \u001b[0mparams\u001b[0m\u001b[0;34m=\u001b[0m\u001b[0mpayload\u001b[0m\u001b[0;34m,\u001b[0m \u001b[0mheaders\u001b[0m\u001b[0;34m=\u001b[0m\u001b[0mheaders\u001b[0m\u001b[0;34m)\u001b[0m\u001b[0;34m\u001b[0m\u001b[0;34m\u001b[0m\u001b[0m\n\u001b[0m\u001b[1;32m     59\u001b[0m     \u001b[0mpassed_time\u001b[0m \u001b[0;34m=\u001b[0m \u001b[0mtime\u001b[0m\u001b[0;34m.\u001b[0m\u001b[0mtime\u001b[0m\u001b[0;34m(\u001b[0m\u001b[0;34m)\u001b[0m \u001b[0;34m-\u001b[0m \u001b[0mstart_time\u001b[0m\u001b[0;34m\u001b[0m\u001b[0;34m\u001b[0m\u001b[0m\n\u001b[1;32m     60\u001b[0m \u001b[0;34m\u001b[0m\u001b[0m\n",
            "\u001b[0;32m/usr/local/lib/python3.6/dist-packages/requests/sessions.py\u001b[0m in \u001b[0;36mget\u001b[0;34m(self, url, **kwargs)\u001b[0m\n\u001b[1;32m    541\u001b[0m \u001b[0;34m\u001b[0m\u001b[0m\n\u001b[1;32m    542\u001b[0m         \u001b[0mkwargs\u001b[0m\u001b[0;34m.\u001b[0m\u001b[0msetdefault\u001b[0m\u001b[0;34m(\u001b[0m\u001b[0;34m'allow_redirects'\u001b[0m\u001b[0;34m,\u001b[0m \u001b[0;32mTrue\u001b[0m\u001b[0;34m)\u001b[0m\u001b[0;34m\u001b[0m\u001b[0;34m\u001b[0m\u001b[0m\n\u001b[0;32m--> 543\u001b[0;31m         \u001b[0;32mreturn\u001b[0m \u001b[0mself\u001b[0m\u001b[0;34m.\u001b[0m\u001b[0mrequest\u001b[0m\u001b[0;34m(\u001b[0m\u001b[0;34m'GET'\u001b[0m\u001b[0;34m,\u001b[0m \u001b[0murl\u001b[0m\u001b[0;34m,\u001b[0m \u001b[0;34m**\u001b[0m\u001b[0mkwargs\u001b[0m\u001b[0;34m)\u001b[0m\u001b[0;34m\u001b[0m\u001b[0;34m\u001b[0m\u001b[0m\n\u001b[0m\u001b[1;32m    544\u001b[0m \u001b[0;34m\u001b[0m\u001b[0m\n\u001b[1;32m    545\u001b[0m     \u001b[0;32mdef\u001b[0m \u001b[0moptions\u001b[0m\u001b[0;34m(\u001b[0m\u001b[0mself\u001b[0m\u001b[0;34m,\u001b[0m \u001b[0murl\u001b[0m\u001b[0;34m,\u001b[0m \u001b[0;34m**\u001b[0m\u001b[0mkwargs\u001b[0m\u001b[0;34m)\u001b[0m\u001b[0;34m:\u001b[0m\u001b[0;34m\u001b[0m\u001b[0;34m\u001b[0m\u001b[0m\n",
            "\u001b[0;32m/usr/local/lib/python3.6/dist-packages/requests/sessions.py\u001b[0m in \u001b[0;36mrequest\u001b[0;34m(self, method, url, params, data, headers, cookies, files, auth, timeout, allow_redirects, proxies, hooks, stream, verify, cert, json)\u001b[0m\n\u001b[1;32m    528\u001b[0m         }\n\u001b[1;32m    529\u001b[0m         \u001b[0msend_kwargs\u001b[0m\u001b[0;34m.\u001b[0m\u001b[0mupdate\u001b[0m\u001b[0;34m(\u001b[0m\u001b[0msettings\u001b[0m\u001b[0;34m)\u001b[0m\u001b[0;34m\u001b[0m\u001b[0;34m\u001b[0m\u001b[0m\n\u001b[0;32m--> 530\u001b[0;31m         \u001b[0mresp\u001b[0m \u001b[0;34m=\u001b[0m \u001b[0mself\u001b[0m\u001b[0;34m.\u001b[0m\u001b[0msend\u001b[0m\u001b[0;34m(\u001b[0m\u001b[0mprep\u001b[0m\u001b[0;34m,\u001b[0m \u001b[0;34m**\u001b[0m\u001b[0msend_kwargs\u001b[0m\u001b[0;34m)\u001b[0m\u001b[0;34m\u001b[0m\u001b[0;34m\u001b[0m\u001b[0m\n\u001b[0m\u001b[1;32m    531\u001b[0m \u001b[0;34m\u001b[0m\u001b[0m\n\u001b[1;32m    532\u001b[0m         \u001b[0;32mreturn\u001b[0m \u001b[0mresp\u001b[0m\u001b[0;34m\u001b[0m\u001b[0;34m\u001b[0m\u001b[0m\n",
            "\u001b[0;32m/usr/local/lib/python3.6/dist-packages/requests/sessions.py\u001b[0m in \u001b[0;36msend\u001b[0;34m(self, request, **kwargs)\u001b[0m\n\u001b[1;32m    641\u001b[0m \u001b[0;34m\u001b[0m\u001b[0m\n\u001b[1;32m    642\u001b[0m         \u001b[0;31m# Send the request\u001b[0m\u001b[0;34m\u001b[0m\u001b[0;34m\u001b[0m\u001b[0;34m\u001b[0m\u001b[0m\n\u001b[0;32m--> 643\u001b[0;31m         \u001b[0mr\u001b[0m \u001b[0;34m=\u001b[0m \u001b[0madapter\u001b[0m\u001b[0;34m.\u001b[0m\u001b[0msend\u001b[0m\u001b[0;34m(\u001b[0m\u001b[0mrequest\u001b[0m\u001b[0;34m,\u001b[0m \u001b[0;34m**\u001b[0m\u001b[0mkwargs\u001b[0m\u001b[0;34m)\u001b[0m\u001b[0;34m\u001b[0m\u001b[0;34m\u001b[0m\u001b[0m\n\u001b[0m\u001b[1;32m    644\u001b[0m \u001b[0;34m\u001b[0m\u001b[0m\n\u001b[1;32m    645\u001b[0m         \u001b[0;31m# Total elapsed time of the request (approximately)\u001b[0m\u001b[0;34m\u001b[0m\u001b[0;34m\u001b[0m\u001b[0;34m\u001b[0m\u001b[0m\n",
            "\u001b[0;32m/usr/local/lib/python3.6/dist-packages/requests/adapters.py\u001b[0m in \u001b[0;36msend\u001b[0;34m(self, request, stream, timeout, verify, cert, proxies)\u001b[0m\n\u001b[1;32m    447\u001b[0m                     \u001b[0mdecode_content\u001b[0m\u001b[0;34m=\u001b[0m\u001b[0;32mFalse\u001b[0m\u001b[0;34m,\u001b[0m\u001b[0;34m\u001b[0m\u001b[0;34m\u001b[0m\u001b[0m\n\u001b[1;32m    448\u001b[0m                     \u001b[0mretries\u001b[0m\u001b[0;34m=\u001b[0m\u001b[0mself\u001b[0m\u001b[0;34m.\u001b[0m\u001b[0mmax_retries\u001b[0m\u001b[0;34m,\u001b[0m\u001b[0;34m\u001b[0m\u001b[0;34m\u001b[0m\u001b[0m\n\u001b[0;32m--> 449\u001b[0;31m                     \u001b[0mtimeout\u001b[0m\u001b[0;34m=\u001b[0m\u001b[0mtimeout\u001b[0m\u001b[0;34m\u001b[0m\u001b[0;34m\u001b[0m\u001b[0m\n\u001b[0m\u001b[1;32m    450\u001b[0m                 )\n\u001b[1;32m    451\u001b[0m \u001b[0;34m\u001b[0m\u001b[0m\n",
            "\u001b[0;32m/usr/local/lib/python3.6/dist-packages/urllib3/connectionpool.py\u001b[0m in \u001b[0;36murlopen\u001b[0;34m(self, method, url, body, headers, retries, redirect, assert_same_host, timeout, pool_timeout, release_conn, chunked, body_pos, **response_kw)\u001b[0m\n\u001b[1;32m    598\u001b[0m                                                   \u001b[0mtimeout\u001b[0m\u001b[0;34m=\u001b[0m\u001b[0mtimeout_obj\u001b[0m\u001b[0;34m,\u001b[0m\u001b[0;34m\u001b[0m\u001b[0;34m\u001b[0m\u001b[0m\n\u001b[1;32m    599\u001b[0m                                                   \u001b[0mbody\u001b[0m\u001b[0;34m=\u001b[0m\u001b[0mbody\u001b[0m\u001b[0;34m,\u001b[0m \u001b[0mheaders\u001b[0m\u001b[0;34m=\u001b[0m\u001b[0mheaders\u001b[0m\u001b[0;34m,\u001b[0m\u001b[0;34m\u001b[0m\u001b[0;34m\u001b[0m\u001b[0m\n\u001b[0;32m--> 600\u001b[0;31m                                                   chunked=chunked)\n\u001b[0m\u001b[1;32m    601\u001b[0m \u001b[0;34m\u001b[0m\u001b[0m\n\u001b[1;32m    602\u001b[0m             \u001b[0;31m# If we're going to release the connection in ``finally:``, then\u001b[0m\u001b[0;34m\u001b[0m\u001b[0;34m\u001b[0m\u001b[0;34m\u001b[0m\u001b[0m\n",
            "\u001b[0;32m/usr/local/lib/python3.6/dist-packages/urllib3/connectionpool.py\u001b[0m in \u001b[0;36m_make_request\u001b[0;34m(self, conn, method, url, timeout, chunked, **httplib_request_kw)\u001b[0m\n\u001b[1;32m    378\u001b[0m             \u001b[0;32mexcept\u001b[0m \u001b[0mTypeError\u001b[0m\u001b[0;34m:\u001b[0m  \u001b[0;31m# Python 3\u001b[0m\u001b[0;34m\u001b[0m\u001b[0;34m\u001b[0m\u001b[0m\n\u001b[1;32m    379\u001b[0m                 \u001b[0;32mtry\u001b[0m\u001b[0;34m:\u001b[0m\u001b[0;34m\u001b[0m\u001b[0;34m\u001b[0m\u001b[0m\n\u001b[0;32m--> 380\u001b[0;31m                     \u001b[0mhttplib_response\u001b[0m \u001b[0;34m=\u001b[0m \u001b[0mconn\u001b[0m\u001b[0;34m.\u001b[0m\u001b[0mgetresponse\u001b[0m\u001b[0;34m(\u001b[0m\u001b[0;34m)\u001b[0m\u001b[0;34m\u001b[0m\u001b[0;34m\u001b[0m\u001b[0m\n\u001b[0m\u001b[1;32m    381\u001b[0m                 \u001b[0;32mexcept\u001b[0m \u001b[0mException\u001b[0m \u001b[0;32mas\u001b[0m \u001b[0me\u001b[0m\u001b[0;34m:\u001b[0m\u001b[0;34m\u001b[0m\u001b[0;34m\u001b[0m\u001b[0m\n\u001b[1;32m    382\u001b[0m                     \u001b[0;31m# Remove the TypeError from the exception chain in Python 3;\u001b[0m\u001b[0;34m\u001b[0m\u001b[0;34m\u001b[0m\u001b[0;34m\u001b[0m\u001b[0m\n",
            "\u001b[0;32m/usr/lib/python3.6/http/client.py\u001b[0m in \u001b[0;36mgetresponse\u001b[0;34m(self)\u001b[0m\n\u001b[1;32m   1371\u001b[0m         \u001b[0;32mtry\u001b[0m\u001b[0;34m:\u001b[0m\u001b[0;34m\u001b[0m\u001b[0;34m\u001b[0m\u001b[0m\n\u001b[1;32m   1372\u001b[0m             \u001b[0;32mtry\u001b[0m\u001b[0;34m:\u001b[0m\u001b[0;34m\u001b[0m\u001b[0;34m\u001b[0m\u001b[0m\n\u001b[0;32m-> 1373\u001b[0;31m                 \u001b[0mresponse\u001b[0m\u001b[0;34m.\u001b[0m\u001b[0mbegin\u001b[0m\u001b[0;34m(\u001b[0m\u001b[0;34m)\u001b[0m\u001b[0;34m\u001b[0m\u001b[0;34m\u001b[0m\u001b[0m\n\u001b[0m\u001b[1;32m   1374\u001b[0m             \u001b[0;32mexcept\u001b[0m \u001b[0mConnectionError\u001b[0m\u001b[0;34m:\u001b[0m\u001b[0;34m\u001b[0m\u001b[0;34m\u001b[0m\u001b[0m\n\u001b[1;32m   1375\u001b[0m                 \u001b[0mself\u001b[0m\u001b[0;34m.\u001b[0m\u001b[0mclose\u001b[0m\u001b[0;34m(\u001b[0m\u001b[0;34m)\u001b[0m\u001b[0;34m\u001b[0m\u001b[0;34m\u001b[0m\u001b[0m\n",
            "\u001b[0;32m/usr/lib/python3.6/http/client.py\u001b[0m in \u001b[0;36mbegin\u001b[0;34m(self)\u001b[0m\n\u001b[1;32m    309\u001b[0m         \u001b[0;31m# read until we get a non-100 response\u001b[0m\u001b[0;34m\u001b[0m\u001b[0;34m\u001b[0m\u001b[0;34m\u001b[0m\u001b[0m\n\u001b[1;32m    310\u001b[0m         \u001b[0;32mwhile\u001b[0m \u001b[0;32mTrue\u001b[0m\u001b[0;34m:\u001b[0m\u001b[0;34m\u001b[0m\u001b[0;34m\u001b[0m\u001b[0m\n\u001b[0;32m--> 311\u001b[0;31m             \u001b[0mversion\u001b[0m\u001b[0;34m,\u001b[0m \u001b[0mstatus\u001b[0m\u001b[0;34m,\u001b[0m \u001b[0mreason\u001b[0m \u001b[0;34m=\u001b[0m \u001b[0mself\u001b[0m\u001b[0;34m.\u001b[0m\u001b[0m_read_status\u001b[0m\u001b[0;34m(\u001b[0m\u001b[0;34m)\u001b[0m\u001b[0;34m\u001b[0m\u001b[0;34m\u001b[0m\u001b[0m\n\u001b[0m\u001b[1;32m    312\u001b[0m             \u001b[0;32mif\u001b[0m \u001b[0mstatus\u001b[0m \u001b[0;34m!=\u001b[0m \u001b[0mCONTINUE\u001b[0m\u001b[0;34m:\u001b[0m\u001b[0;34m\u001b[0m\u001b[0;34m\u001b[0m\u001b[0m\n\u001b[1;32m    313\u001b[0m                 \u001b[0;32mbreak\u001b[0m\u001b[0;34m\u001b[0m\u001b[0;34m\u001b[0m\u001b[0m\n",
            "\u001b[0;32m/usr/lib/python3.6/http/client.py\u001b[0m in \u001b[0;36m_read_status\u001b[0;34m(self)\u001b[0m\n\u001b[1;32m    270\u001b[0m \u001b[0;34m\u001b[0m\u001b[0m\n\u001b[1;32m    271\u001b[0m     \u001b[0;32mdef\u001b[0m \u001b[0m_read_status\u001b[0m\u001b[0;34m(\u001b[0m\u001b[0mself\u001b[0m\u001b[0;34m)\u001b[0m\u001b[0;34m:\u001b[0m\u001b[0;34m\u001b[0m\u001b[0;34m\u001b[0m\u001b[0m\n\u001b[0;32m--> 272\u001b[0;31m         \u001b[0mline\u001b[0m \u001b[0;34m=\u001b[0m \u001b[0mstr\u001b[0m\u001b[0;34m(\u001b[0m\u001b[0mself\u001b[0m\u001b[0;34m.\u001b[0m\u001b[0mfp\u001b[0m\u001b[0;34m.\u001b[0m\u001b[0mreadline\u001b[0m\u001b[0;34m(\u001b[0m\u001b[0m_MAXLINE\u001b[0m \u001b[0;34m+\u001b[0m \u001b[0;36m1\u001b[0m\u001b[0;34m)\u001b[0m\u001b[0;34m,\u001b[0m \u001b[0;34m\"iso-8859-1\"\u001b[0m\u001b[0;34m)\u001b[0m\u001b[0;34m\u001b[0m\u001b[0;34m\u001b[0m\u001b[0m\n\u001b[0m\u001b[1;32m    273\u001b[0m         \u001b[0;32mif\u001b[0m \u001b[0mlen\u001b[0m\u001b[0;34m(\u001b[0m\u001b[0mline\u001b[0m\u001b[0;34m)\u001b[0m \u001b[0;34m>\u001b[0m \u001b[0m_MAXLINE\u001b[0m\u001b[0;34m:\u001b[0m\u001b[0;34m\u001b[0m\u001b[0;34m\u001b[0m\u001b[0m\n\u001b[1;32m    274\u001b[0m             \u001b[0;32mraise\u001b[0m \u001b[0mLineTooLong\u001b[0m\u001b[0;34m(\u001b[0m\u001b[0;34m\"status line\"\u001b[0m\u001b[0;34m)\u001b[0m\u001b[0;34m\u001b[0m\u001b[0;34m\u001b[0m\u001b[0m\n",
            "\u001b[0;32m/usr/lib/python3.6/socket.py\u001b[0m in \u001b[0;36mreadinto\u001b[0;34m(self, b)\u001b[0m\n\u001b[1;32m    584\u001b[0m         \u001b[0;32mwhile\u001b[0m \u001b[0;32mTrue\u001b[0m\u001b[0;34m:\u001b[0m\u001b[0;34m\u001b[0m\u001b[0;34m\u001b[0m\u001b[0m\n\u001b[1;32m    585\u001b[0m             \u001b[0;32mtry\u001b[0m\u001b[0;34m:\u001b[0m\u001b[0;34m\u001b[0m\u001b[0;34m\u001b[0m\u001b[0m\n\u001b[0;32m--> 586\u001b[0;31m                 \u001b[0;32mreturn\u001b[0m \u001b[0mself\u001b[0m\u001b[0;34m.\u001b[0m\u001b[0m_sock\u001b[0m\u001b[0;34m.\u001b[0m\u001b[0mrecv_into\u001b[0m\u001b[0;34m(\u001b[0m\u001b[0mb\u001b[0m\u001b[0;34m)\u001b[0m\u001b[0;34m\u001b[0m\u001b[0;34m\u001b[0m\u001b[0m\n\u001b[0m\u001b[1;32m    587\u001b[0m             \u001b[0;32mexcept\u001b[0m \u001b[0mtimeout\u001b[0m\u001b[0;34m:\u001b[0m\u001b[0;34m\u001b[0m\u001b[0;34m\u001b[0m\u001b[0m\n\u001b[1;32m    588\u001b[0m                 \u001b[0mself\u001b[0m\u001b[0;34m.\u001b[0m\u001b[0m_timeout_occurred\u001b[0m \u001b[0;34m=\u001b[0m \u001b[0;32mTrue\u001b[0m\u001b[0;34m\u001b[0m\u001b[0;34m\u001b[0m\u001b[0m\n",
            "\u001b[0;32m/usr/lib/python3.6/ssl.py\u001b[0m in \u001b[0;36mrecv_into\u001b[0;34m(self, buffer, nbytes, flags)\u001b[0m\n\u001b[1;32m   1010\u001b[0m                   \u001b[0;34m\"non-zero flags not allowed in calls to recv_into() on %s\"\u001b[0m \u001b[0;34m%\u001b[0m\u001b[0;34m\u001b[0m\u001b[0;34m\u001b[0m\u001b[0m\n\u001b[1;32m   1011\u001b[0m                   self.__class__)\n\u001b[0;32m-> 1012\u001b[0;31m             \u001b[0;32mreturn\u001b[0m \u001b[0mself\u001b[0m\u001b[0;34m.\u001b[0m\u001b[0mread\u001b[0m\u001b[0;34m(\u001b[0m\u001b[0mnbytes\u001b[0m\u001b[0;34m,\u001b[0m \u001b[0mbuffer\u001b[0m\u001b[0;34m)\u001b[0m\u001b[0;34m\u001b[0m\u001b[0;34m\u001b[0m\u001b[0m\n\u001b[0m\u001b[1;32m   1013\u001b[0m         \u001b[0;32melse\u001b[0m\u001b[0;34m:\u001b[0m\u001b[0;34m\u001b[0m\u001b[0;34m\u001b[0m\u001b[0m\n\u001b[1;32m   1014\u001b[0m             \u001b[0;32mreturn\u001b[0m \u001b[0msocket\u001b[0m\u001b[0;34m.\u001b[0m\u001b[0mrecv_into\u001b[0m\u001b[0;34m(\u001b[0m\u001b[0mself\u001b[0m\u001b[0;34m,\u001b[0m \u001b[0mbuffer\u001b[0m\u001b[0;34m,\u001b[0m \u001b[0mnbytes\u001b[0m\u001b[0;34m,\u001b[0m \u001b[0mflags\u001b[0m\u001b[0;34m)\u001b[0m\u001b[0;34m\u001b[0m\u001b[0;34m\u001b[0m\u001b[0m\n",
            "\u001b[0;32m/usr/lib/python3.6/ssl.py\u001b[0m in \u001b[0;36mread\u001b[0;34m(self, len, buffer)\u001b[0m\n\u001b[1;32m    872\u001b[0m             \u001b[0;32mraise\u001b[0m \u001b[0mValueError\u001b[0m\u001b[0;34m(\u001b[0m\u001b[0;34m\"Read on closed or unwrapped SSL socket.\"\u001b[0m\u001b[0;34m)\u001b[0m\u001b[0;34m\u001b[0m\u001b[0;34m\u001b[0m\u001b[0m\n\u001b[1;32m    873\u001b[0m         \u001b[0;32mtry\u001b[0m\u001b[0;34m:\u001b[0m\u001b[0;34m\u001b[0m\u001b[0;34m\u001b[0m\u001b[0m\n\u001b[0;32m--> 874\u001b[0;31m             \u001b[0;32mreturn\u001b[0m \u001b[0mself\u001b[0m\u001b[0;34m.\u001b[0m\u001b[0m_sslobj\u001b[0m\u001b[0;34m.\u001b[0m\u001b[0mread\u001b[0m\u001b[0;34m(\u001b[0m\u001b[0mlen\u001b[0m\u001b[0;34m,\u001b[0m \u001b[0mbuffer\u001b[0m\u001b[0;34m)\u001b[0m\u001b[0;34m\u001b[0m\u001b[0;34m\u001b[0m\u001b[0m\n\u001b[0m\u001b[1;32m    875\u001b[0m         \u001b[0;32mexcept\u001b[0m \u001b[0mSSLError\u001b[0m \u001b[0;32mas\u001b[0m \u001b[0mx\u001b[0m\u001b[0;34m:\u001b[0m\u001b[0;34m\u001b[0m\u001b[0;34m\u001b[0m\u001b[0m\n\u001b[1;32m    876\u001b[0m             \u001b[0;32mif\u001b[0m \u001b[0mx\u001b[0m\u001b[0;34m.\u001b[0m\u001b[0margs\u001b[0m\u001b[0;34m[\u001b[0m\u001b[0;36m0\u001b[0m\u001b[0;34m]\u001b[0m \u001b[0;34m==\u001b[0m \u001b[0mSSL_ERROR_EOF\u001b[0m \u001b[0;32mand\u001b[0m \u001b[0mself\u001b[0m\u001b[0;34m.\u001b[0m\u001b[0msuppress_ragged_eofs\u001b[0m\u001b[0;34m:\u001b[0m\u001b[0;34m\u001b[0m\u001b[0;34m\u001b[0m\u001b[0m\n",
            "\u001b[0;32m/usr/lib/python3.6/ssl.py\u001b[0m in \u001b[0;36mread\u001b[0;34m(self, len, buffer)\u001b[0m\n\u001b[1;32m    629\u001b[0m         \"\"\"\n\u001b[1;32m    630\u001b[0m         \u001b[0;32mif\u001b[0m \u001b[0mbuffer\u001b[0m \u001b[0;32mis\u001b[0m \u001b[0;32mnot\u001b[0m \u001b[0;32mNone\u001b[0m\u001b[0;34m:\u001b[0m\u001b[0;34m\u001b[0m\u001b[0;34m\u001b[0m\u001b[0m\n\u001b[0;32m--> 631\u001b[0;31m             \u001b[0mv\u001b[0m \u001b[0;34m=\u001b[0m \u001b[0mself\u001b[0m\u001b[0;34m.\u001b[0m\u001b[0m_sslobj\u001b[0m\u001b[0;34m.\u001b[0m\u001b[0mread\u001b[0m\u001b[0;34m(\u001b[0m\u001b[0mlen\u001b[0m\u001b[0;34m,\u001b[0m \u001b[0mbuffer\u001b[0m\u001b[0;34m)\u001b[0m\u001b[0;34m\u001b[0m\u001b[0;34m\u001b[0m\u001b[0m\n\u001b[0m\u001b[1;32m    632\u001b[0m         \u001b[0;32melse\u001b[0m\u001b[0;34m:\u001b[0m\u001b[0;34m\u001b[0m\u001b[0;34m\u001b[0m\u001b[0m\n\u001b[1;32m    633\u001b[0m             \u001b[0mv\u001b[0m \u001b[0;34m=\u001b[0m \u001b[0mself\u001b[0m\u001b[0;34m.\u001b[0m\u001b[0m_sslobj\u001b[0m\u001b[0;34m.\u001b[0m\u001b[0mread\u001b[0m\u001b[0;34m(\u001b[0m\u001b[0mlen\u001b[0m\u001b[0;34m)\u001b[0m\u001b[0;34m\u001b[0m\u001b[0;34m\u001b[0m\u001b[0m\n",
            "\u001b[0;31mKeyboardInterrupt\u001b[0m: "
          ]
        }
      ]
    },
    {
      "cell_type": "code",
      "metadata": {
        "colab": {
          "base_uri": "https://localhost:8080/",
          "height": 164
        },
        "id": "7b00TZl48MJ6",
        "outputId": "20ba422b-c436-4222-9dbd-90875e06dbb9"
      },
      "source": [
        "spell_preprocessed_corpus = spell_check_text(basic_preprocessed_corpus)"
      ],
      "execution_count": null,
      "outputs": [
        {
          "output_type": "error",
          "ename": "NameError",
          "evalue": "ignored",
          "traceback": [
            "\u001b[0;31m---------------------------------------------------------------------------\u001b[0m",
            "\u001b[0;31mNameError\u001b[0m                                 Traceback (most recent call last)",
            "\u001b[0;32m<ipython-input-28-fd404e2c804f>\u001b[0m in \u001b[0;36m<module>\u001b[0;34m()\u001b[0m\n\u001b[0;32m----> 1\u001b[0;31m \u001b[0mspell_preprocessed_corpus\u001b[0m \u001b[0;34m=\u001b[0m \u001b[0mspell_check_text\u001b[0m\u001b[0;34m(\u001b[0m\u001b[0mbasic_preprocessed_corpus\u001b[0m\u001b[0;34m)\u001b[0m\u001b[0;34m\u001b[0m\u001b[0;34m\u001b[0m\u001b[0m\n\u001b[0m",
            "\u001b[0;31mNameError\u001b[0m: name 'spell_check_text' is not defined"
          ]
        }
      ]
    },
    {
      "cell_type": "code",
      "metadata": {
        "colab": {
          "base_uri": "https://localhost:8080/"
        },
        "id": "QeF6401K211R",
        "outputId": "6282cf5e-ca6a-4691-876f-21cd15f2e1fe"
      },
      "source": [
        "spell_preprocessed_corpus"
      ],
      "execution_count": null,
      "outputs": [
        {
          "output_type": "execute_result",
          "data": {
            "text/plain": [
              "['친부에게 정당한 이유 없이 뺨을 맞아서 고막에 천공이 생겨 고막패치술을 받았습니다. 어머니는 협의이혼을 생각 중이신데 미성년자인 동생이 있어서 개월 간 숙려 기간을 가져야 한다고 알고 있습니다. ) 협의이혼 시 개월의 숙려 기간 동안 친부와 따로 살도록 할 수 있나요? 가정폭력에 대한 증거가 고막천공으로 치료받았다는 진단서밖에 없는데 신고를 해서 접근금지 처분을 내릴 수 있나요? ) 만약 친부가 이혼에 반대하면 진단서로 가정폭력 했다는 사실을 증명해서 이혼소송을 걸 수 있나요? ) 향후 미성년자인 동생의 양육권 분쟁에서 제가 당한 가정폭력을 근거로 친모가 양육권을 가져갈 수 있도록 할 수 있나요? ) 위 절차에 필요한 진단서는 치료를 받았던 의원에 가서 뗄 수 있나요?']"
            ]
          },
          "metadata": {
            "tags": []
          },
          "execution_count": 88
        }
      ]
    },
    {
      "cell_type": "code",
      "metadata": {
        "colab": {
          "base_uri": "https://localhost:8080/"
        },
        "id": "TBFRZlFm8lVL",
        "outputId": "310b7fb0-9488-4878-f9c7-949144a05cfb"
      },
      "source": [
        "!git clone https://github.com/kakao/khaiii.git\n",
        "!pip install cmake\n",
        "!mkdir build\n",
        "!cd build && cmake /content/khaiii\n",
        "!cd /content/build/ && make all\n",
        "!cd /content/build/ && make resource\n",
        "!cd /content/build && make install\n",
        "!cd /content/build && make package_python\n",
        "!pip install /content/build/package_python"
      ],
      "execution_count": null,
      "outputs": [
        {
          "output_type": "stream",
          "text": [
            "Cloning into 'khaiii'...\n",
            "remote: Enumerating objects: 123, done.\u001b[K\n",
            "remote: Counting objects: 100% (123/123), done.\u001b[K\n",
            "remote: Compressing objects: 100% (97/97), done.\u001b[K\n",
            "remote: Total 1000 (delta 38), reused 61 (delta 22), pack-reused 877\u001b[K\n",
            "Receiving objects: 100% (1000/1000), 33.06 MiB | 31.67 MiB/s, done.\n",
            "Resolving deltas: 100% (396/396), done.\n",
            "Requirement already satisfied: cmake in /usr/local/lib/python3.6/dist-packages (3.12.0)\n",
            "-- [hunter] Initializing Hunter workspace (70287b1ffa810ee4e952052a9adff9b4856d0d54)\n",
            "-- [hunter]   https://github.com/ruslo/hunter/archive/v0.23.34.tar.gz\n",
            "-- [hunter]   -> /root/.hunter/_Base/Download/Hunter/0.23.34/70287b1\n",
            "-- The C compiler identification is GNU 7.5.0\n",
            "-- The CXX compiler identification is GNU 7.5.0\n",
            "-- Check for working C compiler: /usr/bin/cc\n",
            "-- Check for working C compiler: /usr/bin/cc -- works\n",
            "-- Detecting C compiler ABI info\n",
            "-- Detecting C compiler ABI info - done\n",
            "-- Detecting C compile features\n",
            "-- Detecting C compile features - done\n",
            "-- Check for working CXX compiler: /usr/bin/c++\n",
            "-- Check for working CXX compiler: /usr/bin/c++ -- works\n",
            "-- Detecting CXX compiler ABI info\n",
            "-- Detecting CXX compiler ABI info - done\n",
            "-- Detecting CXX compile features\n",
            "-- Detecting CXX compile features - done\n",
            "-- Performing Test fma_compiles\n",
            "-- Performing Test fma_compiles - Success\n",
            "-- Performing Test fma_runs\n",
            "-- Performing Test fma_runs - Success\n",
            "-- [khaiii] fused multiply add option enabled\n",
            "-- [hunter] Calculating Toolchain-SHA1\n",
            "-- [hunter] Calculating Config-SHA1\n",
            "-- [hunter] HUNTER_ROOT: /root/.hunter\n",
            "-- [hunter] [ Hunter-ID: 70287b1 | Toolchain-ID: 02ccb06 | Config-ID: dffbc08 ]\n",
            "-- [hunter] BOOST_ROOT: /root/.hunter/_Base/70287b1/02ccb06/dffbc08/Install (ver.: 1.68.0-p1)\n",
            "-- [hunter] Building Boost\n",
            "loading initial cache file /root/.hunter/_Base/70287b1/02ccb06/dffbc08/cache.cmake\n",
            "loading initial cache file /root/.hunter/_Base/70287b1/02ccb06/dffbc08/Build/Boost/args.cmake\n",
            "-- The C compiler identification is GNU 7.5.0\n",
            "-- The CXX compiler identification is GNU 7.5.0\n",
            "-- Check for working C compiler: /usr/bin/cc\n",
            "-- Check for working C compiler: /usr/bin/cc -- works\n",
            "-- Detecting C compile features\n",
            "-- Detecting C compile features - done\n",
            "-- Check for working CXX compiler: /usr/bin/c++\n",
            "-- Check for working CXX compiler: /usr/bin/c++ -- works\n",
            "-- Detecting CXX compile features\n",
            "-- Detecting CXX compile features - done\n",
            "-- Configuring done\n",
            "-- Generating done\n",
            "-- Build files have been written to: /root/.hunter/_Base/70287b1/02ccb06/dffbc08/Build/Boost/Build\n",
            "Scanning dependencies of target Boost\n",
            "[ 12%] Creating directories for 'Boost'\n",
            "[ 25%] Performing download step (download, verify and extract) for 'Boost'\n",
            "-- Downloading...\n",
            "   dst='/root/.hunter/_Base/Download/Boost/1.68.0-p1/0bb10b0/v1.68.0-p1.tar.gz'\n",
            "   timeout='none'\n",
            "-- Using src='https://github.com/hunter-packages/boost/archive/v1.68.0-p1.tar.gz'\n",
            "-- [download 100% complete]\n",
            "-- verifying file...\n",
            "       file='/root/.hunter/_Base/Download/Boost/1.68.0-p1/0bb10b0/v1.68.0-p1.tar.gz'\n",
            "-- Downloading... done\n",
            "-- extracting...\n",
            "     src='/root/.hunter/_Base/Download/Boost/1.68.0-p1/0bb10b0/v1.68.0-p1.tar.gz'\n",
            "     dst='/root/.hunter/_Base/70287b1/02ccb06/dffbc08/Build/Boost/Source'\n",
            "-- extracting... [tar xfz]\n",
            "-- extracting... [analysis]\n",
            "-- extracting... [rename]\n",
            "-- extracting... [clean up]\n",
            "-- extracting... done\n",
            "[ 37%] No patch step for 'Boost'\n",
            "[ 50%] Performing update step for 'Boost'\n",
            "[ 62%] Performing configure step for 'Boost'\n",
            "Dummy patch command\n",
            "Building Boost.Build engine with toolset gcc... tools/build/src/engine/bin.linuxx86_64/b2\n",
            "Detecting Python version... 2.7\n",
            "Detecting Python root... /usr\n",
            "Unicode/ICU support for Boost.Regex?... /usr\n",
            "Generating Boost.Build configuration in project-config.jam...\n",
            "\n",
            "Bootstrapping is done. To build, run:\n",
            "\n",
            "    ./b2\n",
            "    \n",
            "To adjust configuration, edit 'project-config.jam'.\n",
            "Further information:\n",
            "\n",
            "   - Command line help:\n",
            "     ./b2 --help\n",
            "     \n",
            "   - Getting started guide: \n",
            "     http://www.boost.org/more/getting_started/unix-variants.html\n",
            "     \n",
            "   - Boost.Build documentation:\n",
            "     http://www.boost.org/build/doc/html/index.html\n",
            "\n",
            "[ 75%] No build step for 'Boost'\n",
            "[ 87%] Performing install step for 'Boost'\n",
            "Performing configuration checks\n",
            "\n",
            "    - default address-model    : 64-bit\n",
            "    - default architecture     : x86\n",
            "\n",
            "Component configuration:\n",
            "\n",
            "    - atomic                   : not building\n",
            "    - chrono                   : not building\n",
            "    - container                : not building\n",
            "    - context                  : not building\n",
            "    - contract                 : not building\n",
            "    - coroutine                : not building\n",
            "    - date_time                : not building\n",
            "    - exception                : not building\n",
            "    - fiber                    : not building\n",
            "    - filesystem               : not building\n",
            "    - graph                    : not building\n",
            "    - graph_parallel           : not building\n",
            "    - iostreams                : not building\n",
            "    - locale                   : not building\n",
            "    - log                      : not building\n",
            "    - math                     : not building\n",
            "    - mpi                      : not building\n",
            "    - program_options          : not building\n",
            "    - python                   : not building\n",
            "    - random                   : not building\n",
            "    - regex                    : not building\n",
            "    - serialization            : not building\n",
            "    - signals                  : not building\n",
            "    - stacktrace               : not building\n",
            "    - system                   : not building\n",
            "    - test                     : not building\n",
            "    - thread                   : not building\n",
            "    - timer                    : not building\n",
            "    - type_erasure             : not building\n",
            "    - wave                     : not building\n",
            "\n",
            "loading initial cache file /root/.hunter/_Base/70287b1/02ccb06/dffbc08/Build/Boost/args.cmake\n",
            "[100%] Completed 'Boost'\n",
            "[100%] Built target Boost\n",
            "-- [hunter] Build step successful (dir: /root/.hunter/_Base/70287b1/02ccb06/dffbc08/Build/Boost)\n",
            "-- [hunter] Cache saved: /root/.hunter/_Base/Cache/raw/76bb8c787a808cfdb8888cdf497bd7a1fd5e77aa.tar.bz2\n",
            "-- Boost version: 1.68.0\n",
            "-- [hunter] CXXOPTS_ROOT: /root/.hunter/_Base/70287b1/02ccb06/dffbc08/Install (ver.: 2.1.1-pre)\n",
            "-- [hunter] Building cxxopts\n",
            "loading initial cache file /root/.hunter/_Base/70287b1/02ccb06/dffbc08/cache.cmake\n",
            "loading initial cache file /root/.hunter/_Base/70287b1/02ccb06/dffbc08/Build/cxxopts/args.cmake\n",
            "-- The C compiler identification is GNU 7.5.0\n",
            "-- The CXX compiler identification is GNU 7.5.0\n",
            "-- Check for working C compiler: /usr/bin/cc\n",
            "-- Check for working C compiler: /usr/bin/cc -- works\n",
            "-- Detecting C compile features\n",
            "-- Detecting C compile features - done\n",
            "-- Check for working CXX compiler: /usr/bin/c++\n",
            "-- Check for working CXX compiler: /usr/bin/c++ -- works\n",
            "-- Detecting CXX compile features\n",
            "-- Detecting CXX compile features - done\n",
            "-- Configuring done\n",
            "-- Generating done\n",
            "-- Build files have been written to: /root/.hunter/_Base/70287b1/02ccb06/dffbc08/Build/cxxopts/Build\n",
            "Scanning dependencies of target cxxopts-Release\n",
            "[  6%] Creating directories for 'cxxopts-Release'\n",
            "[ 12%] Performing download step (download, verify and extract) for 'cxxopts-Release'\n",
            "-- Downloading...\n",
            "   dst='/root/.hunter/_Base/Download/cxxopts/2.1.1-pre/cbeec55/e725ea308468ab50751ba7f930842a4c061226e9.zip'\n",
            "   timeout='none'\n",
            "-- Using src='https://github.com/jarro2783/cxxopts/archive/e725ea308468ab50751ba7f930842a4c061226e9.zip'\n",
            "-- verifying file...\n",
            "       file='/root/.hunter/_Base/Download/cxxopts/2.1.1-pre/cbeec55/e725ea308468ab50751ba7f930842a4c061226e9.zip'\n",
            "-- Downloading... done\n",
            "-- extracting...\n",
            "     src='/root/.hunter/_Base/Download/cxxopts/2.1.1-pre/cbeec55/e725ea308468ab50751ba7f930842a4c061226e9.zip'\n",
            "     dst='/root/.hunter/_Base/70287b1/02ccb06/dffbc08/Build/cxxopts/Source'\n",
            "-- extracting... [tar xfz]\n",
            "-- extracting... [analysis]\n",
            "-- extracting... [rename]\n",
            "-- extracting... [clean up]\n",
            "-- extracting... done\n",
            "[ 18%] No patch step for 'cxxopts-Release'\n",
            "[ 25%] No update step for 'cxxopts-Release'\n",
            "[ 31%] Performing configure step for 'cxxopts-Release'\n",
            "loading initial cache file /root/.hunter/_Base/70287b1/02ccb06/dffbc08/cache.cmake\n",
            "loading initial cache file /root/.hunter/_Base/70287b1/02ccb06/dffbc08/Build/cxxopts/args.cmake\n",
            "-- The C compiler identification is GNU 7.5.0\n",
            "-- The CXX compiler identification is GNU 7.5.0\n",
            "-- Check for working C compiler: /usr/bin/cc\n",
            "-- Check for working C compiler: /usr/bin/cc -- works\n",
            "-- Detecting C compile features\n",
            "-- Detecting C compile features - done\n",
            "-- Check for working CXX compiler: /usr/bin/c++\n",
            "-- Check for working CXX compiler: /usr/bin/c++ -- works\n",
            "-- Detecting CXX compile features\n",
            "-- Detecting CXX compile features - done\n",
            "-- Configuring done\n",
            "-- Generating done\n",
            "-- Build files have been written to: /root/.hunter/_Base/70287b1/02ccb06/dffbc08/Build/cxxopts/Build/cxxopts-Release-prefix/src/cxxopts-Release-build\n",
            "[ 37%] Performing build step for 'cxxopts-Release'\n",
            "[ 43%] Performing install step for 'cxxopts-Release'\n",
            "Install the project...\n",
            "-- Install configuration: \"Release\"\n",
            "-- Installing: /root/.hunter/_Base/70287b1/02ccb06/dffbc08/Build/cxxopts/Install/lib/cmake/cxxopts/cxxopts-config.cmake\n",
            "-- Installing: /root/.hunter/_Base/70287b1/02ccb06/dffbc08/Build/cxxopts/Install/lib/cmake/cxxopts/cxxopts-config-version.cmake\n",
            "-- Installing: /root/.hunter/_Base/70287b1/02ccb06/dffbc08/Build/cxxopts/Install/lib/cmake/cxxopts/cxxopts-targets.cmake\n",
            "-- Installing: /root/.hunter/_Base/70287b1/02ccb06/dffbc08/Build/cxxopts/Install/include/cxxopts.hpp\n",
            "loading initial cache file /root/.hunter/_Base/70287b1/02ccb06/dffbc08/Build/cxxopts/args.cmake\n",
            "[ 50%] Completed 'cxxopts-Release'\n",
            "[ 50%] Built target cxxopts-Release\n",
            "Scanning dependencies of target cxxopts-Debug\n",
            "[ 56%] Creating directories for 'cxxopts-Debug'\n",
            "[ 62%] Performing download step (download, verify and extract) for 'cxxopts-Debug'\n",
            "-- verifying file...\n",
            "       file='/root/.hunter/_Base/Download/cxxopts/2.1.1-pre/cbeec55/e725ea308468ab50751ba7f930842a4c061226e9.zip'\n",
            "-- File already exists and hash match (skip download):\n",
            "  file='/root/.hunter/_Base/Download/cxxopts/2.1.1-pre/cbeec55/e725ea308468ab50751ba7f930842a4c061226e9.zip'\n",
            "  SHA1='cbeec5576599d031f6f992d987e1f3575b3afee3'\n",
            "-- extracting...\n",
            "     src='/root/.hunter/_Base/Download/cxxopts/2.1.1-pre/cbeec55/e725ea308468ab50751ba7f930842a4c061226e9.zip'\n",
            "     dst='/root/.hunter/_Base/70287b1/02ccb06/dffbc08/Build/cxxopts/Source'\n",
            "-- extracting... [tar xfz]\n",
            "-- extracting... [analysis]\n",
            "-- extracting... [rename]\n",
            "-- extracting... [clean up]\n",
            "-- extracting... done\n",
            "[ 68%] No patch step for 'cxxopts-Debug'\n",
            "[ 75%] No update step for 'cxxopts-Debug'\n",
            "[ 81%] Performing configure step for 'cxxopts-Debug'\n",
            "loading initial cache file /root/.hunter/_Base/70287b1/02ccb06/dffbc08/cache.cmake\n",
            "loading initial cache file /root/.hunter/_Base/70287b1/02ccb06/dffbc08/Build/cxxopts/args.cmake\n",
            "-- The C compiler identification is GNU 7.5.0\n",
            "-- The CXX compiler identification is GNU 7.5.0\n",
            "-- Check for working C compiler: /usr/bin/cc\n",
            "-- Check for working C compiler: /usr/bin/cc -- works\n",
            "-- Detecting C compile features\n",
            "-- Detecting C compile features - done\n",
            "-- Check for working CXX compiler: /usr/bin/c++\n",
            "-- Check for working CXX compiler: /usr/bin/c++ -- works\n",
            "-- Detecting CXX compile features\n",
            "-- Detecting CXX compile features - done\n",
            "-- Configuring done\n",
            "-- Generating done\n",
            "-- Build files have been written to: /root/.hunter/_Base/70287b1/02ccb06/dffbc08/Build/cxxopts/Build/cxxopts-Debug-prefix/src/cxxopts-Debug-build\n",
            "[ 87%] Performing build step for 'cxxopts-Debug'\n",
            "[ 93%] Performing install step for 'cxxopts-Debug'\n",
            "Install the project...\n",
            "-- Install configuration: \"Debug\"\n",
            "-- Installing: /root/.hunter/_Base/70287b1/02ccb06/dffbc08/Build/cxxopts/Install/lib/cmake/cxxopts/cxxopts-config.cmake\n",
            "-- Installing: /root/.hunter/_Base/70287b1/02ccb06/dffbc08/Build/cxxopts/Install/lib/cmake/cxxopts/cxxopts-config-version.cmake\n",
            "-- Installing: /root/.hunter/_Base/70287b1/02ccb06/dffbc08/Build/cxxopts/Install/lib/cmake/cxxopts/cxxopts-targets.cmake\n",
            "-- Up-to-date: /root/.hunter/_Base/70287b1/02ccb06/dffbc08/Build/cxxopts/Install/include/cxxopts.hpp\n",
            "loading initial cache file /root/.hunter/_Base/70287b1/02ccb06/dffbc08/Build/cxxopts/args.cmake\n",
            "[100%] Completed 'cxxopts-Debug'\n",
            "[100%] Built target cxxopts-Debug\n",
            "-- [hunter] Build step successful (dir: /root/.hunter/_Base/70287b1/02ccb06/dffbc08/Build/cxxopts)\n",
            "-- [hunter] Cache saved: /root/.hunter/_Base/Cache/raw/f2a600e434d9f2ead85d230b75daca87c743d2bf.tar.bz2\n",
            "-- [hunter] EIGEN_ROOT: /root/.hunter/_Base/70287b1/02ccb06/dffbc08/Install (ver.: 3.3.5)\n",
            "-- [hunter] Building Eigen\n",
            "loading initial cache file /root/.hunter/_Base/70287b1/02ccb06/dffbc08/cache.cmake\n",
            "loading initial cache file /root/.hunter/_Base/70287b1/02ccb06/dffbc08/Build/Eigen/args.cmake\n",
            "-- The C compiler identification is GNU 7.5.0\n",
            "-- The CXX compiler identification is GNU 7.5.0\n",
            "-- Check for working C compiler: /usr/bin/cc\n",
            "-- Check for working C compiler: /usr/bin/cc -- works\n",
            "-- Detecting C compile features\n",
            "-- Detecting C compile features - done\n",
            "-- Check for working CXX compiler: /usr/bin/c++\n",
            "-- Check for working CXX compiler: /usr/bin/c++ -- works\n",
            "-- Detecting CXX compile features\n",
            "-- Detecting CXX compile features - done\n",
            "-- Configuring done\n",
            "-- Generating done\n",
            "-- Build files have been written to: /root/.hunter/_Base/70287b1/02ccb06/dffbc08/Build/Eigen/Build\n",
            "Scanning dependencies of target Eigen-Release\n",
            "[  6%] Creating directories for 'Eigen-Release'\n",
            "[ 12%] Performing download step (download, verify and extract) for 'Eigen-Release'\n",
            "-- Downloading...\n",
            "   dst='/root/.hunter/_Base/Download/Eigen/3.3.5/c1801a3/3.3.5.tar.gz'\n",
            "   timeout='none'\n",
            "-- Using src='https://github.com/eigenteam/eigen-git-mirror/archive/3.3.5.tar.gz'\n",
            "-- [download 100% complete]\n",
            "-- verifying file...\n",
            "       file='/root/.hunter/_Base/Download/Eigen/3.3.5/c1801a3/3.3.5.tar.gz'\n",
            "-- Downloading... done\n",
            "-- extracting...\n",
            "     src='/root/.hunter/_Base/Download/Eigen/3.3.5/c1801a3/3.3.5.tar.gz'\n",
            "     dst='/root/.hunter/_Base/70287b1/02ccb06/dffbc08/Build/Eigen/Source'\n",
            "-- extracting... [tar xfz]\n",
            "-- extracting... [analysis]\n",
            "-- extracting... [rename]\n",
            "-- extracting... [clean up]\n",
            "-- extracting... done\n",
            "[ 18%] No patch step for 'Eigen-Release'\n",
            "[ 25%] No update step for 'Eigen-Release'\n",
            "[ 31%] Performing configure step for 'Eigen-Release'\n",
            "loading initial cache file /root/.hunter/_Base/70287b1/02ccb06/dffbc08/cache.cmake\n",
            "loading initial cache file /root/.hunter/_Base/70287b1/02ccb06/dffbc08/Build/Eigen/args.cmake\n",
            "-- The C compiler identification is GNU 7.5.0\n",
            "-- The CXX compiler identification is GNU 7.5.0\n",
            "-- Check for working C compiler: /usr/bin/cc\n",
            "-- Check for working C compiler: /usr/bin/cc -- works\n",
            "-- Detecting C compile features\n",
            "-- Detecting C compile features - done\n",
            "-- Check for working CXX compiler: /usr/bin/c++\n",
            "-- Check for working CXX compiler: /usr/bin/c++ -- works\n",
            "-- Detecting CXX compile features\n",
            "-- Detecting CXX compile features - done\n",
            "-- Performing Test standard_math_library_linked_to_automatically\n",
            "-- Performing Test standard_math_library_linked_to_automatically - Success\n",
            "-- Standard libraries to link to explicitly: none\n",
            "-- Performing Test COMPILER_SUPPORT_WERROR\n",
            "-- Performing Test COMPILER_SUPPORT_WERROR - Success\n",
            "-- Performing Test COMPILER_SUPPORT_pedantic\n",
            "-- Performing Test COMPILER_SUPPORT_pedantic - Success\n",
            "-- Performing Test COMPILER_SUPPORT_Wall\n",
            "-- Performing Test COMPILER_SUPPORT_Wall - Success\n",
            "-- Performing Test COMPILER_SUPPORT_Wextra\n",
            "-- Performing Test COMPILER_SUPPORT_Wextra - Success\n",
            "-- Performing Test COMPILER_SUPPORT_Wundef\n",
            "-- Performing Test COMPILER_SUPPORT_Wundef - Success\n",
            "-- Performing Test COMPILER_SUPPORT_Wcastalign\n",
            "-- Performing Test COMPILER_SUPPORT_Wcastalign - Success\n",
            "-- Performing Test COMPILER_SUPPORT_Wcharsubscripts\n",
            "-- Performing Test COMPILER_SUPPORT_Wcharsubscripts - Success\n",
            "-- Performing Test COMPILER_SUPPORT_Wnonvirtualdtor\n",
            "-- Performing Test COMPILER_SUPPORT_Wnonvirtualdtor - Success\n",
            "-- Performing Test COMPILER_SUPPORT_Wunusedlocaltypedefs\n",
            "-- Performing Test COMPILER_SUPPORT_Wunusedlocaltypedefs - Success\n",
            "-- Performing Test COMPILER_SUPPORT_Wpointerarith\n",
            "-- Performing Test COMPILER_SUPPORT_Wpointerarith - Success\n",
            "-- Performing Test COMPILER_SUPPORT_Wwritestrings\n",
            "-- Performing Test COMPILER_SUPPORT_Wwritestrings - Success\n",
            "-- Performing Test COMPILER_SUPPORT_Wformatsecurity\n",
            "-- Performing Test COMPILER_SUPPORT_Wformatsecurity - Success\n",
            "-- Performing Test COMPILER_SUPPORT_Wshorten64to32\n",
            "-- Performing Test COMPILER_SUPPORT_Wshorten64to32 - Failed\n",
            "-- Performing Test COMPILER_SUPPORT_Wlogicalop\n",
            "-- Performing Test COMPILER_SUPPORT_Wlogicalop - Success\n",
            "-- Performing Test COMPILER_SUPPORT_Wenumconversion\n",
            "-- Performing Test COMPILER_SUPPORT_Wenumconversion - Failed\n",
            "-- Performing Test COMPILER_SUPPORT_Wcpp11extensions\n",
            "-- Performing Test COMPILER_SUPPORT_Wcpp11extensions - Failed\n",
            "-- Performing Test COMPILER_SUPPORT_Wdoublepromotion\n",
            "-- Performing Test COMPILER_SUPPORT_Wdoublepromotion - Success\n",
            "-- Performing Test COMPILER_SUPPORT_Wnopsabi\n",
            "-- Performing Test COMPILER_SUPPORT_Wnopsabi - Success\n",
            "-- Performing Test COMPILER_SUPPORT_Wnovariadicmacros\n",
            "-- Performing Test COMPILER_SUPPORT_Wnovariadicmacros - Success\n",
            "-- Performing Test COMPILER_SUPPORT_Wnolonglong\n",
            "-- Performing Test COMPILER_SUPPORT_Wnolonglong - Success\n",
            "-- Performing Test COMPILER_SUPPORT_fnochecknew\n",
            "-- Performing Test COMPILER_SUPPORT_fnochecknew - Success\n",
            "-- Performing Test COMPILER_SUPPORT_fnocommon\n",
            "-- Performing Test COMPILER_SUPPORT_fnocommon - Success\n",
            "-- Performing Test COMPILER_SUPPORT_fstrictaliasing\n",
            "-- Performing Test COMPILER_SUPPORT_fstrictaliasing - Success\n",
            "-- Performing Test COMPILER_SUPPORT_wd981\n",
            "-- Performing Test COMPILER_SUPPORT_wd981 - Failed\n",
            "-- Performing Test COMPILER_SUPPORT_wd2304\n",
            "-- Performing Test COMPILER_SUPPORT_wd2304 - Failed\n",
            "-- Performing Test COMPILER_SUPPORT_STRICTANSI\n",
            "-- Performing Test COMPILER_SUPPORT_STRICTANSI - Failed\n",
            "-- Performing Test COMPILER_SUPPORT_Qunusedarguments\n",
            "-- Performing Test COMPILER_SUPPORT_Qunusedarguments - Failed\n",
            "-- Performing Test COMPILER_SUPPORT_ansi\n",
            "-- Performing Test COMPILER_SUPPORT_ansi - Success\n",
            "-- Performing Test COMPILER_SUPPORT_OPENMP\n",
            "-- Performing Test COMPILER_SUPPORT_OPENMP - Success\n",
            "-- Performing Test EIGEN_COMPILER_SUPPORT_CPP11\n",
            "-- Performing Test EIGEN_COMPILER_SUPPORT_CPP11 - Success\n",
            "-- Found unsuitable Qt version \"5.9.5\" from /usr/bin/qmake\n",
            "-- The Fortran compiler identification is GNU 7.5.0\n",
            "-- Check for working Fortran compiler: /usr/bin/gfortran\n",
            "-- Check for working Fortran compiler: /usr/bin/gfortran  -- works\n",
            "-- Detecting Fortran compiler ABI info\n",
            "-- Detecting Fortran compiler ABI info - done\n",
            "-- Checking whether /usr/bin/gfortran supports Fortran 90\n",
            "-- Checking whether /usr/bin/gfortran supports Fortran 90 -- yes\n",
            "-- Found unsuitable Qt version \"5.9.5\" from /usr/bin/qmake\n",
            "-- Qt4 not found, so disabling the mandelbrot and opengl demos\n",
            "-- Could NOT find CHOLMOD (missing: CHOLMOD_INCLUDES CHOLMOD_LIBRARIES) \n",
            "-- Could NOT find UMFPACK (missing: UMFPACK_INCLUDES UMFPACK_LIBRARIES) \n",
            "-- Could NOT find SUPERLU (missing: SUPERLU_INCLUDES SUPERLU_LIBRARIES SUPERLU_VERSION_OK) \n",
            "-- A version of Pastix has been found but pastix_nompi.h does not exist in the include directory. Because Eigen tests require a version without MPI, we disable the Pastix backend.\n",
            "-- \n",
            "-- Configured Eigen 3.3.5\n",
            "-- \n",
            "-- Some things you can do now:\n",
            "-- --------------+--------------------------------------------------------------\n",
            "-- Command       |   Description\n",
            "-- --------------+--------------------------------------------------------------\n",
            "-- make install  | Install Eigen. Headers will be installed to:\n",
            "--               |     <CMAKE_INSTALL_PREFIX>/<INCLUDE_INSTALL_DIR>\n",
            "--               |   Using the following values:\n",
            "--               |     CMAKE_INSTALL_PREFIX: /root/.hunter/_Base/70287b1/02ccb06/dffbc08/Build/Eigen/Install\n",
            "--               |     INCLUDE_INSTALL_DIR:  include/eigen3\n",
            "--               |   Change the install location of Eigen headers using:\n",
            "--               |     cmake . -DCMAKE_INSTALL_PREFIX=yourprefix\n",
            "--               |   Or:\n",
            "--               |     cmake . -DINCLUDE_INSTALL_DIR=yourdir\n",
            "-- make doc      | Generate the API documentation, requires Doxygen & LaTeX\n",
            "-- make check    | Build and run the unit-tests. Read this page:\n",
            "--               |   http://eigen.tuxfamily.org/index.php?title=Tests\n",
            "-- make blas     | Build BLAS library (not the same thing as Eigen)\n",
            "-- make uninstall| Removes files installed by make install\n",
            "-- --------------+--------------------------------------------------------------\n",
            "-- \n",
            "-- Configuring done\n",
            "-- Generating done\n",
            "-- Build files have been written to: /root/.hunter/_Base/70287b1/02ccb06/dffbc08/Build/Eigen/Build/Eigen-Release-prefix/src/Eigen-Release-build\n",
            "[ 37%] Performing build step for 'Eigen-Release'\n",
            "[ 43%] Performing install step for 'Eigen-Release'\n",
            "Install the project...\n",
            "-- Install configuration: \"Release\"\n",
            "-- Installing: /root/.hunter/_Base/70287b1/02ccb06/dffbc08/Build/Eigen/Install/include/eigen3/signature_of_eigen3_matrix_library\n",
            "-- Installing: /root/.hunter/_Base/70287b1/02ccb06/dffbc08/Build/Eigen/Install/share/pkgconfig/eigen3.pc\n",
            "-- Installing: /root/.hunter/_Base/70287b1/02ccb06/dffbc08/Build/Eigen/Install/share/eigen3/cmake/Eigen3Targets.cmake\n",
            "-- Installing: /root/.hunter/_Base/70287b1/02ccb06/dffbc08/Build/Eigen/Install/share/eigen3/cmake/UseEigen3.cmake\n",
            "-- Installing: /root/.hunter/_Base/70287b1/02ccb06/dffbc08/Build/Eigen/Install/share/eigen3/cmake/Eigen3Config.cmake\n",
            "-- Installing: /root/.hunter/_Base/70287b1/02ccb06/dffbc08/Build/Eigen/Install/share/eigen3/cmake/Eigen3ConfigVersion.cmake\n",
            "-- Installing: /root/.hunter/_Base/70287b1/02ccb06/dffbc08/Build/Eigen/Install/include/eigen3/Eigen/Cholesky\n",
            "-- Installing: /root/.hunter/_Base/70287b1/02ccb06/dffbc08/Build/Eigen/Install/include/eigen3/Eigen/CholmodSupport\n",
            "-- Installing: /root/.hunter/_Base/70287b1/02ccb06/dffbc08/Build/Eigen/Install/include/eigen3/Eigen/Core\n",
            "-- Installing: /root/.hunter/_Base/70287b1/02ccb06/dffbc08/Build/Eigen/Install/include/eigen3/Eigen/Dense\n",
            "-- Installing: /root/.hunter/_Base/70287b1/02ccb06/dffbc08/Build/Eigen/Install/include/eigen3/Eigen/Eigen\n",
            "-- Installing: /root/.hunter/_Base/70287b1/02ccb06/dffbc08/Build/Eigen/Install/include/eigen3/Eigen/Eigenvalues\n",
            "-- Installing: /root/.hunter/_Base/70287b1/02ccb06/dffbc08/Build/Eigen/Install/include/eigen3/Eigen/Geometry\n",
            "-- Installing: /root/.hunter/_Base/70287b1/02ccb06/dffbc08/Build/Eigen/Install/include/eigen3/Eigen/Householder\n",
            "-- Installing: /root/.hunter/_Base/70287b1/02ccb06/dffbc08/Build/Eigen/Install/include/eigen3/Eigen/IterativeLinearSolvers\n",
            "-- Installing: /root/.hunter/_Base/70287b1/02ccb06/dffbc08/Build/Eigen/Install/include/eigen3/Eigen/Jacobi\n",
            "-- Installing: /root/.hunter/_Base/70287b1/02ccb06/dffbc08/Build/Eigen/Install/include/eigen3/Eigen/LU\n",
            "-- Installing: /root/.hunter/_Base/70287b1/02ccb06/dffbc08/Build/Eigen/Install/include/eigen3/Eigen/MetisSupport\n",
            "-- Installing: /root/.hunter/_Base/70287b1/02ccb06/dffbc08/Build/Eigen/Install/include/eigen3/Eigen/OrderingMethods\n",
            "-- Installing: /root/.hunter/_Base/70287b1/02ccb06/dffbc08/Build/Eigen/Install/include/eigen3/Eigen/PaStiXSupport\n",
            "-- Installing: /root/.hunter/_Base/70287b1/02ccb06/dffbc08/Build/Eigen/Install/include/eigen3/Eigen/PardisoSupport\n",
            "-- Installing: /root/.hunter/_Base/70287b1/02ccb06/dffbc08/Build/Eigen/Install/include/eigen3/Eigen/QR\n",
            "-- Installing: /root/.hunter/_Base/70287b1/02ccb06/dffbc08/Build/Eigen/Install/include/eigen3/Eigen/QtAlignedMalloc\n",
            "-- Installing: /root/.hunter/_Base/70287b1/02ccb06/dffbc08/Build/Eigen/Install/include/eigen3/Eigen/SPQRSupport\n",
            "-- Installing: /root/.hunter/_Base/70287b1/02ccb06/dffbc08/Build/Eigen/Install/include/eigen3/Eigen/SVD\n",
            "-- Installing: /root/.hunter/_Base/70287b1/02ccb06/dffbc08/Build/Eigen/Install/include/eigen3/Eigen/Sparse\n",
            "-- Installing: /root/.hunter/_Base/70287b1/02ccb06/dffbc08/Build/Eigen/Install/include/eigen3/Eigen/SparseCholesky\n",
            "-- Installing: /root/.hunter/_Base/70287b1/02ccb06/dffbc08/Build/Eigen/Install/include/eigen3/Eigen/SparseCore\n",
            "-- Installing: /root/.hunter/_Base/70287b1/02ccb06/dffbc08/Build/Eigen/Install/include/eigen3/Eigen/SparseLU\n",
            "-- Installing: /root/.hunter/_Base/70287b1/02ccb06/dffbc08/Build/Eigen/Install/include/eigen3/Eigen/SparseQR\n",
            "-- Installing: /root/.hunter/_Base/70287b1/02ccb06/dffbc08/Build/Eigen/Install/include/eigen3/Eigen/StdDeque\n",
            "-- Installing: /root/.hunter/_Base/70287b1/02ccb06/dffbc08/Build/Eigen/Install/include/eigen3/Eigen/StdList\n",
            "-- Installing: /root/.hunter/_Base/70287b1/02ccb06/dffbc08/Build/Eigen/Install/include/eigen3/Eigen/StdVector\n",
            "-- Installing: /root/.hunter/_Base/70287b1/02ccb06/dffbc08/Build/Eigen/Install/include/eigen3/Eigen/SuperLUSupport\n",
            "-- Installing: /root/.hunter/_Base/70287b1/02ccb06/dffbc08/Build/Eigen/Install/include/eigen3/Eigen/UmfPackSupport\n",
            "-- Installing: /root/.hunter/_Base/70287b1/02ccb06/dffbc08/Build/Eigen/Install/include/eigen3/Eigen/src\n",
            "-- Installing: /root/.hunter/_Base/70287b1/02ccb06/dffbc08/Build/Eigen/Install/include/eigen3/Eigen/src/SparseLU\n",
            "-- Installing: /root/.hunter/_Base/70287b1/02ccb06/dffbc08/Build/Eigen/Install/include/eigen3/Eigen/src/SparseLU/SparseLU_relax_snode.h\n",
            "-- Installing: /root/.hunter/_Base/70287b1/02ccb06/dffbc08/Build/Eigen/Install/include/eigen3/Eigen/src/SparseLU/SparseLU_gemm_kernel.h\n",
            "-- Installing: /root/.hunter/_Base/70287b1/02ccb06/dffbc08/Build/Eigen/Install/include/eigen3/Eigen/src/SparseLU/SparseLU_column_bmod.h\n",
            "-- Installing: /root/.hunter/_Base/70287b1/02ccb06/dffbc08/Build/Eigen/Install/include/eigen3/Eigen/src/SparseLU/SparseLUImpl.h\n",
            "-- Installing: /root/.hunter/_Base/70287b1/02ccb06/dffbc08/Build/Eigen/Install/include/eigen3/Eigen/src/SparseLU/SparseLU_heap_relax_snode.h\n",
            "-- Installing: /root/.hunter/_Base/70287b1/02ccb06/dffbc08/Build/Eigen/Install/include/eigen3/Eigen/src/SparseLU/SparseLU_Memory.h\n",
            "-- Installing: /root/.hunter/_Base/70287b1/02ccb06/dffbc08/Build/Eigen/Install/include/eigen3/Eigen/src/SparseLU/SparseLU_SupernodalMatrix.h\n",
            "-- Installing: /root/.hunter/_Base/70287b1/02ccb06/dffbc08/Build/Eigen/Install/include/eigen3/Eigen/src/SparseLU/SparseLU_pruneL.h\n",
            "-- Installing: /root/.hunter/_Base/70287b1/02ccb06/dffbc08/Build/Eigen/Install/include/eigen3/Eigen/src/SparseLU/SparseLU_copy_to_ucol.h\n",
            "-- Installing: /root/.hunter/_Base/70287b1/02ccb06/dffbc08/Build/Eigen/Install/include/eigen3/Eigen/src/SparseLU/SparseLU_panel_dfs.h\n",
            "-- Installing: /root/.hunter/_Base/70287b1/02ccb06/dffbc08/Build/Eigen/Install/include/eigen3/Eigen/src/SparseLU/SparseLU_panel_bmod.h\n",
            "-- Installing: /root/.hunter/_Base/70287b1/02ccb06/dffbc08/Build/Eigen/Install/include/eigen3/Eigen/src/SparseLU/SparseLU_kernel_bmod.h\n",
            "-- Installing: /root/.hunter/_Base/70287b1/02ccb06/dffbc08/Build/Eigen/Install/include/eigen3/Eigen/src/SparseLU/SparseLU_Utils.h\n",
            "-- Installing: /root/.hunter/_Base/70287b1/02ccb06/dffbc08/Build/Eigen/Install/include/eigen3/Eigen/src/SparseLU/SparseLU.h\n",
            "-- Installing: /root/.hunter/_Base/70287b1/02ccb06/dffbc08/Build/Eigen/Install/include/eigen3/Eigen/src/SparseLU/SparseLU_column_dfs.h\n",
            "-- Installing: /root/.hunter/_Base/70287b1/02ccb06/dffbc08/Build/Eigen/Install/include/eigen3/Eigen/src/SparseLU/SparseLU_pivotL.h\n",
            "-- Installing: /root/.hunter/_Base/70287b1/02ccb06/dffbc08/Build/Eigen/Install/include/eigen3/Eigen/src/SparseLU/SparseLU_Structs.h\n",
            "-- Installing: /root/.hunter/_Base/70287b1/02ccb06/dffbc08/Build/Eigen/Install/include/eigen3/Eigen/src/CholmodSupport\n",
            "-- Installing: /root/.hunter/_Base/70287b1/02ccb06/dffbc08/Build/Eigen/Install/include/eigen3/Eigen/src/CholmodSupport/CholmodSupport.h\n",
            "-- Installing: /root/.hunter/_Base/70287b1/02ccb06/dffbc08/Build/Eigen/Install/include/eigen3/Eigen/src/StlSupport\n",
            "-- Installing: /root/.hunter/_Base/70287b1/02ccb06/dffbc08/Build/Eigen/Install/include/eigen3/Eigen/src/StlSupport/StdDeque.h\n",
            "-- Installing: /root/.hunter/_Base/70287b1/02ccb06/dffbc08/Build/Eigen/Install/include/eigen3/Eigen/src/StlSupport/StdVector.h\n",
            "-- Installing: /root/.hunter/_Base/70287b1/02ccb06/dffbc08/Build/Eigen/Install/include/eigen3/Eigen/src/StlSupport/StdList.h\n",
            "-- Installing: /root/.hunter/_Base/70287b1/02ccb06/dffbc08/Build/Eigen/Install/include/eigen3/Eigen/src/StlSupport/details.h\n",
            "-- Installing: /root/.hunter/_Base/70287b1/02ccb06/dffbc08/Build/Eigen/Install/include/eigen3/Eigen/src/Core\n",
            "-- Installing: /root/.hunter/_Base/70287b1/02ccb06/dffbc08/Build/Eigen/Install/include/eigen3/Eigen/src/Core/GlobalFunctions.h\n",
            "-- Installing: /root/.hunter/_Base/70287b1/02ccb06/dffbc08/Build/Eigen/Install/include/eigen3/Eigen/src/Core/IO.h\n",
            "-- Installing: /root/.hunter/_Base/70287b1/02ccb06/dffbc08/Build/Eigen/Install/include/eigen3/Eigen/src/Core/MatrixBase.h\n",
            "-- Installing: /root/.hunter/_Base/70287b1/02ccb06/dffbc08/Build/Eigen/Install/include/eigen3/Eigen/src/Core/MapBase.h\n",
            "-- Installing: /root/.hunter/_Base/70287b1/02ccb06/dffbc08/Build/Eigen/Install/include/eigen3/Eigen/src/Core/DiagonalProduct.h\n",
            "-- Installing: /root/.hunter/_Base/70287b1/02ccb06/dffbc08/Build/Eigen/Install/include/eigen3/Eigen/src/Core/DiagonalMatrix.h\n",
            "-- Installing: /root/.hunter/_Base/70287b1/02ccb06/dffbc08/Build/Eigen/Install/include/eigen3/Eigen/src/Core/ArrayBase.h\n",
            "-- Installing: /root/.hunter/_Base/70287b1/02ccb06/dffbc08/Build/Eigen/Install/include/eigen3/Eigen/src/Core/Block.h\n",
            "-- Installing: /root/.hunter/_Base/70287b1/02ccb06/dffbc08/Build/Eigen/Install/include/eigen3/Eigen/src/Core/DenseCoeffsBase.h\n",
            "-- Installing: /root/.hunter/_Base/70287b1/02ccb06/dffbc08/Build/Eigen/Install/include/eigen3/Eigen/src/Core/util\n",
            "-- Installing: /root/.hunter/_Base/70287b1/02ccb06/dffbc08/Build/Eigen/Install/include/eigen3/Eigen/src/Core/util/ReenableStupidWarnings.h\n",
            "-- Installing: /root/.hunter/_Base/70287b1/02ccb06/dffbc08/Build/Eigen/Install/include/eigen3/Eigen/src/Core/util/ForwardDeclarations.h\n",
            "-- Installing: /root/.hunter/_Base/70287b1/02ccb06/dffbc08/Build/Eigen/Install/include/eigen3/Eigen/src/Core/util/NonMPL2.h\n",
            "-- Installing: /root/.hunter/_Base/70287b1/02ccb06/dffbc08/Build/Eigen/Install/include/eigen3/Eigen/src/Core/util/DisableStupidWarnings.h\n",
            "-- Installing: /root/.hunter/_Base/70287b1/02ccb06/dffbc08/Build/Eigen/Install/include/eigen3/Eigen/src/Core/util/StaticAssert.h\n",
            "-- Installing: /root/.hunter/_Base/70287b1/02ccb06/dffbc08/Build/Eigen/Install/include/eigen3/Eigen/src/Core/util/MKL_support.h\n",
            "-- Installing: /root/.hunter/_Base/70287b1/02ccb06/dffbc08/Build/Eigen/Install/include/eigen3/Eigen/src/Core/util/Constants.h\n",
            "-- Installing: /root/.hunter/_Base/70287b1/02ccb06/dffbc08/Build/Eigen/Install/include/eigen3/Eigen/src/Core/util/Memory.h\n",
            "-- Installing: /root/.hunter/_Base/70287b1/02ccb06/dffbc08/Build/Eigen/Install/include/eigen3/Eigen/src/Core/util/BlasUtil.h\n",
            "-- Installing: /root/.hunter/_Base/70287b1/02ccb06/dffbc08/Build/Eigen/Install/include/eigen3/Eigen/src/Core/util/Macros.h\n",
            "-- Installing: /root/.hunter/_Base/70287b1/02ccb06/dffbc08/Build/Eigen/Install/include/eigen3/Eigen/src/Core/util/XprHelper.h\n",
            "-- Installing: /root/.hunter/_Base/70287b1/02ccb06/dffbc08/Build/Eigen/Install/include/eigen3/Eigen/src/Core/util/Meta.h\n",
            "-- Installing: /root/.hunter/_Base/70287b1/02ccb06/dffbc08/Build/Eigen/Install/include/eigen3/Eigen/src/Core/Stride.h\n",
            "-- Installing: /root/.hunter/_Base/70287b1/02ccb06/dffbc08/Build/Eigen/Install/include/eigen3/Eigen/src/Core/VectorBlock.h\n",
            "-- Installing: /root/.hunter/_Base/70287b1/02ccb06/dffbc08/Build/Eigen/Install/include/eigen3/Eigen/src/Core/SelfAdjointView.h\n",
            "-- Installing: /root/.hunter/_Base/70287b1/02ccb06/dffbc08/Build/Eigen/Install/include/eigen3/Eigen/src/Core/Diagonal.h\n",
            "-- Installing: /root/.hunter/_Base/70287b1/02ccb06/dffbc08/Build/Eigen/Install/include/eigen3/Eigen/src/Core/BooleanRedux.h\n",
            "-- Installing: /root/.hunter/_Base/70287b1/02ccb06/dffbc08/Build/Eigen/Install/include/eigen3/Eigen/src/Core/CwiseBinaryOp.h\n",
            "-- Installing: /root/.hunter/_Base/70287b1/02ccb06/dffbc08/Build/Eigen/Install/include/eigen3/Eigen/src/Core/functors\n",
            "-- Installing: /root/.hunter/_Base/70287b1/02ccb06/dffbc08/Build/Eigen/Install/include/eigen3/Eigen/src/Core/functors/NullaryFunctors.h\n",
            "-- Installing: /root/.hunter/_Base/70287b1/02ccb06/dffbc08/Build/Eigen/Install/include/eigen3/Eigen/src/Core/functors/AssignmentFunctors.h\n",
            "-- Installing: /root/.hunter/_Base/70287b1/02ccb06/dffbc08/Build/Eigen/Install/include/eigen3/Eigen/src/Core/functors/UnaryFunctors.h\n",
            "-- Installing: /root/.hunter/_Base/70287b1/02ccb06/dffbc08/Build/Eigen/Install/include/eigen3/Eigen/src/Core/functors/StlFunctors.h\n",
            "-- Installing: /root/.hunter/_Base/70287b1/02ccb06/dffbc08/Build/Eigen/Install/include/eigen3/Eigen/src/Core/functors/TernaryFunctors.h\n",
            "-- Installing: /root/.hunter/_Base/70287b1/02ccb06/dffbc08/Build/Eigen/Install/include/eigen3/Eigen/src/Core/functors/BinaryFunctors.h\n",
            "-- Installing: /root/.hunter/_Base/70287b1/02ccb06/dffbc08/Build/Eigen/Install/include/eigen3/Eigen/src/Core/DenseBase.h\n",
            "-- Installing: /root/.hunter/_Base/70287b1/02ccb06/dffbc08/Build/Eigen/Install/include/eigen3/Eigen/src/Core/StableNorm.h\n",
            "-- Installing: /root/.hunter/_Base/70287b1/02ccb06/dffbc08/Build/Eigen/Install/include/eigen3/Eigen/src/Core/VectorwiseOp.h\n",
            "-- Installing: /root/.hunter/_Base/70287b1/02ccb06/dffbc08/Build/Eigen/Install/include/eigen3/Eigen/src/Core/Map.h\n",
            "-- Installing: /root/.hunter/_Base/70287b1/02ccb06/dffbc08/Build/Eigen/Install/include/eigen3/Eigen/src/Core/products\n",
            "-- Installing: /root/.hunter/_Base/70287b1/02ccb06/dffbc08/Build/Eigen/Install/include/eigen3/Eigen/src/Core/products/GeneralMatrixVector_BLAS.h\n",
            "-- Installing: /root/.hunter/_Base/70287b1/02ccb06/dffbc08/Build/Eigen/Install/include/eigen3/Eigen/src/Core/products/SelfadjointMatrixVector.h\n",
            "-- Installing: /root/.hunter/_Base/70287b1/02ccb06/dffbc08/Build/Eigen/Install/include/eigen3/Eigen/src/Core/products/TriangularMatrixMatrix_BLAS.h\n",
            "-- Installing: /root/.hunter/_Base/70287b1/02ccb06/dffbc08/Build/Eigen/Install/include/eigen3/Eigen/src/Core/products/SelfadjointMatrixMatrix_BLAS.h\n",
            "-- Installing: /root/.hunter/_Base/70287b1/02ccb06/dffbc08/Build/Eigen/Install/include/eigen3/Eigen/src/Core/products/TriangularSolverMatrix.h\n",
            "-- Installing: /root/.hunter/_Base/70287b1/02ccb06/dffbc08/Build/Eigen/Install/include/eigen3/Eigen/src/Core/products/GeneralMatrixMatrix.h\n",
            "-- Installing: /root/.hunter/_Base/70287b1/02ccb06/dffbc08/Build/Eigen/Install/include/eigen3/Eigen/src/Core/products/GeneralMatrixMatrix_BLAS.h\n",
            "-- Installing: /root/.hunter/_Base/70287b1/02ccb06/dffbc08/Build/Eigen/Install/include/eigen3/Eigen/src/Core/products/GeneralMatrixMatrixTriangular.h\n",
            "-- Installing: /root/.hunter/_Base/70287b1/02ccb06/dffbc08/Build/Eigen/Install/include/eigen3/Eigen/src/Core/products/TriangularMatrixVector.h\n",
            "-- Installing: /root/.hunter/_Base/70287b1/02ccb06/dffbc08/Build/Eigen/Install/include/eigen3/Eigen/src/Core/products/GeneralBlockPanelKernel.h\n",
            "-- Installing: /root/.hunter/_Base/70287b1/02ccb06/dffbc08/Build/Eigen/Install/include/eigen3/Eigen/src/Core/products/TriangularMatrixMatrix.h\n",
            "-- Installing: /root/.hunter/_Base/70287b1/02ccb06/dffbc08/Build/Eigen/Install/include/eigen3/Eigen/src/Core/products/SelfadjointMatrixVector_BLAS.h\n",
            "-- Installing: /root/.hunter/_Base/70287b1/02ccb06/dffbc08/Build/Eigen/Install/include/eigen3/Eigen/src/Core/products/SelfadjointProduct.h\n",
            "-- Installing: /root/.hunter/_Base/70287b1/02ccb06/dffbc08/Build/Eigen/Install/include/eigen3/Eigen/src/Core/products/SelfadjointRank2Update.h\n",
            "-- Installing: /root/.hunter/_Base/70287b1/02ccb06/dffbc08/Build/Eigen/Install/include/eigen3/Eigen/src/Core/products/TriangularSolverVector.h\n",
            "-- Installing: /root/.hunter/_Base/70287b1/02ccb06/dffbc08/Build/Eigen/Install/include/eigen3/Eigen/src/Core/products/GeneralMatrixMatrixTriangular_BLAS.h\n",
            "-- Installing: /root/.hunter/_Base/70287b1/02ccb06/dffbc08/Build/Eigen/Install/include/eigen3/Eigen/src/Core/products/TriangularMatrixVector_BLAS.h\n",
            "-- Installing: /root/.hunter/_Base/70287b1/02ccb06/dffbc08/Build/Eigen/Install/include/eigen3/Eigen/src/Core/products/SelfadjointMatrixMatrix.h\n",
            "-- Installing: /root/.hunter/_Base/70287b1/02ccb06/dffbc08/Build/Eigen/Install/include/eigen3/Eigen/src/Core/products/GeneralMatrixVector.h\n",
            "-- Installing: /root/.hunter/_Base/70287b1/02ccb06/dffbc08/Build/Eigen/Install/include/eigen3/Eigen/src/Core/products/Parallelizer.h\n",
            "-- Installing: /root/.hunter/_Base/70287b1/02ccb06/dffbc08/Build/Eigen/Install/include/eigen3/Eigen/src/Core/products/TriangularSolverMatrix_BLAS.h\n",
            "-- Installing: /root/.hunter/_Base/70287b1/02ccb06/dffbc08/Build/Eigen/Install/include/eigen3/Eigen/src/Core/Redux.h\n",
            "-- Installing: /root/.hunter/_Base/70287b1/02ccb06/dffbc08/Build/Eigen/Install/include/eigen3/Eigen/src/Core/CommaInitializer.h\n",
            "-- Installing: /root/.hunter/_Base/70287b1/02ccb06/dffbc08/Build/Eigen/Install/include/eigen3/Eigen/src/Core/Replicate.h\n",
            "-- Installing: /root/.hunter/_Base/70287b1/02ccb06/dffbc08/Build/Eigen/Install/include/eigen3/Eigen/src/Core/Assign.h\n",
            "-- Installing: /root/.hunter/_Base/70287b1/02ccb06/dffbc08/Build/Eigen/Install/include/eigen3/Eigen/src/Core/Array.h\n",
            "-- Installing: /root/.hunter/_Base/70287b1/02ccb06/dffbc08/Build/Eigen/Install/include/eigen3/Eigen/src/Core/Inverse.h\n",
            "-- Installing: /root/.hunter/_Base/70287b1/02ccb06/dffbc08/Build/Eigen/Install/include/eigen3/Eigen/src/Core/CwiseNullaryOp.h\n",
            "-- Installing: /root/.hunter/_Base/70287b1/02ccb06/dffbc08/Build/Eigen/Install/include/eigen3/Eigen/src/Core/BandMatrix.h\n",
            "-- Installing: /root/.hunter/_Base/70287b1/02ccb06/dffbc08/Build/Eigen/Install/include/eigen3/Eigen/src/Core/Transpositions.h\n",
            "-- Installing: /root/.hunter/_Base/70287b1/02ccb06/dffbc08/Build/Eigen/Install/include/eigen3/Eigen/src/Core/Swap.h\n",
            "-- Installing: /root/.hunter/_Base/70287b1/02ccb06/dffbc08/Build/Eigen/Install/include/eigen3/Eigen/src/Core/ConditionEstimator.h\n",
            "-- Installing: /root/.hunter/_Base/70287b1/02ccb06/dffbc08/Build/Eigen/Install/include/eigen3/Eigen/src/Core/CoreEvaluators.h\n",
            "-- Installing: /root/.hunter/_Base/70287b1/02ccb06/dffbc08/Build/Eigen/Install/include/eigen3/Eigen/src/Core/AssignEvaluator.h\n",
            "-- Installing: /root/.hunter/_Base/70287b1/02ccb06/dffbc08/Build/Eigen/Install/include/eigen3/Eigen/src/Core/ForceAlignedAccess.h\n",
            "-- Installing: /root/.hunter/_Base/70287b1/02ccb06/dffbc08/Build/Eigen/Install/include/eigen3/Eigen/src/Core/GeneralProduct.h\n",
            "-- Installing: /root/.hunter/_Base/70287b1/02ccb06/dffbc08/Build/Eigen/Install/include/eigen3/Eigen/src/Core/Fuzzy.h\n",
            "-- Installing: /root/.hunter/_Base/70287b1/02ccb06/dffbc08/Build/Eigen/Install/include/eigen3/Eigen/src/Core/MathFunctionsImpl.h\n",
            "-- Installing: /root/.hunter/_Base/70287b1/02ccb06/dffbc08/Build/Eigen/Install/include/eigen3/Eigen/src/Core/Assign_MKL.h\n",
            "-- Installing: /root/.hunter/_Base/70287b1/02ccb06/dffbc08/Build/Eigen/Install/include/eigen3/Eigen/src/Core/Random.h\n",
            "-- Installing: /root/.hunter/_Base/70287b1/02ccb06/dffbc08/Build/Eigen/Install/include/eigen3/Eigen/src/Core/CwiseUnaryOp.h\n",
            "-- Installing: /root/.hunter/_Base/70287b1/02ccb06/dffbc08/Build/Eigen/Install/include/eigen3/Eigen/src/Core/ReturnByValue.h\n",
            "-- Installing: /root/.hunter/_Base/70287b1/02ccb06/dffbc08/Build/Eigen/Install/include/eigen3/Eigen/src/Core/MathFunctions.h\n",
            "-- Installing: /root/.hunter/_Base/70287b1/02ccb06/dffbc08/Build/Eigen/Install/include/eigen3/Eigen/src/Core/NoAlias.h\n",
            "-- Installing: /root/.hunter/_Base/70287b1/02ccb06/dffbc08/Build/Eigen/Install/include/eigen3/Eigen/src/Core/NestByValue.h\n",
            "-- Installing: /root/.hunter/_Base/70287b1/02ccb06/dffbc08/Build/Eigen/Install/include/eigen3/Eigen/src/Core/Ref.h\n",
            "-- Installing: /root/.hunter/_Base/70287b1/02ccb06/dffbc08/Build/Eigen/Install/include/eigen3/Eigen/src/Core/ArrayWrapper.h\n",
            "-- Installing: /root/.hunter/_Base/70287b1/02ccb06/dffbc08/Build/Eigen/Install/include/eigen3/Eigen/src/Core/Dot.h\n",
            "-- Installing: /root/.hunter/_Base/70287b1/02ccb06/dffbc08/Build/Eigen/Install/include/eigen3/Eigen/src/Core/EigenBase.h\n",
            "-- Installing: /root/.hunter/_Base/70287b1/02ccb06/dffbc08/Build/Eigen/Install/include/eigen3/Eigen/src/Core/SolverBase.h\n",
            "-- Installing: /root/.hunter/_Base/70287b1/02ccb06/dffbc08/Build/Eigen/Install/include/eigen3/Eigen/src/Core/TriangularMatrix.h\n",
            "-- Installing: /root/.hunter/_Base/70287b1/02ccb06/dffbc08/Build/Eigen/Install/include/eigen3/Eigen/src/Core/Product.h\n",
            "-- Installing: /root/.hunter/_Base/70287b1/02ccb06/dffbc08/Build/Eigen/Install/include/eigen3/Eigen/src/Core/CoreIterators.h\n",
            "-- Installing: /root/.hunter/_Base/70287b1/02ccb06/dffbc08/Build/Eigen/Install/include/eigen3/Eigen/src/Core/Matrix.h\n",
            "-- Installing: /root/.hunter/_Base/70287b1/02ccb06/dffbc08/Build/Eigen/Install/include/eigen3/Eigen/src/Core/SolveTriangular.h\n",
            "-- Installing: /root/.hunter/_Base/70287b1/02ccb06/dffbc08/Build/Eigen/Install/include/eigen3/Eigen/src/Core/PlainObjectBase.h\n",
            "-- Installing: /root/.hunter/_Base/70287b1/02ccb06/dffbc08/Build/Eigen/Install/include/eigen3/Eigen/src/Core/PermutationMatrix.h\n",
            "-- Installing: /root/.hunter/_Base/70287b1/02ccb06/dffbc08/Build/Eigen/Install/include/eigen3/Eigen/src/Core/CwiseUnaryView.h\n",
            "-- Installing: /root/.hunter/_Base/70287b1/02ccb06/dffbc08/Build/Eigen/Install/include/eigen3/Eigen/src/Core/Select.h\n",
            "-- Installing: /root/.hunter/_Base/70287b1/02ccb06/dffbc08/Build/Eigen/Install/include/eigen3/Eigen/src/Core/Visitor.h\n",
            "-- Installing: /root/.hunter/_Base/70287b1/02ccb06/dffbc08/Build/Eigen/Install/include/eigen3/Eigen/src/Core/CwiseTernaryOp.h\n",
            "-- Installing: /root/.hunter/_Base/70287b1/02ccb06/dffbc08/Build/Eigen/Install/include/eigen3/Eigen/src/Core/Solve.h\n",
            "-- Installing: /root/.hunter/_Base/70287b1/02ccb06/dffbc08/Build/Eigen/Install/include/eigen3/Eigen/src/Core/DenseStorage.h\n",
            "-- Installing: /root/.hunter/_Base/70287b1/02ccb06/dffbc08/Build/Eigen/Install/include/eigen3/Eigen/src/Core/GenericPacketMath.h\n",
            "-- Installing: /root/.hunter/_Base/70287b1/02ccb06/dffbc08/Build/Eigen/Install/include/eigen3/Eigen/src/Core/SelfCwiseBinaryOp.h\n",
            "-- Installing: /root/.hunter/_Base/70287b1/02ccb06/dffbc08/Build/Eigen/Install/include/eigen3/Eigen/src/Core/Transpose.h\n",
            "-- Installing: /root/.hunter/_Base/70287b1/02ccb06/dffbc08/Build/Eigen/Install/include/eigen3/Eigen/src/Core/Reverse.h\n",
            "-- Installing: /root/.hunter/_Base/70287b1/02ccb06/dffbc08/Build/Eigen/Install/include/eigen3/Eigen/src/Core/arch\n",
            "-- Installing: /root/.hunter/_Base/70287b1/02ccb06/dffbc08/Build/Eigen/Install/include/eigen3/Eigen/src/Core/arch/CUDA\n",
            "-- Installing: /root/.hunter/_Base/70287b1/02ccb06/dffbc08/Build/Eigen/Install/include/eigen3/Eigen/src/Core/arch/CUDA/PacketMathHalf.h\n",
            "-- Installing: /root/.hunter/_Base/70287b1/02ccb06/dffbc08/Build/Eigen/Install/include/eigen3/Eigen/src/Core/arch/CUDA/TypeCasting.h\n",
            "-- Installing: /root/.hunter/_Base/70287b1/02ccb06/dffbc08/Build/Eigen/Install/include/eigen3/Eigen/src/Core/arch/CUDA/Complex.h\n",
            "-- Installing: /root/.hunter/_Base/70287b1/02ccb06/dffbc08/Build/Eigen/Install/include/eigen3/Eigen/src/Core/arch/CUDA/MathFunctions.h\n",
            "-- Installing: /root/.hunter/_Base/70287b1/02ccb06/dffbc08/Build/Eigen/Install/include/eigen3/Eigen/src/Core/arch/CUDA/PacketMath.h\n",
            "-- Installing: /root/.hunter/_Base/70287b1/02ccb06/dffbc08/Build/Eigen/Install/include/eigen3/Eigen/src/Core/arch/CUDA/Half.h\n",
            "-- Installing: /root/.hunter/_Base/70287b1/02ccb06/dffbc08/Build/Eigen/Install/include/eigen3/Eigen/src/Core/arch/SSE\n",
            "-- Installing: /root/.hunter/_Base/70287b1/02ccb06/dffbc08/Build/Eigen/Install/include/eigen3/Eigen/src/Core/arch/SSE/TypeCasting.h\n",
            "-- Installing: /root/.hunter/_Base/70287b1/02ccb06/dffbc08/Build/Eigen/Install/include/eigen3/Eigen/src/Core/arch/SSE/Complex.h\n",
            "-- Installing: /root/.hunter/_Base/70287b1/02ccb06/dffbc08/Build/Eigen/Install/include/eigen3/Eigen/src/Core/arch/SSE/MathFunctions.h\n",
            "-- Installing: /root/.hunter/_Base/70287b1/02ccb06/dffbc08/Build/Eigen/Install/include/eigen3/Eigen/src/Core/arch/SSE/PacketMath.h\n",
            "-- Installing: /root/.hunter/_Base/70287b1/02ccb06/dffbc08/Build/Eigen/Install/include/eigen3/Eigen/src/Core/arch/ZVector\n",
            "-- Installing: /root/.hunter/_Base/70287b1/02ccb06/dffbc08/Build/Eigen/Install/include/eigen3/Eigen/src/Core/arch/ZVector/Complex.h\n",
            "-- Installing: /root/.hunter/_Base/70287b1/02ccb06/dffbc08/Build/Eigen/Install/include/eigen3/Eigen/src/Core/arch/ZVector/MathFunctions.h\n",
            "-- Installing: /root/.hunter/_Base/70287b1/02ccb06/dffbc08/Build/Eigen/Install/include/eigen3/Eigen/src/Core/arch/ZVector/PacketMath.h\n",
            "-- Installing: /root/.hunter/_Base/70287b1/02ccb06/dffbc08/Build/Eigen/Install/include/eigen3/Eigen/src/Core/arch/Default\n",
            "-- Installing: /root/.hunter/_Base/70287b1/02ccb06/dffbc08/Build/Eigen/Install/include/eigen3/Eigen/src/Core/arch/Default/Settings.h\n",
            "-- Installing: /root/.hunter/_Base/70287b1/02ccb06/dffbc08/Build/Eigen/Install/include/eigen3/Eigen/src/Core/arch/Default/ConjHelper.h\n",
            "-- Installing: /root/.hunter/_Base/70287b1/02ccb06/dffbc08/Build/Eigen/Install/include/eigen3/Eigen/src/Core/arch/NEON\n",
            "-- Installing: /root/.hunter/_Base/70287b1/02ccb06/dffbc08/Build/Eigen/Install/include/eigen3/Eigen/src/Core/arch/NEON/Complex.h\n",
            "-- Installing: /root/.hunter/_Base/70287b1/02ccb06/dffbc08/Build/Eigen/Install/include/eigen3/Eigen/src/Core/arch/NEON/MathFunctions.h\n",
            "-- Installing: /root/.hunter/_Base/70287b1/02ccb06/dffbc08/Build/Eigen/Install/include/eigen3/Eigen/src/Core/arch/NEON/PacketMath.h\n",
            "-- Installing: /root/.hunter/_Base/70287b1/02ccb06/dffbc08/Build/Eigen/Install/include/eigen3/Eigen/src/Core/arch/AVX\n",
            "-- Installing: /root/.hunter/_Base/70287b1/02ccb06/dffbc08/Build/Eigen/Install/include/eigen3/Eigen/src/Core/arch/AVX/TypeCasting.h\n",
            "-- Installing: /root/.hunter/_Base/70287b1/02ccb06/dffbc08/Build/Eigen/Install/include/eigen3/Eigen/src/Core/arch/AVX/Complex.h\n",
            "-- Installing: /root/.hunter/_Base/70287b1/02ccb06/dffbc08/Build/Eigen/Install/include/eigen3/Eigen/src/Core/arch/AVX/MathFunctions.h\n",
            "-- Installing: /root/.hunter/_Base/70287b1/02ccb06/dffbc08/Build/Eigen/Install/include/eigen3/Eigen/src/Core/arch/AVX/PacketMath.h\n",
            "-- Installing: /root/.hunter/_Base/70287b1/02ccb06/dffbc08/Build/Eigen/Install/include/eigen3/Eigen/src/Core/arch/AVX512\n",
            "-- Installing: /root/.hunter/_Base/70287b1/02ccb06/dffbc08/Build/Eigen/Install/include/eigen3/Eigen/src/Core/arch/AVX512/MathFunctions.h\n",
            "-- Installing: /root/.hunter/_Base/70287b1/02ccb06/dffbc08/Build/Eigen/Install/include/eigen3/Eigen/src/Core/arch/AVX512/PacketMath.h\n",
            "-- Installing: /root/.hunter/_Base/70287b1/02ccb06/dffbc08/Build/Eigen/Install/include/eigen3/Eigen/src/Core/arch/AltiVec\n",
            "-- Installing: /root/.hunter/_Base/70287b1/02ccb06/dffbc08/Build/Eigen/Install/include/eigen3/Eigen/src/Core/arch/AltiVec/Complex.h\n",
            "-- Installing: /root/.hunter/_Base/70287b1/02ccb06/dffbc08/Build/Eigen/Install/include/eigen3/Eigen/src/Core/arch/AltiVec/MathFunctions.h\n",
            "-- Installing: /root/.hunter/_Base/70287b1/02ccb06/dffbc08/Build/Eigen/Install/include/eigen3/Eigen/src/Core/arch/AltiVec/PacketMath.h\n",
            "-- Installing: /root/.hunter/_Base/70287b1/02ccb06/dffbc08/Build/Eigen/Install/include/eigen3/Eigen/src/Core/ProductEvaluators.h\n",
            "-- Installing: /root/.hunter/_Base/70287b1/02ccb06/dffbc08/Build/Eigen/Install/include/eigen3/Eigen/src/Core/NumTraits.h\n",
            "-- Installing: /root/.hunter/_Base/70287b1/02ccb06/dffbc08/Build/Eigen/Install/include/eigen3/Eigen/src/IterativeLinearSolvers\n",
            "-- Installing: /root/.hunter/_Base/70287b1/02ccb06/dffbc08/Build/Eigen/Install/include/eigen3/Eigen/src/IterativeLinearSolvers/BiCGSTAB.h\n",
            "-- Installing: /root/.hunter/_Base/70287b1/02ccb06/dffbc08/Build/Eigen/Install/include/eigen3/Eigen/src/IterativeLinearSolvers/IncompleteLUT.h\n",
            "-- Installing: /root/.hunter/_Base/70287b1/02ccb06/dffbc08/Build/Eigen/Install/include/eigen3/Eigen/src/IterativeLinearSolvers/ConjugateGradient.h\n",
            "-- Installing: /root/.hunter/_Base/70287b1/02ccb06/dffbc08/Build/Eigen/Install/include/eigen3/Eigen/src/IterativeLinearSolvers/SolveWithGuess.h\n",
            "-- Installing: /root/.hunter/_Base/70287b1/02ccb06/dffbc08/Build/Eigen/Install/include/eigen3/Eigen/src/IterativeLinearSolvers/IterativeSolverBase.h\n",
            "-- Installing: /root/.hunter/_Base/70287b1/02ccb06/dffbc08/Build/Eigen/Install/include/eigen3/Eigen/src/IterativeLinearSolvers/LeastSquareConjugateGradient.h\n",
            "-- Installing: /root/.hunter/_Base/70287b1/02ccb06/dffbc08/Build/Eigen/Install/include/eigen3/Eigen/src/IterativeLinearSolvers/BasicPreconditioners.h\n",
            "-- Installing: /root/.hunter/_Base/70287b1/02ccb06/dffbc08/Build/Eigen/Install/include/eigen3/Eigen/src/IterativeLinearSolvers/IncompleteCholesky.h\n",
            "-- Installing: /root/.hunter/_Base/70287b1/02ccb06/dffbc08/Build/Eigen/Install/include/eigen3/Eigen/src/OrderingMethods\n",
            "-- Installing: /root/.hunter/_Base/70287b1/02ccb06/dffbc08/Build/Eigen/Install/include/eigen3/Eigen/src/OrderingMethods/Eigen_Colamd.h\n",
            "-- Installing: /root/.hunter/_Base/70287b1/02ccb06/dffbc08/Build/Eigen/Install/include/eigen3/Eigen/src/OrderingMethods/Ordering.h\n",
            "-- Installing: /root/.hunter/_Base/70287b1/02ccb06/dffbc08/Build/Eigen/Install/include/eigen3/Eigen/src/OrderingMethods/Amd.h\n",
            "-- Installing: /root/.hunter/_Base/70287b1/02ccb06/dffbc08/Build/Eigen/Install/include/eigen3/Eigen/src/Householder\n",
            "-- Installing: /root/.hunter/_Base/70287b1/02ccb06/dffbc08/Build/Eigen/Install/include/eigen3/Eigen/src/Householder/HouseholderSequence.h\n",
            "-- Installing: /root/.hunter/_Base/70287b1/02ccb06/dffbc08/Build/Eigen/Install/include/eigen3/Eigen/src/Householder/BlockHouseholder.h\n",
            "-- Installing: /root/.hunter/_Base/70287b1/02ccb06/dffbc08/Build/Eigen/Install/include/eigen3/Eigen/src/Householder/Householder.h\n",
            "-- Installing: /root/.hunter/_Base/70287b1/02ccb06/dffbc08/Build/Eigen/Install/include/eigen3/Eigen/src/SPQRSupport\n",
            "-- Installing: /root/.hunter/_Base/70287b1/02ccb06/dffbc08/Build/Eigen/Install/include/eigen3/Eigen/src/SPQRSupport/SuiteSparseQRSupport.h\n",
            "-- Installing: /root/.hunter/_Base/70287b1/02ccb06/dffbc08/Build/Eigen/Install/include/eigen3/Eigen/src/SparseQR\n",
            "-- Installing: /root/.hunter/_Base/70287b1/02ccb06/dffbc08/Build/Eigen/Install/include/eigen3/Eigen/src/SparseQR/SparseQR.h\n",
            "-- Installing: /root/.hunter/_Base/70287b1/02ccb06/dffbc08/Build/Eigen/Install/include/eigen3/Eigen/src/Geometry\n",
            "-- Installing: /root/.hunter/_Base/70287b1/02ccb06/dffbc08/Build/Eigen/Install/include/eigen3/Eigen/src/Geometry/AlignedBox.h\n",
            "-- Installing: /root/.hunter/_Base/70287b1/02ccb06/dffbc08/Build/Eigen/Install/include/eigen3/Eigen/src/Geometry/ParametrizedLine.h\n",
            "-- Installing: /root/.hunter/_Base/70287b1/02ccb06/dffbc08/Build/Eigen/Install/include/eigen3/Eigen/src/Geometry/Homogeneous.h\n",
            "-- Installing: /root/.hunter/_Base/70287b1/02ccb06/dffbc08/Build/Eigen/Install/include/eigen3/Eigen/src/Geometry/Transform.h\n",
            "-- Installing: /root/.hunter/_Base/70287b1/02ccb06/dffbc08/Build/Eigen/Install/include/eigen3/Eigen/src/Geometry/RotationBase.h\n",
            "-- Installing: /root/.hunter/_Base/70287b1/02ccb06/dffbc08/Build/Eigen/Install/include/eigen3/Eigen/src/Geometry/Umeyama.h\n",
            "-- Installing: /root/.hunter/_Base/70287b1/02ccb06/dffbc08/Build/Eigen/Install/include/eigen3/Eigen/src/Geometry/Quaternion.h\n",
            "-- Installing: /root/.hunter/_Base/70287b1/02ccb06/dffbc08/Build/Eigen/Install/include/eigen3/Eigen/src/Geometry/Rotation2D.h\n",
            "-- Installing: /root/.hunter/_Base/70287b1/02ccb06/dffbc08/Build/Eigen/Install/include/eigen3/Eigen/src/Geometry/OrthoMethods.h\n",
            "-- Installing: /root/.hunter/_Base/70287b1/02ccb06/dffbc08/Build/Eigen/Install/include/eigen3/Eigen/src/Geometry/Hyperplane.h\n",
            "-- Installing: /root/.hunter/_Base/70287b1/02ccb06/dffbc08/Build/Eigen/Install/include/eigen3/Eigen/src/Geometry/Translation.h\n",
            "-- Installing: /root/.hunter/_Base/70287b1/02ccb06/dffbc08/Build/Eigen/Install/include/eigen3/Eigen/src/Geometry/EulerAngles.h\n",
            "-- Installing: /root/.hunter/_Base/70287b1/02ccb06/dffbc08/Build/Eigen/Install/include/eigen3/Eigen/src/Geometry/AngleAxis.h\n",
            "-- Installing: /root/.hunter/_Base/70287b1/02ccb06/dffbc08/Build/Eigen/Install/include/eigen3/Eigen/src/Geometry/arch\n",
            "-- Installing: /root/.hunter/_Base/70287b1/02ccb06/dffbc08/Build/Eigen/Install/include/eigen3/Eigen/src/Geometry/arch/Geometry_SSE.h\n",
            "-- Installing: /root/.hunter/_Base/70287b1/02ccb06/dffbc08/Build/Eigen/Install/include/eigen3/Eigen/src/Geometry/Scaling.h\n",
            "-- Installing: /root/.hunter/_Base/70287b1/02ccb06/dffbc08/Build/Eigen/Install/include/eigen3/Eigen/src/PaStiXSupport\n",
            "-- Installing: /root/.hunter/_Base/70287b1/02ccb06/dffbc08/Build/Eigen/Install/include/eigen3/Eigen/src/PaStiXSupport/PaStiXSupport.h\n",
            "-- Installing: /root/.hunter/_Base/70287b1/02ccb06/dffbc08/Build/Eigen/Install/include/eigen3/Eigen/src/SparseCore\n",
            "-- Installing: /root/.hunter/_Base/70287b1/02ccb06/dffbc08/Build/Eigen/Install/include/eigen3/Eigen/src/SparseCore/SparseProduct.h\n",
            "-- Installing: /root/.hunter/_Base/70287b1/02ccb06/dffbc08/Build/Eigen/Install/include/eigen3/Eigen/src/SparseCore/SparseDenseProduct.h\n",
            "-- Installing: /root/.hunter/_Base/70287b1/02ccb06/dffbc08/Build/Eigen/Install/include/eigen3/Eigen/src/SparseCore/SparsePermutation.h\n",
            "-- Installing: /root/.hunter/_Base/70287b1/02ccb06/dffbc08/Build/Eigen/Install/include/eigen3/Eigen/src/SparseCore/SparseSolverBase.h\n",
            "-- Installing: /root/.hunter/_Base/70287b1/02ccb06/dffbc08/Build/Eigen/Install/include/eigen3/Eigen/src/SparseCore/SparseAssign.h\n",
            "-- Installing: /root/.hunter/_Base/70287b1/02ccb06/dffbc08/Build/Eigen/Install/include/eigen3/Eigen/src/SparseCore/SparseMatrix.h\n",
            "-- Installing: /root/.hunter/_Base/70287b1/02ccb06/dffbc08/Build/Eigen/Install/include/eigen3/Eigen/src/SparseCore/ConservativeSparseSparseProduct.h\n",
            "-- Installing: /root/.hunter/_Base/70287b1/02ccb06/dffbc08/Build/Eigen/Install/include/eigen3/Eigen/src/SparseCore/SparseSelfAdjointView.h\n",
            "-- Installing: /root/.hunter/_Base/70287b1/02ccb06/dffbc08/Build/Eigen/Install/include/eigen3/Eigen/src/SparseCore/SparseMatrixBase.h\n",
            "-- Installing: /root/.hunter/_Base/70287b1/02ccb06/dffbc08/Build/Eigen/Install/include/eigen3/Eigen/src/SparseCore/MappedSparseMatrix.h\n",
            "-- Installing: /root/.hunter/_Base/70287b1/02ccb06/dffbc08/Build/Eigen/Install/include/eigen3/Eigen/src/SparseCore/SparseRedux.h\n",
            "-- Installing: /root/.hunter/_Base/70287b1/02ccb06/dffbc08/Build/Eigen/Install/include/eigen3/Eigen/src/SparseCore/AmbiVector.h\n",
            "-- Installing: /root/.hunter/_Base/70287b1/02ccb06/dffbc08/Build/Eigen/Install/include/eigen3/Eigen/src/SparseCore/SparseTranspose.h\n",
            "-- Installing: /root/.hunter/_Base/70287b1/02ccb06/dffbc08/Build/Eigen/Install/include/eigen3/Eigen/src/SparseCore/SparseDiagonalProduct.h\n",
            "-- Installing: /root/.hunter/_Base/70287b1/02ccb06/dffbc08/Build/Eigen/Install/include/eigen3/Eigen/src/SparseCore/SparseCompressedBase.h\n",
            "-- Installing: /root/.hunter/_Base/70287b1/02ccb06/dffbc08/Build/Eigen/Install/include/eigen3/Eigen/src/SparseCore/SparseCwiseBinaryOp.h\n",
            "-- Installing: /root/.hunter/_Base/70287b1/02ccb06/dffbc08/Build/Eigen/Install/include/eigen3/Eigen/src/SparseCore/SparseSparseProductWithPruning.h\n",
            "-- Installing: /root/.hunter/_Base/70287b1/02ccb06/dffbc08/Build/Eigen/Install/include/eigen3/Eigen/src/SparseCore/SparseDot.h\n",
            "-- Installing: /root/.hunter/_Base/70287b1/02ccb06/dffbc08/Build/Eigen/Install/include/eigen3/Eigen/src/SparseCore/SparseRef.h\n",
            "-- Installing: /root/.hunter/_Base/70287b1/02ccb06/dffbc08/Build/Eigen/Install/include/eigen3/Eigen/src/SparseCore/SparseFuzzy.h\n",
            "-- Installing: /root/.hunter/_Base/70287b1/02ccb06/dffbc08/Build/Eigen/Install/include/eigen3/Eigen/src/SparseCore/SparseMap.h\n",
            "-- Installing: /root/.hunter/_Base/70287b1/02ccb06/dffbc08/Build/Eigen/Install/include/eigen3/Eigen/src/SparseCore/SparseTriangularView.h\n",
            "-- Installing: /root/.hunter/_Base/70287b1/02ccb06/dffbc08/Build/Eigen/Install/include/eigen3/Eigen/src/SparseCore/SparseVector.h\n",
            "-- Installing: /root/.hunter/_Base/70287b1/02ccb06/dffbc08/Build/Eigen/Install/include/eigen3/Eigen/src/SparseCore/SparseView.h\n",
            "-- Installing: /root/.hunter/_Base/70287b1/02ccb06/dffbc08/Build/Eigen/Install/include/eigen3/Eigen/src/SparseCore/CompressedStorage.h\n",
            "-- Installing: /root/.hunter/_Base/70287b1/02ccb06/dffbc08/Build/Eigen/Install/include/eigen3/Eigen/src/SparseCore/SparseCwiseUnaryOp.h\n",
            "-- Installing: /root/.hunter/_Base/70287b1/02ccb06/dffbc08/Build/Eigen/Install/include/eigen3/Eigen/src/SparseCore/TriangularSolver.h\n",
            "-- Installing: /root/.hunter/_Base/70287b1/02ccb06/dffbc08/Build/Eigen/Install/include/eigen3/Eigen/src/SparseCore/SparseUtil.h\n",
            "-- Installing: /root/.hunter/_Base/70287b1/02ccb06/dffbc08/Build/Eigen/Install/include/eigen3/Eigen/src/SparseCore/SparseBlock.h\n",
            "-- Installing: /root/.hunter/_Base/70287b1/02ccb06/dffbc08/Build/Eigen/Install/include/eigen3/Eigen/src/SparseCore/SparseColEtree.h\n",
            "-- Installing: /root/.hunter/_Base/70287b1/02ccb06/dffbc08/Build/Eigen/Install/include/eigen3/Eigen/src/plugins\n",
            "-- Installing: /root/.hunter/_Base/70287b1/02ccb06/dffbc08/Build/Eigen/Install/include/eigen3/Eigen/src/plugins/CommonCwiseUnaryOps.h\n",
            "-- Installing: /root/.hunter/_Base/70287b1/02ccb06/dffbc08/Build/Eigen/Install/include/eigen3/Eigen/src/plugins/ArrayCwiseUnaryOps.h\n",
            "-- Installing: /root/.hunter/_Base/70287b1/02ccb06/dffbc08/Build/Eigen/Install/include/eigen3/Eigen/src/plugins/MatrixCwiseBinaryOps.h\n",
            "-- Installing: /root/.hunter/_Base/70287b1/02ccb06/dffbc08/Build/Eigen/Install/include/eigen3/Eigen/src/plugins/ArrayCwiseBinaryOps.h\n",
            "-- Installing: /root/.hunter/_Base/70287b1/02ccb06/dffbc08/Build/Eigen/Install/include/eigen3/Eigen/src/plugins/MatrixCwiseUnaryOps.h\n",
            "-- Installing: /root/.hunter/_Base/70287b1/02ccb06/dffbc08/Build/Eigen/Install/include/eigen3/Eigen/src/plugins/BlockMethods.h\n",
            "-- Installing: /root/.hunter/_Base/70287b1/02ccb06/dffbc08/Build/Eigen/Install/include/eigen3/Eigen/src/plugins/CommonCwiseBinaryOps.h\n",
            "-- Installing: /root/.hunter/_Base/70287b1/02ccb06/dffbc08/Build/Eigen/Install/include/eigen3/Eigen/src/PardisoSupport\n",
            "-- Installing: /root/.hunter/_Base/70287b1/02ccb06/dffbc08/Build/Eigen/Install/include/eigen3/Eigen/src/PardisoSupport/PardisoSupport.h\n",
            "-- Installing: /root/.hunter/_Base/70287b1/02ccb06/dffbc08/Build/Eigen/Install/include/eigen3/Eigen/src/SuperLUSupport\n",
            "-- Installing: /root/.hunter/_Base/70287b1/02ccb06/dffbc08/Build/Eigen/Install/include/eigen3/Eigen/src/SuperLUSupport/SuperLUSupport.h\n",
            "-- Installing: /root/.hunter/_Base/70287b1/02ccb06/dffbc08/Build/Eigen/Install/include/eigen3/Eigen/src/Jacobi\n",
            "-- Installing: /root/.hunter/_Base/70287b1/02ccb06/dffbc08/Build/Eigen/Install/include/eigen3/Eigen/src/Jacobi/Jacobi.h\n",
            "-- Installing: /root/.hunter/_Base/70287b1/02ccb06/dffbc08/Build/Eigen/Install/include/eigen3/Eigen/src/QR\n",
            "-- Installing: /root/.hunter/_Base/70287b1/02ccb06/dffbc08/Build/Eigen/Install/include/eigen3/Eigen/src/QR/ColPivHouseholderQR.h\n",
            "-- Installing: /root/.hunter/_Base/70287b1/02ccb06/dffbc08/Build/Eigen/Install/include/eigen3/Eigen/src/QR/HouseholderQR_LAPACKE.h\n",
            "-- Installing: /root/.hunter/_Base/70287b1/02ccb06/dffbc08/Build/Eigen/Install/include/eigen3/Eigen/src/QR/HouseholderQR.h\n",
            "-- Installing: /root/.hunter/_Base/70287b1/02ccb06/dffbc08/Build/Eigen/Install/include/eigen3/Eigen/src/QR/CompleteOrthogonalDecomposition.h\n",
            "-- Installing: /root/.hunter/_Base/70287b1/02ccb06/dffbc08/Build/Eigen/Install/include/eigen3/Eigen/src/QR/FullPivHouseholderQR.h\n",
            "-- Installing: /root/.hunter/_Base/70287b1/02ccb06/dffbc08/Build/Eigen/Install/include/eigen3/Eigen/src/QR/ColPivHouseholderQR_LAPACKE.h\n",
            "-- Installing: /root/.hunter/_Base/70287b1/02ccb06/dffbc08/Build/Eigen/Install/include/eigen3/Eigen/src/LU\n",
            "-- Installing: /root/.hunter/_Base/70287b1/02ccb06/dffbc08/Build/Eigen/Install/include/eigen3/Eigen/src/LU/InverseImpl.h\n",
            "-- Installing: /root/.hunter/_Base/70287b1/02ccb06/dffbc08/Build/Eigen/Install/include/eigen3/Eigen/src/LU/PartialPivLU_LAPACKE.h\n",
            "-- Installing: /root/.hunter/_Base/70287b1/02ccb06/dffbc08/Build/Eigen/Install/include/eigen3/Eigen/src/LU/FullPivLU.h\n",
            "-- Installing: /root/.hunter/_Base/70287b1/02ccb06/dffbc08/Build/Eigen/Install/include/eigen3/Eigen/src/LU/PartialPivLU.h\n",
            "-- Installing: /root/.hunter/_Base/70287b1/02ccb06/dffbc08/Build/Eigen/Install/include/eigen3/Eigen/src/LU/arch\n",
            "-- Installing: /root/.hunter/_Base/70287b1/02ccb06/dffbc08/Build/Eigen/Install/include/eigen3/Eigen/src/LU/arch/Inverse_SSE.h\n",
            "-- Installing: /root/.hunter/_Base/70287b1/02ccb06/dffbc08/Build/Eigen/Install/include/eigen3/Eigen/src/LU/Determinant.h\n",
            "-- Installing: /root/.hunter/_Base/70287b1/02ccb06/dffbc08/Build/Eigen/Install/include/eigen3/Eigen/src/Cholesky\n",
            "-- Installing: /root/.hunter/_Base/70287b1/02ccb06/dffbc08/Build/Eigen/Install/include/eigen3/Eigen/src/Cholesky/LLT_LAPACKE.h\n",
            "-- Installing: /root/.hunter/_Base/70287b1/02ccb06/dffbc08/Build/Eigen/Install/include/eigen3/Eigen/src/Cholesky/LLT.h\n",
            "-- Installing: /root/.hunter/_Base/70287b1/02ccb06/dffbc08/Build/Eigen/Install/include/eigen3/Eigen/src/Cholesky/LDLT.h\n",
            "-- Installing: /root/.hunter/_Base/70287b1/02ccb06/dffbc08/Build/Eigen/Install/include/eigen3/Eigen/src/SparseCholesky\n",
            "-- Installing: /root/.hunter/_Base/70287b1/02ccb06/dffbc08/Build/Eigen/Install/include/eigen3/Eigen/src/SparseCholesky/SimplicialCholesky_impl.h\n",
            "-- Installing: /root/.hunter/_Base/70287b1/02ccb06/dffbc08/Build/Eigen/Install/include/eigen3/Eigen/src/SparseCholesky/SimplicialCholesky.h\n",
            "-- Installing: /root/.hunter/_Base/70287b1/02ccb06/dffbc08/Build/Eigen/Install/include/eigen3/Eigen/src/SVD\n",
            "-- Installing: /root/.hunter/_Base/70287b1/02ccb06/dffbc08/Build/Eigen/Install/include/eigen3/Eigen/src/SVD/BDCSVD.h\n",
            "-- Installing: /root/.hunter/_Base/70287b1/02ccb06/dffbc08/Build/Eigen/Install/include/eigen3/Eigen/src/SVD/JacobiSVD_LAPACKE.h\n",
            "-- Installing: /root/.hunter/_Base/70287b1/02ccb06/dffbc08/Build/Eigen/Install/include/eigen3/Eigen/src/SVD/SVDBase.h\n",
            "-- Installing: /root/.hunter/_Base/70287b1/02ccb06/dffbc08/Build/Eigen/Install/include/eigen3/Eigen/src/SVD/JacobiSVD.h\n",
            "-- Installing: /root/.hunter/_Base/70287b1/02ccb06/dffbc08/Build/Eigen/Install/include/eigen3/Eigen/src/SVD/UpperBidiagonalization.h\n",
            "-- Installing: /root/.hunter/_Base/70287b1/02ccb06/dffbc08/Build/Eigen/Install/include/eigen3/Eigen/src/UmfPackSupport\n",
            "-- Installing: /root/.hunter/_Base/70287b1/02ccb06/dffbc08/Build/Eigen/Install/include/eigen3/Eigen/src/UmfPackSupport/UmfPackSupport.h\n",
            "-- Installing: /root/.hunter/_Base/70287b1/02ccb06/dffbc08/Build/Eigen/Install/include/eigen3/Eigen/src/misc\n",
            "-- Installing: /root/.hunter/_Base/70287b1/02ccb06/dffbc08/Build/Eigen/Install/include/eigen3/Eigen/src/misc/lapacke.h\n",
            "-- Installing: /root/.hunter/_Base/70287b1/02ccb06/dffbc08/Build/Eigen/Install/include/eigen3/Eigen/src/misc/Image.h\n",
            "-- Installing: /root/.hunter/_Base/70287b1/02ccb06/dffbc08/Build/Eigen/Install/include/eigen3/Eigen/src/misc/Kernel.h\n",
            "-- Installing: /root/.hunter/_Base/70287b1/02ccb06/dffbc08/Build/Eigen/Install/include/eigen3/Eigen/src/misc/lapacke_mangling.h\n",
            "-- Installing: /root/.hunter/_Base/70287b1/02ccb06/dffbc08/Build/Eigen/Install/include/eigen3/Eigen/src/misc/blas.h\n",
            "-- Installing: /root/.hunter/_Base/70287b1/02ccb06/dffbc08/Build/Eigen/Install/include/eigen3/Eigen/src/misc/lapack.h\n",
            "-- Installing: /root/.hunter/_Base/70287b1/02ccb06/dffbc08/Build/Eigen/Install/include/eigen3/Eigen/src/misc/RealSvd2x2.h\n",
            "-- Installing: /root/.hunter/_Base/70287b1/02ccb06/dffbc08/Build/Eigen/Install/include/eigen3/Eigen/src/MetisSupport\n",
            "-- Installing: /root/.hunter/_Base/70287b1/02ccb06/dffbc08/Build/Eigen/Install/include/eigen3/Eigen/src/MetisSupport/MetisSupport.h\n",
            "-- Installing: /root/.hunter/_Base/70287b1/02ccb06/dffbc08/Build/Eigen/Install/include/eigen3/Eigen/src/Eigenvalues\n",
            "-- Installing: /root/.hunter/_Base/70287b1/02ccb06/dffbc08/Build/Eigen/Install/include/eigen3/Eigen/src/Eigenvalues/RealQZ.h\n",
            "-- Installing: /root/.hunter/_Base/70287b1/02ccb06/dffbc08/Build/Eigen/Install/include/eigen3/Eigen/src/Eigenvalues/Tridiagonalization.h\n",
            "-- Installing: /root/.hunter/_Base/70287b1/02ccb06/dffbc08/Build/Eigen/Install/include/eigen3/Eigen/src/Eigenvalues/GeneralizedEigenSolver.h\n",
            "-- Installing: /root/.hunter/_Base/70287b1/02ccb06/dffbc08/Build/Eigen/Install/include/eigen3/Eigen/src/Eigenvalues/SelfAdjointEigenSolver_LAPACKE.h\n",
            "-- Installing: /root/.hunter/_Base/70287b1/02ccb06/dffbc08/Build/Eigen/Install/include/eigen3/Eigen/src/Eigenvalues/ComplexEigenSolver.h\n",
            "-- Installing: /root/.hunter/_Base/70287b1/02ccb06/dffbc08/Build/Eigen/Install/include/eigen3/Eigen/src/Eigenvalues/SelfAdjointEigenSolver.h\n",
            "-- Installing: /root/.hunter/_Base/70287b1/02ccb06/dffbc08/Build/Eigen/Install/include/eigen3/Eigen/src/Eigenvalues/MatrixBaseEigenvalues.h\n",
            "-- Installing: /root/.hunter/_Base/70287b1/02ccb06/dffbc08/Build/Eigen/Install/include/eigen3/Eigen/src/Eigenvalues/RealSchur_LAPACKE.h\n",
            "-- Installing: /root/.hunter/_Base/70287b1/02ccb06/dffbc08/Build/Eigen/Install/include/eigen3/Eigen/src/Eigenvalues/RealSchur.h\n",
            "-- Installing: /root/.hunter/_Base/70287b1/02ccb06/dffbc08/Build/Eigen/Install/include/eigen3/Eigen/src/Eigenvalues/EigenSolver.h\n",
            "-- Installing: /root/.hunter/_Base/70287b1/02ccb06/dffbc08/Build/Eigen/Install/include/eigen3/Eigen/src/Eigenvalues/ComplexSchur_LAPACKE.h\n",
            "-- Installing: /root/.hunter/_Base/70287b1/02ccb06/dffbc08/Build/Eigen/Install/include/eigen3/Eigen/src/Eigenvalues/ComplexSchur.h\n",
            "-- Installing: /root/.hunter/_Base/70287b1/02ccb06/dffbc08/Build/Eigen/Install/include/eigen3/Eigen/src/Eigenvalues/HessenbergDecomposition.h\n",
            "-- Installing: /root/.hunter/_Base/70287b1/02ccb06/dffbc08/Build/Eigen/Install/include/eigen3/Eigen/src/Eigenvalues/GeneralizedSelfAdjointEigenSolver.h\n",
            "-- Installing: /root/.hunter/_Base/70287b1/02ccb06/dffbc08/Build/Eigen/Install/include/eigen3/unsupported/Eigen/AdolcForward\n",
            "-- Installing: /root/.hunter/_Base/70287b1/02ccb06/dffbc08/Build/Eigen/Install/include/eigen3/unsupported/Eigen/AlignedVector3\n",
            "-- Installing: /root/.hunter/_Base/70287b1/02ccb06/dffbc08/Build/Eigen/Install/include/eigen3/unsupported/Eigen/ArpackSupport\n",
            "-- Installing: /root/.hunter/_Base/70287b1/02ccb06/dffbc08/Build/Eigen/Install/include/eigen3/unsupported/Eigen/AutoDiff\n",
            "-- Installing: /root/.hunter/_Base/70287b1/02ccb06/dffbc08/Build/Eigen/Install/include/eigen3/unsupported/Eigen/BVH\n",
            "-- Installing: /root/.hunter/_Base/70287b1/02ccb06/dffbc08/Build/Eigen/Install/include/eigen3/unsupported/Eigen/EulerAngles\n",
            "-- Installing: /root/.hunter/_Base/70287b1/02ccb06/dffbc08/Build/Eigen/Install/include/eigen3/unsupported/Eigen/FFT\n",
            "-- Installing: /root/.hunter/_Base/70287b1/02ccb06/dffbc08/Build/Eigen/Install/include/eigen3/unsupported/Eigen/IterativeSolvers\n",
            "-- Installing: /root/.hunter/_Base/70287b1/02ccb06/dffbc08/Build/Eigen/Install/include/eigen3/unsupported/Eigen/KroneckerProduct\n",
            "-- Installing: /root/.hunter/_Base/70287b1/02ccb06/dffbc08/Build/Eigen/Install/include/eigen3/unsupported/Eigen/LevenbergMarquardt\n",
            "-- Installing: /root/.hunter/_Base/70287b1/02ccb06/dffbc08/Build/Eigen/Install/include/eigen3/unsupported/Eigen/MatrixFunctions\n",
            "-- Installing: /root/.hunter/_Base/70287b1/02ccb06/dffbc08/Build/Eigen/Install/include/eigen3/unsupported/Eigen/MoreVectorization\n",
            "-- Installing: /root/.hunter/_Base/70287b1/02ccb06/dffbc08/Build/Eigen/Install/include/eigen3/unsupported/Eigen/MPRealSupport\n",
            "-- Installing: /root/.hunter/_Base/70287b1/02ccb06/dffbc08/Build/Eigen/Install/include/eigen3/unsupported/Eigen/NonLinearOptimization\n",
            "-- Installing: /root/.hunter/_Base/70287b1/02ccb06/dffbc08/Build/Eigen/Install/include/eigen3/unsupported/Eigen/NumericalDiff\n",
            "-- Installing: /root/.hunter/_Base/70287b1/02ccb06/dffbc08/Build/Eigen/Install/include/eigen3/unsupported/Eigen/OpenGLSupport\n",
            "-- Installing: /root/.hunter/_Base/70287b1/02ccb06/dffbc08/Build/Eigen/Install/include/eigen3/unsupported/Eigen/Polynomials\n",
            "-- Installing: /root/.hunter/_Base/70287b1/02ccb06/dffbc08/Build/Eigen/Install/include/eigen3/unsupported/Eigen/Skyline\n",
            "-- Installing: /root/.hunter/_Base/70287b1/02ccb06/dffbc08/Build/Eigen/Install/include/eigen3/unsupported/Eigen/SparseExtra\n",
            "-- Installing: /root/.hunter/_Base/70287b1/02ccb06/dffbc08/Build/Eigen/Install/include/eigen3/unsupported/Eigen/SpecialFunctions\n",
            "-- Installing: /root/.hunter/_Base/70287b1/02ccb06/dffbc08/Build/Eigen/Install/include/eigen3/unsupported/Eigen/Splines\n",
            "-- Installing: /root/.hunter/_Base/70287b1/02ccb06/dffbc08/Build/Eigen/Install/include/eigen3/unsupported/Eigen/src\n",
            "-- Installing: /root/.hunter/_Base/70287b1/02ccb06/dffbc08/Build/Eigen/Install/include/eigen3/unsupported/Eigen/src/SpecialFunctions\n",
            "-- Installing: /root/.hunter/_Base/70287b1/02ccb06/dffbc08/Build/Eigen/Install/include/eigen3/unsupported/Eigen/src/SpecialFunctions/SpecialFunctionsFunctors.h\n",
            "-- Installing: /root/.hunter/_Base/70287b1/02ccb06/dffbc08/Build/Eigen/Install/include/eigen3/unsupported/Eigen/src/SpecialFunctions/SpecialFunctionsArrayAPI.h\n",
            "-- Installing: /root/.hunter/_Base/70287b1/02ccb06/dffbc08/Build/Eigen/Install/include/eigen3/unsupported/Eigen/src/SpecialFunctions/SpecialFunctionsHalf.h\n",
            "-- Installing: /root/.hunter/_Base/70287b1/02ccb06/dffbc08/Build/Eigen/Install/include/eigen3/unsupported/Eigen/src/SpecialFunctions/SpecialFunctionsPacketMath.h\n",
            "-- Installing: /root/.hunter/_Base/70287b1/02ccb06/dffbc08/Build/Eigen/Install/include/eigen3/unsupported/Eigen/src/SpecialFunctions/arch\n",
            "-- Installing: /root/.hunter/_Base/70287b1/02ccb06/dffbc08/Build/Eigen/Install/include/eigen3/unsupported/Eigen/src/SpecialFunctions/arch/CUDA\n",
            "-- Installing: /root/.hunter/_Base/70287b1/02ccb06/dffbc08/Build/Eigen/Install/include/eigen3/unsupported/Eigen/src/SpecialFunctions/arch/CUDA/CudaSpecialFunctions.h\n",
            "-- Installing: /root/.hunter/_Base/70287b1/02ccb06/dffbc08/Build/Eigen/Install/include/eigen3/unsupported/Eigen/src/SpecialFunctions/SpecialFunctionsImpl.h\n",
            "-- Installing: /root/.hunter/_Base/70287b1/02ccb06/dffbc08/Build/Eigen/Install/include/eigen3/unsupported/Eigen/src/Polynomials\n",
            "-- Installing: /root/.hunter/_Base/70287b1/02ccb06/dffbc08/Build/Eigen/Install/include/eigen3/unsupported/Eigen/src/Polynomials/PolynomialSolver.h\n",
            "-- Installing: /root/.hunter/_Base/70287b1/02ccb06/dffbc08/Build/Eigen/Install/include/eigen3/unsupported/Eigen/src/Polynomials/PolynomialUtils.h\n",
            "-- Installing: /root/.hunter/_Base/70287b1/02ccb06/dffbc08/Build/Eigen/Install/include/eigen3/unsupported/Eigen/src/Polynomials/Companion.h\n",
            "-- Installing: /root/.hunter/_Base/70287b1/02ccb06/dffbc08/Build/Eigen/Install/include/eigen3/unsupported/Eigen/src/NumericalDiff\n",
            "-- Installing: /root/.hunter/_Base/70287b1/02ccb06/dffbc08/Build/Eigen/Install/include/eigen3/unsupported/Eigen/src/NumericalDiff/NumericalDiff.h\n",
            "-- Installing: /root/.hunter/_Base/70287b1/02ccb06/dffbc08/Build/Eigen/Install/include/eigen3/unsupported/Eigen/src/EulerAngles\n",
            "-- Installing: /root/.hunter/_Base/70287b1/02ccb06/dffbc08/Build/Eigen/Install/include/eigen3/unsupported/Eigen/src/EulerAngles/EulerSystem.h\n",
            "-- Installing: /root/.hunter/_Base/70287b1/02ccb06/dffbc08/Build/Eigen/Install/include/eigen3/unsupported/Eigen/src/EulerAngles/EulerAngles.h\n",
            "-- Installing: /root/.hunter/_Base/70287b1/02ccb06/dffbc08/Build/Eigen/Install/include/eigen3/unsupported/Eigen/src/KroneckerProduct\n",
            "-- Installing: /root/.hunter/_Base/70287b1/02ccb06/dffbc08/Build/Eigen/Install/include/eigen3/unsupported/Eigen/src/KroneckerProduct/KroneckerTensorProduct.h\n",
            "-- Installing: /root/.hunter/_Base/70287b1/02ccb06/dffbc08/Build/Eigen/Install/include/eigen3/unsupported/Eigen/src/Skyline\n",
            "-- Installing: /root/.hunter/_Base/70287b1/02ccb06/dffbc08/Build/Eigen/Install/include/eigen3/unsupported/Eigen/src/Skyline/SkylineInplaceLU.h\n",
            "-- Installing: /root/.hunter/_Base/70287b1/02ccb06/dffbc08/Build/Eigen/Install/include/eigen3/unsupported/Eigen/src/Skyline/SkylineUtil.h\n",
            "-- Installing: /root/.hunter/_Base/70287b1/02ccb06/dffbc08/Build/Eigen/Install/include/eigen3/unsupported/Eigen/src/Skyline/SkylineStorage.h\n",
            "-- Installing: /root/.hunter/_Base/70287b1/02ccb06/dffbc08/Build/Eigen/Install/include/eigen3/unsupported/Eigen/src/Skyline/SkylineMatrix.h\n",
            "-- Installing: /root/.hunter/_Base/70287b1/02ccb06/dffbc08/Build/Eigen/Install/include/eigen3/unsupported/Eigen/src/Skyline/SkylineMatrixBase.h\n",
            "-- Installing: /root/.hunter/_Base/70287b1/02ccb06/dffbc08/Build/Eigen/Install/include/eigen3/unsupported/Eigen/src/Skyline/SkylineProduct.h\n",
            "-- Installing: /root/.hunter/_Base/70287b1/02ccb06/dffbc08/Build/Eigen/Install/include/eigen3/unsupported/Eigen/src/MatrixFunctions\n",
            "-- Installing: /root/.hunter/_Base/70287b1/02ccb06/dffbc08/Build/Eigen/Install/include/eigen3/unsupported/Eigen/src/MatrixFunctions/MatrixLogarithm.h\n",
            "-- Installing: /root/.hunter/_Base/70287b1/02ccb06/dffbc08/Build/Eigen/Install/include/eigen3/unsupported/Eigen/src/MatrixFunctions/MatrixSquareRoot.h\n",
            "-- Installing: /root/.hunter/_Base/70287b1/02ccb06/dffbc08/Build/Eigen/Install/include/eigen3/unsupported/Eigen/src/MatrixFunctions/MatrixFunction.h\n",
            "-- Installing: /root/.hunter/_Base/70287b1/02ccb06/dffbc08/Build/Eigen/Install/include/eigen3/unsupported/Eigen/src/MatrixFunctions/MatrixPower.h\n",
            "-- Installing: /root/.hunter/_Base/70287b1/02ccb06/dffbc08/Build/Eigen/Install/include/eigen3/unsupported/Eigen/src/MatrixFunctions/MatrixExponential.h\n",
            "-- Installing: /root/.hunter/_Base/70287b1/02ccb06/dffbc08/Build/Eigen/Install/include/eigen3/unsupported/Eigen/src/MatrixFunctions/StemFunction.h\n",
            "-- Installing: /root/.hunter/_Base/70287b1/02ccb06/dffbc08/Build/Eigen/Install/include/eigen3/unsupported/Eigen/src/BVH\n",
            "-- Installing: /root/.hunter/_Base/70287b1/02ccb06/dffbc08/Build/Eigen/Install/include/eigen3/unsupported/Eigen/src/BVH/BVAlgorithms.h\n",
            "-- Installing: /root/.hunter/_Base/70287b1/02ccb06/dffbc08/Build/Eigen/Install/include/eigen3/unsupported/Eigen/src/BVH/KdBVH.h\n",
            "-- Installing: /root/.hunter/_Base/70287b1/02ccb06/dffbc08/Build/Eigen/Install/include/eigen3/unsupported/Eigen/src/SparseExtra\n",
            "-- Installing: /root/.hunter/_Base/70287b1/02ccb06/dffbc08/Build/Eigen/Install/include/eigen3/unsupported/Eigen/src/SparseExtra/MatrixMarketIterator.h\n",
            "-- Installing: /root/.hunter/_Base/70287b1/02ccb06/dffbc08/Build/Eigen/Install/include/eigen3/unsupported/Eigen/src/SparseExtra/DynamicSparseMatrix.h\n",
            "-- Installing: /root/.hunter/_Base/70287b1/02ccb06/dffbc08/Build/Eigen/Install/include/eigen3/unsupported/Eigen/src/SparseExtra/RandomSetter.h\n",
            "-- Installing: /root/.hunter/_Base/70287b1/02ccb06/dffbc08/Build/Eigen/Install/include/eigen3/unsupported/Eigen/src/SparseExtra/BlockSparseMatrix.h\n",
            "-- Installing: /root/.hunter/_Base/70287b1/02ccb06/dffbc08/Build/Eigen/Install/include/eigen3/unsupported/Eigen/src/SparseExtra/MarketIO.h\n",
            "-- Installing: /root/.hunter/_Base/70287b1/02ccb06/dffbc08/Build/Eigen/Install/include/eigen3/unsupported/Eigen/src/SparseExtra/BlockOfDynamicSparseMatrix.h\n",
            "-- Installing: /root/.hunter/_Base/70287b1/02ccb06/dffbc08/Build/Eigen/Install/include/eigen3/unsupported/Eigen/src/MoreVectorization\n",
            "-- Installing: /root/.hunter/_Base/70287b1/02ccb06/dffbc08/Build/Eigen/Install/include/eigen3/unsupported/Eigen/src/MoreVectorization/MathFunctions.h\n",
            "-- Installing: /root/.hunter/_Base/70287b1/02ccb06/dffbc08/Build/Eigen/Install/include/eigen3/unsupported/Eigen/src/IterativeSolvers\n",
            "-- Installing: /root/.hunter/_Base/70287b1/02ccb06/dffbc08/Build/Eigen/Install/include/eigen3/unsupported/Eigen/src/IterativeSolvers/ConstrainedConjGrad.h\n",
            "-- Installing: /root/.hunter/_Base/70287b1/02ccb06/dffbc08/Build/Eigen/Install/include/eigen3/unsupported/Eigen/src/IterativeSolvers/DGMRES.h\n",
            "-- Installing: /root/.hunter/_Base/70287b1/02ccb06/dffbc08/Build/Eigen/Install/include/eigen3/unsupported/Eigen/src/IterativeSolvers/MINRES.h\n",
            "-- Installing: /root/.hunter/_Base/70287b1/02ccb06/dffbc08/Build/Eigen/Install/include/eigen3/unsupported/Eigen/src/IterativeSolvers/GMRES.h\n",
            "-- Installing: /root/.hunter/_Base/70287b1/02ccb06/dffbc08/Build/Eigen/Install/include/eigen3/unsupported/Eigen/src/IterativeSolvers/IncompleteLU.h\n",
            "-- Installing: /root/.hunter/_Base/70287b1/02ccb06/dffbc08/Build/Eigen/Install/include/eigen3/unsupported/Eigen/src/IterativeSolvers/IterationController.h\n",
            "-- Installing: /root/.hunter/_Base/70287b1/02ccb06/dffbc08/Build/Eigen/Install/include/eigen3/unsupported/Eigen/src/IterativeSolvers/Scaling.h\n",
            "-- Installing: /root/.hunter/_Base/70287b1/02ccb06/dffbc08/Build/Eigen/Install/include/eigen3/unsupported/Eigen/src/FFT\n",
            "-- Installing: /root/.hunter/_Base/70287b1/02ccb06/dffbc08/Build/Eigen/Install/include/eigen3/unsupported/Eigen/src/FFT/ei_kissfft_impl.h\n",
            "-- Installing: /root/.hunter/_Base/70287b1/02ccb06/dffbc08/Build/Eigen/Install/include/eigen3/unsupported/Eigen/src/FFT/ei_fftw_impl.h\n",
            "-- Installing: /root/.hunter/_Base/70287b1/02ccb06/dffbc08/Build/Eigen/Install/include/eigen3/unsupported/Eigen/src/Splines\n",
            "-- Installing: /root/.hunter/_Base/70287b1/02ccb06/dffbc08/Build/Eigen/Install/include/eigen3/unsupported/Eigen/src/Splines/SplineFitting.h\n",
            "-- Installing: /root/.hunter/_Base/70287b1/02ccb06/dffbc08/Build/Eigen/Install/include/eigen3/unsupported/Eigen/src/Splines/Spline.h\n",
            "-- Installing: /root/.hunter/_Base/70287b1/02ccb06/dffbc08/Build/Eigen/Install/include/eigen3/unsupported/Eigen/src/Splines/SplineFwd.h\n",
            "-- Installing: /root/.hunter/_Base/70287b1/02ccb06/dffbc08/Build/Eigen/Install/include/eigen3/unsupported/Eigen/src/AutoDiff\n",
            "-- Installing: /root/.hunter/_Base/70287b1/02ccb06/dffbc08/Build/Eigen/Install/include/eigen3/unsupported/Eigen/src/AutoDiff/AutoDiffJacobian.h\n",
            "-- Installing: /root/.hunter/_Base/70287b1/02ccb06/dffbc08/Build/Eigen/Install/include/eigen3/unsupported/Eigen/src/AutoDiff/AutoDiffScalar.h\n",
            "-- Installing: /root/.hunter/_Base/70287b1/02ccb06/dffbc08/Build/Eigen/Install/include/eigen3/unsupported/Eigen/src/AutoDiff/AutoDiffVector.h\n",
            "-- Installing: /root/.hunter/_Base/70287b1/02ccb06/dffbc08/Build/Eigen/Install/include/eigen3/unsupported/Eigen/src/NonLinearOptimization\n",
            "-- Installing: /root/.hunter/_Base/70287b1/02ccb06/dffbc08/Build/Eigen/Install/include/eigen3/unsupported/Eigen/src/NonLinearOptimization/qrsolv.h\n",
            "-- Installing: /root/.hunter/_Base/70287b1/02ccb06/dffbc08/Build/Eigen/Install/include/eigen3/unsupported/Eigen/src/NonLinearOptimization/LevenbergMarquardt.h\n",
            "-- Installing: /root/.hunter/_Base/70287b1/02ccb06/dffbc08/Build/Eigen/Install/include/eigen3/unsupported/Eigen/src/NonLinearOptimization/r1mpyq.h\n",
            "-- Installing: /root/.hunter/_Base/70287b1/02ccb06/dffbc08/Build/Eigen/Install/include/eigen3/unsupported/Eigen/src/NonLinearOptimization/chkder.h\n",
            "-- Installing: /root/.hunter/_Base/70287b1/02ccb06/dffbc08/Build/Eigen/Install/include/eigen3/unsupported/Eigen/src/NonLinearOptimization/dogleg.h\n",
            "-- Installing: /root/.hunter/_Base/70287b1/02ccb06/dffbc08/Build/Eigen/Install/include/eigen3/unsupported/Eigen/src/NonLinearOptimization/HybridNonLinearSolver.h\n",
            "-- Installing: /root/.hunter/_Base/70287b1/02ccb06/dffbc08/Build/Eigen/Install/include/eigen3/unsupported/Eigen/src/NonLinearOptimization/fdjac1.h\n",
            "-- Installing: /root/.hunter/_Base/70287b1/02ccb06/dffbc08/Build/Eigen/Install/include/eigen3/unsupported/Eigen/src/NonLinearOptimization/r1updt.h\n",
            "-- Installing: /root/.hunter/_Base/70287b1/02ccb06/dffbc08/Build/Eigen/Install/include/eigen3/unsupported/Eigen/src/NonLinearOptimization/rwupdt.h\n",
            "-- Installing: /root/.hunter/_Base/70287b1/02ccb06/dffbc08/Build/Eigen/Install/include/eigen3/unsupported/Eigen/src/NonLinearOptimization/lmpar.h\n",
            "-- Installing: /root/.hunter/_Base/70287b1/02ccb06/dffbc08/Build/Eigen/Install/include/eigen3/unsupported/Eigen/src/NonLinearOptimization/covar.h\n",
            "-- Installing: /root/.hunter/_Base/70287b1/02ccb06/dffbc08/Build/Eigen/Install/include/eigen3/unsupported/Eigen/src/LevenbergMarquardt\n",
            "-- Installing: /root/.hunter/_Base/70287b1/02ccb06/dffbc08/Build/Eigen/Install/include/eigen3/unsupported/Eigen/src/LevenbergMarquardt/LMpar.h\n",
            "-- Installing: /root/.hunter/_Base/70287b1/02ccb06/dffbc08/Build/Eigen/Install/include/eigen3/unsupported/Eigen/src/LevenbergMarquardt/LevenbergMarquardt.h\n",
            "-- Installing: /root/.hunter/_Base/70287b1/02ccb06/dffbc08/Build/Eigen/Install/include/eigen3/unsupported/Eigen/src/LevenbergMarquardt/LMqrsolv.h\n",
            "-- Installing: /root/.hunter/_Base/70287b1/02ccb06/dffbc08/Build/Eigen/Install/include/eigen3/unsupported/Eigen/src/LevenbergMarquardt/LMcovar.h\n",
            "-- Installing: /root/.hunter/_Base/70287b1/02ccb06/dffbc08/Build/Eigen/Install/include/eigen3/unsupported/Eigen/src/LevenbergMarquardt/LMonestep.h\n",
            "-- Installing: /root/.hunter/_Base/70287b1/02ccb06/dffbc08/Build/Eigen/Install/include/eigen3/unsupported/Eigen/src/Eigenvalues\n",
            "-- Installing: /root/.hunter/_Base/70287b1/02ccb06/dffbc08/Build/Eigen/Install/include/eigen3/unsupported/Eigen/src/Eigenvalues/ArpackSelfAdjointEigenSolver.h\n",
            "-- Installing: /root/.hunter/_Base/70287b1/02ccb06/dffbc08/Build/Eigen/Install/include/eigen3/unsupported/Eigen/CXX11/Tensor\n",
            "-- Installing: /root/.hunter/_Base/70287b1/02ccb06/dffbc08/Build/Eigen/Install/include/eigen3/unsupported/Eigen/CXX11/TensorSymmetry\n",
            "-- Installing: /root/.hunter/_Base/70287b1/02ccb06/dffbc08/Build/Eigen/Install/include/eigen3/unsupported/Eigen/CXX11/ThreadPool\n",
            "-- Installing: /root/.hunter/_Base/70287b1/02ccb06/dffbc08/Build/Eigen/Install/include/eigen3/unsupported/Eigen/CXX11/src\n",
            "-- Installing: /root/.hunter/_Base/70287b1/02ccb06/dffbc08/Build/Eigen/Install/include/eigen3/unsupported/Eigen/CXX11/src/ThreadPool\n",
            "-- Installing: /root/.hunter/_Base/70287b1/02ccb06/dffbc08/Build/Eigen/Install/include/eigen3/unsupported/Eigen/CXX11/src/ThreadPool/ThreadYield.h\n",
            "-- Installing: /root/.hunter/_Base/70287b1/02ccb06/dffbc08/Build/Eigen/Install/include/eigen3/unsupported/Eigen/CXX11/src/ThreadPool/EventCount.h\n",
            "-- Installing: /root/.hunter/_Base/70287b1/02ccb06/dffbc08/Build/Eigen/Install/include/eigen3/unsupported/Eigen/CXX11/src/ThreadPool/ThreadLocal.h\n",
            "-- Installing: /root/.hunter/_Base/70287b1/02ccb06/dffbc08/Build/Eigen/Install/include/eigen3/unsupported/Eigen/CXX11/src/ThreadPool/NonBlockingThreadPool.h\n",
            "-- Installing: /root/.hunter/_Base/70287b1/02ccb06/dffbc08/Build/Eigen/Install/include/eigen3/unsupported/Eigen/CXX11/src/ThreadPool/ThreadEnvironment.h\n",
            "-- Installing: /root/.hunter/_Base/70287b1/02ccb06/dffbc08/Build/Eigen/Install/include/eigen3/unsupported/Eigen/CXX11/src/ThreadPool/SimpleThreadPool.h\n",
            "-- Installing: /root/.hunter/_Base/70287b1/02ccb06/dffbc08/Build/Eigen/Install/include/eigen3/unsupported/Eigen/CXX11/src/ThreadPool/ThreadPoolInterface.h\n",
            "-- Installing: /root/.hunter/_Base/70287b1/02ccb06/dffbc08/Build/Eigen/Install/include/eigen3/unsupported/Eigen/CXX11/src/ThreadPool/RunQueue.h\n",
            "-- Installing: /root/.hunter/_Base/70287b1/02ccb06/dffbc08/Build/Eigen/Install/include/eigen3/unsupported/Eigen/CXX11/src/util\n",
            "-- Installing: /root/.hunter/_Base/70287b1/02ccb06/dffbc08/Build/Eigen/Install/include/eigen3/unsupported/Eigen/CXX11/src/util/EmulateArray.h\n",
            "-- Installing: /root/.hunter/_Base/70287b1/02ccb06/dffbc08/Build/Eigen/Install/include/eigen3/unsupported/Eigen/CXX11/src/util/EmulateCXX11Meta.h\n",
            "-- Installing: /root/.hunter/_Base/70287b1/02ccb06/dffbc08/Build/Eigen/Install/include/eigen3/unsupported/Eigen/CXX11/src/util/CXX11Meta.h\n",
            "-- Installing: /root/.hunter/_Base/70287b1/02ccb06/dffbc08/Build/Eigen/Install/include/eigen3/unsupported/Eigen/CXX11/src/util/MaxSizeVector.h\n",
            "-- Installing: /root/.hunter/_Base/70287b1/02ccb06/dffbc08/Build/Eigen/Install/include/eigen3/unsupported/Eigen/CXX11/src/util/CXX11Workarounds.h\n",
            "-- Installing: /root/.hunter/_Base/70287b1/02ccb06/dffbc08/Build/Eigen/Install/include/eigen3/unsupported/Eigen/CXX11/src/TensorSymmetry\n",
            "-- Installing: /root/.hunter/_Base/70287b1/02ccb06/dffbc08/Build/Eigen/Install/include/eigen3/unsupported/Eigen/CXX11/src/TensorSymmetry/util\n",
            "-- Installing: /root/.hunter/_Base/70287b1/02ccb06/dffbc08/Build/Eigen/Install/include/eigen3/unsupported/Eigen/CXX11/src/TensorSymmetry/util/TemplateGroupTheory.h\n",
            "-- Installing: /root/.hunter/_Base/70287b1/02ccb06/dffbc08/Build/Eigen/Install/include/eigen3/unsupported/Eigen/CXX11/src/TensorSymmetry/DynamicSymmetry.h\n",
            "-- Installing: /root/.hunter/_Base/70287b1/02ccb06/dffbc08/Build/Eigen/Install/include/eigen3/unsupported/Eigen/CXX11/src/TensorSymmetry/Symmetry.h\n",
            "-- Installing: /root/.hunter/_Base/70287b1/02ccb06/dffbc08/Build/Eigen/Install/include/eigen3/unsupported/Eigen/CXX11/src/TensorSymmetry/StaticSymmetry.h\n",
            "-- Installing: /root/.hunter/_Base/70287b1/02ccb06/dffbc08/Build/Eigen/Install/include/eigen3/unsupported/Eigen/CXX11/src/Tensor\n",
            "-- Installing: /root/.hunter/_Base/70287b1/02ccb06/dffbc08/Build/Eigen/Install/include/eigen3/unsupported/Eigen/CXX11/src/Tensor/TensorDimensions.h\n",
            "-- Installing: /root/.hunter/_Base/70287b1/02ccb06/dffbc08/Build/Eigen/Install/include/eigen3/unsupported/Eigen/CXX11/src/Tensor/TensorInflation.h\n",
            "-- Installing: /root/.hunter/_Base/70287b1/02ccb06/dffbc08/Build/Eigen/Install/include/eigen3/unsupported/Eigen/CXX11/src/Tensor/TensorReverse.h\n",
            "-- Installing: /root/.hunter/_Base/70287b1/02ccb06/dffbc08/Build/Eigen/Install/include/eigen3/unsupported/Eigen/CXX11/src/Tensor/TensorSyclPlaceHolderExpr.h\n",
            "-- Installing: /root/.hunter/_Base/70287b1/02ccb06/dffbc08/Build/Eigen/Install/include/eigen3/unsupported/Eigen/CXX11/src/Tensor/TensorIO.h\n",
            "-- Installing: /root/.hunter/_Base/70287b1/02ccb06/dffbc08/Build/Eigen/Install/include/eigen3/unsupported/Eigen/CXX11/src/Tensor/TensorSyclLeafCount.h\n",
            "-- Installing: /root/.hunter/_Base/70287b1/02ccb06/dffbc08/Build/Eigen/Install/include/eigen3/unsupported/Eigen/CXX11/src/Tensor/TensorMap.h\n",
            "-- Installing: /root/.hunter/_Base/70287b1/02ccb06/dffbc08/Build/Eigen/Install/include/eigen3/unsupported/Eigen/CXX11/src/Tensor/TensorIndexList.h\n",
            "-- Installing: /root/.hunter/_Base/70287b1/02ccb06/dffbc08/Build/Eigen/Install/include/eigen3/unsupported/Eigen/CXX11/src/Tensor/TensorDimensionList.h\n",
            "-- Installing: /root/.hunter/_Base/70287b1/02ccb06/dffbc08/Build/Eigen/Install/include/eigen3/unsupported/Eigen/CXX11/src/Tensor/TensorAssign.h\n",
            "-- Installing: /root/.hunter/_Base/70287b1/02ccb06/dffbc08/Build/Eigen/Install/include/eigen3/unsupported/Eigen/CXX11/src/Tensor/TensorBase.h\n",
            "-- Installing: /root/.hunter/_Base/70287b1/02ccb06/dffbc08/Build/Eigen/Install/include/eigen3/unsupported/Eigen/CXX11/src/Tensor/TensorForcedEval.h\n",
            "-- Installing: /root/.hunter/_Base/70287b1/02ccb06/dffbc08/Build/Eigen/Install/include/eigen3/unsupported/Eigen/CXX11/src/Tensor/TensorContractionThreadPool.h\n",
            "-- Installing: /root/.hunter/_Base/70287b1/02ccb06/dffbc08/Build/Eigen/Install/include/eigen3/unsupported/Eigen/CXX11/src/Tensor/TensorScan.h\n",
            "-- Installing: /root/.hunter/_Base/70287b1/02ccb06/dffbc08/Build/Eigen/Install/include/eigen3/unsupported/Eigen/CXX11/src/Tensor/TensorInitializer.h\n",
            "-- Installing: /root/.hunter/_Base/70287b1/02ccb06/dffbc08/Build/Eigen/Install/include/eigen3/unsupported/Eigen/CXX11/src/Tensor/TensorConversion.h\n",
            "-- Installing: /root/.hunter/_Base/70287b1/02ccb06/dffbc08/Build/Eigen/Install/include/eigen3/unsupported/Eigen/CXX11/src/Tensor/TensorReduction.h\n",
            "-- Installing: /root/.hunter/_Base/70287b1/02ccb06/dffbc08/Build/Eigen/Install/include/eigen3/unsupported/Eigen/CXX11/src/Tensor/TensorDeviceThreadPool.h\n",
            "-- Installing: /root/.hunter/_Base/70287b1/02ccb06/dffbc08/Build/Eigen/Install/include/eigen3/unsupported/Eigen/CXX11/src/Tensor/TensorRef.h\n",
            "-- Installing: /root/.hunter/_Base/70287b1/02ccb06/dffbc08/Build/Eigen/Install/include/eigen3/unsupported/Eigen/CXX11/src/Tensor/TensorContraction.h\n",
            "-- Installing: /root/.hunter/_Base/70287b1/02ccb06/dffbc08/Build/Eigen/Install/include/eigen3/unsupported/Eigen/CXX11/src/Tensor/TensorConcatenation.h\n",
            "-- Installing: /root/.hunter/_Base/70287b1/02ccb06/dffbc08/Build/Eigen/Install/include/eigen3/unsupported/Eigen/CXX11/src/Tensor/TensorMorphing.h\n",
            "-- Installing: /root/.hunter/_Base/70287b1/02ccb06/dffbc08/Build/Eigen/Install/include/eigen3/unsupported/Eigen/CXX11/src/Tensor/TensorSyclExtractAccessor.h\n",
            "-- Installing: /root/.hunter/_Base/70287b1/02ccb06/dffbc08/Build/Eigen/Install/include/eigen3/unsupported/Eigen/CXX11/src/Tensor/TensorDeviceCuda.h\n",
            "-- Installing: /root/.hunter/_Base/70287b1/02ccb06/dffbc08/Build/Eigen/Install/include/eigen3/unsupported/Eigen/CXX11/src/Tensor/TensorSycl.h\n",
            "-- Installing: /root/.hunter/_Base/70287b1/02ccb06/dffbc08/Build/Eigen/Install/include/eigen3/unsupported/Eigen/CXX11/src/Tensor/TensorDeviceDefault.h\n",
            "-- Installing: /root/.hunter/_Base/70287b1/02ccb06/dffbc08/Build/Eigen/Install/include/eigen3/unsupported/Eigen/CXX11/src/Tensor/TensorContractionMapper.h\n",
            "-- Installing: /root/.hunter/_Base/70287b1/02ccb06/dffbc08/Build/Eigen/Install/include/eigen3/unsupported/Eigen/CXX11/src/Tensor/TensorContractionCuda.h\n",
            "-- Installing: /root/.hunter/_Base/70287b1/02ccb06/dffbc08/Build/Eigen/Install/include/eigen3/unsupported/Eigen/CXX11/src/Tensor/TensorSyclConvertToDeviceExpression.h\n",
            "-- Installing: /root/.hunter/_Base/70287b1/02ccb06/dffbc08/Build/Eigen/Install/include/eigen3/unsupported/Eigen/CXX11/src/Tensor/TensorDevice.h\n",
            "-- Installing: /root/.hunter/_Base/70287b1/02ccb06/dffbc08/Build/Eigen/Install/include/eigen3/unsupported/Eigen/CXX11/src/Tensor/TensorFFT.h\n",
            "-- Installing: /root/.hunter/_Base/70287b1/02ccb06/dffbc08/Build/Eigen/Install/include/eigen3/unsupported/Eigen/CXX11/src/Tensor/TensorVolumePatch.h\n",
            "-- Installing: /root/.hunter/_Base/70287b1/02ccb06/dffbc08/Build/Eigen/Install/include/eigen3/unsupported/Eigen/CXX11/src/Tensor/TensorForwardDeclarations.h\n",
            "-- Installing: /root/.hunter/_Base/70287b1/02ccb06/dffbc08/Build/Eigen/Install/include/eigen3/unsupported/Eigen/CXX11/src/Tensor/TensorUInt128.h\n",
            "-- Installing: /root/.hunter/_Base/70287b1/02ccb06/dffbc08/Build/Eigen/Install/include/eigen3/unsupported/Eigen/CXX11/src/Tensor/TensorReductionCuda.h\n",
            "-- Installing: /root/.hunter/_Base/70287b1/02ccb06/dffbc08/Build/Eigen/Install/include/eigen3/unsupported/Eigen/CXX11/src/Tensor/TensorMeta.h\n",
            "-- Installing: /root/.hunter/_Base/70287b1/02ccb06/dffbc08/Build/Eigen/Install/include/eigen3/unsupported/Eigen/CXX11/src/Tensor/TensorStriding.h\n",
            "-- Installing: /root/.hunter/_Base/70287b1/02ccb06/dffbc08/Build/Eigen/Install/include/eigen3/unsupported/Eigen/CXX11/src/Tensor/TensorSyclExprConstructor.h\n",
            "-- Installing: /root/.hunter/_Base/70287b1/02ccb06/dffbc08/Build/Eigen/Install/include/eigen3/unsupported/Eigen/CXX11/src/Tensor/TensorCostModel.h\n",
            "-- Installing: /root/.hunter/_Base/70287b1/02ccb06/dffbc08/Build/Eigen/Install/include/eigen3/unsupported/Eigen/CXX11/src/Tensor/TensorRandom.h\n",
            "-- Installing: /root/.hunter/_Base/70287b1/02ccb06/dffbc08/Build/Eigen/Install/include/eigen3/unsupported/Eigen/CXX11/src/Tensor/Tensor.h\n",
            "-- Installing: /root/.hunter/_Base/70287b1/02ccb06/dffbc08/Build/Eigen/Install/include/eigen3/unsupported/Eigen/CXX11/src/Tensor/TensorBroadcasting.h\n",
            "-- Installing: /root/.hunter/_Base/70287b1/02ccb06/dffbc08/Build/Eigen/Install/include/eigen3/unsupported/Eigen/CXX11/src/Tensor/TensorMacros.h\n",
            "-- Installing: /root/.hunter/_Base/70287b1/02ccb06/dffbc08/Build/Eigen/Install/include/eigen3/unsupported/Eigen/CXX11/src/Tensor/TensorEvaluator.h\n",
            "-- Installing: /root/.hunter/_Base/70287b1/02ccb06/dffbc08/Build/Eigen/Install/include/eigen3/unsupported/Eigen/CXX11/src/Tensor/TensorImagePatch.h\n",
            "-- Installing: /root/.hunter/_Base/70287b1/02ccb06/dffbc08/Build/Eigen/Install/include/eigen3/unsupported/Eigen/CXX11/src/Tensor/TensorFunctors.h\n",
            "-- Installing: /root/.hunter/_Base/70287b1/02ccb06/dffbc08/Build/Eigen/Install/include/eigen3/unsupported/Eigen/CXX11/src/Tensor/TensorEvalTo.h\n",
            "-- Installing: /root/.hunter/_Base/70287b1/02ccb06/dffbc08/Build/Eigen/Install/include/eigen3/unsupported/Eigen/CXX11/src/Tensor/TensorContractionBlocking.h\n",
            "-- Installing: /root/.hunter/_Base/70287b1/02ccb06/dffbc08/Build/Eigen/Install/include/eigen3/unsupported/Eigen/CXX11/src/Tensor/TensorSyclExtractFunctors.h\n",
            "-- Installing: /root/.hunter/_Base/70287b1/02ccb06/dffbc08/Build/Eigen/Install/include/eigen3/unsupported/Eigen/CXX11/src/Tensor/TensorReductionSycl.h\n",
            "-- Installing: /root/.hunter/_Base/70287b1/02ccb06/dffbc08/Build/Eigen/Install/include/eigen3/unsupported/Eigen/CXX11/src/Tensor/TensorDeviceSycl.h\n",
            "-- Installing: /root/.hunter/_Base/70287b1/02ccb06/dffbc08/Build/Eigen/Install/include/eigen3/unsupported/Eigen/CXX11/src/Tensor/TensorPatch.h\n",
            "-- Installing: /root/.hunter/_Base/70287b1/02ccb06/dffbc08/Build/Eigen/Install/include/eigen3/unsupported/Eigen/CXX11/src/Tensor/TensorLayoutSwap.h\n",
            "-- Installing: /root/.hunter/_Base/70287b1/02ccb06/dffbc08/Build/Eigen/Install/include/eigen3/unsupported/Eigen/CXX11/src/Tensor/TensorIntDiv.h\n",
            "-- Installing: /root/.hunter/_Base/70287b1/02ccb06/dffbc08/Build/Eigen/Install/include/eigen3/unsupported/Eigen/CXX11/src/Tensor/TensorExpr.h\n",
            "-- Installing: /root/.hunter/_Base/70287b1/02ccb06/dffbc08/Build/Eigen/Install/include/eigen3/unsupported/Eigen/CXX11/src/Tensor/TensorChipping.h\n",
            "-- Installing: /root/.hunter/_Base/70287b1/02ccb06/dffbc08/Build/Eigen/Install/include/eigen3/unsupported/Eigen/CXX11/src/Tensor/TensorGlobalFunctions.h\n",
            "-- Installing: /root/.hunter/_Base/70287b1/02ccb06/dffbc08/Build/Eigen/Install/include/eigen3/unsupported/Eigen/CXX11/src/Tensor/TensorCustomOp.h\n",
            "-- Installing: /root/.hunter/_Base/70287b1/02ccb06/dffbc08/Build/Eigen/Install/include/eigen3/unsupported/Eigen/CXX11/src/Tensor/TensorStorage.h\n",
            "-- Installing: /root/.hunter/_Base/70287b1/02ccb06/dffbc08/Build/Eigen/Install/include/eigen3/unsupported/Eigen/CXX11/src/Tensor/TensorTraits.h\n",
            "-- Installing: /root/.hunter/_Base/70287b1/02ccb06/dffbc08/Build/Eigen/Install/include/eigen3/unsupported/Eigen/CXX11/src/Tensor/TensorShuffling.h\n",
            "-- Installing: /root/.hunter/_Base/70287b1/02ccb06/dffbc08/Build/Eigen/Install/include/eigen3/unsupported/Eigen/CXX11/src/Tensor/TensorArgMax.h\n",
            "-- Installing: /root/.hunter/_Base/70287b1/02ccb06/dffbc08/Build/Eigen/Install/include/eigen3/unsupported/Eigen/CXX11/src/Tensor/TensorPadding.h\n",
            "-- Installing: /root/.hunter/_Base/70287b1/02ccb06/dffbc08/Build/Eigen/Install/include/eigen3/unsupported/Eigen/CXX11/src/Tensor/TensorGenerator.h\n",
            "-- Installing: /root/.hunter/_Base/70287b1/02ccb06/dffbc08/Build/Eigen/Install/include/eigen3/unsupported/Eigen/CXX11/src/Tensor/TensorSyclRun.h\n",
            "-- Installing: /root/.hunter/_Base/70287b1/02ccb06/dffbc08/Build/Eigen/Install/include/eigen3/unsupported/Eigen/CXX11/src/Tensor/TensorConvolution.h\n",
            "-- Installing: /root/.hunter/_Base/70287b1/02ccb06/dffbc08/Build/Eigen/Install/include/eigen3/unsupported/Eigen/CXX11/src/Tensor/TensorExecutor.h\n",
            "-- Installing: /root/.hunter/_Base/70287b1/02ccb06/dffbc08/Build/Eigen/Install/include/eigen3/unsupported/Eigen/CXX11/src/Tensor/TensorSyclTuple.h\n",
            "-- Installing: /root/.hunter/_Base/70287b1/02ccb06/dffbc08/Build/Eigen/Install/include/eigen3/unsupported/Eigen/CXX11/src/Tensor/TensorFixedSize.h\n",
            "loading initial cache file /root/.hunter/_Base/70287b1/02ccb06/dffbc08/Build/Eigen/args.cmake\n",
            "[ 50%] Completed 'Eigen-Release'\n",
            "[ 50%] Built target Eigen-Release\n",
            "Scanning dependencies of target Eigen-Debug\n",
            "[ 56%] Creating directories for 'Eigen-Debug'\n",
            "[ 62%] Performing download step (download, verify and extract) for 'Eigen-Debug'\n",
            "-- verifying file...\n",
            "       file='/root/.hunter/_Base/Download/Eigen/3.3.5/c1801a3/3.3.5.tar.gz'\n",
            "-- File already exists and hash match (skip download):\n",
            "  file='/root/.hunter/_Base/Download/Eigen/3.3.5/c1801a3/3.3.5.tar.gz'\n",
            "  SHA1='c1801a3b37c7fd734c756b9dce4d00a3cd685b7a'\n",
            "-- extracting...\n",
            "     src='/root/.hunter/_Base/Download/Eigen/3.3.5/c1801a3/3.3.5.tar.gz'\n",
            "     dst='/root/.hunter/_Base/70287b1/02ccb06/dffbc08/Build/Eigen/Source'\n",
            "-- extracting... [tar xfz]\n",
            "-- extracting... [analysis]\n",
            "-- extracting... [rename]\n",
            "-- extracting... [clean up]\n",
            "-- extracting... done\n",
            "[ 68%] No patch step for 'Eigen-Debug'\n",
            "[ 75%] No update step for 'Eigen-Debug'\n",
            "[ 81%] Performing configure step for 'Eigen-Debug'\n",
            "loading initial cache file /root/.hunter/_Base/70287b1/02ccb06/dffbc08/cache.cmake\n",
            "loading initial cache file /root/.hunter/_Base/70287b1/02ccb06/dffbc08/Build/Eigen/args.cmake\n",
            "-- The C compiler identification is GNU 7.5.0\n",
            "-- The CXX compiler identification is GNU 7.5.0\n",
            "-- Check for working C compiler: /usr/bin/cc\n",
            "-- Check for working C compiler: /usr/bin/cc -- works\n",
            "-- Detecting C compile features\n",
            "-- Detecting C compile features - done\n",
            "-- Check for working CXX compiler: /usr/bin/c++\n",
            "-- Check for working CXX compiler: /usr/bin/c++ -- works\n",
            "-- Detecting CXX compile features\n",
            "-- Detecting CXX compile features - done\n",
            "-- Performing Test standard_math_library_linked_to_automatically\n",
            "-- Performing Test standard_math_library_linked_to_automatically - Success\n",
            "-- Standard libraries to link to explicitly: none\n",
            "-- Performing Test COMPILER_SUPPORT_WERROR\n",
            "-- Performing Test COMPILER_SUPPORT_WERROR - Success\n",
            "-- Performing Test COMPILER_SUPPORT_pedantic\n",
            "-- Performing Test COMPILER_SUPPORT_pedantic - Success\n",
            "-- Performing Test COMPILER_SUPPORT_Wall\n",
            "-- Performing Test COMPILER_SUPPORT_Wall - Success\n",
            "-- Performing Test COMPILER_SUPPORT_Wextra\n",
            "-- Performing Test COMPILER_SUPPORT_Wextra - Success\n",
            "-- Performing Test COMPILER_SUPPORT_Wundef\n",
            "-- Performing Test COMPILER_SUPPORT_Wundef - Success\n",
            "-- Performing Test COMPILER_SUPPORT_Wcastalign\n",
            "-- Performing Test COMPILER_SUPPORT_Wcastalign - Success\n",
            "-- Performing Test COMPILER_SUPPORT_Wcharsubscripts\n",
            "-- Performing Test COMPILER_SUPPORT_Wcharsubscripts - Success\n",
            "-- Performing Test COMPILER_SUPPORT_Wnonvirtualdtor\n",
            "-- Performing Test COMPILER_SUPPORT_Wnonvirtualdtor - Success\n",
            "-- Performing Test COMPILER_SUPPORT_Wunusedlocaltypedefs\n",
            "-- Performing Test COMPILER_SUPPORT_Wunusedlocaltypedefs - Success\n",
            "-- Performing Test COMPILER_SUPPORT_Wpointerarith\n",
            "-- Performing Test COMPILER_SUPPORT_Wpointerarith - Success\n",
            "-- Performing Test COMPILER_SUPPORT_Wwritestrings\n",
            "-- Performing Test COMPILER_SUPPORT_Wwritestrings - Success\n",
            "-- Performing Test COMPILER_SUPPORT_Wformatsecurity\n",
            "-- Performing Test COMPILER_SUPPORT_Wformatsecurity - Success\n",
            "-- Performing Test COMPILER_SUPPORT_Wshorten64to32\n",
            "-- Performing Test COMPILER_SUPPORT_Wshorten64to32 - Failed\n",
            "-- Performing Test COMPILER_SUPPORT_Wlogicalop\n",
            "-- Performing Test COMPILER_SUPPORT_Wlogicalop - Success\n",
            "-- Performing Test COMPILER_SUPPORT_Wenumconversion\n",
            "-- Performing Test COMPILER_SUPPORT_Wenumconversion - Failed\n",
            "-- Performing Test COMPILER_SUPPORT_Wcpp11extensions\n",
            "-- Performing Test COMPILER_SUPPORT_Wcpp11extensions - Failed\n",
            "-- Performing Test COMPILER_SUPPORT_Wdoublepromotion\n",
            "-- Performing Test COMPILER_SUPPORT_Wdoublepromotion - Success\n",
            "-- Performing Test COMPILER_SUPPORT_Wnopsabi\n",
            "-- Performing Test COMPILER_SUPPORT_Wnopsabi - Success\n",
            "-- Performing Test COMPILER_SUPPORT_Wnovariadicmacros\n",
            "-- Performing Test COMPILER_SUPPORT_Wnovariadicmacros - Success\n",
            "-- Performing Test COMPILER_SUPPORT_Wnolonglong\n",
            "-- Performing Test COMPILER_SUPPORT_Wnolonglong - Success\n",
            "-- Performing Test COMPILER_SUPPORT_fnochecknew\n",
            "-- Performing Test COMPILER_SUPPORT_fnochecknew - Success\n",
            "-- Performing Test COMPILER_SUPPORT_fnocommon\n",
            "-- Performing Test COMPILER_SUPPORT_fnocommon - Success\n",
            "-- Performing Test COMPILER_SUPPORT_fstrictaliasing\n",
            "-- Performing Test COMPILER_SUPPORT_fstrictaliasing - Success\n",
            "-- Performing Test COMPILER_SUPPORT_wd981\n",
            "-- Performing Test COMPILER_SUPPORT_wd981 - Failed\n",
            "-- Performing Test COMPILER_SUPPORT_wd2304\n",
            "-- Performing Test COMPILER_SUPPORT_wd2304 - Failed\n",
            "-- Performing Test COMPILER_SUPPORT_STRICTANSI\n",
            "-- Performing Test COMPILER_SUPPORT_STRICTANSI - Failed\n",
            "-- Performing Test COMPILER_SUPPORT_Qunusedarguments\n",
            "-- Performing Test COMPILER_SUPPORT_Qunusedarguments - Failed\n",
            "-- Performing Test COMPILER_SUPPORT_ansi\n",
            "-- Performing Test COMPILER_SUPPORT_ansi - Success\n",
            "-- Performing Test COMPILER_SUPPORT_OPENMP\n",
            "-- Performing Test COMPILER_SUPPORT_OPENMP - Success\n",
            "-- Performing Test EIGEN_COMPILER_SUPPORT_CPP11\n",
            "-- Performing Test EIGEN_COMPILER_SUPPORT_CPP11 - Success\n",
            "-- Found unsuitable Qt version \"5.9.5\" from /usr/bin/qmake\n",
            "-- The Fortran compiler identification is GNU 7.5.0\n",
            "-- Check for working Fortran compiler: /usr/bin/gfortran\n",
            "-- Check for working Fortran compiler: /usr/bin/gfortran  -- works\n",
            "-- Detecting Fortran compiler ABI info\n",
            "-- Detecting Fortran compiler ABI info - done\n",
            "-- Checking whether /usr/bin/gfortran supports Fortran 90\n",
            "-- Checking whether /usr/bin/gfortran supports Fortran 90 -- yes\n",
            "-- Found unsuitable Qt version \"5.9.5\" from /usr/bin/qmake\n",
            "-- Qt4 not found, so disabling the mandelbrot and opengl demos\n",
            "-- Could NOT find CHOLMOD (missing: CHOLMOD_INCLUDES CHOLMOD_LIBRARIES) \n",
            "-- Could NOT find UMFPACK (missing: UMFPACK_INCLUDES UMFPACK_LIBRARIES) \n",
            "-- Could NOT find SUPERLU (missing: SUPERLU_INCLUDES SUPERLU_LIBRARIES SUPERLU_VERSION_OK) \n",
            "-- A version of Pastix has been found but pastix_nompi.h does not exist in the include directory. Because Eigen tests require a version without MPI, we disable the Pastix backend.\n",
            "-- \n",
            "-- Configured Eigen 3.3.5\n",
            "-- \n",
            "-- Some things you can do now:\n",
            "-- --------------+--------------------------------------------------------------\n",
            "-- Command       |   Description\n",
            "-- --------------+--------------------------------------------------------------\n",
            "-- make install  | Install Eigen. Headers will be installed to:\n",
            "--               |     <CMAKE_INSTALL_PREFIX>/<INCLUDE_INSTALL_DIR>\n",
            "--               |   Using the following values:\n",
            "--               |     CMAKE_INSTALL_PREFIX: /root/.hunter/_Base/70287b1/02ccb06/dffbc08/Build/Eigen/Install\n",
            "--               |     INCLUDE_INSTALL_DIR:  include/eigen3\n",
            "--               |   Change the install location of Eigen headers using:\n",
            "--               |     cmake . -DCMAKE_INSTALL_PREFIX=yourprefix\n",
            "--               |   Or:\n",
            "--               |     cmake . -DINCLUDE_INSTALL_DIR=yourdir\n",
            "-- make doc      | Generate the API documentation, requires Doxygen & LaTeX\n",
            "-- make check    | Build and run the unit-tests. Read this page:\n",
            "--               |   http://eigen.tuxfamily.org/index.php?title=Tests\n",
            "-- make blas     | Build BLAS library (not the same thing as Eigen)\n",
            "-- make uninstall| Removes files installed by make install\n",
            "-- --------------+--------------------------------------------------------------\n",
            "-- \n",
            "-- Configuring done\n",
            "-- Generating done\n",
            "-- Build files have been written to: /root/.hunter/_Base/70287b1/02ccb06/dffbc08/Build/Eigen/Build/Eigen-Debug-prefix/src/Eigen-Debug-build\n",
            "[ 87%] Performing build step for 'Eigen-Debug'\n",
            "[ 93%] Performing install step for 'Eigen-Debug'\n",
            "Install the project...\n",
            "-- Install configuration: \"Debug\"\n",
            "-- Up-to-date: /root/.hunter/_Base/70287b1/02ccb06/dffbc08/Build/Eigen/Install/include/eigen3/signature_of_eigen3_matrix_library\n",
            "-- Installing: /root/.hunter/_Base/70287b1/02ccb06/dffbc08/Build/Eigen/Install/share/pkgconfig/eigen3.pc\n",
            "-- Installing: /root/.hunter/_Base/70287b1/02ccb06/dffbc08/Build/Eigen/Install/share/eigen3/cmake/Eigen3Targets.cmake\n",
            "-- Up-to-date: /root/.hunter/_Base/70287b1/02ccb06/dffbc08/Build/Eigen/Install/share/eigen3/cmake/UseEigen3.cmake\n",
            "-- Installing: /root/.hunter/_Base/70287b1/02ccb06/dffbc08/Build/Eigen/Install/share/eigen3/cmake/Eigen3Config.cmake\n",
            "-- Installing: /root/.hunter/_Base/70287b1/02ccb06/dffbc08/Build/Eigen/Install/share/eigen3/cmake/Eigen3ConfigVersion.cmake\n",
            "-- Up-to-date: /root/.hunter/_Base/70287b1/02ccb06/dffbc08/Build/Eigen/Install/include/eigen3/Eigen/Cholesky\n",
            "-- Up-to-date: /root/.hunter/_Base/70287b1/02ccb06/dffbc08/Build/Eigen/Install/include/eigen3/Eigen/CholmodSupport\n",
            "-- Up-to-date: /root/.hunter/_Base/70287b1/02ccb06/dffbc08/Build/Eigen/Install/include/eigen3/Eigen/Core\n",
            "-- Up-to-date: /root/.hunter/_Base/70287b1/02ccb06/dffbc08/Build/Eigen/Install/include/eigen3/Eigen/Dense\n",
            "-- Up-to-date: /root/.hunter/_Base/70287b1/02ccb06/dffbc08/Build/Eigen/Install/include/eigen3/Eigen/Eigen\n",
            "-- Up-to-date: /root/.hunter/_Base/70287b1/02ccb06/dffbc08/Build/Eigen/Install/include/eigen3/Eigen/Eigenvalues\n",
            "-- Up-to-date: /root/.hunter/_Base/70287b1/02ccb06/dffbc08/Build/Eigen/Install/include/eigen3/Eigen/Geometry\n",
            "-- Up-to-date: /root/.hunter/_Base/70287b1/02ccb06/dffbc08/Build/Eigen/Install/include/eigen3/Eigen/Householder\n",
            "-- Up-to-date: /root/.hunter/_Base/70287b1/02ccb06/dffbc08/Build/Eigen/Install/include/eigen3/Eigen/IterativeLinearSolvers\n",
            "-- Up-to-date: /root/.hunter/_Base/70287b1/02ccb06/dffbc08/Build/Eigen/Install/include/eigen3/Eigen/Jacobi\n",
            "-- Up-to-date: /root/.hunter/_Base/70287b1/02ccb06/dffbc08/Build/Eigen/Install/include/eigen3/Eigen/LU\n",
            "-- Up-to-date: /root/.hunter/_Base/70287b1/02ccb06/dffbc08/Build/Eigen/Install/include/eigen3/Eigen/MetisSupport\n",
            "-- Up-to-date: /root/.hunter/_Base/70287b1/02ccb06/dffbc08/Build/Eigen/Install/include/eigen3/Eigen/OrderingMethods\n",
            "-- Up-to-date: /root/.hunter/_Base/70287b1/02ccb06/dffbc08/Build/Eigen/Install/include/eigen3/Eigen/PaStiXSupport\n",
            "-- Up-to-date: /root/.hunter/_Base/70287b1/02ccb06/dffbc08/Build/Eigen/Install/include/eigen3/Eigen/PardisoSupport\n",
            "-- Up-to-date: /root/.hunter/_Base/70287b1/02ccb06/dffbc08/Build/Eigen/Install/include/eigen3/Eigen/QR\n",
            "-- Up-to-date: /root/.hunter/_Base/70287b1/02ccb06/dffbc08/Build/Eigen/Install/include/eigen3/Eigen/QtAlignedMalloc\n",
            "-- Up-to-date: /root/.hunter/_Base/70287b1/02ccb06/dffbc08/Build/Eigen/Install/include/eigen3/Eigen/SPQRSupport\n",
            "-- Up-to-date: /root/.hunter/_Base/70287b1/02ccb06/dffbc08/Build/Eigen/Install/include/eigen3/Eigen/SVD\n",
            "-- Up-to-date: /root/.hunter/_Base/70287b1/02ccb06/dffbc08/Build/Eigen/Install/include/eigen3/Eigen/Sparse\n",
            "-- Up-to-date: /root/.hunter/_Base/70287b1/02ccb06/dffbc08/Build/Eigen/Install/include/eigen3/Eigen/SparseCholesky\n",
            "-- Up-to-date: /root/.hunter/_Base/70287b1/02ccb06/dffbc08/Build/Eigen/Install/include/eigen3/Eigen/SparseCore\n",
            "-- Up-to-date: /root/.hunter/_Base/70287b1/02ccb06/dffbc08/Build/Eigen/Install/include/eigen3/Eigen/SparseLU\n",
            "-- Up-to-date: /root/.hunter/_Base/70287b1/02ccb06/dffbc08/Build/Eigen/Install/include/eigen3/Eigen/SparseQR\n",
            "-- Up-to-date: /root/.hunter/_Base/70287b1/02ccb06/dffbc08/Build/Eigen/Install/include/eigen3/Eigen/StdDeque\n",
            "-- Up-to-date: /root/.hunter/_Base/70287b1/02ccb06/dffbc08/Build/Eigen/Install/include/eigen3/Eigen/StdList\n",
            "-- Up-to-date: /root/.hunter/_Base/70287b1/02ccb06/dffbc08/Build/Eigen/Install/include/eigen3/Eigen/StdVector\n",
            "-- Up-to-date: /root/.hunter/_Base/70287b1/02ccb06/dffbc08/Build/Eigen/Install/include/eigen3/Eigen/SuperLUSupport\n",
            "-- Up-to-date: /root/.hunter/_Base/70287b1/02ccb06/dffbc08/Build/Eigen/Install/include/eigen3/Eigen/UmfPackSupport\n",
            "-- Up-to-date: /root/.hunter/_Base/70287b1/02ccb06/dffbc08/Build/Eigen/Install/include/eigen3/Eigen/src\n",
            "-- Up-to-date: /root/.hunter/_Base/70287b1/02ccb06/dffbc08/Build/Eigen/Install/include/eigen3/Eigen/src/SparseLU\n",
            "-- Up-to-date: /root/.hunter/_Base/70287b1/02ccb06/dffbc08/Build/Eigen/Install/include/eigen3/Eigen/src/SparseLU/SparseLU_relax_snode.h\n",
            "-- Up-to-date: /root/.hunter/_Base/70287b1/02ccb06/dffbc08/Build/Eigen/Install/include/eigen3/Eigen/src/SparseLU/SparseLU_gemm_kernel.h\n",
            "-- Up-to-date: /root/.hunter/_Base/70287b1/02ccb06/dffbc08/Build/Eigen/Install/include/eigen3/Eigen/src/SparseLU/SparseLU_column_bmod.h\n",
            "-- Up-to-date: /root/.hunter/_Base/70287b1/02ccb06/dffbc08/Build/Eigen/Install/include/eigen3/Eigen/src/SparseLU/SparseLUImpl.h\n",
            "-- Up-to-date: /root/.hunter/_Base/70287b1/02ccb06/dffbc08/Build/Eigen/Install/include/eigen3/Eigen/src/SparseLU/SparseLU_heap_relax_snode.h\n",
            "-- Up-to-date: /root/.hunter/_Base/70287b1/02ccb06/dffbc08/Build/Eigen/Install/include/eigen3/Eigen/src/SparseLU/SparseLU_Memory.h\n",
            "-- Up-to-date: /root/.hunter/_Base/70287b1/02ccb06/dffbc08/Build/Eigen/Install/include/eigen3/Eigen/src/SparseLU/SparseLU_SupernodalMatrix.h\n",
            "-- Up-to-date: /root/.hunter/_Base/70287b1/02ccb06/dffbc08/Build/Eigen/Install/include/eigen3/Eigen/src/SparseLU/SparseLU_pruneL.h\n",
            "-- Up-to-date: /root/.hunter/_Base/70287b1/02ccb06/dffbc08/Build/Eigen/Install/include/eigen3/Eigen/src/SparseLU/SparseLU_copy_to_ucol.h\n",
            "-- Up-to-date: /root/.hunter/_Base/70287b1/02ccb06/dffbc08/Build/Eigen/Install/include/eigen3/Eigen/src/SparseLU/SparseLU_panel_dfs.h\n",
            "-- Up-to-date: /root/.hunter/_Base/70287b1/02ccb06/dffbc08/Build/Eigen/Install/include/eigen3/Eigen/src/SparseLU/SparseLU_panel_bmod.h\n",
            "-- Up-to-date: /root/.hunter/_Base/70287b1/02ccb06/dffbc08/Build/Eigen/Install/include/eigen3/Eigen/src/SparseLU/SparseLU_kernel_bmod.h\n",
            "-- Up-to-date: /root/.hunter/_Base/70287b1/02ccb06/dffbc08/Build/Eigen/Install/include/eigen3/Eigen/src/SparseLU/SparseLU_Utils.h\n",
            "-- Up-to-date: /root/.hunter/_Base/70287b1/02ccb06/dffbc08/Build/Eigen/Install/include/eigen3/Eigen/src/SparseLU/SparseLU.h\n",
            "-- Up-to-date: /root/.hunter/_Base/70287b1/02ccb06/dffbc08/Build/Eigen/Install/include/eigen3/Eigen/src/SparseLU/SparseLU_column_dfs.h\n",
            "-- Up-to-date: /root/.hunter/_Base/70287b1/02ccb06/dffbc08/Build/Eigen/Install/include/eigen3/Eigen/src/SparseLU/SparseLU_pivotL.h\n",
            "-- Up-to-date: /root/.hunter/_Base/70287b1/02ccb06/dffbc08/Build/Eigen/Install/include/eigen3/Eigen/src/SparseLU/SparseLU_Structs.h\n",
            "-- Up-to-date: /root/.hunter/_Base/70287b1/02ccb06/dffbc08/Build/Eigen/Install/include/eigen3/Eigen/src/CholmodSupport\n",
            "-- Up-to-date: /root/.hunter/_Base/70287b1/02ccb06/dffbc08/Build/Eigen/Install/include/eigen3/Eigen/src/CholmodSupport/CholmodSupport.h\n",
            "-- Up-to-date: /root/.hunter/_Base/70287b1/02ccb06/dffbc08/Build/Eigen/Install/include/eigen3/Eigen/src/StlSupport\n",
            "-- Up-to-date: /root/.hunter/_Base/70287b1/02ccb06/dffbc08/Build/Eigen/Install/include/eigen3/Eigen/src/StlSupport/StdDeque.h\n",
            "-- Up-to-date: /root/.hunter/_Base/70287b1/02ccb06/dffbc08/Build/Eigen/Install/include/eigen3/Eigen/src/StlSupport/StdVector.h\n",
            "-- Up-to-date: /root/.hunter/_Base/70287b1/02ccb06/dffbc08/Build/Eigen/Install/include/eigen3/Eigen/src/StlSupport/StdList.h\n",
            "-- Up-to-date: /root/.hunter/_Base/70287b1/02ccb06/dffbc08/Build/Eigen/Install/include/eigen3/Eigen/src/StlSupport/details.h\n",
            "-- Up-to-date: /root/.hunter/_Base/70287b1/02ccb06/dffbc08/Build/Eigen/Install/include/eigen3/Eigen/src/Core\n",
            "-- Up-to-date: /root/.hunter/_Base/70287b1/02ccb06/dffbc08/Build/Eigen/Install/include/eigen3/Eigen/src/Core/GlobalFunctions.h\n",
            "-- Up-to-date: /root/.hunter/_Base/70287b1/02ccb06/dffbc08/Build/Eigen/Install/include/eigen3/Eigen/src/Core/IO.h\n",
            "-- Up-to-date: /root/.hunter/_Base/70287b1/02ccb06/dffbc08/Build/Eigen/Install/include/eigen3/Eigen/src/Core/MatrixBase.h\n",
            "-- Up-to-date: /root/.hunter/_Base/70287b1/02ccb06/dffbc08/Build/Eigen/Install/include/eigen3/Eigen/src/Core/MapBase.h\n",
            "-- Up-to-date: /root/.hunter/_Base/70287b1/02ccb06/dffbc08/Build/Eigen/Install/include/eigen3/Eigen/src/Core/DiagonalProduct.h\n",
            "-- Up-to-date: /root/.hunter/_Base/70287b1/02ccb06/dffbc08/Build/Eigen/Install/include/eigen3/Eigen/src/Core/DiagonalMatrix.h\n",
            "-- Up-to-date: /root/.hunter/_Base/70287b1/02ccb06/dffbc08/Build/Eigen/Install/include/eigen3/Eigen/src/Core/ArrayBase.h\n",
            "-- Up-to-date: /root/.hunter/_Base/70287b1/02ccb06/dffbc08/Build/Eigen/Install/include/eigen3/Eigen/src/Core/Block.h\n",
            "-- Up-to-date: /root/.hunter/_Base/70287b1/02ccb06/dffbc08/Build/Eigen/Install/include/eigen3/Eigen/src/Core/DenseCoeffsBase.h\n",
            "-- Up-to-date: /root/.hunter/_Base/70287b1/02ccb06/dffbc08/Build/Eigen/Install/include/eigen3/Eigen/src/Core/util\n",
            "-- Up-to-date: /root/.hunter/_Base/70287b1/02ccb06/dffbc08/Build/Eigen/Install/include/eigen3/Eigen/src/Core/util/ReenableStupidWarnings.h\n",
            "-- Up-to-date: /root/.hunter/_Base/70287b1/02ccb06/dffbc08/Build/Eigen/Install/include/eigen3/Eigen/src/Core/util/ForwardDeclarations.h\n",
            "-- Up-to-date: /root/.hunter/_Base/70287b1/02ccb06/dffbc08/Build/Eigen/Install/include/eigen3/Eigen/src/Core/util/NonMPL2.h\n",
            "-- Up-to-date: /root/.hunter/_Base/70287b1/02ccb06/dffbc08/Build/Eigen/Install/include/eigen3/Eigen/src/Core/util/DisableStupidWarnings.h\n",
            "-- Up-to-date: /root/.hunter/_Base/70287b1/02ccb06/dffbc08/Build/Eigen/Install/include/eigen3/Eigen/src/Core/util/StaticAssert.h\n",
            "-- Up-to-date: /root/.hunter/_Base/70287b1/02ccb06/dffbc08/Build/Eigen/Install/include/eigen3/Eigen/src/Core/util/MKL_support.h\n",
            "-- Up-to-date: /root/.hunter/_Base/70287b1/02ccb06/dffbc08/Build/Eigen/Install/include/eigen3/Eigen/src/Core/util/Constants.h\n",
            "-- Up-to-date: /root/.hunter/_Base/70287b1/02ccb06/dffbc08/Build/Eigen/Install/include/eigen3/Eigen/src/Core/util/Memory.h\n",
            "-- Up-to-date: /root/.hunter/_Base/70287b1/02ccb06/dffbc08/Build/Eigen/Install/include/eigen3/Eigen/src/Core/util/BlasUtil.h\n",
            "-- Up-to-date: /root/.hunter/_Base/70287b1/02ccb06/dffbc08/Build/Eigen/Install/include/eigen3/Eigen/src/Core/util/Macros.h\n",
            "-- Up-to-date: /root/.hunter/_Base/70287b1/02ccb06/dffbc08/Build/Eigen/Install/include/eigen3/Eigen/src/Core/util/XprHelper.h\n",
            "-- Up-to-date: /root/.hunter/_Base/70287b1/02ccb06/dffbc08/Build/Eigen/Install/include/eigen3/Eigen/src/Core/util/Meta.h\n",
            "-- Up-to-date: /root/.hunter/_Base/70287b1/02ccb06/dffbc08/Build/Eigen/Install/include/eigen3/Eigen/src/Core/Stride.h\n",
            "-- Up-to-date: /root/.hunter/_Base/70287b1/02ccb06/dffbc08/Build/Eigen/Install/include/eigen3/Eigen/src/Core/VectorBlock.h\n",
            "-- Up-to-date: /root/.hunter/_Base/70287b1/02ccb06/dffbc08/Build/Eigen/Install/include/eigen3/Eigen/src/Core/SelfAdjointView.h\n",
            "-- Up-to-date: /root/.hunter/_Base/70287b1/02ccb06/dffbc08/Build/Eigen/Install/include/eigen3/Eigen/src/Core/Diagonal.h\n",
            "-- Up-to-date: /root/.hunter/_Base/70287b1/02ccb06/dffbc08/Build/Eigen/Install/include/eigen3/Eigen/src/Core/BooleanRedux.h\n",
            "-- Up-to-date: /root/.hunter/_Base/70287b1/02ccb06/dffbc08/Build/Eigen/Install/include/eigen3/Eigen/src/Core/CwiseBinaryOp.h\n",
            "-- Up-to-date: /root/.hunter/_Base/70287b1/02ccb06/dffbc08/Build/Eigen/Install/include/eigen3/Eigen/src/Core/functors\n",
            "-- Up-to-date: /root/.hunter/_Base/70287b1/02ccb06/dffbc08/Build/Eigen/Install/include/eigen3/Eigen/src/Core/functors/NullaryFunctors.h\n",
            "-- Up-to-date: /root/.hunter/_Base/70287b1/02ccb06/dffbc08/Build/Eigen/Install/include/eigen3/Eigen/src/Core/functors/AssignmentFunctors.h\n",
            "-- Up-to-date: /root/.hunter/_Base/70287b1/02ccb06/dffbc08/Build/Eigen/Install/include/eigen3/Eigen/src/Core/functors/UnaryFunctors.h\n",
            "-- Up-to-date: /root/.hunter/_Base/70287b1/02ccb06/dffbc08/Build/Eigen/Install/include/eigen3/Eigen/src/Core/functors/StlFunctors.h\n",
            "-- Up-to-date: /root/.hunter/_Base/70287b1/02ccb06/dffbc08/Build/Eigen/Install/include/eigen3/Eigen/src/Core/functors/TernaryFunctors.h\n",
            "-- Up-to-date: /root/.hunter/_Base/70287b1/02ccb06/dffbc08/Build/Eigen/Install/include/eigen3/Eigen/src/Core/functors/BinaryFunctors.h\n",
            "-- Up-to-date: /root/.hunter/_Base/70287b1/02ccb06/dffbc08/Build/Eigen/Install/include/eigen3/Eigen/src/Core/DenseBase.h\n",
            "-- Up-to-date: /root/.hunter/_Base/70287b1/02ccb06/dffbc08/Build/Eigen/Install/include/eigen3/Eigen/src/Core/StableNorm.h\n",
            "-- Up-to-date: /root/.hunter/_Base/70287b1/02ccb06/dffbc08/Build/Eigen/Install/include/eigen3/Eigen/src/Core/VectorwiseOp.h\n",
            "-- Up-to-date: /root/.hunter/_Base/70287b1/02ccb06/dffbc08/Build/Eigen/Install/include/eigen3/Eigen/src/Core/Map.h\n",
            "-- Up-to-date: /root/.hunter/_Base/70287b1/02ccb06/dffbc08/Build/Eigen/Install/include/eigen3/Eigen/src/Core/products\n",
            "-- Up-to-date: /root/.hunter/_Base/70287b1/02ccb06/dffbc08/Build/Eigen/Install/include/eigen3/Eigen/src/Core/products/GeneralMatrixVector_BLAS.h\n",
            "-- Up-to-date: /root/.hunter/_Base/70287b1/02ccb06/dffbc08/Build/Eigen/Install/include/eigen3/Eigen/src/Core/products/SelfadjointMatrixVector.h\n",
            "-- Up-to-date: /root/.hunter/_Base/70287b1/02ccb06/dffbc08/Build/Eigen/Install/include/eigen3/Eigen/src/Core/products/TriangularMatrixMatrix_BLAS.h\n",
            "-- Up-to-date: /root/.hunter/_Base/70287b1/02ccb06/dffbc08/Build/Eigen/Install/include/eigen3/Eigen/src/Core/products/SelfadjointMatrixMatrix_BLAS.h\n",
            "-- Up-to-date: /root/.hunter/_Base/70287b1/02ccb06/dffbc08/Build/Eigen/Install/include/eigen3/Eigen/src/Core/products/TriangularSolverMatrix.h\n",
            "-- Up-to-date: /root/.hunter/_Base/70287b1/02ccb06/dffbc08/Build/Eigen/Install/include/eigen3/Eigen/src/Core/products/GeneralMatrixMatrix.h\n",
            "-- Up-to-date: /root/.hunter/_Base/70287b1/02ccb06/dffbc08/Build/Eigen/Install/include/eigen3/Eigen/src/Core/products/GeneralMatrixMatrix_BLAS.h\n",
            "-- Up-to-date: /root/.hunter/_Base/70287b1/02ccb06/dffbc08/Build/Eigen/Install/include/eigen3/Eigen/src/Core/products/GeneralMatrixMatrixTriangular.h\n",
            "-- Up-to-date: /root/.hunter/_Base/70287b1/02ccb06/dffbc08/Build/Eigen/Install/include/eigen3/Eigen/src/Core/products/TriangularMatrixVector.h\n",
            "-- Up-to-date: /root/.hunter/_Base/70287b1/02ccb06/dffbc08/Build/Eigen/Install/include/eigen3/Eigen/src/Core/products/GeneralBlockPanelKernel.h\n",
            "-- Up-to-date: /root/.hunter/_Base/70287b1/02ccb06/dffbc08/Build/Eigen/Install/include/eigen3/Eigen/src/Core/products/TriangularMatrixMatrix.h\n",
            "-- Up-to-date: /root/.hunter/_Base/70287b1/02ccb06/dffbc08/Build/Eigen/Install/include/eigen3/Eigen/src/Core/products/SelfadjointMatrixVector_BLAS.h\n",
            "-- Up-to-date: /root/.hunter/_Base/70287b1/02ccb06/dffbc08/Build/Eigen/Install/include/eigen3/Eigen/src/Core/products/SelfadjointProduct.h\n",
            "-- Up-to-date: /root/.hunter/_Base/70287b1/02ccb06/dffbc08/Build/Eigen/Install/include/eigen3/Eigen/src/Core/products/SelfadjointRank2Update.h\n",
            "-- Up-to-date: /root/.hunter/_Base/70287b1/02ccb06/dffbc08/Build/Eigen/Install/include/eigen3/Eigen/src/Core/products/TriangularSolverVector.h\n",
            "-- Up-to-date: /root/.hunter/_Base/70287b1/02ccb06/dffbc08/Build/Eigen/Install/include/eigen3/Eigen/src/Core/products/GeneralMatrixMatrixTriangular_BLAS.h\n",
            "-- Up-to-date: /root/.hunter/_Base/70287b1/02ccb06/dffbc08/Build/Eigen/Install/include/eigen3/Eigen/src/Core/products/TriangularMatrixVector_BLAS.h\n",
            "-- Up-to-date: /root/.hunter/_Base/70287b1/02ccb06/dffbc08/Build/Eigen/Install/include/eigen3/Eigen/src/Core/products/SelfadjointMatrixMatrix.h\n",
            "-- Up-to-date: /root/.hunter/_Base/70287b1/02ccb06/dffbc08/Build/Eigen/Install/include/eigen3/Eigen/src/Core/products/GeneralMatrixVector.h\n",
            "-- Up-to-date: /root/.hunter/_Base/70287b1/02ccb06/dffbc08/Build/Eigen/Install/include/eigen3/Eigen/src/Core/products/Parallelizer.h\n",
            "-- Up-to-date: /root/.hunter/_Base/70287b1/02ccb06/dffbc08/Build/Eigen/Install/include/eigen3/Eigen/src/Core/products/TriangularSolverMatrix_BLAS.h\n",
            "-- Up-to-date: /root/.hunter/_Base/70287b1/02ccb06/dffbc08/Build/Eigen/Install/include/eigen3/Eigen/src/Core/Redux.h\n",
            "-- Up-to-date: /root/.hunter/_Base/70287b1/02ccb06/dffbc08/Build/Eigen/Install/include/eigen3/Eigen/src/Core/CommaInitializer.h\n",
            "-- Up-to-date: /root/.hunter/_Base/70287b1/02ccb06/dffbc08/Build/Eigen/Install/include/eigen3/Eigen/src/Core/Replicate.h\n",
            "-- Up-to-date: /root/.hunter/_Base/70287b1/02ccb06/dffbc08/Build/Eigen/Install/include/eigen3/Eigen/src/Core/Assign.h\n",
            "-- Up-to-date: /root/.hunter/_Base/70287b1/02ccb06/dffbc08/Build/Eigen/Install/include/eigen3/Eigen/src/Core/Array.h\n",
            "-- Up-to-date: /root/.hunter/_Base/70287b1/02ccb06/dffbc08/Build/Eigen/Install/include/eigen3/Eigen/src/Core/Inverse.h\n",
            "-- Up-to-date: /root/.hunter/_Base/70287b1/02ccb06/dffbc08/Build/Eigen/Install/include/eigen3/Eigen/src/Core/CwiseNullaryOp.h\n",
            "-- Up-to-date: /root/.hunter/_Base/70287b1/02ccb06/dffbc08/Build/Eigen/Install/include/eigen3/Eigen/src/Core/BandMatrix.h\n",
            "-- Up-to-date: /root/.hunter/_Base/70287b1/02ccb06/dffbc08/Build/Eigen/Install/include/eigen3/Eigen/src/Core/Transpositions.h\n",
            "-- Up-to-date: /root/.hunter/_Base/70287b1/02ccb06/dffbc08/Build/Eigen/Install/include/eigen3/Eigen/src/Core/Swap.h\n",
            "-- Up-to-date: /root/.hunter/_Base/70287b1/02ccb06/dffbc08/Build/Eigen/Install/include/eigen3/Eigen/src/Core/ConditionEstimator.h\n",
            "-- Up-to-date: /root/.hunter/_Base/70287b1/02ccb06/dffbc08/Build/Eigen/Install/include/eigen3/Eigen/src/Core/CoreEvaluators.h\n",
            "-- Up-to-date: /root/.hunter/_Base/70287b1/02ccb06/dffbc08/Build/Eigen/Install/include/eigen3/Eigen/src/Core/AssignEvaluator.h\n",
            "-- Up-to-date: /root/.hunter/_Base/70287b1/02ccb06/dffbc08/Build/Eigen/Install/include/eigen3/Eigen/src/Core/ForceAlignedAccess.h\n",
            "-- Up-to-date: /root/.hunter/_Base/70287b1/02ccb06/dffbc08/Build/Eigen/Install/include/eigen3/Eigen/src/Core/GeneralProduct.h\n",
            "-- Up-to-date: /root/.hunter/_Base/70287b1/02ccb06/dffbc08/Build/Eigen/Install/include/eigen3/Eigen/src/Core/Fuzzy.h\n",
            "-- Up-to-date: /root/.hunter/_Base/70287b1/02ccb06/dffbc08/Build/Eigen/Install/include/eigen3/Eigen/src/Core/MathFunctionsImpl.h\n",
            "-- Up-to-date: /root/.hunter/_Base/70287b1/02ccb06/dffbc08/Build/Eigen/Install/include/eigen3/Eigen/src/Core/Assign_MKL.h\n",
            "-- Up-to-date: /root/.hunter/_Base/70287b1/02ccb06/dffbc08/Build/Eigen/Install/include/eigen3/Eigen/src/Core/Random.h\n",
            "-- Up-to-date: /root/.hunter/_Base/70287b1/02ccb06/dffbc08/Build/Eigen/Install/include/eigen3/Eigen/src/Core/CwiseUnaryOp.h\n",
            "-- Up-to-date: /root/.hunter/_Base/70287b1/02ccb06/dffbc08/Build/Eigen/Install/include/eigen3/Eigen/src/Core/ReturnByValue.h\n",
            "-- Up-to-date: /root/.hunter/_Base/70287b1/02ccb06/dffbc08/Build/Eigen/Install/include/eigen3/Eigen/src/Core/MathFunctions.h\n",
            "-- Up-to-date: /root/.hunter/_Base/70287b1/02ccb06/dffbc08/Build/Eigen/Install/include/eigen3/Eigen/src/Core/NoAlias.h\n",
            "-- Up-to-date: /root/.hunter/_Base/70287b1/02ccb06/dffbc08/Build/Eigen/Install/include/eigen3/Eigen/src/Core/NestByValue.h\n",
            "-- Up-to-date: /root/.hunter/_Base/70287b1/02ccb06/dffbc08/Build/Eigen/Install/include/eigen3/Eigen/src/Core/Ref.h\n",
            "-- Up-to-date: /root/.hunter/_Base/70287b1/02ccb06/dffbc08/Build/Eigen/Install/include/eigen3/Eigen/src/Core/ArrayWrapper.h\n",
            "-- Up-to-date: /root/.hunter/_Base/70287b1/02ccb06/dffbc08/Build/Eigen/Install/include/eigen3/Eigen/src/Core/Dot.h\n",
            "-- Up-to-date: /root/.hunter/_Base/70287b1/02ccb06/dffbc08/Build/Eigen/Install/include/eigen3/Eigen/src/Core/EigenBase.h\n",
            "-- Up-to-date: /root/.hunter/_Base/70287b1/02ccb06/dffbc08/Build/Eigen/Install/include/eigen3/Eigen/src/Core/SolverBase.h\n",
            "-- Up-to-date: /root/.hunter/_Base/70287b1/02ccb06/dffbc08/Build/Eigen/Install/include/eigen3/Eigen/src/Core/TriangularMatrix.h\n",
            "-- Up-to-date: /root/.hunter/_Base/70287b1/02ccb06/dffbc08/Build/Eigen/Install/include/eigen3/Eigen/src/Core/Product.h\n",
            "-- Up-to-date: /root/.hunter/_Base/70287b1/02ccb06/dffbc08/Build/Eigen/Install/include/eigen3/Eigen/src/Core/CoreIterators.h\n",
            "-- Up-to-date: /root/.hunter/_Base/70287b1/02ccb06/dffbc08/Build/Eigen/Install/include/eigen3/Eigen/src/Core/Matrix.h\n",
            "-- Up-to-date: /root/.hunter/_Base/70287b1/02ccb06/dffbc08/Build/Eigen/Install/include/eigen3/Eigen/src/Core/SolveTriangular.h\n",
            "-- Up-to-date: /root/.hunter/_Base/70287b1/02ccb06/dffbc08/Build/Eigen/Install/include/eigen3/Eigen/src/Core/PlainObjectBase.h\n",
            "-- Up-to-date: /root/.hunter/_Base/70287b1/02ccb06/dffbc08/Build/Eigen/Install/include/eigen3/Eigen/src/Core/PermutationMatrix.h\n",
            "-- Up-to-date: /root/.hunter/_Base/70287b1/02ccb06/dffbc08/Build/Eigen/Install/include/eigen3/Eigen/src/Core/CwiseUnaryView.h\n",
            "-- Up-to-date: /root/.hunter/_Base/70287b1/02ccb06/dffbc08/Build/Eigen/Install/include/eigen3/Eigen/src/Core/Select.h\n",
            "-- Up-to-date: /root/.hunter/_Base/70287b1/02ccb06/dffbc08/Build/Eigen/Install/include/eigen3/Eigen/src/Core/Visitor.h\n",
            "-- Up-to-date: /root/.hunter/_Base/70287b1/02ccb06/dffbc08/Build/Eigen/Install/include/eigen3/Eigen/src/Core/CwiseTernaryOp.h\n",
            "-- Up-to-date: /root/.hunter/_Base/70287b1/02ccb06/dffbc08/Build/Eigen/Install/include/eigen3/Eigen/src/Core/Solve.h\n",
            "-- Up-to-date: /root/.hunter/_Base/70287b1/02ccb06/dffbc08/Build/Eigen/Install/include/eigen3/Eigen/src/Core/DenseStorage.h\n",
            "-- Up-to-date: /root/.hunter/_Base/70287b1/02ccb06/dffbc08/Build/Eigen/Install/include/eigen3/Eigen/src/Core/GenericPacketMath.h\n",
            "-- Up-to-date: /root/.hunter/_Base/70287b1/02ccb06/dffbc08/Build/Eigen/Install/include/eigen3/Eigen/src/Core/SelfCwiseBinaryOp.h\n",
            "-- Up-to-date: /root/.hunter/_Base/70287b1/02ccb06/dffbc08/Build/Eigen/Install/include/eigen3/Eigen/src/Core/Transpose.h\n",
            "-- Up-to-date: /root/.hunter/_Base/70287b1/02ccb06/dffbc08/Build/Eigen/Install/include/eigen3/Eigen/src/Core/Reverse.h\n",
            "-- Up-to-date: /root/.hunter/_Base/70287b1/02ccb06/dffbc08/Build/Eigen/Install/include/eigen3/Eigen/src/Core/arch\n",
            "-- Up-to-date: /root/.hunter/_Base/70287b1/02ccb06/dffbc08/Build/Eigen/Install/include/eigen3/Eigen/src/Core/arch/CUDA\n",
            "-- Up-to-date: /root/.hunter/_Base/70287b1/02ccb06/dffbc08/Build/Eigen/Install/include/eigen3/Eigen/src/Core/arch/CUDA/PacketMathHalf.h\n",
            "-- Up-to-date: /root/.hunter/_Base/70287b1/02ccb06/dffbc08/Build/Eigen/Install/include/eigen3/Eigen/src/Core/arch/CUDA/TypeCasting.h\n",
            "-- Up-to-date: /root/.hunter/_Base/70287b1/02ccb06/dffbc08/Build/Eigen/Install/include/eigen3/Eigen/src/Core/arch/CUDA/Complex.h\n",
            "-- Up-to-date: /root/.hunter/_Base/70287b1/02ccb06/dffbc08/Build/Eigen/Install/include/eigen3/Eigen/src/Core/arch/CUDA/MathFunctions.h\n",
            "-- Up-to-date: /root/.hunter/_Base/70287b1/02ccb06/dffbc08/Build/Eigen/Install/include/eigen3/Eigen/src/Core/arch/CUDA/PacketMath.h\n",
            "-- Up-to-date: /root/.hunter/_Base/70287b1/02ccb06/dffbc08/Build/Eigen/Install/include/eigen3/Eigen/src/Core/arch/CUDA/Half.h\n",
            "-- Up-to-date: /root/.hunter/_Base/70287b1/02ccb06/dffbc08/Build/Eigen/Install/include/eigen3/Eigen/src/Core/arch/SSE\n",
            "-- Up-to-date: /root/.hunter/_Base/70287b1/02ccb06/dffbc08/Build/Eigen/Install/include/eigen3/Eigen/src/Core/arch/SSE/TypeCasting.h\n",
            "-- Up-to-date: /root/.hunter/_Base/70287b1/02ccb06/dffbc08/Build/Eigen/Install/include/eigen3/Eigen/src/Core/arch/SSE/Complex.h\n",
            "-- Up-to-date: /root/.hunter/_Base/70287b1/02ccb06/dffbc08/Build/Eigen/Install/include/eigen3/Eigen/src/Core/arch/SSE/MathFunctions.h\n",
            "-- Up-to-date: /root/.hunter/_Base/70287b1/02ccb06/dffbc08/Build/Eigen/Install/include/eigen3/Eigen/src/Core/arch/SSE/PacketMath.h\n",
            "-- Up-to-date: /root/.hunter/_Base/70287b1/02ccb06/dffbc08/Build/Eigen/Install/include/eigen3/Eigen/src/Core/arch/ZVector\n",
            "-- Up-to-date: /root/.hunter/_Base/70287b1/02ccb06/dffbc08/Build/Eigen/Install/include/eigen3/Eigen/src/Core/arch/ZVector/Complex.h\n",
            "-- Up-to-date: /root/.hunter/_Base/70287b1/02ccb06/dffbc08/Build/Eigen/Install/include/eigen3/Eigen/src/Core/arch/ZVector/MathFunctions.h\n",
            "-- Up-to-date: /root/.hunter/_Base/70287b1/02ccb06/dffbc08/Build/Eigen/Install/include/eigen3/Eigen/src/Core/arch/ZVector/PacketMath.h\n",
            "-- Up-to-date: /root/.hunter/_Base/70287b1/02ccb06/dffbc08/Build/Eigen/Install/include/eigen3/Eigen/src/Core/arch/Default\n",
            "-- Up-to-date: /root/.hunter/_Base/70287b1/02ccb06/dffbc08/Build/Eigen/Install/include/eigen3/Eigen/src/Core/arch/Default/Settings.h\n",
            "-- Up-to-date: /root/.hunter/_Base/70287b1/02ccb06/dffbc08/Build/Eigen/Install/include/eigen3/Eigen/src/Core/arch/Default/ConjHelper.h\n",
            "-- Up-to-date: /root/.hunter/_Base/70287b1/02ccb06/dffbc08/Build/Eigen/Install/include/eigen3/Eigen/src/Core/arch/NEON\n",
            "-- Up-to-date: /root/.hunter/_Base/70287b1/02ccb06/dffbc08/Build/Eigen/Install/include/eigen3/Eigen/src/Core/arch/NEON/Complex.h\n",
            "-- Up-to-date: /root/.hunter/_Base/70287b1/02ccb06/dffbc08/Build/Eigen/Install/include/eigen3/Eigen/src/Core/arch/NEON/MathFunctions.h\n",
            "-- Up-to-date: /root/.hunter/_Base/70287b1/02ccb06/dffbc08/Build/Eigen/Install/include/eigen3/Eigen/src/Core/arch/NEON/PacketMath.h\n",
            "-- Up-to-date: /root/.hunter/_Base/70287b1/02ccb06/dffbc08/Build/Eigen/Install/include/eigen3/Eigen/src/Core/arch/AVX\n",
            "-- Up-to-date: /root/.hunter/_Base/70287b1/02ccb06/dffbc08/Build/Eigen/Install/include/eigen3/Eigen/src/Core/arch/AVX/TypeCasting.h\n",
            "-- Up-to-date: /root/.hunter/_Base/70287b1/02ccb06/dffbc08/Build/Eigen/Install/include/eigen3/Eigen/src/Core/arch/AVX/Complex.h\n",
            "-- Up-to-date: /root/.hunter/_Base/70287b1/02ccb06/dffbc08/Build/Eigen/Install/include/eigen3/Eigen/src/Core/arch/AVX/MathFunctions.h\n",
            "-- Up-to-date: /root/.hunter/_Base/70287b1/02ccb06/dffbc08/Build/Eigen/Install/include/eigen3/Eigen/src/Core/arch/AVX/PacketMath.h\n",
            "-- Up-to-date: /root/.hunter/_Base/70287b1/02ccb06/dffbc08/Build/Eigen/Install/include/eigen3/Eigen/src/Core/arch/AVX512\n",
            "-- Up-to-date: /root/.hunter/_Base/70287b1/02ccb06/dffbc08/Build/Eigen/Install/include/eigen3/Eigen/src/Core/arch/AVX512/MathFunctions.h\n",
            "-- Up-to-date: /root/.hunter/_Base/70287b1/02ccb06/dffbc08/Build/Eigen/Install/include/eigen3/Eigen/src/Core/arch/AVX512/PacketMath.h\n",
            "-- Up-to-date: /root/.hunter/_Base/70287b1/02ccb06/dffbc08/Build/Eigen/Install/include/eigen3/Eigen/src/Core/arch/AltiVec\n",
            "-- Up-to-date: /root/.hunter/_Base/70287b1/02ccb06/dffbc08/Build/Eigen/Install/include/eigen3/Eigen/src/Core/arch/AltiVec/Complex.h\n",
            "-- Up-to-date: /root/.hunter/_Base/70287b1/02ccb06/dffbc08/Build/Eigen/Install/include/eigen3/Eigen/src/Core/arch/AltiVec/MathFunctions.h\n",
            "-- Up-to-date: /root/.hunter/_Base/70287b1/02ccb06/dffbc08/Build/Eigen/Install/include/eigen3/Eigen/src/Core/arch/AltiVec/PacketMath.h\n",
            "-- Up-to-date: /root/.hunter/_Base/70287b1/02ccb06/dffbc08/Build/Eigen/Install/include/eigen3/Eigen/src/Core/ProductEvaluators.h\n",
            "-- Up-to-date: /root/.hunter/_Base/70287b1/02ccb06/dffbc08/Build/Eigen/Install/include/eigen3/Eigen/src/Core/NumTraits.h\n",
            "-- Up-to-date: /root/.hunter/_Base/70287b1/02ccb06/dffbc08/Build/Eigen/Install/include/eigen3/Eigen/src/IterativeLinearSolvers\n",
            "-- Up-to-date: /root/.hunter/_Base/70287b1/02ccb06/dffbc08/Build/Eigen/Install/include/eigen3/Eigen/src/IterativeLinearSolvers/BiCGSTAB.h\n",
            "-- Up-to-date: /root/.hunter/_Base/70287b1/02ccb06/dffbc08/Build/Eigen/Install/include/eigen3/Eigen/src/IterativeLinearSolvers/IncompleteLUT.h\n",
            "-- Up-to-date: /root/.hunter/_Base/70287b1/02ccb06/dffbc08/Build/Eigen/Install/include/eigen3/Eigen/src/IterativeLinearSolvers/ConjugateGradient.h\n",
            "-- Up-to-date: /root/.hunter/_Base/70287b1/02ccb06/dffbc08/Build/Eigen/Install/include/eigen3/Eigen/src/IterativeLinearSolvers/SolveWithGuess.h\n",
            "-- Up-to-date: /root/.hunter/_Base/70287b1/02ccb06/dffbc08/Build/Eigen/Install/include/eigen3/Eigen/src/IterativeLinearSolvers/IterativeSolverBase.h\n",
            "-- Up-to-date: /root/.hunter/_Base/70287b1/02ccb06/dffbc08/Build/Eigen/Install/include/eigen3/Eigen/src/IterativeLinearSolvers/LeastSquareConjugateGradient.h\n",
            "-- Up-to-date: /root/.hunter/_Base/70287b1/02ccb06/dffbc08/Build/Eigen/Install/include/eigen3/Eigen/src/IterativeLinearSolvers/BasicPreconditioners.h\n",
            "-- Up-to-date: /root/.hunter/_Base/70287b1/02ccb06/dffbc08/Build/Eigen/Install/include/eigen3/Eigen/src/IterativeLinearSolvers/IncompleteCholesky.h\n",
            "-- Up-to-date: /root/.hunter/_Base/70287b1/02ccb06/dffbc08/Build/Eigen/Install/include/eigen3/Eigen/src/OrderingMethods\n",
            "-- Up-to-date: /root/.hunter/_Base/70287b1/02ccb06/dffbc08/Build/Eigen/Install/include/eigen3/Eigen/src/OrderingMethods/Eigen_Colamd.h\n",
            "-- Up-to-date: /root/.hunter/_Base/70287b1/02ccb06/dffbc08/Build/Eigen/Install/include/eigen3/Eigen/src/OrderingMethods/Ordering.h\n",
            "-- Up-to-date: /root/.hunter/_Base/70287b1/02ccb06/dffbc08/Build/Eigen/Install/include/eigen3/Eigen/src/OrderingMethods/Amd.h\n",
            "-- Up-to-date: /root/.hunter/_Base/70287b1/02ccb06/dffbc08/Build/Eigen/Install/include/eigen3/Eigen/src/Householder\n",
            "-- Up-to-date: /root/.hunter/_Base/70287b1/02ccb06/dffbc08/Build/Eigen/Install/include/eigen3/Eigen/src/Householder/HouseholderSequence.h\n",
            "-- Up-to-date: /root/.hunter/_Base/70287b1/02ccb06/dffbc08/Build/Eigen/Install/include/eigen3/Eigen/src/Householder/BlockHouseholder.h\n",
            "-- Up-to-date: /root/.hunter/_Base/70287b1/02ccb06/dffbc08/Build/Eigen/Install/include/eigen3/Eigen/src/Householder/Householder.h\n",
            "-- Up-to-date: /root/.hunter/_Base/70287b1/02ccb06/dffbc08/Build/Eigen/Install/include/eigen3/Eigen/src/SPQRSupport\n",
            "-- Up-to-date: /root/.hunter/_Base/70287b1/02ccb06/dffbc08/Build/Eigen/Install/include/eigen3/Eigen/src/SPQRSupport/SuiteSparseQRSupport.h\n",
            "-- Up-to-date: /root/.hunter/_Base/70287b1/02ccb06/dffbc08/Build/Eigen/Install/include/eigen3/Eigen/src/SparseQR\n",
            "-- Up-to-date: /root/.hunter/_Base/70287b1/02ccb06/dffbc08/Build/Eigen/Install/include/eigen3/Eigen/src/SparseQR/SparseQR.h\n",
            "-- Up-to-date: /root/.hunter/_Base/70287b1/02ccb06/dffbc08/Build/Eigen/Install/include/eigen3/Eigen/src/Geometry\n",
            "-- Up-to-date: /root/.hunter/_Base/70287b1/02ccb06/dffbc08/Build/Eigen/Install/include/eigen3/Eigen/src/Geometry/AlignedBox.h\n",
            "-- Up-to-date: /root/.hunter/_Base/70287b1/02ccb06/dffbc08/Build/Eigen/Install/include/eigen3/Eigen/src/Geometry/ParametrizedLine.h\n",
            "-- Up-to-date: /root/.hunter/_Base/70287b1/02ccb06/dffbc08/Build/Eigen/Install/include/eigen3/Eigen/src/Geometry/Homogeneous.h\n",
            "-- Up-to-date: /root/.hunter/_Base/70287b1/02ccb06/dffbc08/Build/Eigen/Install/include/eigen3/Eigen/src/Geometry/Transform.h\n",
            "-- Up-to-date: /root/.hunter/_Base/70287b1/02ccb06/dffbc08/Build/Eigen/Install/include/eigen3/Eigen/src/Geometry/RotationBase.h\n",
            "-- Up-to-date: /root/.hunter/_Base/70287b1/02ccb06/dffbc08/Build/Eigen/Install/include/eigen3/Eigen/src/Geometry/Umeyama.h\n",
            "-- Up-to-date: /root/.hunter/_Base/70287b1/02ccb06/dffbc08/Build/Eigen/Install/include/eigen3/Eigen/src/Geometry/Quaternion.h\n",
            "-- Up-to-date: /root/.hunter/_Base/70287b1/02ccb06/dffbc08/Build/Eigen/Install/include/eigen3/Eigen/src/Geometry/Rotation2D.h\n",
            "-- Up-to-date: /root/.hunter/_Base/70287b1/02ccb06/dffbc08/Build/Eigen/Install/include/eigen3/Eigen/src/Geometry/OrthoMethods.h\n",
            "-- Up-to-date: /root/.hunter/_Base/70287b1/02ccb06/dffbc08/Build/Eigen/Install/include/eigen3/Eigen/src/Geometry/Hyperplane.h\n",
            "-- Up-to-date: /root/.hunter/_Base/70287b1/02ccb06/dffbc08/Build/Eigen/Install/include/eigen3/Eigen/src/Geometry/Translation.h\n",
            "-- Up-to-date: /root/.hunter/_Base/70287b1/02ccb06/dffbc08/Build/Eigen/Install/include/eigen3/Eigen/src/Geometry/EulerAngles.h\n",
            "-- Up-to-date: /root/.hunter/_Base/70287b1/02ccb06/dffbc08/Build/Eigen/Install/include/eigen3/Eigen/src/Geometry/AngleAxis.h\n",
            "-- Up-to-date: /root/.hunter/_Base/70287b1/02ccb06/dffbc08/Build/Eigen/Install/include/eigen3/Eigen/src/Geometry/arch\n",
            "-- Up-to-date: /root/.hunter/_Base/70287b1/02ccb06/dffbc08/Build/Eigen/Install/include/eigen3/Eigen/src/Geometry/arch/Geometry_SSE.h\n",
            "-- Up-to-date: /root/.hunter/_Base/70287b1/02ccb06/dffbc08/Build/Eigen/Install/include/eigen3/Eigen/src/Geometry/Scaling.h\n",
            "-- Up-to-date: /root/.hunter/_Base/70287b1/02ccb06/dffbc08/Build/Eigen/Install/include/eigen3/Eigen/src/PaStiXSupport\n",
            "-- Up-to-date: /root/.hunter/_Base/70287b1/02ccb06/dffbc08/Build/Eigen/Install/include/eigen3/Eigen/src/PaStiXSupport/PaStiXSupport.h\n",
            "-- Up-to-date: /root/.hunter/_Base/70287b1/02ccb06/dffbc08/Build/Eigen/Install/include/eigen3/Eigen/src/SparseCore\n",
            "-- Up-to-date: /root/.hunter/_Base/70287b1/02ccb06/dffbc08/Build/Eigen/Install/include/eigen3/Eigen/src/SparseCore/SparseProduct.h\n",
            "-- Up-to-date: /root/.hunter/_Base/70287b1/02ccb06/dffbc08/Build/Eigen/Install/include/eigen3/Eigen/src/SparseCore/SparseDenseProduct.h\n",
            "-- Up-to-date: /root/.hunter/_Base/70287b1/02ccb06/dffbc08/Build/Eigen/Install/include/eigen3/Eigen/src/SparseCore/SparsePermutation.h\n",
            "-- Up-to-date: /root/.hunter/_Base/70287b1/02ccb06/dffbc08/Build/Eigen/Install/include/eigen3/Eigen/src/SparseCore/SparseSolverBase.h\n",
            "-- Up-to-date: /root/.hunter/_Base/70287b1/02ccb06/dffbc08/Build/Eigen/Install/include/eigen3/Eigen/src/SparseCore/SparseAssign.h\n",
            "-- Up-to-date: /root/.hunter/_Base/70287b1/02ccb06/dffbc08/Build/Eigen/Install/include/eigen3/Eigen/src/SparseCore/SparseMatrix.h\n",
            "-- Up-to-date: /root/.hunter/_Base/70287b1/02ccb06/dffbc08/Build/Eigen/Install/include/eigen3/Eigen/src/SparseCore/ConservativeSparseSparseProduct.h\n",
            "-- Up-to-date: /root/.hunter/_Base/70287b1/02ccb06/dffbc08/Build/Eigen/Install/include/eigen3/Eigen/src/SparseCore/SparseSelfAdjointView.h\n",
            "-- Up-to-date: /root/.hunter/_Base/70287b1/02ccb06/dffbc08/Build/Eigen/Install/include/eigen3/Eigen/src/SparseCore/SparseMatrixBase.h\n",
            "-- Up-to-date: /root/.hunter/_Base/70287b1/02ccb06/dffbc08/Build/Eigen/Install/include/eigen3/Eigen/src/SparseCore/MappedSparseMatrix.h\n",
            "-- Up-to-date: /root/.hunter/_Base/70287b1/02ccb06/dffbc08/Build/Eigen/Install/include/eigen3/Eigen/src/SparseCore/SparseRedux.h\n",
            "-- Up-to-date: /root/.hunter/_Base/70287b1/02ccb06/dffbc08/Build/Eigen/Install/include/eigen3/Eigen/src/SparseCore/AmbiVector.h\n",
            "-- Up-to-date: /root/.hunter/_Base/70287b1/02ccb06/dffbc08/Build/Eigen/Install/include/eigen3/Eigen/src/SparseCore/SparseTranspose.h\n",
            "-- Up-to-date: /root/.hunter/_Base/70287b1/02ccb06/dffbc08/Build/Eigen/Install/include/eigen3/Eigen/src/SparseCore/SparseDiagonalProduct.h\n",
            "-- Up-to-date: /root/.hunter/_Base/70287b1/02ccb06/dffbc08/Build/Eigen/Install/include/eigen3/Eigen/src/SparseCore/SparseCompressedBase.h\n",
            "-- Up-to-date: /root/.hunter/_Base/70287b1/02ccb06/dffbc08/Build/Eigen/Install/include/eigen3/Eigen/src/SparseCore/SparseCwiseBinaryOp.h\n",
            "-- Up-to-date: /root/.hunter/_Base/70287b1/02ccb06/dffbc08/Build/Eigen/Install/include/eigen3/Eigen/src/SparseCore/SparseSparseProductWithPruning.h\n",
            "-- Up-to-date: /root/.hunter/_Base/70287b1/02ccb06/dffbc08/Build/Eigen/Install/include/eigen3/Eigen/src/SparseCore/SparseDot.h\n",
            "-- Up-to-date: /root/.hunter/_Base/70287b1/02ccb06/dffbc08/Build/Eigen/Install/include/eigen3/Eigen/src/SparseCore/SparseRef.h\n",
            "-- Up-to-date: /root/.hunter/_Base/70287b1/02ccb06/dffbc08/Build/Eigen/Install/include/eigen3/Eigen/src/SparseCore/SparseFuzzy.h\n",
            "-- Up-to-date: /root/.hunter/_Base/70287b1/02ccb06/dffbc08/Build/Eigen/Install/include/eigen3/Eigen/src/SparseCore/SparseMap.h\n",
            "-- Up-to-date: /root/.hunter/_Base/70287b1/02ccb06/dffbc08/Build/Eigen/Install/include/eigen3/Eigen/src/SparseCore/SparseTriangularView.h\n",
            "-- Up-to-date: /root/.hunter/_Base/70287b1/02ccb06/dffbc08/Build/Eigen/Install/include/eigen3/Eigen/src/SparseCore/SparseVector.h\n",
            "-- Up-to-date: /root/.hunter/_Base/70287b1/02ccb06/dffbc08/Build/Eigen/Install/include/eigen3/Eigen/src/SparseCore/SparseView.h\n",
            "-- Up-to-date: /root/.hunter/_Base/70287b1/02ccb06/dffbc08/Build/Eigen/Install/include/eigen3/Eigen/src/SparseCore/CompressedStorage.h\n",
            "-- Up-to-date: /root/.hunter/_Base/70287b1/02ccb06/dffbc08/Build/Eigen/Install/include/eigen3/Eigen/src/SparseCore/SparseCwiseUnaryOp.h\n",
            "-- Up-to-date: /root/.hunter/_Base/70287b1/02ccb06/dffbc08/Build/Eigen/Install/include/eigen3/Eigen/src/SparseCore/TriangularSolver.h\n",
            "-- Up-to-date: /root/.hunter/_Base/70287b1/02ccb06/dffbc08/Build/Eigen/Install/include/eigen3/Eigen/src/SparseCore/SparseUtil.h\n",
            "-- Up-to-date: /root/.hunter/_Base/70287b1/02ccb06/dffbc08/Build/Eigen/Install/include/eigen3/Eigen/src/SparseCore/SparseBlock.h\n",
            "-- Up-to-date: /root/.hunter/_Base/70287b1/02ccb06/dffbc08/Build/Eigen/Install/include/eigen3/Eigen/src/SparseCore/SparseColEtree.h\n",
            "-- Up-to-date: /root/.hunter/_Base/70287b1/02ccb06/dffbc08/Build/Eigen/Install/include/eigen3/Eigen/src/plugins\n",
            "-- Up-to-date: /root/.hunter/_Base/70287b1/02ccb06/dffbc08/Build/Eigen/Install/include/eigen3/Eigen/src/plugins/CommonCwiseUnaryOps.h\n",
            "-- Up-to-date: /root/.hunter/_Base/70287b1/02ccb06/dffbc08/Build/Eigen/Install/include/eigen3/Eigen/src/plugins/ArrayCwiseUnaryOps.h\n",
            "-- Up-to-date: /root/.hunter/_Base/70287b1/02ccb06/dffbc08/Build/Eigen/Install/include/eigen3/Eigen/src/plugins/MatrixCwiseBinaryOps.h\n",
            "-- Up-to-date: /root/.hunter/_Base/70287b1/02ccb06/dffbc08/Build/Eigen/Install/include/eigen3/Eigen/src/plugins/ArrayCwiseBinaryOps.h\n",
            "-- Up-to-date: /root/.hunter/_Base/70287b1/02ccb06/dffbc08/Build/Eigen/Install/include/eigen3/Eigen/src/plugins/MatrixCwiseUnaryOps.h\n",
            "-- Up-to-date: /root/.hunter/_Base/70287b1/02ccb06/dffbc08/Build/Eigen/Install/include/eigen3/Eigen/src/plugins/BlockMethods.h\n",
            "-- Up-to-date: /root/.hunter/_Base/70287b1/02ccb06/dffbc08/Build/Eigen/Install/include/eigen3/Eigen/src/plugins/CommonCwiseBinaryOps.h\n",
            "-- Up-to-date: /root/.hunter/_Base/70287b1/02ccb06/dffbc08/Build/Eigen/Install/include/eigen3/Eigen/src/PardisoSupport\n",
            "-- Up-to-date: /root/.hunter/_Base/70287b1/02ccb06/dffbc08/Build/Eigen/Install/include/eigen3/Eigen/src/PardisoSupport/PardisoSupport.h\n",
            "-- Up-to-date: /root/.hunter/_Base/70287b1/02ccb06/dffbc08/Build/Eigen/Install/include/eigen3/Eigen/src/SuperLUSupport\n",
            "-- Up-to-date: /root/.hunter/_Base/70287b1/02ccb06/dffbc08/Build/Eigen/Install/include/eigen3/Eigen/src/SuperLUSupport/SuperLUSupport.h\n",
            "-- Up-to-date: /root/.hunter/_Base/70287b1/02ccb06/dffbc08/Build/Eigen/Install/include/eigen3/Eigen/src/Jacobi\n",
            "-- Up-to-date: /root/.hunter/_Base/70287b1/02ccb06/dffbc08/Build/Eigen/Install/include/eigen3/Eigen/src/Jacobi/Jacobi.h\n",
            "-- Up-to-date: /root/.hunter/_Base/70287b1/02ccb06/dffbc08/Build/Eigen/Install/include/eigen3/Eigen/src/QR\n",
            "-- Up-to-date: /root/.hunter/_Base/70287b1/02ccb06/dffbc08/Build/Eigen/Install/include/eigen3/Eigen/src/QR/ColPivHouseholderQR.h\n",
            "-- Up-to-date: /root/.hunter/_Base/70287b1/02ccb06/dffbc08/Build/Eigen/Install/include/eigen3/Eigen/src/QR/HouseholderQR_LAPACKE.h\n",
            "-- Up-to-date: /root/.hunter/_Base/70287b1/02ccb06/dffbc08/Build/Eigen/Install/include/eigen3/Eigen/src/QR/HouseholderQR.h\n",
            "-- Up-to-date: /root/.hunter/_Base/70287b1/02ccb06/dffbc08/Build/Eigen/Install/include/eigen3/Eigen/src/QR/CompleteOrthogonalDecomposition.h\n",
            "-- Up-to-date: /root/.hunter/_Base/70287b1/02ccb06/dffbc08/Build/Eigen/Install/include/eigen3/Eigen/src/QR/FullPivHouseholderQR.h\n",
            "-- Up-to-date: /root/.hunter/_Base/70287b1/02ccb06/dffbc08/Build/Eigen/Install/include/eigen3/Eigen/src/QR/ColPivHouseholderQR_LAPACKE.h\n",
            "-- Up-to-date: /root/.hunter/_Base/70287b1/02ccb06/dffbc08/Build/Eigen/Install/include/eigen3/Eigen/src/LU\n",
            "-- Up-to-date: /root/.hunter/_Base/70287b1/02ccb06/dffbc08/Build/Eigen/Install/include/eigen3/Eigen/src/LU/InverseImpl.h\n",
            "-- Up-to-date: /root/.hunter/_Base/70287b1/02ccb06/dffbc08/Build/Eigen/Install/include/eigen3/Eigen/src/LU/PartialPivLU_LAPACKE.h\n",
            "-- Up-to-date: /root/.hunter/_Base/70287b1/02ccb06/dffbc08/Build/Eigen/Install/include/eigen3/Eigen/src/LU/FullPivLU.h\n",
            "-- Up-to-date: /root/.hunter/_Base/70287b1/02ccb06/dffbc08/Build/Eigen/Install/include/eigen3/Eigen/src/LU/PartialPivLU.h\n",
            "-- Up-to-date: /root/.hunter/_Base/70287b1/02ccb06/dffbc08/Build/Eigen/Install/include/eigen3/Eigen/src/LU/arch\n",
            "-- Up-to-date: /root/.hunter/_Base/70287b1/02ccb06/dffbc08/Build/Eigen/Install/include/eigen3/Eigen/src/LU/arch/Inverse_SSE.h\n",
            "-- Up-to-date: /root/.hunter/_Base/70287b1/02ccb06/dffbc08/Build/Eigen/Install/include/eigen3/Eigen/src/LU/Determinant.h\n",
            "-- Up-to-date: /root/.hunter/_Base/70287b1/02ccb06/dffbc08/Build/Eigen/Install/include/eigen3/Eigen/src/Cholesky\n",
            "-- Up-to-date: /root/.hunter/_Base/70287b1/02ccb06/dffbc08/Build/Eigen/Install/include/eigen3/Eigen/src/Cholesky/LLT_LAPACKE.h\n",
            "-- Up-to-date: /root/.hunter/_Base/70287b1/02ccb06/dffbc08/Build/Eigen/Install/include/eigen3/Eigen/src/Cholesky/LLT.h\n",
            "-- Up-to-date: /root/.hunter/_Base/70287b1/02ccb06/dffbc08/Build/Eigen/Install/include/eigen3/Eigen/src/Cholesky/LDLT.h\n",
            "-- Up-to-date: /root/.hunter/_Base/70287b1/02ccb06/dffbc08/Build/Eigen/Install/include/eigen3/Eigen/src/SparseCholesky\n",
            "-- Up-to-date: /root/.hunter/_Base/70287b1/02ccb06/dffbc08/Build/Eigen/Install/include/eigen3/Eigen/src/SparseCholesky/SimplicialCholesky_impl.h\n",
            "-- Up-to-date: /root/.hunter/_Base/70287b1/02ccb06/dffbc08/Build/Eigen/Install/include/eigen3/Eigen/src/SparseCholesky/SimplicialCholesky.h\n",
            "-- Up-to-date: /root/.hunter/_Base/70287b1/02ccb06/dffbc08/Build/Eigen/Install/include/eigen3/Eigen/src/SVD\n",
            "-- Up-to-date: /root/.hunter/_Base/70287b1/02ccb06/dffbc08/Build/Eigen/Install/include/eigen3/Eigen/src/SVD/BDCSVD.h\n",
            "-- Up-to-date: /root/.hunter/_Base/70287b1/02ccb06/dffbc08/Build/Eigen/Install/include/eigen3/Eigen/src/SVD/JacobiSVD_LAPACKE.h\n",
            "-- Up-to-date: /root/.hunter/_Base/70287b1/02ccb06/dffbc08/Build/Eigen/Install/include/eigen3/Eigen/src/SVD/SVDBase.h\n",
            "-- Up-to-date: /root/.hunter/_Base/70287b1/02ccb06/dffbc08/Build/Eigen/Install/include/eigen3/Eigen/src/SVD/JacobiSVD.h\n",
            "-- Up-to-date: /root/.hunter/_Base/70287b1/02ccb06/dffbc08/Build/Eigen/Install/include/eigen3/Eigen/src/SVD/UpperBidiagonalization.h\n",
            "-- Up-to-date: /root/.hunter/_Base/70287b1/02ccb06/dffbc08/Build/Eigen/Install/include/eigen3/Eigen/src/UmfPackSupport\n",
            "-- Up-to-date: /root/.hunter/_Base/70287b1/02ccb06/dffbc08/Build/Eigen/Install/include/eigen3/Eigen/src/UmfPackSupport/UmfPackSupport.h\n",
            "-- Up-to-date: /root/.hunter/_Base/70287b1/02ccb06/dffbc08/Build/Eigen/Install/include/eigen3/Eigen/src/misc\n",
            "-- Up-to-date: /root/.hunter/_Base/70287b1/02ccb06/dffbc08/Build/Eigen/Install/include/eigen3/Eigen/src/misc/lapacke.h\n",
            "-- Up-to-date: /root/.hunter/_Base/70287b1/02ccb06/dffbc08/Build/Eigen/Install/include/eigen3/Eigen/src/misc/Image.h\n",
            "-- Up-to-date: /root/.hunter/_Base/70287b1/02ccb06/dffbc08/Build/Eigen/Install/include/eigen3/Eigen/src/misc/Kernel.h\n",
            "-- Up-to-date: /root/.hunter/_Base/70287b1/02ccb06/dffbc08/Build/Eigen/Install/include/eigen3/Eigen/src/misc/lapacke_mangling.h\n",
            "-- Up-to-date: /root/.hunter/_Base/70287b1/02ccb06/dffbc08/Build/Eigen/Install/include/eigen3/Eigen/src/misc/blas.h\n",
            "-- Up-to-date: /root/.hunter/_Base/70287b1/02ccb06/dffbc08/Build/Eigen/Install/include/eigen3/Eigen/src/misc/lapack.h\n",
            "-- Up-to-date: /root/.hunter/_Base/70287b1/02ccb06/dffbc08/Build/Eigen/Install/include/eigen3/Eigen/src/misc/RealSvd2x2.h\n",
            "-- Up-to-date: /root/.hunter/_Base/70287b1/02ccb06/dffbc08/Build/Eigen/Install/include/eigen3/Eigen/src/MetisSupport\n",
            "-- Up-to-date: /root/.hunter/_Base/70287b1/02ccb06/dffbc08/Build/Eigen/Install/include/eigen3/Eigen/src/MetisSupport/MetisSupport.h\n",
            "-- Up-to-date: /root/.hunter/_Base/70287b1/02ccb06/dffbc08/Build/Eigen/Install/include/eigen3/Eigen/src/Eigenvalues\n",
            "-- Up-to-date: /root/.hunter/_Base/70287b1/02ccb06/dffbc08/Build/Eigen/Install/include/eigen3/Eigen/src/Eigenvalues/RealQZ.h\n",
            "-- Up-to-date: /root/.hunter/_Base/70287b1/02ccb06/dffbc08/Build/Eigen/Install/include/eigen3/Eigen/src/Eigenvalues/Tridiagonalization.h\n",
            "-- Up-to-date: /root/.hunter/_Base/70287b1/02ccb06/dffbc08/Build/Eigen/Install/include/eigen3/Eigen/src/Eigenvalues/GeneralizedEigenSolver.h\n",
            "-- Up-to-date: /root/.hunter/_Base/70287b1/02ccb06/dffbc08/Build/Eigen/Install/include/eigen3/Eigen/src/Eigenvalues/SelfAdjointEigenSolver_LAPACKE.h\n",
            "-- Up-to-date: /root/.hunter/_Base/70287b1/02ccb06/dffbc08/Build/Eigen/Install/include/eigen3/Eigen/src/Eigenvalues/ComplexEigenSolver.h\n",
            "-- Up-to-date: /root/.hunter/_Base/70287b1/02ccb06/dffbc08/Build/Eigen/Install/include/eigen3/Eigen/src/Eigenvalues/SelfAdjointEigenSolver.h\n",
            "-- Up-to-date: /root/.hunter/_Base/70287b1/02ccb06/dffbc08/Build/Eigen/Install/include/eigen3/Eigen/src/Eigenvalues/MatrixBaseEigenvalues.h\n",
            "-- Up-to-date: /root/.hunter/_Base/70287b1/02ccb06/dffbc08/Build/Eigen/Install/include/eigen3/Eigen/src/Eigenvalues/RealSchur_LAPACKE.h\n",
            "-- Up-to-date: /root/.hunter/_Base/70287b1/02ccb06/dffbc08/Build/Eigen/Install/include/eigen3/Eigen/src/Eigenvalues/RealSchur.h\n",
            "-- Up-to-date: /root/.hunter/_Base/70287b1/02ccb06/dffbc08/Build/Eigen/Install/include/eigen3/Eigen/src/Eigenvalues/EigenSolver.h\n",
            "-- Up-to-date: /root/.hunter/_Base/70287b1/02ccb06/dffbc08/Build/Eigen/Install/include/eigen3/Eigen/src/Eigenvalues/ComplexSchur_LAPACKE.h\n",
            "-- Up-to-date: /root/.hunter/_Base/70287b1/02ccb06/dffbc08/Build/Eigen/Install/include/eigen3/Eigen/src/Eigenvalues/ComplexSchur.h\n",
            "-- Up-to-date: /root/.hunter/_Base/70287b1/02ccb06/dffbc08/Build/Eigen/Install/include/eigen3/Eigen/src/Eigenvalues/HessenbergDecomposition.h\n",
            "-- Up-to-date: /root/.hunter/_Base/70287b1/02ccb06/dffbc08/Build/Eigen/Install/include/eigen3/Eigen/src/Eigenvalues/GeneralizedSelfAdjointEigenSolver.h\n",
            "-- Up-to-date: /root/.hunter/_Base/70287b1/02ccb06/dffbc08/Build/Eigen/Install/include/eigen3/unsupported/Eigen/AdolcForward\n",
            "-- Up-to-date: /root/.hunter/_Base/70287b1/02ccb06/dffbc08/Build/Eigen/Install/include/eigen3/unsupported/Eigen/AlignedVector3\n",
            "-- Up-to-date: /root/.hunter/_Base/70287b1/02ccb06/dffbc08/Build/Eigen/Install/include/eigen3/unsupported/Eigen/ArpackSupport\n",
            "-- Up-to-date: /root/.hunter/_Base/70287b1/02ccb06/dffbc08/Build/Eigen/Install/include/eigen3/unsupported/Eigen/AutoDiff\n",
            "-- Up-to-date: /root/.hunter/_Base/70287b1/02ccb06/dffbc08/Build/Eigen/Install/include/eigen3/unsupported/Eigen/BVH\n",
            "-- Up-to-date: /root/.hunter/_Base/70287b1/02ccb06/dffbc08/Build/Eigen/Install/include/eigen3/unsupported/Eigen/EulerAngles\n",
            "-- Up-to-date: /root/.hunter/_Base/70287b1/02ccb06/dffbc08/Build/Eigen/Install/include/eigen3/unsupported/Eigen/FFT\n",
            "-- Up-to-date: /root/.hunter/_Base/70287b1/02ccb06/dffbc08/Build/Eigen/Install/include/eigen3/unsupported/Eigen/IterativeSolvers\n",
            "-- Up-to-date: /root/.hunter/_Base/70287b1/02ccb06/dffbc08/Build/Eigen/Install/include/eigen3/unsupported/Eigen/KroneckerProduct\n",
            "-- Up-to-date: /root/.hunter/_Base/70287b1/02ccb06/dffbc08/Build/Eigen/Install/include/eigen3/unsupported/Eigen/LevenbergMarquardt\n",
            "-- Up-to-date: /root/.hunter/_Base/70287b1/02ccb06/dffbc08/Build/Eigen/Install/include/eigen3/unsupported/Eigen/MatrixFunctions\n",
            "-- Up-to-date: /root/.hunter/_Base/70287b1/02ccb06/dffbc08/Build/Eigen/Install/include/eigen3/unsupported/Eigen/MoreVectorization\n",
            "-- Up-to-date: /root/.hunter/_Base/70287b1/02ccb06/dffbc08/Build/Eigen/Install/include/eigen3/unsupported/Eigen/MPRealSupport\n",
            "-- Up-to-date: /root/.hunter/_Base/70287b1/02ccb06/dffbc08/Build/Eigen/Install/include/eigen3/unsupported/Eigen/NonLinearOptimization\n",
            "-- Up-to-date: /root/.hunter/_Base/70287b1/02ccb06/dffbc08/Build/Eigen/Install/include/eigen3/unsupported/Eigen/NumericalDiff\n",
            "-- Up-to-date: /root/.hunter/_Base/70287b1/02ccb06/dffbc08/Build/Eigen/Install/include/eigen3/unsupported/Eigen/OpenGLSupport\n",
            "-- Up-to-date: /root/.hunter/_Base/70287b1/02ccb06/dffbc08/Build/Eigen/Install/include/eigen3/unsupported/Eigen/Polynomials\n",
            "-- Up-to-date: /root/.hunter/_Base/70287b1/02ccb06/dffbc08/Build/Eigen/Install/include/eigen3/unsupported/Eigen/Skyline\n",
            "-- Up-to-date: /root/.hunter/_Base/70287b1/02ccb06/dffbc08/Build/Eigen/Install/include/eigen3/unsupported/Eigen/SparseExtra\n",
            "-- Up-to-date: /root/.hunter/_Base/70287b1/02ccb06/dffbc08/Build/Eigen/Install/include/eigen3/unsupported/Eigen/SpecialFunctions\n",
            "-- Up-to-date: /root/.hunter/_Base/70287b1/02ccb06/dffbc08/Build/Eigen/Install/include/eigen3/unsupported/Eigen/Splines\n",
            "-- Up-to-date: /root/.hunter/_Base/70287b1/02ccb06/dffbc08/Build/Eigen/Install/include/eigen3/unsupported/Eigen/src\n",
            "-- Up-to-date: /root/.hunter/_Base/70287b1/02ccb06/dffbc08/Build/Eigen/Install/include/eigen3/unsupported/Eigen/src/SpecialFunctions\n",
            "-- Up-to-date: /root/.hunter/_Base/70287b1/02ccb06/dffbc08/Build/Eigen/Install/include/eigen3/unsupported/Eigen/src/SpecialFunctions/SpecialFunctionsFunctors.h\n",
            "-- Up-to-date: /root/.hunter/_Base/70287b1/02ccb06/dffbc08/Build/Eigen/Install/include/eigen3/unsupported/Eigen/src/SpecialFunctions/SpecialFunctionsArrayAPI.h\n",
            "-- Up-to-date: /root/.hunter/_Base/70287b1/02ccb06/dffbc08/Build/Eigen/Install/include/eigen3/unsupported/Eigen/src/SpecialFunctions/SpecialFunctionsHalf.h\n",
            "-- Up-to-date: /root/.hunter/_Base/70287b1/02ccb06/dffbc08/Build/Eigen/Install/include/eigen3/unsupported/Eigen/src/SpecialFunctions/SpecialFunctionsPacketMath.h\n",
            "-- Up-to-date: /root/.hunter/_Base/70287b1/02ccb06/dffbc08/Build/Eigen/Install/include/eigen3/unsupported/Eigen/src/SpecialFunctions/arch\n",
            "-- Up-to-date: /root/.hunter/_Base/70287b1/02ccb06/dffbc08/Build/Eigen/Install/include/eigen3/unsupported/Eigen/src/SpecialFunctions/arch/CUDA\n",
            "-- Up-to-date: /root/.hunter/_Base/70287b1/02ccb06/dffbc08/Build/Eigen/Install/include/eigen3/unsupported/Eigen/src/SpecialFunctions/arch/CUDA/CudaSpecialFunctions.h\n",
            "-- Up-to-date: /root/.hunter/_Base/70287b1/02ccb06/dffbc08/Build/Eigen/Install/include/eigen3/unsupported/Eigen/src/SpecialFunctions/SpecialFunctionsImpl.h\n",
            "-- Up-to-date: /root/.hunter/_Base/70287b1/02ccb06/dffbc08/Build/Eigen/Install/include/eigen3/unsupported/Eigen/src/Polynomials\n",
            "-- Up-to-date: /root/.hunter/_Base/70287b1/02ccb06/dffbc08/Build/Eigen/Install/include/eigen3/unsupported/Eigen/src/Polynomials/PolynomialSolver.h\n",
            "-- Up-to-date: /root/.hunter/_Base/70287b1/02ccb06/dffbc08/Build/Eigen/Install/include/eigen3/unsupported/Eigen/src/Polynomials/PolynomialUtils.h\n",
            "-- Up-to-date: /root/.hunter/_Base/70287b1/02ccb06/dffbc08/Build/Eigen/Install/include/eigen3/unsupported/Eigen/src/Polynomials/Companion.h\n",
            "-- Up-to-date: /root/.hunter/_Base/70287b1/02ccb06/dffbc08/Build/Eigen/Install/include/eigen3/unsupported/Eigen/src/NumericalDiff\n",
            "-- Up-to-date: /root/.hunter/_Base/70287b1/02ccb06/dffbc08/Build/Eigen/Install/include/eigen3/unsupported/Eigen/src/NumericalDiff/NumericalDiff.h\n",
            "-- Up-to-date: /root/.hunter/_Base/70287b1/02ccb06/dffbc08/Build/Eigen/Install/include/eigen3/unsupported/Eigen/src/EulerAngles\n",
            "-- Up-to-date: /root/.hunter/_Base/70287b1/02ccb06/dffbc08/Build/Eigen/Install/include/eigen3/unsupported/Eigen/src/EulerAngles/EulerSystem.h\n",
            "-- Up-to-date: /root/.hunter/_Base/70287b1/02ccb06/dffbc08/Build/Eigen/Install/include/eigen3/unsupported/Eigen/src/EulerAngles/EulerAngles.h\n",
            "-- Up-to-date: /root/.hunter/_Base/70287b1/02ccb06/dffbc08/Build/Eigen/Install/include/eigen3/unsupported/Eigen/src/KroneckerProduct\n",
            "-- Up-to-date: /root/.hunter/_Base/70287b1/02ccb06/dffbc08/Build/Eigen/Install/include/eigen3/unsupported/Eigen/src/KroneckerProduct/KroneckerTensorProduct.h\n",
            "-- Up-to-date: /root/.hunter/_Base/70287b1/02ccb06/dffbc08/Build/Eigen/Install/include/eigen3/unsupported/Eigen/src/Skyline\n",
            "-- Up-to-date: /root/.hunter/_Base/70287b1/02ccb06/dffbc08/Build/Eigen/Install/include/eigen3/unsupported/Eigen/src/Skyline/SkylineInplaceLU.h\n",
            "-- Up-to-date: /root/.hunter/_Base/70287b1/02ccb06/dffbc08/Build/Eigen/Install/include/eigen3/unsupported/Eigen/src/Skyline/SkylineUtil.h\n",
            "-- Up-to-date: /root/.hunter/_Base/70287b1/02ccb06/dffbc08/Build/Eigen/Install/include/eigen3/unsupported/Eigen/src/Skyline/SkylineStorage.h\n",
            "-- Up-to-date: /root/.hunter/_Base/70287b1/02ccb06/dffbc08/Build/Eigen/Install/include/eigen3/unsupported/Eigen/src/Skyline/SkylineMatrix.h\n",
            "-- Up-to-date: /root/.hunter/_Base/70287b1/02ccb06/dffbc08/Build/Eigen/Install/include/eigen3/unsupported/Eigen/src/Skyline/SkylineMatrixBase.h\n",
            "-- Up-to-date: /root/.hunter/_Base/70287b1/02ccb06/dffbc08/Build/Eigen/Install/include/eigen3/unsupported/Eigen/src/Skyline/SkylineProduct.h\n",
            "-- Up-to-date: /root/.hunter/_Base/70287b1/02ccb06/dffbc08/Build/Eigen/Install/include/eigen3/unsupported/Eigen/src/MatrixFunctions\n",
            "-- Up-to-date: /root/.hunter/_Base/70287b1/02ccb06/dffbc08/Build/Eigen/Install/include/eigen3/unsupported/Eigen/src/MatrixFunctions/MatrixLogarithm.h\n",
            "-- Up-to-date: /root/.hunter/_Base/70287b1/02ccb06/dffbc08/Build/Eigen/Install/include/eigen3/unsupported/Eigen/src/MatrixFunctions/MatrixSquareRoot.h\n",
            "-- Up-to-date: /root/.hunter/_Base/70287b1/02ccb06/dffbc08/Build/Eigen/Install/include/eigen3/unsupported/Eigen/src/MatrixFunctions/MatrixFunction.h\n",
            "-- Up-to-date: /root/.hunter/_Base/70287b1/02ccb06/dffbc08/Build/Eigen/Install/include/eigen3/unsupported/Eigen/src/MatrixFunctions/MatrixPower.h\n",
            "-- Up-to-date: /root/.hunter/_Base/70287b1/02ccb06/dffbc08/Build/Eigen/Install/include/eigen3/unsupported/Eigen/src/MatrixFunctions/MatrixExponential.h\n",
            "-- Up-to-date: /root/.hunter/_Base/70287b1/02ccb06/dffbc08/Build/Eigen/Install/include/eigen3/unsupported/Eigen/src/MatrixFunctions/StemFunction.h\n",
            "-- Up-to-date: /root/.hunter/_Base/70287b1/02ccb06/dffbc08/Build/Eigen/Install/include/eigen3/unsupported/Eigen/src/BVH\n",
            "-- Up-to-date: /root/.hunter/_Base/70287b1/02ccb06/dffbc08/Build/Eigen/Install/include/eigen3/unsupported/Eigen/src/BVH/BVAlgorithms.h\n",
            "-- Up-to-date: /root/.hunter/_Base/70287b1/02ccb06/dffbc08/Build/Eigen/Install/include/eigen3/unsupported/Eigen/src/BVH/KdBVH.h\n",
            "-- Up-to-date: /root/.hunter/_Base/70287b1/02ccb06/dffbc08/Build/Eigen/Install/include/eigen3/unsupported/Eigen/src/SparseExtra\n",
            "-- Up-to-date: /root/.hunter/_Base/70287b1/02ccb06/dffbc08/Build/Eigen/Install/include/eigen3/unsupported/Eigen/src/SparseExtra/MatrixMarketIterator.h\n",
            "-- Up-to-date: /root/.hunter/_Base/70287b1/02ccb06/dffbc08/Build/Eigen/Install/include/eigen3/unsupported/Eigen/src/SparseExtra/DynamicSparseMatrix.h\n",
            "-- Up-to-date: /root/.hunter/_Base/70287b1/02ccb06/dffbc08/Build/Eigen/Install/include/eigen3/unsupported/Eigen/src/SparseExtra/RandomSetter.h\n",
            "-- Up-to-date: /root/.hunter/_Base/70287b1/02ccb06/dffbc08/Build/Eigen/Install/include/eigen3/unsupported/Eigen/src/SparseExtra/BlockSparseMatrix.h\n",
            "-- Up-to-date: /root/.hunter/_Base/70287b1/02ccb06/dffbc08/Build/Eigen/Install/include/eigen3/unsupported/Eigen/src/SparseExtra/MarketIO.h\n",
            "-- Up-to-date: /root/.hunter/_Base/70287b1/02ccb06/dffbc08/Build/Eigen/Install/include/eigen3/unsupported/Eigen/src/SparseExtra/BlockOfDynamicSparseMatrix.h\n",
            "-- Up-to-date: /root/.hunter/_Base/70287b1/02ccb06/dffbc08/Build/Eigen/Install/include/eigen3/unsupported/Eigen/src/MoreVectorization\n",
            "-- Up-to-date: /root/.hunter/_Base/70287b1/02ccb06/dffbc08/Build/Eigen/Install/include/eigen3/unsupported/Eigen/src/MoreVectorization/MathFunctions.h\n",
            "-- Up-to-date: /root/.hunter/_Base/70287b1/02ccb06/dffbc08/Build/Eigen/Install/include/eigen3/unsupported/Eigen/src/IterativeSolvers\n",
            "-- Up-to-date: /root/.hunter/_Base/70287b1/02ccb06/dffbc08/Build/Eigen/Install/include/eigen3/unsupported/Eigen/src/IterativeSolvers/ConstrainedConjGrad.h\n",
            "-- Up-to-date: /root/.hunter/_Base/70287b1/02ccb06/dffbc08/Build/Eigen/Install/include/eigen3/unsupported/Eigen/src/IterativeSolvers/DGMRES.h\n",
            "-- Up-to-date: /root/.hunter/_Base/70287b1/02ccb06/dffbc08/Build/Eigen/Install/include/eigen3/unsupported/Eigen/src/IterativeSolvers/MINRES.h\n",
            "-- Up-to-date: /root/.hunter/_Base/70287b1/02ccb06/dffbc08/Build/Eigen/Install/include/eigen3/unsupported/Eigen/src/IterativeSolvers/GMRES.h\n",
            "-- Up-to-date: /root/.hunter/_Base/70287b1/02ccb06/dffbc08/Build/Eigen/Install/include/eigen3/unsupported/Eigen/src/IterativeSolvers/IncompleteLU.h\n",
            "-- Up-to-date: /root/.hunter/_Base/70287b1/02ccb06/dffbc08/Build/Eigen/Install/include/eigen3/unsupported/Eigen/src/IterativeSolvers/IterationController.h\n",
            "-- Up-to-date: /root/.hunter/_Base/70287b1/02ccb06/dffbc08/Build/Eigen/Install/include/eigen3/unsupported/Eigen/src/IterativeSolvers/Scaling.h\n",
            "-- Up-to-date: /root/.hunter/_Base/70287b1/02ccb06/dffbc08/Build/Eigen/Install/include/eigen3/unsupported/Eigen/src/FFT\n",
            "-- Up-to-date: /root/.hunter/_Base/70287b1/02ccb06/dffbc08/Build/Eigen/Install/include/eigen3/unsupported/Eigen/src/FFT/ei_kissfft_impl.h\n",
            "-- Up-to-date: /root/.hunter/_Base/70287b1/02ccb06/dffbc08/Build/Eigen/Install/include/eigen3/unsupported/Eigen/src/FFT/ei_fftw_impl.h\n",
            "-- Up-to-date: /root/.hunter/_Base/70287b1/02ccb06/dffbc08/Build/Eigen/Install/include/eigen3/unsupported/Eigen/src/Splines\n",
            "-- Up-to-date: /root/.hunter/_Base/70287b1/02ccb06/dffbc08/Build/Eigen/Install/include/eigen3/unsupported/Eigen/src/Splines/SplineFitting.h\n",
            "-- Up-to-date: /root/.hunter/_Base/70287b1/02ccb06/dffbc08/Build/Eigen/Install/include/eigen3/unsupported/Eigen/src/Splines/Spline.h\n",
            "-- Up-to-date: /root/.hunter/_Base/70287b1/02ccb06/dffbc08/Build/Eigen/Install/include/eigen3/unsupported/Eigen/src/Splines/SplineFwd.h\n",
            "-- Up-to-date: /root/.hunter/_Base/70287b1/02ccb06/dffbc08/Build/Eigen/Install/include/eigen3/unsupported/Eigen/src/AutoDiff\n",
            "-- Up-to-date: /root/.hunter/_Base/70287b1/02ccb06/dffbc08/Build/Eigen/Install/include/eigen3/unsupported/Eigen/src/AutoDiff/AutoDiffJacobian.h\n",
            "-- Up-to-date: /root/.hunter/_Base/70287b1/02ccb06/dffbc08/Build/Eigen/Install/include/eigen3/unsupported/Eigen/src/AutoDiff/AutoDiffScalar.h\n",
            "-- Up-to-date: /root/.hunter/_Base/70287b1/02ccb06/dffbc08/Build/Eigen/Install/include/eigen3/unsupported/Eigen/src/AutoDiff/AutoDiffVector.h\n",
            "-- Up-to-date: /root/.hunter/_Base/70287b1/02ccb06/dffbc08/Build/Eigen/Install/include/eigen3/unsupported/Eigen/src/NonLinearOptimization\n",
            "-- Up-to-date: /root/.hunter/_Base/70287b1/02ccb06/dffbc08/Build/Eigen/Install/include/eigen3/unsupported/Eigen/src/NonLinearOptimization/qrsolv.h\n",
            "-- Up-to-date: /root/.hunter/_Base/70287b1/02ccb06/dffbc08/Build/Eigen/Install/include/eigen3/unsupported/Eigen/src/NonLinearOptimization/LevenbergMarquardt.h\n",
            "-- Up-to-date: /root/.hunter/_Base/70287b1/02ccb06/dffbc08/Build/Eigen/Install/include/eigen3/unsupported/Eigen/src/NonLinearOptimization/r1mpyq.h\n",
            "-- Up-to-date: /root/.hunter/_Base/70287b1/02ccb06/dffbc08/Build/Eigen/Install/include/eigen3/unsupported/Eigen/src/NonLinearOptimization/chkder.h\n",
            "-- Up-to-date: /root/.hunter/_Base/70287b1/02ccb06/dffbc08/Build/Eigen/Install/include/eigen3/unsupported/Eigen/src/NonLinearOptimization/dogleg.h\n",
            "-- Up-to-date: /root/.hunter/_Base/70287b1/02ccb06/dffbc08/Build/Eigen/Install/include/eigen3/unsupported/Eigen/src/NonLinearOptimization/HybridNonLinearSolver.h\n",
            "-- Up-to-date: /root/.hunter/_Base/70287b1/02ccb06/dffbc08/Build/Eigen/Install/include/eigen3/unsupported/Eigen/src/NonLinearOptimization/fdjac1.h\n",
            "-- Up-to-date: /root/.hunter/_Base/70287b1/02ccb06/dffbc08/Build/Eigen/Install/include/eigen3/unsupported/Eigen/src/NonLinearOptimization/r1updt.h\n",
            "-- Up-to-date: /root/.hunter/_Base/70287b1/02ccb06/dffbc08/Build/Eigen/Install/include/eigen3/unsupported/Eigen/src/NonLinearOptimization/rwupdt.h\n",
            "-- Up-to-date: /root/.hunter/_Base/70287b1/02ccb06/dffbc08/Build/Eigen/Install/include/eigen3/unsupported/Eigen/src/NonLinearOptimization/lmpar.h\n",
            "-- Up-to-date: /root/.hunter/_Base/70287b1/02ccb06/dffbc08/Build/Eigen/Install/include/eigen3/unsupported/Eigen/src/NonLinearOptimization/covar.h\n",
            "-- Up-to-date: /root/.hunter/_Base/70287b1/02ccb06/dffbc08/Build/Eigen/Install/include/eigen3/unsupported/Eigen/src/LevenbergMarquardt\n",
            "-- Up-to-date: /root/.hunter/_Base/70287b1/02ccb06/dffbc08/Build/Eigen/Install/include/eigen3/unsupported/Eigen/src/LevenbergMarquardt/LMpar.h\n",
            "-- Up-to-date: /root/.hunter/_Base/70287b1/02ccb06/dffbc08/Build/Eigen/Install/include/eigen3/unsupported/Eigen/src/LevenbergMarquardt/LevenbergMarquardt.h\n",
            "-- Up-to-date: /root/.hunter/_Base/70287b1/02ccb06/dffbc08/Build/Eigen/Install/include/eigen3/unsupported/Eigen/src/LevenbergMarquardt/LMqrsolv.h\n",
            "-- Up-to-date: /root/.hunter/_Base/70287b1/02ccb06/dffbc08/Build/Eigen/Install/include/eigen3/unsupported/Eigen/src/LevenbergMarquardt/LMcovar.h\n",
            "-- Up-to-date: /root/.hunter/_Base/70287b1/02ccb06/dffbc08/Build/Eigen/Install/include/eigen3/unsupported/Eigen/src/LevenbergMarquardt/LMonestep.h\n",
            "-- Up-to-date: /root/.hunter/_Base/70287b1/02ccb06/dffbc08/Build/Eigen/Install/include/eigen3/unsupported/Eigen/src/Eigenvalues\n",
            "-- Up-to-date: /root/.hunter/_Base/70287b1/02ccb06/dffbc08/Build/Eigen/Install/include/eigen3/unsupported/Eigen/src/Eigenvalues/ArpackSelfAdjointEigenSolver.h\n",
            "-- Up-to-date: /root/.hunter/_Base/70287b1/02ccb06/dffbc08/Build/Eigen/Install/include/eigen3/unsupported/Eigen/CXX11/Tensor\n",
            "-- Up-to-date: /root/.hunter/_Base/70287b1/02ccb06/dffbc08/Build/Eigen/Install/include/eigen3/unsupported/Eigen/CXX11/TensorSymmetry\n",
            "-- Up-to-date: /root/.hunter/_Base/70287b1/02ccb06/dffbc08/Build/Eigen/Install/include/eigen3/unsupported/Eigen/CXX11/ThreadPool\n",
            "-- Up-to-date: /root/.hunter/_Base/70287b1/02ccb06/dffbc08/Build/Eigen/Install/include/eigen3/unsupported/Eigen/CXX11/src\n",
            "-- Up-to-date: /root/.hunter/_Base/70287b1/02ccb06/dffbc08/Build/Eigen/Install/include/eigen3/unsupported/Eigen/CXX11/src/ThreadPool\n",
            "-- Up-to-date: /root/.hunter/_Base/70287b1/02ccb06/dffbc08/Build/Eigen/Install/include/eigen3/unsupported/Eigen/CXX11/src/ThreadPool/ThreadYield.h\n",
            "-- Up-to-date: /root/.hunter/_Base/70287b1/02ccb06/dffbc08/Build/Eigen/Install/include/eigen3/unsupported/Eigen/CXX11/src/ThreadPool/EventCount.h\n",
            "-- Up-to-date: /root/.hunter/_Base/70287b1/02ccb06/dffbc08/Build/Eigen/Install/include/eigen3/unsupported/Eigen/CXX11/src/ThreadPool/ThreadLocal.h\n",
            "-- Up-to-date: /root/.hunter/_Base/70287b1/02ccb06/dffbc08/Build/Eigen/Install/include/eigen3/unsupported/Eigen/CXX11/src/ThreadPool/NonBlockingThreadPool.h\n",
            "-- Up-to-date: /root/.hunter/_Base/70287b1/02ccb06/dffbc08/Build/Eigen/Install/include/eigen3/unsupported/Eigen/CXX11/src/ThreadPool/ThreadEnvironment.h\n",
            "-- Up-to-date: /root/.hunter/_Base/70287b1/02ccb06/dffbc08/Build/Eigen/Install/include/eigen3/unsupported/Eigen/CXX11/src/ThreadPool/SimpleThreadPool.h\n",
            "-- Up-to-date: /root/.hunter/_Base/70287b1/02ccb06/dffbc08/Build/Eigen/Install/include/eigen3/unsupported/Eigen/CXX11/src/ThreadPool/ThreadPoolInterface.h\n",
            "-- Up-to-date: /root/.hunter/_Base/70287b1/02ccb06/dffbc08/Build/Eigen/Install/include/eigen3/unsupported/Eigen/CXX11/src/ThreadPool/RunQueue.h\n",
            "-- Up-to-date: /root/.hunter/_Base/70287b1/02ccb06/dffbc08/Build/Eigen/Install/include/eigen3/unsupported/Eigen/CXX11/src/util\n",
            "-- Up-to-date: /root/.hunter/_Base/70287b1/02ccb06/dffbc08/Build/Eigen/Install/include/eigen3/unsupported/Eigen/CXX11/src/util/EmulateArray.h\n",
            "-- Up-to-date: /root/.hunter/_Base/70287b1/02ccb06/dffbc08/Build/Eigen/Install/include/eigen3/unsupported/Eigen/CXX11/src/util/EmulateCXX11Meta.h\n",
            "-- Up-to-date: /root/.hunter/_Base/70287b1/02ccb06/dffbc08/Build/Eigen/Install/include/eigen3/unsupported/Eigen/CXX11/src/util/CXX11Meta.h\n",
            "-- Up-to-date: /root/.hunter/_Base/70287b1/02ccb06/dffbc08/Build/Eigen/Install/include/eigen3/unsupported/Eigen/CXX11/src/util/MaxSizeVector.h\n",
            "-- Up-to-date: /root/.hunter/_Base/70287b1/02ccb06/dffbc08/Build/Eigen/Install/include/eigen3/unsupported/Eigen/CXX11/src/util/CXX11Workarounds.h\n",
            "-- Up-to-date: /root/.hunter/_Base/70287b1/02ccb06/dffbc08/Build/Eigen/Install/include/eigen3/unsupported/Eigen/CXX11/src/TensorSymmetry\n",
            "-- Up-to-date: /root/.hunter/_Base/70287b1/02ccb06/dffbc08/Build/Eigen/Install/include/eigen3/unsupported/Eigen/CXX11/src/TensorSymmetry/util\n",
            "-- Up-to-date: /root/.hunter/_Base/70287b1/02ccb06/dffbc08/Build/Eigen/Install/include/eigen3/unsupported/Eigen/CXX11/src/TensorSymmetry/util/TemplateGroupTheory.h\n",
            "-- Up-to-date: /root/.hunter/_Base/70287b1/02ccb06/dffbc08/Build/Eigen/Install/include/eigen3/unsupported/Eigen/CXX11/src/TensorSymmetry/DynamicSymmetry.h\n",
            "-- Up-to-date: /root/.hunter/_Base/70287b1/02ccb06/dffbc08/Build/Eigen/Install/include/eigen3/unsupported/Eigen/CXX11/src/TensorSymmetry/Symmetry.h\n",
            "-- Up-to-date: /root/.hunter/_Base/70287b1/02ccb06/dffbc08/Build/Eigen/Install/include/eigen3/unsupported/Eigen/CXX11/src/TensorSymmetry/StaticSymmetry.h\n",
            "-- Up-to-date: /root/.hunter/_Base/70287b1/02ccb06/dffbc08/Build/Eigen/Install/include/eigen3/unsupported/Eigen/CXX11/src/Tensor\n",
            "-- Up-to-date: /root/.hunter/_Base/70287b1/02ccb06/dffbc08/Build/Eigen/Install/include/eigen3/unsupported/Eigen/CXX11/src/Tensor/TensorDimensions.h\n",
            "-- Up-to-date: /root/.hunter/_Base/70287b1/02ccb06/dffbc08/Build/Eigen/Install/include/eigen3/unsupported/Eigen/CXX11/src/Tensor/TensorInflation.h\n",
            "-- Up-to-date: /root/.hunter/_Base/70287b1/02ccb06/dffbc08/Build/Eigen/Install/include/eigen3/unsupported/Eigen/CXX11/src/Tensor/TensorReverse.h\n",
            "-- Up-to-date: /root/.hunter/_Base/70287b1/02ccb06/dffbc08/Build/Eigen/Install/include/eigen3/unsupported/Eigen/CXX11/src/Tensor/TensorSyclPlaceHolderExpr.h\n",
            "-- Up-to-date: /root/.hunter/_Base/70287b1/02ccb06/dffbc08/Build/Eigen/Install/include/eigen3/unsupported/Eigen/CXX11/src/Tensor/TensorIO.h\n",
            "-- Up-to-date: /root/.hunter/_Base/70287b1/02ccb06/dffbc08/Build/Eigen/Install/include/eigen3/unsupported/Eigen/CXX11/src/Tensor/TensorSyclLeafCount.h\n",
            "-- Up-to-date: /root/.hunter/_Base/70287b1/02ccb06/dffbc08/Build/Eigen/Install/include/eigen3/unsupported/Eigen/CXX11/src/Tensor/TensorMap.h\n",
            "-- Up-to-date: /root/.hunter/_Base/70287b1/02ccb06/dffbc08/Build/Eigen/Install/include/eigen3/unsupported/Eigen/CXX11/src/Tensor/TensorIndexList.h\n",
            "-- Up-to-date: /root/.hunter/_Base/70287b1/02ccb06/dffbc08/Build/Eigen/Install/include/eigen3/unsupported/Eigen/CXX11/src/Tensor/TensorDimensionList.h\n",
            "-- Up-to-date: /root/.hunter/_Base/70287b1/02ccb06/dffbc08/Build/Eigen/Install/include/eigen3/unsupported/Eigen/CXX11/src/Tensor/TensorAssign.h\n",
            "-- Up-to-date: /root/.hunter/_Base/70287b1/02ccb06/dffbc08/Build/Eigen/Install/include/eigen3/unsupported/Eigen/CXX11/src/Tensor/TensorBase.h\n",
            "-- Up-to-date: /root/.hunter/_Base/70287b1/02ccb06/dffbc08/Build/Eigen/Install/include/eigen3/unsupported/Eigen/CXX11/src/Tensor/TensorForcedEval.h\n",
            "-- Up-to-date: /root/.hunter/_Base/70287b1/02ccb06/dffbc08/Build/Eigen/Install/include/eigen3/unsupported/Eigen/CXX11/src/Tensor/TensorContractionThreadPool.h\n",
            "-- Up-to-date: /root/.hunter/_Base/70287b1/02ccb06/dffbc08/Build/Eigen/Install/include/eigen3/unsupported/Eigen/CXX11/src/Tensor/TensorScan.h\n",
            "-- Up-to-date: /root/.hunter/_Base/70287b1/02ccb06/dffbc08/Build/Eigen/Install/include/eigen3/unsupported/Eigen/CXX11/src/Tensor/TensorInitializer.h\n",
            "-- Up-to-date: /root/.hunter/_Base/70287b1/02ccb06/dffbc08/Build/Eigen/Install/include/eigen3/unsupported/Eigen/CXX11/src/Tensor/TensorConversion.h\n",
            "-- Up-to-date: /root/.hunter/_Base/70287b1/02ccb06/dffbc08/Build/Eigen/Install/include/eigen3/unsupported/Eigen/CXX11/src/Tensor/TensorReduction.h\n",
            "-- Up-to-date: /root/.hunter/_Base/70287b1/02ccb06/dffbc08/Build/Eigen/Install/include/eigen3/unsupported/Eigen/CXX11/src/Tensor/TensorDeviceThreadPool.h\n",
            "-- Up-to-date: /root/.hunter/_Base/70287b1/02ccb06/dffbc08/Build/Eigen/Install/include/eigen3/unsupported/Eigen/CXX11/src/Tensor/TensorRef.h\n",
            "-- Up-to-date: /root/.hunter/_Base/70287b1/02ccb06/dffbc08/Build/Eigen/Install/include/eigen3/unsupported/Eigen/CXX11/src/Tensor/TensorContraction.h\n",
            "-- Up-to-date: /root/.hunter/_Base/70287b1/02ccb06/dffbc08/Build/Eigen/Install/include/eigen3/unsupported/Eigen/CXX11/src/Tensor/TensorConcatenation.h\n",
            "-- Up-to-date: /root/.hunter/_Base/70287b1/02ccb06/dffbc08/Build/Eigen/Install/include/eigen3/unsupported/Eigen/CXX11/src/Tensor/TensorMorphing.h\n",
            "-- Up-to-date: /root/.hunter/_Base/70287b1/02ccb06/dffbc08/Build/Eigen/Install/include/eigen3/unsupported/Eigen/CXX11/src/Tensor/TensorSyclExtractAccessor.h\n",
            "-- Up-to-date: /root/.hunter/_Base/70287b1/02ccb06/dffbc08/Build/Eigen/Install/include/eigen3/unsupported/Eigen/CXX11/src/Tensor/TensorDeviceCuda.h\n",
            "-- Up-to-date: /root/.hunter/_Base/70287b1/02ccb06/dffbc08/Build/Eigen/Install/include/eigen3/unsupported/Eigen/CXX11/src/Tensor/TensorSycl.h\n",
            "-- Up-to-date: /root/.hunter/_Base/70287b1/02ccb06/dffbc08/Build/Eigen/Install/include/eigen3/unsupported/Eigen/CXX11/src/Tensor/TensorDeviceDefault.h\n",
            "-- Up-to-date: /root/.hunter/_Base/70287b1/02ccb06/dffbc08/Build/Eigen/Install/include/eigen3/unsupported/Eigen/CXX11/src/Tensor/TensorContractionMapper.h\n",
            "-- Up-to-date: /root/.hunter/_Base/70287b1/02ccb06/dffbc08/Build/Eigen/Install/include/eigen3/unsupported/Eigen/CXX11/src/Tensor/TensorContractionCuda.h\n",
            "-- Up-to-date: /root/.hunter/_Base/70287b1/02ccb06/dffbc08/Build/Eigen/Install/include/eigen3/unsupported/Eigen/CXX11/src/Tensor/TensorSyclConvertToDeviceExpression.h\n",
            "-- Up-to-date: /root/.hunter/_Base/70287b1/02ccb06/dffbc08/Build/Eigen/Install/include/eigen3/unsupported/Eigen/CXX11/src/Tensor/TensorDevice.h\n",
            "-- Up-to-date: /root/.hunter/_Base/70287b1/02ccb06/dffbc08/Build/Eigen/Install/include/eigen3/unsupported/Eigen/CXX11/src/Tensor/TensorFFT.h\n",
            "-- Up-to-date: /root/.hunter/_Base/70287b1/02ccb06/dffbc08/Build/Eigen/Install/include/eigen3/unsupported/Eigen/CXX11/src/Tensor/TensorVolumePatch.h\n",
            "-- Up-to-date: /root/.hunter/_Base/70287b1/02ccb06/dffbc08/Build/Eigen/Install/include/eigen3/unsupported/Eigen/CXX11/src/Tensor/TensorForwardDeclarations.h\n",
            "-- Up-to-date: /root/.hunter/_Base/70287b1/02ccb06/dffbc08/Build/Eigen/Install/include/eigen3/unsupported/Eigen/CXX11/src/Tensor/TensorUInt128.h\n",
            "-- Up-to-date: /root/.hunter/_Base/70287b1/02ccb06/dffbc08/Build/Eigen/Install/include/eigen3/unsupported/Eigen/CXX11/src/Tensor/TensorReductionCuda.h\n",
            "-- Up-to-date: /root/.hunter/_Base/70287b1/02ccb06/dffbc08/Build/Eigen/Install/include/eigen3/unsupported/Eigen/CXX11/src/Tensor/TensorMeta.h\n",
            "-- Up-to-date: /root/.hunter/_Base/70287b1/02ccb06/dffbc08/Build/Eigen/Install/include/eigen3/unsupported/Eigen/CXX11/src/Tensor/TensorStriding.h\n",
            "-- Up-to-date: /root/.hunter/_Base/70287b1/02ccb06/dffbc08/Build/Eigen/Install/include/eigen3/unsupported/Eigen/CXX11/src/Tensor/TensorSyclExprConstructor.h\n",
            "-- Up-to-date: /root/.hunter/_Base/70287b1/02ccb06/dffbc08/Build/Eigen/Install/include/eigen3/unsupported/Eigen/CXX11/src/Tensor/TensorCostModel.h\n",
            "-- Up-to-date: /root/.hunter/_Base/70287b1/02ccb06/dffbc08/Build/Eigen/Install/include/eigen3/unsupported/Eigen/CXX11/src/Tensor/TensorRandom.h\n",
            "-- Up-to-date: /root/.hunter/_Base/70287b1/02ccb06/dffbc08/Build/Eigen/Install/include/eigen3/unsupported/Eigen/CXX11/src/Tensor/Tensor.h\n",
            "-- Up-to-date: /root/.hunter/_Base/70287b1/02ccb06/dffbc08/Build/Eigen/Install/include/eigen3/unsupported/Eigen/CXX11/src/Tensor/TensorBroadcasting.h\n",
            "-- Up-to-date: /root/.hunter/_Base/70287b1/02ccb06/dffbc08/Build/Eigen/Install/include/eigen3/unsupported/Eigen/CXX11/src/Tensor/TensorMacros.h\n",
            "-- Up-to-date: /root/.hunter/_Base/70287b1/02ccb06/dffbc08/Build/Eigen/Install/include/eigen3/unsupported/Eigen/CXX11/src/Tensor/TensorEvaluator.h\n",
            "-- Up-to-date: /root/.hunter/_Base/70287b1/02ccb06/dffbc08/Build/Eigen/Install/include/eigen3/unsupported/Eigen/CXX11/src/Tensor/TensorImagePatch.h\n",
            "-- Up-to-date: /root/.hunter/_Base/70287b1/02ccb06/dffbc08/Build/Eigen/Install/include/eigen3/unsupported/Eigen/CXX11/src/Tensor/TensorFunctors.h\n",
            "-- Up-to-date: /root/.hunter/_Base/70287b1/02ccb06/dffbc08/Build/Eigen/Install/include/eigen3/unsupported/Eigen/CXX11/src/Tensor/TensorEvalTo.h\n",
            "-- Up-to-date: /root/.hunter/_Base/70287b1/02ccb06/dffbc08/Build/Eigen/Install/include/eigen3/unsupported/Eigen/CXX11/src/Tensor/TensorContractionBlocking.h\n",
            "-- Up-to-date: /root/.hunter/_Base/70287b1/02ccb06/dffbc08/Build/Eigen/Install/include/eigen3/unsupported/Eigen/CXX11/src/Tensor/TensorSyclExtractFunctors.h\n",
            "-- Up-to-date: /root/.hunter/_Base/70287b1/02ccb06/dffbc08/Build/Eigen/Install/include/eigen3/unsupported/Eigen/CXX11/src/Tensor/TensorReductionSycl.h\n",
            "-- Up-to-date: /root/.hunter/_Base/70287b1/02ccb06/dffbc08/Build/Eigen/Install/include/eigen3/unsupported/Eigen/CXX11/src/Tensor/TensorDeviceSycl.h\n",
            "-- Up-to-date: /root/.hunter/_Base/70287b1/02ccb06/dffbc08/Build/Eigen/Install/include/eigen3/unsupported/Eigen/CXX11/src/Tensor/TensorPatch.h\n",
            "-- Up-to-date: /root/.hunter/_Base/70287b1/02ccb06/dffbc08/Build/Eigen/Install/include/eigen3/unsupported/Eigen/CXX11/src/Tensor/TensorLayoutSwap.h\n",
            "-- Up-to-date: /root/.hunter/_Base/70287b1/02ccb06/dffbc08/Build/Eigen/Install/include/eigen3/unsupported/Eigen/CXX11/src/Tensor/TensorIntDiv.h\n",
            "-- Up-to-date: /root/.hunter/_Base/70287b1/02ccb06/dffbc08/Build/Eigen/Install/include/eigen3/unsupported/Eigen/CXX11/src/Tensor/TensorExpr.h\n",
            "-- Up-to-date: /root/.hunter/_Base/70287b1/02ccb06/dffbc08/Build/Eigen/Install/include/eigen3/unsupported/Eigen/CXX11/src/Tensor/TensorChipping.h\n",
            "-- Up-to-date: /root/.hunter/_Base/70287b1/02ccb06/dffbc08/Build/Eigen/Install/include/eigen3/unsupported/Eigen/CXX11/src/Tensor/TensorGlobalFunctions.h\n",
            "-- Up-to-date: /root/.hunter/_Base/70287b1/02ccb06/dffbc08/Build/Eigen/Install/include/eigen3/unsupported/Eigen/CXX11/src/Tensor/TensorCustomOp.h\n",
            "-- Up-to-date: /root/.hunter/_Base/70287b1/02ccb06/dffbc08/Build/Eigen/Install/include/eigen3/unsupported/Eigen/CXX11/src/Tensor/TensorStorage.h\n",
            "-- Up-to-date: /root/.hunter/_Base/70287b1/02ccb06/dffbc08/Build/Eigen/Install/include/eigen3/unsupported/Eigen/CXX11/src/Tensor/TensorTraits.h\n",
            "-- Up-to-date: /root/.hunter/_Base/70287b1/02ccb06/dffbc08/Build/Eigen/Install/include/eigen3/unsupported/Eigen/CXX11/src/Tensor/TensorShuffling.h\n",
            "-- Up-to-date: /root/.hunter/_Base/70287b1/02ccb06/dffbc08/Build/Eigen/Install/include/eigen3/unsupported/Eigen/CXX11/src/Tensor/TensorArgMax.h\n",
            "-- Up-to-date: /root/.hunter/_Base/70287b1/02ccb06/dffbc08/Build/Eigen/Install/include/eigen3/unsupported/Eigen/CXX11/src/Tensor/TensorPadding.h\n",
            "-- Up-to-date: /root/.hunter/_Base/70287b1/02ccb06/dffbc08/Build/Eigen/Install/include/eigen3/unsupported/Eigen/CXX11/src/Tensor/TensorGenerator.h\n",
            "-- Up-to-date: /root/.hunter/_Base/70287b1/02ccb06/dffbc08/Build/Eigen/Install/include/eigen3/unsupported/Eigen/CXX11/src/Tensor/TensorSyclRun.h\n",
            "-- Up-to-date: /root/.hunter/_Base/70287b1/02ccb06/dffbc08/Build/Eigen/Install/include/eigen3/unsupported/Eigen/CXX11/src/Tensor/TensorConvolution.h\n",
            "-- Up-to-date: /root/.hunter/_Base/70287b1/02ccb06/dffbc08/Build/Eigen/Install/include/eigen3/unsupported/Eigen/CXX11/src/Tensor/TensorExecutor.h\n",
            "-- Up-to-date: /root/.hunter/_Base/70287b1/02ccb06/dffbc08/Build/Eigen/Install/include/eigen3/unsupported/Eigen/CXX11/src/Tensor/TensorSyclTuple.h\n",
            "-- Up-to-date: /root/.hunter/_Base/70287b1/02ccb06/dffbc08/Build/Eigen/Install/include/eigen3/unsupported/Eigen/CXX11/src/Tensor/TensorFixedSize.h\n",
            "loading initial cache file /root/.hunter/_Base/70287b1/02ccb06/dffbc08/Build/Eigen/args.cmake\n",
            "[100%] Completed 'Eigen-Debug'\n",
            "[100%] Built target Eigen-Debug\n",
            "-- [hunter] Build step successful (dir: /root/.hunter/_Base/70287b1/02ccb06/dffbc08/Build/Eigen)\n",
            "-- [hunter] Cache saved: /root/.hunter/_Base/Cache/raw/8f64db4bafbe91e64c9883501fbfbf0f7b4eef1f.tar.bz2\n",
            "-- [hunter] FMT_ROOT: /root/.hunter/_Base/70287b1/02ccb06/dffbc08/Install (ver.: 4.1.0)\n",
            "-- [hunter] Building fmt\n",
            "loading initial cache file /root/.hunter/_Base/70287b1/02ccb06/dffbc08/cache.cmake\n",
            "loading initial cache file /root/.hunter/_Base/70287b1/02ccb06/dffbc08/Build/fmt/args.cmake\n",
            "-- The C compiler identification is GNU 7.5.0\n",
            "-- The CXX compiler identification is GNU 7.5.0\n",
            "-- Check for working C compiler: /usr/bin/cc\n",
            "-- Check for working C compiler: /usr/bin/cc -- works\n",
            "-- Detecting C compile features\n",
            "-- Detecting C compile features - done\n",
            "-- Check for working CXX compiler: /usr/bin/c++\n",
            "-- Check for working CXX compiler: /usr/bin/c++ -- works\n",
            "-- Detecting CXX compile features\n",
            "-- Detecting CXX compile features - done\n",
            "-- Configuring done\n",
            "-- Generating done\n",
            "-- Build files have been written to: /root/.hunter/_Base/70287b1/02ccb06/dffbc08/Build/fmt/Build\n",
            "Scanning dependencies of target fmt-Release\n",
            "[  6%] Creating directories for 'fmt-Release'\n",
            "[ 12%] Performing download step (download, verify and extract) for 'fmt-Release'\n",
            "-- Downloading...\n",
            "   dst='/root/.hunter/_Base/Download/fmt/4.1.0/9df8f7a/4.1.0.tar.gz'\n",
            "   timeout='none'\n",
            "-- Using src='https://github.com/fmtlib/fmt/archive/4.1.0.tar.gz'\n",
            "-- [download 100% complete]\n",
            "-- verifying file...\n",
            "       file='/root/.hunter/_Base/Download/fmt/4.1.0/9df8f7a/4.1.0.tar.gz'\n",
            "-- Downloading... done\n",
            "-- extracting...\n",
            "     src='/root/.hunter/_Base/Download/fmt/4.1.0/9df8f7a/4.1.0.tar.gz'\n",
            "     dst='/root/.hunter/_Base/70287b1/02ccb06/dffbc08/Build/fmt/Source'\n",
            "-- extracting... [tar xfz]\n",
            "-- extracting... [analysis]\n",
            "-- extracting... [rename]\n",
            "-- extracting... [clean up]\n",
            "-- extracting... done\n",
            "[ 18%] No patch step for 'fmt-Release'\n",
            "[ 25%] No update step for 'fmt-Release'\n",
            "[ 31%] Performing configure step for 'fmt-Release'\n",
            "loading initial cache file /root/.hunter/_Base/70287b1/02ccb06/dffbc08/cache.cmake\n",
            "loading initial cache file /root/.hunter/_Base/70287b1/02ccb06/dffbc08/Build/fmt/args.cmake\n",
            "-- CMake version: 3.12.0\n",
            "CMake Deprecation Warning at CMakeLists.txt:6 (cmake_policy):\n",
            "  The OLD behavior for policy CMP0048 will be removed from a future version\n",
            "  of CMake.\n",
            "\n",
            "  The cmake-policies(7) manual explains that the OLD behaviors of all\n",
            "  policies are deprecated and that a policy should be set to OLD only under\n",
            "  specific short-term circumstances.  Projects should be ported to the NEW\n",
            "  behavior and not rely on setting a policy to OLD.\n",
            "\n",
            "\n",
            "-- The C compiler identification is GNU 7.5.0\n",
            "-- The CXX compiler identification is GNU 7.5.0\n",
            "-- Check for working C compiler: /usr/bin/cc\n",
            "-- Check for working C compiler: /usr/bin/cc -- works\n",
            "-- Detecting C compile features\n",
            "-- Detecting C compile features - done\n",
            "-- Check for working CXX compiler: /usr/bin/c++\n",
            "-- Check for working CXX compiler: /usr/bin/c++ -- works\n",
            "-- Detecting CXX compile features\n",
            "-- Detecting CXX compile features - done\n",
            "-- Version: 4.1.0\n",
            "-- Build type: Release\n",
            "-- Performing Test HAVE_STD_CPP11_FLAG\n",
            "-- Performing Test HAVE_STD_CPP11_FLAG - Success\n",
            "-- Performing Test FMT_CPP11_CMATH\n",
            "-- Performing Test FMT_CPP11_CMATH - Success\n",
            "-- Performing Test FMT_CPP11_UNISTD_H\n",
            "-- Performing Test FMT_CPP11_UNISTD_H - Success\n",
            "-- Performing Test FMT_CPP11_SNPRINTF\n",
            "-- Performing Test FMT_CPP11_SNPRINTF - Success\n",
            "-- Performing Test SUPPORTS_VARIADIC_TEMPLATES\n",
            "-- Performing Test SUPPORTS_VARIADIC_TEMPLATES - Success\n",
            "-- Performing Test SUPPORTS_INITIALIZER_LIST\n",
            "-- Performing Test SUPPORTS_INITIALIZER_LIST - Success\n",
            "-- Performing Test SUPPORTS_ENUM_BASE\n",
            "-- Performing Test SUPPORTS_ENUM_BASE - Success\n",
            "-- Performing Test SUPPORTS_TYPE_TRAITS\n",
            "-- Performing Test SUPPORTS_TYPE_TRAITS - Success\n",
            "-- Performing Test SUPPORTS_USER_DEFINED_LITERALS\n",
            "-- Performing Test SUPPORTS_USER_DEFINED_LITERALS - Success\n",
            "-- Looking for open\n",
            "-- Looking for open - found\n",
            "-- Configuring done\n",
            "-- Generating done\n",
            "-- Build files have been written to: /root/.hunter/_Base/70287b1/02ccb06/dffbc08/Build/fmt/Build/fmt-Release-prefix/src/fmt-Release-build\n",
            "[ 37%] Performing build step for 'fmt-Release'\n",
            "Scanning dependencies of target fmt\n",
            "[ 20%] Building CXX object fmt/CMakeFiles/fmt.dir/posix.cc.o\n",
            "[ 40%] Building CXX object fmt/CMakeFiles/fmt.dir/format.cc.o\n",
            "[ 60%] Building CXX object fmt/CMakeFiles/fmt.dir/ostream.cc.o\n",
            "[ 80%] Building CXX object fmt/CMakeFiles/fmt.dir/printf.cc.o\n",
            "[100%] Linking CXX shared library libfmt.so\n",
            "[100%] Built target fmt\n",
            "[ 43%] Performing install step for 'fmt-Release'\n",
            "[100%] Built target fmt\n",
            "Install the project...\n",
            "-- Install configuration: \"Release\"\n",
            "-- Installing: /root/.hunter/_Base/70287b1/02ccb06/dffbc08/Build/fmt/Install/lib/cmake/fmt/fmt-config.cmake\n",
            "-- Installing: /root/.hunter/_Base/70287b1/02ccb06/dffbc08/Build/fmt/Install/lib/cmake/fmt/fmt-config-version.cmake\n",
            "-- Installing: /root/.hunter/_Base/70287b1/02ccb06/dffbc08/Build/fmt/Install/lib/cmake/fmt/fmt-targets.cmake\n",
            "-- Installing: /root/.hunter/_Base/70287b1/02ccb06/dffbc08/Build/fmt/Install/lib/cmake/fmt/fmt-targets-release.cmake\n",
            "-- Installing: /root/.hunter/_Base/70287b1/02ccb06/dffbc08/Build/fmt/Install/lib/libfmt.so.4.1.0\n",
            "-- Installing: /root/.hunter/_Base/70287b1/02ccb06/dffbc08/Build/fmt/Install/lib/libfmt.so.4\n",
            "-- Installing: /root/.hunter/_Base/70287b1/02ccb06/dffbc08/Build/fmt/Install/lib/libfmt.so\n",
            "-- Installing: /root/.hunter/_Base/70287b1/02ccb06/dffbc08/Build/fmt/Install/include/fmt/container.h\n",
            "-- Installing: /root/.hunter/_Base/70287b1/02ccb06/dffbc08/Build/fmt/Install/include/fmt/format.h\n",
            "-- Installing: /root/.hunter/_Base/70287b1/02ccb06/dffbc08/Build/fmt/Install/include/fmt/format.cc\n",
            "-- Installing: /root/.hunter/_Base/70287b1/02ccb06/dffbc08/Build/fmt/Install/include/fmt/ostream.h\n",
            "-- Installing: /root/.hunter/_Base/70287b1/02ccb06/dffbc08/Build/fmt/Install/include/fmt/ostream.cc\n",
            "-- Installing: /root/.hunter/_Base/70287b1/02ccb06/dffbc08/Build/fmt/Install/include/fmt/printf.h\n",
            "-- Installing: /root/.hunter/_Base/70287b1/02ccb06/dffbc08/Build/fmt/Install/include/fmt/printf.cc\n",
            "-- Installing: /root/.hunter/_Base/70287b1/02ccb06/dffbc08/Build/fmt/Install/include/fmt/string.h\n",
            "-- Installing: /root/.hunter/_Base/70287b1/02ccb06/dffbc08/Build/fmt/Install/include/fmt/time.h\n",
            "-- Installing: /root/.hunter/_Base/70287b1/02ccb06/dffbc08/Build/fmt/Install/include/fmt/posix.h\n",
            "loading initial cache file /root/.hunter/_Base/70287b1/02ccb06/dffbc08/Build/fmt/args.cmake\n",
            "[ 50%] Completed 'fmt-Release'\n",
            "[ 50%] Built target fmt-Release\n",
            "Scanning dependencies of target fmt-Debug\n",
            "[ 56%] Creating directories for 'fmt-Debug'\n",
            "[ 62%] Performing download step (download, verify and extract) for 'fmt-Debug'\n",
            "-- verifying file...\n",
            "       file='/root/.hunter/_Base/Download/fmt/4.1.0/9df8f7a/4.1.0.tar.gz'\n",
            "-- File already exists and hash match (skip download):\n",
            "  file='/root/.hunter/_Base/Download/fmt/4.1.0/9df8f7a/4.1.0.tar.gz'\n",
            "  SHA1='9df8f7a70c1b45ffe308e8e3f4f92b31cb927a7a'\n",
            "-- extracting...\n",
            "     src='/root/.hunter/_Base/Download/fmt/4.1.0/9df8f7a/4.1.0.tar.gz'\n",
            "     dst='/root/.hunter/_Base/70287b1/02ccb06/dffbc08/Build/fmt/Source'\n",
            "-- extracting... [tar xfz]\n",
            "-- extracting... [analysis]\n",
            "-- extracting... [rename]\n",
            "-- extracting... [clean up]\n",
            "-- extracting... done\n",
            "[ 68%] No patch step for 'fmt-Debug'\n",
            "[ 75%] No update step for 'fmt-Debug'\n",
            "[ 81%] Performing configure step for 'fmt-Debug'\n",
            "loading initial cache file /root/.hunter/_Base/70287b1/02ccb06/dffbc08/cache.cmake\n",
            "loading initial cache file /root/.hunter/_Base/70287b1/02ccb06/dffbc08/Build/fmt/args.cmake\n",
            "-- CMake version: 3.12.0\n",
            "CMake Deprecation Warning at CMakeLists.txt:6 (cmake_policy):\n",
            "  The OLD behavior for policy CMP0048 will be removed from a future version\n",
            "  of CMake.\n",
            "\n",
            "  The cmake-policies(7) manual explains that the OLD behaviors of all\n",
            "  policies are deprecated and that a policy should be set to OLD only under\n",
            "  specific short-term circumstances.  Projects should be ported to the NEW\n",
            "  behavior and not rely on setting a policy to OLD.\n",
            "\n",
            "\n",
            "-- The C compiler identification is GNU 7.5.0\n",
            "-- The CXX compiler identification is GNU 7.5.0\n",
            "-- Check for working C compiler: /usr/bin/cc\n",
            "-- Check for working C compiler: /usr/bin/cc -- works\n",
            "-- Detecting C compile features\n",
            "-- Detecting C compile features - done\n",
            "-- Check for working CXX compiler: /usr/bin/c++\n",
            "-- Check for working CXX compiler: /usr/bin/c++ -- works\n",
            "-- Detecting CXX compile features\n",
            "-- Detecting CXX compile features - done\n",
            "-- Version: 4.1.0\n",
            "-- Build type: Debug\n",
            "-- Performing Test HAVE_STD_CPP11_FLAG\n",
            "-- Performing Test HAVE_STD_CPP11_FLAG - Success\n",
            "-- Performing Test FMT_CPP11_CMATH\n",
            "-- Performing Test FMT_CPP11_CMATH - Success\n",
            "-- Performing Test FMT_CPP11_UNISTD_H\n",
            "-- Performing Test FMT_CPP11_UNISTD_H - Success\n",
            "-- Performing Test FMT_CPP11_SNPRINTF\n",
            "-- Performing Test FMT_CPP11_SNPRINTF - Success\n",
            "-- Performing Test SUPPORTS_VARIADIC_TEMPLATES\n",
            "-- Performing Test SUPPORTS_VARIADIC_TEMPLATES - Success\n",
            "-- Performing Test SUPPORTS_INITIALIZER_LIST\n",
            "-- Performing Test SUPPORTS_INITIALIZER_LIST - Success\n",
            "-- Performing Test SUPPORTS_ENUM_BASE\n",
            "-- Performing Test SUPPORTS_ENUM_BASE - Success\n",
            "-- Performing Test SUPPORTS_TYPE_TRAITS\n",
            "-- Performing Test SUPPORTS_TYPE_TRAITS - Success\n",
            "-- Performing Test SUPPORTS_USER_DEFINED_LITERALS\n",
            "-- Performing Test SUPPORTS_USER_DEFINED_LITERALS - Success\n",
            "-- Looking for open\n",
            "-- Looking for open - found\n",
            "-- Configuring done\n",
            "-- Generating done\n",
            "-- Build files have been written to: /root/.hunter/_Base/70287b1/02ccb06/dffbc08/Build/fmt/Build/fmt-Debug-prefix/src/fmt-Debug-build\n",
            "[ 87%] Performing build step for 'fmt-Debug'\n",
            "Scanning dependencies of target fmt\n",
            "[ 20%] Building CXX object fmt/CMakeFiles/fmt.dir/posix.cc.o\n",
            "[ 40%] Building CXX object fmt/CMakeFiles/fmt.dir/format.cc.o\n",
            "[ 60%] Building CXX object fmt/CMakeFiles/fmt.dir/ostream.cc.o\n",
            "[ 80%] Building CXX object fmt/CMakeFiles/fmt.dir/printf.cc.o\n",
            "[100%] Linking CXX shared library libfmt_debug.so\n",
            "[100%] Built target fmt\n",
            "[ 93%] Performing install step for 'fmt-Debug'\n",
            "[100%] Built target fmt\n",
            "Install the project...\n",
            "-- Install configuration: \"Debug\"\n",
            "-- Installing: /root/.hunter/_Base/70287b1/02ccb06/dffbc08/Build/fmt/Install/lib/cmake/fmt/fmt-config.cmake\n",
            "-- Installing: /root/.hunter/_Base/70287b1/02ccb06/dffbc08/Build/fmt/Install/lib/cmake/fmt/fmt-config-version.cmake\n",
            "-- Installing: /root/.hunter/_Base/70287b1/02ccb06/dffbc08/Build/fmt/Install/lib/cmake/fmt/fmt-targets.cmake\n",
            "-- Installing: /root/.hunter/_Base/70287b1/02ccb06/dffbc08/Build/fmt/Install/lib/cmake/fmt/fmt-targets-debug.cmake\n",
            "-- Installing: /root/.hunter/_Base/70287b1/02ccb06/dffbc08/Build/fmt/Install/lib/libfmt_debug.so.4.1.0\n",
            "-- Installing: /root/.hunter/_Base/70287b1/02ccb06/dffbc08/Build/fmt/Install/lib/libfmt_debug.so.4\n",
            "-- Installing: /root/.hunter/_Base/70287b1/02ccb06/dffbc08/Build/fmt/Install/lib/libfmt_debug.so\n",
            "-- Up-to-date: /root/.hunter/_Base/70287b1/02ccb06/dffbc08/Build/fmt/Install/include/fmt/container.h\n",
            "-- Up-to-date: /root/.hunter/_Base/70287b1/02ccb06/dffbc08/Build/fmt/Install/include/fmt/format.h\n",
            "-- Up-to-date: /root/.hunter/_Base/70287b1/02ccb06/dffbc08/Build/fmt/Install/include/fmt/format.cc\n",
            "-- Up-to-date: /root/.hunter/_Base/70287b1/02ccb06/dffbc08/Build/fmt/Install/include/fmt/ostream.h\n",
            "-- Up-to-date: /root/.hunter/_Base/70287b1/02ccb06/dffbc08/Build/fmt/Install/include/fmt/ostream.cc\n",
            "-- Up-to-date: /root/.hunter/_Base/70287b1/02ccb06/dffbc08/Build/fmt/Install/include/fmt/printf.h\n",
            "-- Up-to-date: /root/.hunter/_Base/70287b1/02ccb06/dffbc08/Build/fmt/Install/include/fmt/printf.cc\n",
            "-- Up-to-date: /root/.hunter/_Base/70287b1/02ccb06/dffbc08/Build/fmt/Install/include/fmt/string.h\n",
            "-- Up-to-date: /root/.hunter/_Base/70287b1/02ccb06/dffbc08/Build/fmt/Install/include/fmt/time.h\n",
            "-- Up-to-date: /root/.hunter/_Base/70287b1/02ccb06/dffbc08/Build/fmt/Install/include/fmt/posix.h\n",
            "loading initial cache file /root/.hunter/_Base/70287b1/02ccb06/dffbc08/Build/fmt/args.cmake\n",
            "[100%] Completed 'fmt-Debug'\n",
            "[100%] Built target fmt-Debug\n",
            "-- [hunter] Build step successful (dir: /root/.hunter/_Base/70287b1/02ccb06/dffbc08/Build/fmt)\n",
            "-- [hunter] Cache saved: /root/.hunter/_Base/Cache/raw/e476e319ff745c5dca36cb81551ed3c772dff3bd.tar.bz2\n",
            "-- [hunter] GTEST_ROOT: /root/.hunter/_Base/70287b1/02ccb06/dffbc08/Install (ver.: 1.8.0-hunter-p11)\n",
            "-- [hunter] Building GTest\n",
            "loading initial cache file /root/.hunter/_Base/70287b1/02ccb06/dffbc08/cache.cmake\n",
            "loading initial cache file /root/.hunter/_Base/70287b1/02ccb06/dffbc08/Build/GTest/args.cmake\n",
            "-- The C compiler identification is GNU 7.5.0\n",
            "-- The CXX compiler identification is GNU 7.5.0\n",
            "-- Check for working C compiler: /usr/bin/cc\n",
            "-- Check for working C compiler: /usr/bin/cc -- works\n",
            "-- Detecting C compile features\n",
            "-- Detecting C compile features - done\n",
            "-- Check for working CXX compiler: /usr/bin/c++\n",
            "-- Check for working CXX compiler: /usr/bin/c++ -- works\n",
            "-- Detecting CXX compile features\n",
            "-- Detecting CXX compile features - done\n",
            "-- Configuring done\n",
            "-- Generating done\n",
            "-- Build files have been written to: /root/.hunter/_Base/70287b1/02ccb06/dffbc08/Build/GTest/Build\n",
            "Scanning dependencies of target GTest-Release\n",
            "[  6%] Creating directories for 'GTest-Release'\n",
            "[ 12%] Performing download step (download, verify and extract) for 'GTest-Release'\n",
            "-- Downloading...\n",
            "   dst='/root/.hunter/_Base/Download/GTest/1.8.0-hunter-p11/76c6aec/1.8.0-hunter-p11.tar.gz'\n",
            "   timeout='none'\n",
            "-- Using src='https://github.com/hunter-packages/googletest/archive/1.8.0-hunter-p11.tar.gz'\n",
            "-- [download 100% complete]\n",
            "-- verifying file...\n",
            "       file='/root/.hunter/_Base/Download/GTest/1.8.0-hunter-p11/76c6aec/1.8.0-hunter-p11.tar.gz'\n",
            "-- Downloading... done\n",
            "-- extracting...\n",
            "     src='/root/.hunter/_Base/Download/GTest/1.8.0-hunter-p11/76c6aec/1.8.0-hunter-p11.tar.gz'\n",
            "     dst='/root/.hunter/_Base/70287b1/02ccb06/dffbc08/Build/GTest/Source'\n",
            "-- extracting... [tar xfz]\n",
            "-- extracting... [analysis]\n",
            "-- extracting... [rename]\n",
            "-- extracting... [clean up]\n",
            "-- extracting... done\n",
            "[ 18%] No patch step for 'GTest-Release'\n",
            "[ 25%] No update step for 'GTest-Release'\n",
            "[ 31%] Performing configure step for 'GTest-Release'\n",
            "loading initial cache file /root/.hunter/_Base/70287b1/02ccb06/dffbc08/cache.cmake\n",
            "loading initial cache file /root/.hunter/_Base/70287b1/02ccb06/dffbc08/Build/GTest/args.cmake\n",
            "-- The C compiler identification is GNU 7.5.0\n",
            "-- The CXX compiler identification is GNU 7.5.0\n",
            "-- Check for working C compiler: /usr/bin/cc\n",
            "-- Check for working C compiler: /usr/bin/cc -- works\n",
            "-- Detecting C compile features\n",
            "-- Detecting C compile features - done\n",
            "-- Check for working CXX compiler: /usr/bin/c++\n",
            "-- Check for working CXX compiler: /usr/bin/c++ -- works\n",
            "-- Detecting CXX compile features\n",
            "-- Detecting CXX compile features - done\n",
            "-- Found PythonInterp: /usr/local/bin/python (found version \"2.7.17\") \n",
            "-- Looking for pthread.h\n",
            "-- Looking for pthread.h - found\n",
            "-- Looking for pthread_create\n",
            "-- Looking for pthread_create - not found\n",
            "-- Check if compiler accepts -pthread\n",
            "-- Check if compiler accepts -pthread - yes\n",
            "-- Found Threads: TRUE  \n",
            "-- Configuring done\n",
            "-- Generating done\n",
            "-- Build files have been written to: /root/.hunter/_Base/70287b1/02ccb06/dffbc08/Build/GTest/Build/GTest-Release-prefix/src/GTest-Release-build\n",
            "[ 37%] Performing build step for 'GTest-Release'\n",
            "Scanning dependencies of target gtest\n",
            "Scanning dependencies of target gmock\n",
            "[  9%] Building CXX object googlemock/gtest/CMakeFiles/gtest.dir/src/gtest-all.cc.o\n",
            "Scanning dependencies of target gmock_main\n",
            "[ 18%] Building CXX object googlemock/CMakeFiles/gmock.dir/__/googletest/src/gtest-all.cc.o\n",
            "[ 27%] Building CXX object googlemock/CMakeFiles/gmock.dir/src/gmock-all.cc.o\n",
            "[ 36%] Building CXX object googlemock/CMakeFiles/gmock_main.dir/__/googletest/src/gtest-all.cc.o\n",
            "[ 45%] Building CXX object googlemock/CMakeFiles/gmock_main.dir/src/gmock-all.cc.o\n",
            "[ 54%] Building CXX object googlemock/CMakeFiles/gmock_main.dir/src/gmock_main.cc.o\n",
            "[ 63%] Linking CXX shared library libgtest.so\n",
            "[ 72%] Linking CXX shared library libgmock_main.so\n",
            "[ 81%] Linking CXX shared library libgmock.so\n",
            "[ 81%] Built target gtest\n",
            "[ 81%] Built target gmock_main\n",
            "Scanning dependencies of target gtest_main\n",
            "[ 90%] Building CXX object googlemock/gtest/CMakeFiles/gtest_main.dir/src/gtest_main.cc.o\n",
            "[ 90%] Built target gmock\n",
            "[100%] Linking CXX shared library libgtest_main.so\n",
            "[100%] Built target gtest_main\n",
            "[ 43%] Performing install step for 'GTest-Release'\n",
            "[ 36%] Built target gmock_main\n",
            "[ 63%] Built target gmock\n",
            "[ 81%] Built target gtest\n",
            "[100%] Built target gtest_main\n",
            "Install the project...\n",
            "-- Install configuration: \"Release\"\n",
            "-- Installing: /root/.hunter/_Base/70287b1/02ccb06/dffbc08/Build/GTest/Install/lib/libgmock.so\n",
            "-- Installing: /root/.hunter/_Base/70287b1/02ccb06/dffbc08/Build/GTest/Install/lib/libgmock_main.so\n",
            "-- Installing: /root/.hunter/_Base/70287b1/02ccb06/dffbc08/Build/GTest/Install/include/gmock\n",
            "-- Installing: /root/.hunter/_Base/70287b1/02ccb06/dffbc08/Build/GTest/Install/include/gmock/gmock-more-actions.h\n",
            "-- Installing: /root/.hunter/_Base/70287b1/02ccb06/dffbc08/Build/GTest/Install/include/gmock/gmock-generated-nice-strict.h\n",
            "-- Installing: /root/.hunter/_Base/70287b1/02ccb06/dffbc08/Build/GTest/Install/include/gmock/gmock-cardinalities.h\n",
            "-- Installing: /root/.hunter/_Base/70287b1/02ccb06/dffbc08/Build/GTest/Install/include/gmock/gmock-generated-function-mockers.h\n",
            "-- Installing: /root/.hunter/_Base/70287b1/02ccb06/dffbc08/Build/GTest/Install/include/gmock/gmock.h\n",
            "-- Installing: /root/.hunter/_Base/70287b1/02ccb06/dffbc08/Build/GTest/Install/include/gmock/internal\n",
            "-- Installing: /root/.hunter/_Base/70287b1/02ccb06/dffbc08/Build/GTest/Install/include/gmock/internal/gmock-internal-utils.h\n",
            "-- Installing: /root/.hunter/_Base/70287b1/02ccb06/dffbc08/Build/GTest/Install/include/gmock/internal/gmock-generated-internal-utils.h\n",
            "-- Installing: /root/.hunter/_Base/70287b1/02ccb06/dffbc08/Build/GTest/Install/include/gmock/internal/gmock-port.h\n",
            "-- Installing: /root/.hunter/_Base/70287b1/02ccb06/dffbc08/Build/GTest/Install/include/gmock/internal/custom\n",
            "-- Installing: /root/.hunter/_Base/70287b1/02ccb06/dffbc08/Build/GTest/Install/include/gmock/internal/custom/gmock-matchers.h\n",
            "-- Installing: /root/.hunter/_Base/70287b1/02ccb06/dffbc08/Build/GTest/Install/include/gmock/internal/custom/gmock-port.h\n",
            "-- Installing: /root/.hunter/_Base/70287b1/02ccb06/dffbc08/Build/GTest/Install/include/gmock/internal/custom/gmock-generated-actions.h\n",
            "-- Installing: /root/.hunter/_Base/70287b1/02ccb06/dffbc08/Build/GTest/Install/include/gmock/gmock-matchers.h\n",
            "-- Installing: /root/.hunter/_Base/70287b1/02ccb06/dffbc08/Build/GTest/Install/include/gmock/gmock-more-matchers.h\n",
            "-- Installing: /root/.hunter/_Base/70287b1/02ccb06/dffbc08/Build/GTest/Install/include/gmock/gmock-generated-matchers.h\n",
            "-- Installing: /root/.hunter/_Base/70287b1/02ccb06/dffbc08/Build/GTest/Install/include/gmock/gmock-generated-actions.h\n",
            "-- Installing: /root/.hunter/_Base/70287b1/02ccb06/dffbc08/Build/GTest/Install/include/gmock/gmock-spec-builders.h\n",
            "-- Installing: /root/.hunter/_Base/70287b1/02ccb06/dffbc08/Build/GTest/Install/include/gmock/gmock-actions.h\n",
            "-- Installing: /root/.hunter/_Base/70287b1/02ccb06/dffbc08/Build/GTest/Install/lib/cmake/GMock/GMockConfig.cmake\n",
            "-- Installing: /root/.hunter/_Base/70287b1/02ccb06/dffbc08/Build/GTest/Install/lib/cmake/GMock/GMockConfigVersion.cmake\n",
            "-- Installing: /root/.hunter/_Base/70287b1/02ccb06/dffbc08/Build/GTest/Install/lib/cmake/GMock/GMockTargets.cmake\n",
            "-- Installing: /root/.hunter/_Base/70287b1/02ccb06/dffbc08/Build/GTest/Install/lib/cmake/GMock/GMockTargets-release.cmake\n",
            "-- Installing: /root/.hunter/_Base/70287b1/02ccb06/dffbc08/Build/GTest/Install/lib/libgtest.so\n",
            "-- Installing: /root/.hunter/_Base/70287b1/02ccb06/dffbc08/Build/GTest/Install/lib/libgtest_main.so\n",
            "-- Set runtime path of \"/root/.hunter/_Base/70287b1/02ccb06/dffbc08/Build/GTest/Install/lib/libgtest_main.so\" to \"\"\n",
            "-- Installing: /root/.hunter/_Base/70287b1/02ccb06/dffbc08/Build/GTest/Install/include/gtest\n",
            "-- Installing: /root/.hunter/_Base/70287b1/02ccb06/dffbc08/Build/GTest/Install/include/gtest/gtest-typed-test.h\n",
            "-- Installing: /root/.hunter/_Base/70287b1/02ccb06/dffbc08/Build/GTest/Install/include/gtest/gtest-param-test.h\n",
            "-- Installing: /root/.hunter/_Base/70287b1/02ccb06/dffbc08/Build/GTest/Install/include/gtest/gtest-test-part.h\n",
            "-- Installing: /root/.hunter/_Base/70287b1/02ccb06/dffbc08/Build/GTest/Install/include/gtest/gtest-printers.h\n",
            "-- Installing: /root/.hunter/_Base/70287b1/02ccb06/dffbc08/Build/GTest/Install/include/gtest/gtest-death-test.h\n",
            "-- Installing: /root/.hunter/_Base/70287b1/02ccb06/dffbc08/Build/GTest/Install/include/gtest/internal\n",
            "-- Installing: /root/.hunter/_Base/70287b1/02ccb06/dffbc08/Build/GTest/Install/include/gtest/internal/gtest-death-test-internal.h\n",
            "-- Installing: /root/.hunter/_Base/70287b1/02ccb06/dffbc08/Build/GTest/Install/include/gtest/internal/gtest-tuple.h\n",
            "-- Installing: /root/.hunter/_Base/70287b1/02ccb06/dffbc08/Build/GTest/Install/include/gtest/internal/gtest-param-util-generated.h\n",
            "-- Installing: /root/.hunter/_Base/70287b1/02ccb06/dffbc08/Build/GTest/Install/include/gtest/internal/gtest-port.h\n",
            "-- Installing: /root/.hunter/_Base/70287b1/02ccb06/dffbc08/Build/GTest/Install/include/gtest/internal/gtest-filepath.h\n",
            "-- Installing: /root/.hunter/_Base/70287b1/02ccb06/dffbc08/Build/GTest/Install/include/gtest/internal/gtest-port-arch.h\n",
            "-- Installing: /root/.hunter/_Base/70287b1/02ccb06/dffbc08/Build/GTest/Install/include/gtest/internal/gtest-string.h\n",
            "-- Installing: /root/.hunter/_Base/70287b1/02ccb06/dffbc08/Build/GTest/Install/include/gtest/internal/gtest-type-util.h\n",
            "-- Installing: /root/.hunter/_Base/70287b1/02ccb06/dffbc08/Build/GTest/Install/include/gtest/internal/gtest-param-util.h\n",
            "-- Installing: /root/.hunter/_Base/70287b1/02ccb06/dffbc08/Build/GTest/Install/include/gtest/internal/gtest-linked_ptr.h\n",
            "-- Installing: /root/.hunter/_Base/70287b1/02ccb06/dffbc08/Build/GTest/Install/include/gtest/internal/custom\n",
            "-- Installing: /root/.hunter/_Base/70287b1/02ccb06/dffbc08/Build/GTest/Install/include/gtest/internal/custom/gtest-port.h\n",
            "-- Installing: /root/.hunter/_Base/70287b1/02ccb06/dffbc08/Build/GTest/Install/include/gtest/internal/custom/gtest-printers.h\n",
            "-- Installing: /root/.hunter/_Base/70287b1/02ccb06/dffbc08/Build/GTest/Install/include/gtest/internal/custom/gtest.h\n",
            "-- Installing: /root/.hunter/_Base/70287b1/02ccb06/dffbc08/Build/GTest/Install/include/gtest/internal/gtest-internal.h\n",
            "-- Installing: /root/.hunter/_Base/70287b1/02ccb06/dffbc08/Build/GTest/Install/include/gtest/gtest.h\n",
            "-- Installing: /root/.hunter/_Base/70287b1/02ccb06/dffbc08/Build/GTest/Install/include/gtest/gtest_prod.h\n",
            "-- Installing: /root/.hunter/_Base/70287b1/02ccb06/dffbc08/Build/GTest/Install/include/gtest/gtest_pred_impl.h\n",
            "-- Installing: /root/.hunter/_Base/70287b1/02ccb06/dffbc08/Build/GTest/Install/include/gtest/gtest-message.h\n",
            "-- Installing: /root/.hunter/_Base/70287b1/02ccb06/dffbc08/Build/GTest/Install/include/gtest/gtest-spi.h\n",
            "-- Installing: /root/.hunter/_Base/70287b1/02ccb06/dffbc08/Build/GTest/Install/lib/cmake/GTest/GTestConfig.cmake\n",
            "-- Installing: /root/.hunter/_Base/70287b1/02ccb06/dffbc08/Build/GTest/Install/lib/cmake/GTest/GTestConfigVersion.cmake\n",
            "-- Installing: /root/.hunter/_Base/70287b1/02ccb06/dffbc08/Build/GTest/Install/lib/cmake/GTest/GTestTargets.cmake\n",
            "-- Installing: /root/.hunter/_Base/70287b1/02ccb06/dffbc08/Build/GTest/Install/lib/cmake/GTest/GTestTargets-release.cmake\n",
            "loading initial cache file /root/.hunter/_Base/70287b1/02ccb06/dffbc08/Build/GTest/args.cmake\n",
            "[ 50%] Completed 'GTest-Release'\n",
            "[ 50%] Built target GTest-Release\n",
            "Scanning dependencies of target GTest-Debug\n",
            "[ 56%] Creating directories for 'GTest-Debug'\n",
            "[ 62%] Performing download step (download, verify and extract) for 'GTest-Debug'\n",
            "-- verifying file...\n",
            "       file='/root/.hunter/_Base/Download/GTest/1.8.0-hunter-p11/76c6aec/1.8.0-hunter-p11.tar.gz'\n",
            "-- File already exists and hash match (skip download):\n",
            "  file='/root/.hunter/_Base/Download/GTest/1.8.0-hunter-p11/76c6aec/1.8.0-hunter-p11.tar.gz'\n",
            "  SHA1='76c6aec038f7d7258bf5c4f45c4817b34039d285'\n",
            "-- extracting...\n",
            "     src='/root/.hunter/_Base/Download/GTest/1.8.0-hunter-p11/76c6aec/1.8.0-hunter-p11.tar.gz'\n",
            "     dst='/root/.hunter/_Base/70287b1/02ccb06/dffbc08/Build/GTest/Source'\n",
            "-- extracting... [tar xfz]\n",
            "-- extracting... [analysis]\n",
            "-- extracting... [rename]\n",
            "-- extracting... [clean up]\n",
            "-- extracting... done\n",
            "[ 68%] No patch step for 'GTest-Debug'\n",
            "[ 75%] No update step for 'GTest-Debug'\n",
            "[ 81%] Performing configure step for 'GTest-Debug'\n",
            "loading initial cache file /root/.hunter/_Base/70287b1/02ccb06/dffbc08/cache.cmake\n",
            "loading initial cache file /root/.hunter/_Base/70287b1/02ccb06/dffbc08/Build/GTest/args.cmake\n",
            "-- The C compiler identification is GNU 7.5.0\n",
            "-- The CXX compiler identification is GNU 7.5.0\n",
            "-- Check for working C compiler: /usr/bin/cc\n",
            "-- Check for working C compiler: /usr/bin/cc -- works\n",
            "-- Detecting C compile features\n",
            "-- Detecting C compile features - done\n",
            "-- Check for working CXX compiler: /usr/bin/c++\n",
            "-- Check for working CXX compiler: /usr/bin/c++ -- works\n",
            "-- Detecting CXX compile features\n",
            "-- Detecting CXX compile features - done\n",
            "-- Found PythonInterp: /usr/local/bin/python (found version \"2.7.17\") \n",
            "-- Looking for pthread.h\n",
            "-- Looking for pthread.h - found\n",
            "-- Looking for pthread_create\n",
            "-- Looking for pthread_create - not found\n",
            "-- Check if compiler accepts -pthread\n",
            "-- Check if compiler accepts -pthread - yes\n",
            "-- Found Threads: TRUE  \n",
            "-- Configuring done\n",
            "-- Generating done\n",
            "-- Build files have been written to: /root/.hunter/_Base/70287b1/02ccb06/dffbc08/Build/GTest/Build/GTest-Debug-prefix/src/GTest-Debug-build\n",
            "[ 87%] Performing build step for 'GTest-Debug'\n",
            "Scanning dependencies of target gtest\n",
            "Scanning dependencies of target gmock\n",
            "[  9%] Building CXX object googlemock/gtest/CMakeFiles/gtest.dir/src/gtest-all.cc.o\n",
            "Scanning dependencies of target gmock_main\n",
            "[ 18%] Building CXX object googlemock/CMakeFiles/gmock.dir/__/googletest/src/gtest-all.cc.o\n",
            "[ 27%] Building CXX object googlemock/CMakeFiles/gmock.dir/src/gmock-all.cc.o\n",
            "[ 36%] Building CXX object googlemock/CMakeFiles/gmock_main.dir/__/googletest/src/gtest-all.cc.o\n",
            "[ 45%] Building CXX object googlemock/CMakeFiles/gmock_main.dir/src/gmock-all.cc.o\n",
            "[ 54%] Building CXX object googlemock/CMakeFiles/gmock_main.dir/src/gmock_main.cc.o\n",
            "[ 63%] Linking CXX shared library libgtest_debug.so\n",
            "[ 72%] Linking CXX shared library libgmock_main_debug.so\n",
            "[ 81%] Linking CXX shared library libgmock_debug.so\n",
            "[ 81%] Built target gtest\n",
            "Scanning dependencies of target gtest_main\n",
            "[ 90%] Building CXX object googlemock/gtest/CMakeFiles/gtest_main.dir/src/gtest_main.cc.o\n",
            "[ 90%] Built target gmock_main\n",
            "[ 90%] Built target gmock\n",
            "[100%] Linking CXX shared library libgtest_main_debug.so\n",
            "[100%] Built target gtest_main\n",
            "[ 93%] Performing install step for 'GTest-Debug'\n",
            "[ 36%] Built target gmock_main\n",
            "[ 63%] Built target gmock\n",
            "[ 81%] Built target gtest\n",
            "[100%] Built target gtest_main\n",
            "Install the project...\n",
            "-- Install configuration: \"Debug\"\n",
            "-- Installing: /root/.hunter/_Base/70287b1/02ccb06/dffbc08/Build/GTest/Install/lib/libgmock_debug.so\n",
            "-- Installing: /root/.hunter/_Base/70287b1/02ccb06/dffbc08/Build/GTest/Install/lib/libgmock_main_debug.so\n",
            "-- Up-to-date: /root/.hunter/_Base/70287b1/02ccb06/dffbc08/Build/GTest/Install/include/gmock\n",
            "-- Up-to-date: /root/.hunter/_Base/70287b1/02ccb06/dffbc08/Build/GTest/Install/include/gmock/gmock-more-actions.h\n",
            "-- Up-to-date: /root/.hunter/_Base/70287b1/02ccb06/dffbc08/Build/GTest/Install/include/gmock/gmock-generated-nice-strict.h\n",
            "-- Up-to-date: /root/.hunter/_Base/70287b1/02ccb06/dffbc08/Build/GTest/Install/include/gmock/gmock-cardinalities.h\n",
            "-- Up-to-date: /root/.hunter/_Base/70287b1/02ccb06/dffbc08/Build/GTest/Install/include/gmock/gmock-generated-function-mockers.h\n",
            "-- Up-to-date: /root/.hunter/_Base/70287b1/02ccb06/dffbc08/Build/GTest/Install/include/gmock/gmock.h\n",
            "-- Up-to-date: /root/.hunter/_Base/70287b1/02ccb06/dffbc08/Build/GTest/Install/include/gmock/internal\n",
            "-- Up-to-date: /root/.hunter/_Base/70287b1/02ccb06/dffbc08/Build/GTest/Install/include/gmock/internal/gmock-internal-utils.h\n",
            "-- Up-to-date: /root/.hunter/_Base/70287b1/02ccb06/dffbc08/Build/GTest/Install/include/gmock/internal/gmock-generated-internal-utils.h\n",
            "-- Up-to-date: /root/.hunter/_Base/70287b1/02ccb06/dffbc08/Build/GTest/Install/include/gmock/internal/gmock-port.h\n",
            "-- Up-to-date: /root/.hunter/_Base/70287b1/02ccb06/dffbc08/Build/GTest/Install/include/gmock/internal/custom\n",
            "-- Up-to-date: /root/.hunter/_Base/70287b1/02ccb06/dffbc08/Build/GTest/Install/include/gmock/internal/custom/gmock-matchers.h\n",
            "-- Up-to-date: /root/.hunter/_Base/70287b1/02ccb06/dffbc08/Build/GTest/Install/include/gmock/internal/custom/gmock-port.h\n",
            "-- Up-to-date: /root/.hunter/_Base/70287b1/02ccb06/dffbc08/Build/GTest/Install/include/gmock/internal/custom/gmock-generated-actions.h\n",
            "-- Up-to-date: /root/.hunter/_Base/70287b1/02ccb06/dffbc08/Build/GTest/Install/include/gmock/gmock-matchers.h\n",
            "-- Up-to-date: /root/.hunter/_Base/70287b1/02ccb06/dffbc08/Build/GTest/Install/include/gmock/gmock-more-matchers.h\n",
            "-- Up-to-date: /root/.hunter/_Base/70287b1/02ccb06/dffbc08/Build/GTest/Install/include/gmock/gmock-generated-matchers.h\n",
            "-- Up-to-date: /root/.hunter/_Base/70287b1/02ccb06/dffbc08/Build/GTest/Install/include/gmock/gmock-generated-actions.h\n",
            "-- Up-to-date: /root/.hunter/_Base/70287b1/02ccb06/dffbc08/Build/GTest/Install/include/gmock/gmock-spec-builders.h\n",
            "-- Up-to-date: /root/.hunter/_Base/70287b1/02ccb06/dffbc08/Build/GTest/Install/include/gmock/gmock-actions.h\n",
            "-- Installing: /root/.hunter/_Base/70287b1/02ccb06/dffbc08/Build/GTest/Install/lib/cmake/GMock/GMockConfig.cmake\n",
            "-- Installing: /root/.hunter/_Base/70287b1/02ccb06/dffbc08/Build/GTest/Install/lib/cmake/GMock/GMockConfigVersion.cmake\n",
            "-- Installing: /root/.hunter/_Base/70287b1/02ccb06/dffbc08/Build/GTest/Install/lib/cmake/GMock/GMockTargets.cmake\n",
            "-- Installing: /root/.hunter/_Base/70287b1/02ccb06/dffbc08/Build/GTest/Install/lib/cmake/GMock/GMockTargets-debug.cmake\n",
            "-- Installing: /root/.hunter/_Base/70287b1/02ccb06/dffbc08/Build/GTest/Install/lib/libgtest_debug.so\n",
            "-- Installing: /root/.hunter/_Base/70287b1/02ccb06/dffbc08/Build/GTest/Install/lib/libgtest_main_debug.so\n",
            "-- Set runtime path of \"/root/.hunter/_Base/70287b1/02ccb06/dffbc08/Build/GTest/Install/lib/libgtest_main_debug.so\" to \"\"\n",
            "-- Up-to-date: /root/.hunter/_Base/70287b1/02ccb06/dffbc08/Build/GTest/Install/include/gtest\n",
            "-- Up-to-date: /root/.hunter/_Base/70287b1/02ccb06/dffbc08/Build/GTest/Install/include/gtest/gtest-typed-test.h\n",
            "-- Up-to-date: /root/.hunter/_Base/70287b1/02ccb06/dffbc08/Build/GTest/Install/include/gtest/gtest-param-test.h\n",
            "-- Up-to-date: /root/.hunter/_Base/70287b1/02ccb06/dffbc08/Build/GTest/Install/include/gtest/gtest-test-part.h\n",
            "-- Up-to-date: /root/.hunter/_Base/70287b1/02ccb06/dffbc08/Build/GTest/Install/include/gtest/gtest-printers.h\n",
            "-- Up-to-date: /root/.hunter/_Base/70287b1/02ccb06/dffbc08/Build/GTest/Install/include/gtest/gtest-death-test.h\n",
            "-- Up-to-date: /root/.hunter/_Base/70287b1/02ccb06/dffbc08/Build/GTest/Install/include/gtest/internal\n",
            "-- Up-to-date: /root/.hunter/_Base/70287b1/02ccb06/dffbc08/Build/GTest/Install/include/gtest/internal/gtest-death-test-internal.h\n",
            "-- Up-to-date: /root/.hunter/_Base/70287b1/02ccb06/dffbc08/Build/GTest/Install/include/gtest/internal/gtest-tuple.h\n",
            "-- Up-to-date: /root/.hunter/_Base/70287b1/02ccb06/dffbc08/Build/GTest/Install/include/gtest/internal/gtest-param-util-generated.h\n",
            "-- Up-to-date: /root/.hunter/_Base/70287b1/02ccb06/dffbc08/Build/GTest/Install/include/gtest/internal/gtest-port.h\n",
            "-- Up-to-date: /root/.hunter/_Base/70287b1/02ccb06/dffbc08/Build/GTest/Install/include/gtest/internal/gtest-filepath.h\n",
            "-- Up-to-date: /root/.hunter/_Base/70287b1/02ccb06/dffbc08/Build/GTest/Install/include/gtest/internal/gtest-port-arch.h\n",
            "-- Up-to-date: /root/.hunter/_Base/70287b1/02ccb06/dffbc08/Build/GTest/Install/include/gtest/internal/gtest-string.h\n",
            "-- Up-to-date: /root/.hunter/_Base/70287b1/02ccb06/dffbc08/Build/GTest/Install/include/gtest/internal/gtest-type-util.h\n",
            "-- Up-to-date: /root/.hunter/_Base/70287b1/02ccb06/dffbc08/Build/GTest/Install/include/gtest/internal/gtest-param-util.h\n",
            "-- Up-to-date: /root/.hunter/_Base/70287b1/02ccb06/dffbc08/Build/GTest/Install/include/gtest/internal/gtest-linked_ptr.h\n",
            "-- Up-to-date: /root/.hunter/_Base/70287b1/02ccb06/dffbc08/Build/GTest/Install/include/gtest/internal/custom\n",
            "-- Up-to-date: /root/.hunter/_Base/70287b1/02ccb06/dffbc08/Build/GTest/Install/include/gtest/internal/custom/gtest-port.h\n",
            "-- Up-to-date: /root/.hunter/_Base/70287b1/02ccb06/dffbc08/Build/GTest/Install/include/gtest/internal/custom/gtest-printers.h\n",
            "-- Up-to-date: /root/.hunter/_Base/70287b1/02ccb06/dffbc08/Build/GTest/Install/include/gtest/internal/custom/gtest.h\n",
            "-- Up-to-date: /root/.hunter/_Base/70287b1/02ccb06/dffbc08/Build/GTest/Install/include/gtest/internal/gtest-internal.h\n",
            "-- Up-to-date: /root/.hunter/_Base/70287b1/02ccb06/dffbc08/Build/GTest/Install/include/gtest/gtest.h\n",
            "-- Up-to-date: /root/.hunter/_Base/70287b1/02ccb06/dffbc08/Build/GTest/Install/include/gtest/gtest_prod.h\n",
            "-- Up-to-date: /root/.hunter/_Base/70287b1/02ccb06/dffbc08/Build/GTest/Install/include/gtest/gtest_pred_impl.h\n",
            "-- Up-to-date: /root/.hunter/_Base/70287b1/02ccb06/dffbc08/Build/GTest/Install/include/gtest/gtest-message.h\n",
            "-- Up-to-date: /root/.hunter/_Base/70287b1/02ccb06/dffbc08/Build/GTest/Install/include/gtest/gtest-spi.h\n",
            "-- Installing: /root/.hunter/_Base/70287b1/02ccb06/dffbc08/Build/GTest/Install/lib/cmake/GTest/GTestConfig.cmake\n",
            "-- Installing: /root/.hunter/_Base/70287b1/02ccb06/dffbc08/Build/GTest/Install/lib/cmake/GTest/GTestConfigVersion.cmake\n",
            "-- Installing: /root/.hunter/_Base/70287b1/02ccb06/dffbc08/Build/GTest/Install/lib/cmake/GTest/GTestTargets.cmake\n",
            "-- Installing: /root/.hunter/_Base/70287b1/02ccb06/dffbc08/Build/GTest/Install/lib/cmake/GTest/GTestTargets-debug.cmake\n",
            "loading initial cache file /root/.hunter/_Base/70287b1/02ccb06/dffbc08/Build/GTest/args.cmake\n",
            "[100%] Completed 'GTest-Debug'\n",
            "[100%] Built target GTest-Debug\n",
            "-- [hunter] Build step successful (dir: /root/.hunter/_Base/70287b1/02ccb06/dffbc08/Build/GTest)\n",
            "-- [hunter] Cache saved: /root/.hunter/_Base/Cache/raw/77e29e67b6501ea8862679ed7ed04a410be77c4e.tar.bz2\n",
            "-- [hunter] NLOHMANN_JSON_ROOT: /root/.hunter/_Base/70287b1/02ccb06/dffbc08/Install (ver.: 3.3.0)\n",
            "-- [hunter] Building nlohmann_json\n",
            "loading initial cache file /root/.hunter/_Base/70287b1/02ccb06/dffbc08/cache.cmake\n",
            "loading initial cache file /root/.hunter/_Base/70287b1/02ccb06/dffbc08/Build/nlohmann_json/args.cmake\n",
            "-- The C compiler identification is GNU 7.5.0\n",
            "-- The CXX compiler identification is GNU 7.5.0\n",
            "-- Check for working C compiler: /usr/bin/cc\n",
            "-- Check for working C compiler: /usr/bin/cc -- works\n",
            "-- Detecting C compile features\n",
            "-- Detecting C compile features - done\n",
            "-- Check for working CXX compiler: /usr/bin/c++\n",
            "-- Check for working CXX compiler: /usr/bin/c++ -- works\n",
            "-- Detecting CXX compile features\n",
            "-- Detecting CXX compile features - done\n",
            "-- Configuring done\n",
            "-- Generating done\n",
            "-- Build files have been written to: /root/.hunter/_Base/70287b1/02ccb06/dffbc08/Build/nlohmann_json/Build\n",
            "Scanning dependencies of target nlohmann_json-Release\n",
            "[  6%] Creating directories for 'nlohmann_json-Release'\n",
            "[ 12%] Performing download step (download, verify and extract) for 'nlohmann_json-Release'\n",
            "-- Downloading...\n",
            "   dst='/root/.hunter/_Base/Download/nlohmann_json/3.3.0/90842f0/v3.3.0.tar.gz'\n",
            "   timeout='none'\n",
            "-- Using src='https://github.com/nlohmann/json/archive/v3.3.0.tar.gz'\n",
            "-- [download 100% complete]\n",
            "-- verifying file...\n",
            "       file='/root/.hunter/_Base/Download/nlohmann_json/3.3.0/90842f0/v3.3.0.tar.gz'\n",
            "-- Downloading... done\n",
            "-- extracting...\n",
            "     src='/root/.hunter/_Base/Download/nlohmann_json/3.3.0/90842f0/v3.3.0.tar.gz'\n",
            "     dst='/root/.hunter/_Base/70287b1/02ccb06/dffbc08/Build/nlohmann_json/Source'\n",
            "-- extracting... [tar xfz]\n",
            "-- extracting... [analysis]\n",
            "-- extracting... [rename]\n",
            "-- extracting... [clean up]\n",
            "-- extracting... done\n",
            "[ 18%] No patch step for 'nlohmann_json-Release'\n",
            "[ 25%] No update step for 'nlohmann_json-Release'\n",
            "[ 31%] Performing configure step for 'nlohmann_json-Release'\n",
            "loading initial cache file /root/.hunter/_Base/70287b1/02ccb06/dffbc08/cache.cmake\n",
            "loading initial cache file /root/.hunter/_Base/70287b1/02ccb06/dffbc08/Build/nlohmann_json/args.cmake\n",
            "-- The CXX compiler identification is GNU 7.5.0\n",
            "-- Check for working CXX compiler: /usr/bin/c++\n",
            "-- Check for working CXX compiler: /usr/bin/c++ -- works\n",
            "-- Detecting CXX compile features\n",
            "-- Detecting CXX compile features - done\n",
            "-- Using the single-header code from /root/.hunter/_Base/70287b1/02ccb06/dffbc08/Build/nlohmann_json/Source/single_include/\n",
            "-- Configuring done\n",
            "-- Generating done\n",
            "-- Build files have been written to: /root/.hunter/_Base/70287b1/02ccb06/dffbc08/Build/nlohmann_json/Build/nlohmann_json-Release-prefix/src/nlohmann_json-Release-build\n",
            "[ 37%] Performing build step for 'nlohmann_json-Release'\n",
            "[ 43%] Performing install step for 'nlohmann_json-Release'\n",
            "Install the project...\n",
            "-- Install configuration: \"Release\"\n",
            "-- Installing: /root/.hunter/_Base/70287b1/02ccb06/dffbc08/Build/nlohmann_json/Install/include\n",
            "-- Installing: /root/.hunter/_Base/70287b1/02ccb06/dffbc08/Build/nlohmann_json/Install/include/nlohmann\n",
            "-- Installing: /root/.hunter/_Base/70287b1/02ccb06/dffbc08/Build/nlohmann_json/Install/include/nlohmann/json.hpp\n",
            "-- Installing: /root/.hunter/_Base/70287b1/02ccb06/dffbc08/Build/nlohmann_json/Install/lib/cmake/nlohmann_json/nlohmann_jsonConfig.cmake\n",
            "-- Installing: /root/.hunter/_Base/70287b1/02ccb06/dffbc08/Build/nlohmann_json/Install/lib/cmake/nlohmann_json/nlohmann_jsonConfigVersion.cmake\n",
            "-- Installing: /root/.hunter/_Base/70287b1/02ccb06/dffbc08/Build/nlohmann_json/Install/lib/cmake/nlohmann_json/nlohmann_jsonTargets.cmake\n",
            "loading initial cache file /root/.hunter/_Base/70287b1/02ccb06/dffbc08/Build/nlohmann_json/args.cmake\n",
            "[ 50%] Completed 'nlohmann_json-Release'\n",
            "[ 50%] Built target nlohmann_json-Release\n",
            "Scanning dependencies of target nlohmann_json-Debug\n",
            "[ 56%] Creating directories for 'nlohmann_json-Debug'\n",
            "[ 62%] Performing download step (download, verify and extract) for 'nlohmann_json-Debug'\n",
            "-- verifying file...\n",
            "       file='/root/.hunter/_Base/Download/nlohmann_json/3.3.0/90842f0/v3.3.0.tar.gz'\n",
            "-- File already exists and hash match (skip download):\n",
            "  file='/root/.hunter/_Base/Download/nlohmann_json/3.3.0/90842f0/v3.3.0.tar.gz'\n",
            "  SHA1='90842f04aadc1af1af600ce84c7fbe0d1dfc3d3c'\n",
            "-- extracting...\n",
            "     src='/root/.hunter/_Base/Download/nlohmann_json/3.3.0/90842f0/v3.3.0.tar.gz'\n",
            "     dst='/root/.hunter/_Base/70287b1/02ccb06/dffbc08/Build/nlohmann_json/Source'\n",
            "-- extracting... [tar xfz]\n",
            "-- extracting... [analysis]\n",
            "-- extracting... [rename]\n",
            "-- extracting... [clean up]\n",
            "-- extracting... done\n",
            "[ 68%] No patch step for 'nlohmann_json-Debug'\n",
            "[ 75%] No update step for 'nlohmann_json-Debug'\n",
            "[ 81%] Performing configure step for 'nlohmann_json-Debug'\n",
            "loading initial cache file /root/.hunter/_Base/70287b1/02ccb06/dffbc08/cache.cmake\n",
            "loading initial cache file /root/.hunter/_Base/70287b1/02ccb06/dffbc08/Build/nlohmann_json/args.cmake\n",
            "-- The CXX compiler identification is GNU 7.5.0\n",
            "-- Check for working CXX compiler: /usr/bin/c++\n",
            "-- Check for working CXX compiler: /usr/bin/c++ -- works\n",
            "-- Detecting CXX compile features\n",
            "-- Detecting CXX compile features - done\n",
            "-- Using the single-header code from /root/.hunter/_Base/70287b1/02ccb06/dffbc08/Build/nlohmann_json/Source/single_include/\n",
            "-- Configuring done\n",
            "-- Generating done\n",
            "-- Build files have been written to: /root/.hunter/_Base/70287b1/02ccb06/dffbc08/Build/nlohmann_json/Build/nlohmann_json-Debug-prefix/src/nlohmann_json-Debug-build\n",
            "[ 87%] Performing build step for 'nlohmann_json-Debug'\n",
            "[ 93%] Performing install step for 'nlohmann_json-Debug'\n",
            "Install the project...\n",
            "-- Install configuration: \"Debug\"\n",
            "-- Up-to-date: /root/.hunter/_Base/70287b1/02ccb06/dffbc08/Build/nlohmann_json/Install/include\n",
            "-- Up-to-date: /root/.hunter/_Base/70287b1/02ccb06/dffbc08/Build/nlohmann_json/Install/include/nlohmann\n",
            "-- Up-to-date: /root/.hunter/_Base/70287b1/02ccb06/dffbc08/Build/nlohmann_json/Install/include/nlohmann/json.hpp\n",
            "-- Installing: /root/.hunter/_Base/70287b1/02ccb06/dffbc08/Build/nlohmann_json/Install/lib/cmake/nlohmann_json/nlohmann_jsonConfig.cmake\n",
            "-- Installing: /root/.hunter/_Base/70287b1/02ccb06/dffbc08/Build/nlohmann_json/Install/lib/cmake/nlohmann_json/nlohmann_jsonConfigVersion.cmake\n",
            "-- Installing: /root/.hunter/_Base/70287b1/02ccb06/dffbc08/Build/nlohmann_json/Install/lib/cmake/nlohmann_json/nlohmann_jsonTargets.cmake\n",
            "loading initial cache file /root/.hunter/_Base/70287b1/02ccb06/dffbc08/Build/nlohmann_json/args.cmake\n",
            "[100%] Completed 'nlohmann_json-Debug'\n",
            "[100%] Built target nlohmann_json-Debug\n",
            "-- [hunter] Build step successful (dir: /root/.hunter/_Base/70287b1/02ccb06/dffbc08/Build/nlohmann_json)\n",
            "-- [hunter] Cache saved: /root/.hunter/_Base/Cache/raw/1b2b2bcb7a35b433ae2565b866ff77fd7d7006ea.tar.bz2\n",
            "-- Found nlohmann_json: /root/.hunter/_Base/70287b1/02ccb06/dffbc08/Install/lib/cmake/nlohmann_json/nlohmann_jsonConfig.cmake (found version \"3.3.0\") \n",
            "-- [hunter] SPDLOG_ROOT: /root/.hunter/_Base/70287b1/02ccb06/dffbc08/Install (ver.: 0.16.3-p1)\n",
            "-- [hunter] Building spdlog\n",
            "loading initial cache file /root/.hunter/_Base/70287b1/02ccb06/dffbc08/cache.cmake\n",
            "loading initial cache file /root/.hunter/_Base/70287b1/02ccb06/dffbc08/Build/spdlog/args.cmake\n",
            "-- The C compiler identification is GNU 7.5.0\n",
            "-- The CXX compiler identification is GNU 7.5.0\n",
            "-- Check for working C compiler: /usr/bin/cc\n",
            "-- Check for working C compiler: /usr/bin/cc -- works\n",
            "-- Detecting C compile features\n",
            "-- Detecting C compile features - done\n",
            "-- Check for working CXX compiler: /usr/bin/c++\n",
            "-- Check for working CXX compiler: /usr/bin/c++ -- works\n",
            "-- Detecting CXX compile features\n",
            "-- Detecting CXX compile features - done\n",
            "-- Configuring done\n",
            "-- Generating done\n",
            "-- Build files have been written to: /root/.hunter/_Base/70287b1/02ccb06/dffbc08/Build/spdlog/Build\n",
            "Scanning dependencies of target spdlog-Release\n",
            "[  6%] Creating directories for 'spdlog-Release'\n",
            "[ 12%] Performing download step (download, verify and extract) for 'spdlog-Release'\n",
            "-- Downloading...\n",
            "   dst='/root/.hunter/_Base/Download/spdlog/0.16.3-p1/1400ca4/v0.16.3-p1.tar.gz'\n",
            "   timeout='none'\n",
            "-- Using src='https://github.com/hunter-packages/spdlog/archive/v0.16.3-p1.tar.gz'\n",
            "-- [download 100% complete]\n",
            "-- verifying file...\n",
            "       file='/root/.hunter/_Base/Download/spdlog/0.16.3-p1/1400ca4/v0.16.3-p1.tar.gz'\n",
            "-- Downloading... done\n",
            "-- extracting...\n",
            "     src='/root/.hunter/_Base/Download/spdlog/0.16.3-p1/1400ca4/v0.16.3-p1.tar.gz'\n",
            "     dst='/root/.hunter/_Base/70287b1/02ccb06/dffbc08/Build/spdlog/Source'\n",
            "-- extracting... [tar xfz]\n",
            "-- extracting... [analysis]\n",
            "-- extracting... [rename]\n",
            "-- extracting... [clean up]\n",
            "-- extracting... done\n",
            "[ 18%] No patch step for 'spdlog-Release'\n",
            "[ 25%] No update step for 'spdlog-Release'\n",
            "[ 31%] Performing configure step for 'spdlog-Release'\n",
            "loading initial cache file /root/.hunter/_Base/70287b1/02ccb06/dffbc08/cache.cmake\n",
            "loading initial cache file /root/.hunter/_Base/70287b1/02ccb06/dffbc08/Build/spdlog/args.cmake\n",
            "-- The C compiler identification is GNU 7.5.0\n",
            "-- The CXX compiler identification is GNU 7.5.0\n",
            "-- Check for working C compiler: /usr/bin/cc\n",
            "-- Check for working C compiler: /usr/bin/cc -- works\n",
            "-- Detecting C compile features\n",
            "-- Detecting C compile features - done\n",
            "-- Check for working CXX compiler: /usr/bin/c++\n",
            "-- Check for working CXX compiler: /usr/bin/c++ -- works\n",
            "-- Detecting CXX compile features\n",
            "-- Detecting CXX compile features - done\n",
            "-- [hunter] HUNTER_ROOT: /root/.hunter\n",
            "-- [hunter] [ Hunter-ID: 70287b1 | Toolchain-ID: 02ccb06 | Config-ID: dffbc08 ]\n",
            "-- [hunter] FMT_ROOT: /root/.hunter/_Base/70287b1/02ccb06/dffbc08/Install (ver.: 4.1.0)\n",
            "-- Looking for pthread.h\n",
            "-- Looking for pthread.h - found\n",
            "-- Looking for pthread_create\n",
            "-- Looking for pthread_create - not found\n",
            "-- Looking for pthread_create in pthreads\n",
            "-- Looking for pthread_create in pthreads - not found\n",
            "-- Looking for pthread_create in pthread\n",
            "-- Looking for pthread_create in pthread - found\n",
            "-- Found Threads: TRUE  \n",
            "-- Configuring done\n",
            "-- Generating done\n",
            "-- Build files have been written to: /root/.hunter/_Base/70287b1/02ccb06/dffbc08/Build/spdlog/Build/spdlog-Release-prefix/src/spdlog-Release-build\n",
            "[ 37%] Performing build step for 'spdlog-Release'\n",
            "[ 43%] Performing install step for 'spdlog-Release'\n",
            "Install the project...\n",
            "-- Install configuration: \"Release\"\n",
            "-- Installing: /root/.hunter/_Base/70287b1/02ccb06/dffbc08/Build/spdlog/Install/include/spdlog\n",
            "-- Installing: /root/.hunter/_Base/70287b1/02ccb06/dffbc08/Build/spdlog/Install/include/spdlog/tweakme.h\n",
            "-- Installing: /root/.hunter/_Base/70287b1/02ccb06/dffbc08/Build/spdlog/Install/include/spdlog/spdlog.h\n",
            "-- Installing: /root/.hunter/_Base/70287b1/02ccb06/dffbc08/Build/spdlog/Install/include/spdlog/sinks\n",
            "-- Installing: /root/.hunter/_Base/70287b1/02ccb06/dffbc08/Build/spdlog/Install/include/spdlog/sinks/android_sink.h\n",
            "-- Installing: /root/.hunter/_Base/70287b1/02ccb06/dffbc08/Build/spdlog/Install/include/spdlog/sinks/ansicolor_sink.h\n",
            "-- Installing: /root/.hunter/_Base/70287b1/02ccb06/dffbc08/Build/spdlog/Install/include/spdlog/sinks/sink.h\n",
            "-- Installing: /root/.hunter/_Base/70287b1/02ccb06/dffbc08/Build/spdlog/Install/include/spdlog/sinks/file_sinks.h\n",
            "-- Installing: /root/.hunter/_Base/70287b1/02ccb06/dffbc08/Build/spdlog/Install/include/spdlog/sinks/msvc_sink.h\n",
            "-- Installing: /root/.hunter/_Base/70287b1/02ccb06/dffbc08/Build/spdlog/Install/include/spdlog/sinks/stdout_sinks.h\n",
            "-- Installing: /root/.hunter/_Base/70287b1/02ccb06/dffbc08/Build/spdlog/Install/include/spdlog/sinks/dist_sink.h\n",
            "-- Installing: /root/.hunter/_Base/70287b1/02ccb06/dffbc08/Build/spdlog/Install/include/spdlog/sinks/null_sink.h\n",
            "-- Installing: /root/.hunter/_Base/70287b1/02ccb06/dffbc08/Build/spdlog/Install/include/spdlog/sinks/ostream_sink.h\n",
            "-- Installing: /root/.hunter/_Base/70287b1/02ccb06/dffbc08/Build/spdlog/Install/include/spdlog/sinks/syslog_sink.h\n",
            "-- Installing: /root/.hunter/_Base/70287b1/02ccb06/dffbc08/Build/spdlog/Install/include/spdlog/sinks/windebug_sink.h\n",
            "-- Installing: /root/.hunter/_Base/70287b1/02ccb06/dffbc08/Build/spdlog/Install/include/spdlog/sinks/base_sink.h\n",
            "-- Installing: /root/.hunter/_Base/70287b1/02ccb06/dffbc08/Build/spdlog/Install/include/spdlog/sinks/wincolor_sink.h\n",
            "-- Installing: /root/.hunter/_Base/70287b1/02ccb06/dffbc08/Build/spdlog/Install/include/spdlog/formatter.h\n",
            "-- Installing: /root/.hunter/_Base/70287b1/02ccb06/dffbc08/Build/spdlog/Install/include/spdlog/async_logger.h\n",
            "-- Installing: /root/.hunter/_Base/70287b1/02ccb06/dffbc08/Build/spdlog/Install/include/spdlog/common.h\n",
            "-- Installing: /root/.hunter/_Base/70287b1/02ccb06/dffbc08/Build/spdlog/Install/include/spdlog/fmt\n",
            "-- Installing: /root/.hunter/_Base/70287b1/02ccb06/dffbc08/Build/spdlog/Install/include/spdlog/fmt/bundled\n",
            "-- Installing: /root/.hunter/_Base/70287b1/02ccb06/dffbc08/Build/spdlog/Install/include/spdlog/fmt/bundled/posix.cc\n",
            "-- Installing: /root/.hunter/_Base/70287b1/02ccb06/dffbc08/Build/spdlog/Install/include/spdlog/fmt/bundled/ostream.h\n",
            "-- Installing: /root/.hunter/_Base/70287b1/02ccb06/dffbc08/Build/spdlog/Install/include/spdlog/fmt/bundled/format.cc\n",
            "-- Installing: /root/.hunter/_Base/70287b1/02ccb06/dffbc08/Build/spdlog/Install/include/spdlog/fmt/bundled/time.h\n",
            "-- Installing: /root/.hunter/_Base/70287b1/02ccb06/dffbc08/Build/spdlog/Install/include/spdlog/fmt/bundled/printf.cc\n",
            "-- Installing: /root/.hunter/_Base/70287b1/02ccb06/dffbc08/Build/spdlog/Install/include/spdlog/fmt/bundled/posix.h\n",
            "-- Installing: /root/.hunter/_Base/70287b1/02ccb06/dffbc08/Build/spdlog/Install/include/spdlog/fmt/bundled/ostream.cc\n",
            "-- Installing: /root/.hunter/_Base/70287b1/02ccb06/dffbc08/Build/spdlog/Install/include/spdlog/fmt/bundled/printf.h\n",
            "-- Installing: /root/.hunter/_Base/70287b1/02ccb06/dffbc08/Build/spdlog/Install/include/spdlog/fmt/bundled/LICENSE.rst\n",
            "-- Installing: /root/.hunter/_Base/70287b1/02ccb06/dffbc08/Build/spdlog/Install/include/spdlog/fmt/bundled/format.h\n",
            "-- Installing: /root/.hunter/_Base/70287b1/02ccb06/dffbc08/Build/spdlog/Install/include/spdlog/fmt/fmt.h\n",
            "-- Installing: /root/.hunter/_Base/70287b1/02ccb06/dffbc08/Build/spdlog/Install/include/spdlog/fmt/ostr.h\n",
            "-- Installing: /root/.hunter/_Base/70287b1/02ccb06/dffbc08/Build/spdlog/Install/include/spdlog/details\n",
            "-- Installing: /root/.hunter/_Base/70287b1/02ccb06/dffbc08/Build/spdlog/Install/include/spdlog/details/file_helper.h\n",
            "-- Installing: /root/.hunter/_Base/70287b1/02ccb06/dffbc08/Build/spdlog/Install/include/spdlog/details/async_logger_impl.h\n",
            "-- Installing: /root/.hunter/_Base/70287b1/02ccb06/dffbc08/Build/spdlog/Install/include/spdlog/details/mpmc_bounded_q.h\n",
            "-- Installing: /root/.hunter/_Base/70287b1/02ccb06/dffbc08/Build/spdlog/Install/include/spdlog/details/async_log_helper.h\n",
            "-- Installing: /root/.hunter/_Base/70287b1/02ccb06/dffbc08/Build/spdlog/Install/include/spdlog/details/registry.h\n",
            "-- Installing: /root/.hunter/_Base/70287b1/02ccb06/dffbc08/Build/spdlog/Install/include/spdlog/details/spdlog_impl.h\n",
            "-- Installing: /root/.hunter/_Base/70287b1/02ccb06/dffbc08/Build/spdlog/Install/include/spdlog/details/os.h\n",
            "-- Installing: /root/.hunter/_Base/70287b1/02ccb06/dffbc08/Build/spdlog/Install/include/spdlog/details/logger_impl.h\n",
            "-- Installing: /root/.hunter/_Base/70287b1/02ccb06/dffbc08/Build/spdlog/Install/include/spdlog/details/pattern_formatter_impl.h\n",
            "-- Installing: /root/.hunter/_Base/70287b1/02ccb06/dffbc08/Build/spdlog/Install/include/spdlog/details/log_msg.h\n",
            "-- Installing: /root/.hunter/_Base/70287b1/02ccb06/dffbc08/Build/spdlog/Install/include/spdlog/details/null_mutex.h\n",
            "-- Installing: /root/.hunter/_Base/70287b1/02ccb06/dffbc08/Build/spdlog/Install/include/spdlog/logger.h\n",
            "-- Installing: /root/.hunter/_Base/70287b1/02ccb06/dffbc08/Build/spdlog/Install/lib/cmake/spdlog/spdlogConfig.cmake\n",
            "-- Installing: /root/.hunter/_Base/70287b1/02ccb06/dffbc08/Build/spdlog/Install/lib/cmake/spdlog/spdlogConfigVersion.cmake\n",
            "-- Installing: /root/.hunter/_Base/70287b1/02ccb06/dffbc08/Build/spdlog/Install/lib/pkgconfig/spdlog.pc\n",
            "-- Installing: /root/.hunter/_Base/70287b1/02ccb06/dffbc08/Build/spdlog/Install/lib/cmake/spdlog/spdlogTargets.cmake\n",
            "loading initial cache file /root/.hunter/_Base/70287b1/02ccb06/dffbc08/Build/spdlog/args.cmake\n",
            "[ 50%] Completed 'spdlog-Release'\n",
            "[ 50%] Built target spdlog-Release\n",
            "Scanning dependencies of target spdlog-Debug\n",
            "[ 56%] Creating directories for 'spdlog-Debug'\n",
            "[ 62%] Performing download step (download, verify and extract) for 'spdlog-Debug'\n",
            "-- verifying file...\n",
            "       file='/root/.hunter/_Base/Download/spdlog/0.16.3-p1/1400ca4/v0.16.3-p1.tar.gz'\n",
            "-- File already exists and hash match (skip download):\n",
            "  file='/root/.hunter/_Base/Download/spdlog/0.16.3-p1/1400ca4/v0.16.3-p1.tar.gz'\n",
            "  SHA1='1400ca456ad7c5ba89491f0dd3cd8935a16fe65c'\n",
            "-- extracting...\n",
            "     src='/root/.hunter/_Base/Download/spdlog/0.16.3-p1/1400ca4/v0.16.3-p1.tar.gz'\n",
            "     dst='/root/.hunter/_Base/70287b1/02ccb06/dffbc08/Build/spdlog/Source'\n",
            "-- extracting... [tar xfz]\n",
            "-- extracting... [analysis]\n",
            "-- extracting... [rename]\n",
            "-- extracting... [clean up]\n",
            "-- extracting... done\n",
            "[ 68%] No patch step for 'spdlog-Debug'\n",
            "[ 75%] No update step for 'spdlog-Debug'\n",
            "[ 81%] Performing configure step for 'spdlog-Debug'\n",
            "loading initial cache file /root/.hunter/_Base/70287b1/02ccb06/dffbc08/cache.cmake\n",
            "loading initial cache file /root/.hunter/_Base/70287b1/02ccb06/dffbc08/Build/spdlog/args.cmake\n",
            "-- The C compiler identification is GNU 7.5.0\n",
            "-- The CXX compiler identification is GNU 7.5.0\n",
            "-- Check for working C compiler: /usr/bin/cc\n",
            "-- Check for working C compiler: /usr/bin/cc -- works\n",
            "-- Detecting C compile features\n",
            "-- Detecting C compile features - done\n",
            "-- Check for working CXX compiler: /usr/bin/c++\n",
            "-- Check for working CXX compiler: /usr/bin/c++ -- works\n",
            "-- Detecting CXX compile features\n",
            "-- Detecting CXX compile features - done\n",
            "-- [hunter] HUNTER_ROOT: /root/.hunter\n",
            "-- [hunter] [ Hunter-ID: 70287b1 | Toolchain-ID: 02ccb06 | Config-ID: dffbc08 ]\n",
            "-- [hunter] FMT_ROOT: /root/.hunter/_Base/70287b1/02ccb06/dffbc08/Install (ver.: 4.1.0)\n",
            "-- Looking for pthread.h\n",
            "-- Looking for pthread.h - found\n",
            "-- Looking for pthread_create\n",
            "-- Looking for pthread_create - not found\n",
            "-- Looking for pthread_create in pthreads\n",
            "-- Looking for pthread_create in pthreads - not found\n",
            "-- Looking for pthread_create in pthread\n",
            "-- Looking for pthread_create in pthread - found\n",
            "-- Found Threads: TRUE  \n",
            "-- Configuring done\n",
            "-- Generating done\n",
            "-- Build files have been written to: /root/.hunter/_Base/70287b1/02ccb06/dffbc08/Build/spdlog/Build/spdlog-Debug-prefix/src/spdlog-Debug-build\n",
            "[ 87%] Performing build step for 'spdlog-Debug'\n",
            "[ 93%] Performing install step for 'spdlog-Debug'\n",
            "Install the project...\n",
            "-- Install configuration: \"Debug\"\n",
            "-- Up-to-date: /root/.hunter/_Base/70287b1/02ccb06/dffbc08/Build/spdlog/Install/include/spdlog\n",
            "-- Up-to-date: /root/.hunter/_Base/70287b1/02ccb06/dffbc08/Build/spdlog/Install/include/spdlog/tweakme.h\n",
            "-- Up-to-date: /root/.hunter/_Base/70287b1/02ccb06/dffbc08/Build/spdlog/Install/include/spdlog/spdlog.h\n",
            "-- Up-to-date: /root/.hunter/_Base/70287b1/02ccb06/dffbc08/Build/spdlog/Install/include/spdlog/sinks\n",
            "-- Up-to-date: /root/.hunter/_Base/70287b1/02ccb06/dffbc08/Build/spdlog/Install/include/spdlog/sinks/android_sink.h\n",
            "-- Up-to-date: /root/.hunter/_Base/70287b1/02ccb06/dffbc08/Build/spdlog/Install/include/spdlog/sinks/ansicolor_sink.h\n",
            "-- Up-to-date: /root/.hunter/_Base/70287b1/02ccb06/dffbc08/Build/spdlog/Install/include/spdlog/sinks/sink.h\n",
            "-- Up-to-date: /root/.hunter/_Base/70287b1/02ccb06/dffbc08/Build/spdlog/Install/include/spdlog/sinks/file_sinks.h\n",
            "-- Up-to-date: /root/.hunter/_Base/70287b1/02ccb06/dffbc08/Build/spdlog/Install/include/spdlog/sinks/msvc_sink.h\n",
            "-- Up-to-date: /root/.hunter/_Base/70287b1/02ccb06/dffbc08/Build/spdlog/Install/include/spdlog/sinks/stdout_sinks.h\n",
            "-- Up-to-date: /root/.hunter/_Base/70287b1/02ccb06/dffbc08/Build/spdlog/Install/include/spdlog/sinks/dist_sink.h\n",
            "-- Up-to-date: /root/.hunter/_Base/70287b1/02ccb06/dffbc08/Build/spdlog/Install/include/spdlog/sinks/null_sink.h\n",
            "-- Up-to-date: /root/.hunter/_Base/70287b1/02ccb06/dffbc08/Build/spdlog/Install/include/spdlog/sinks/ostream_sink.h\n",
            "-- Up-to-date: /root/.hunter/_Base/70287b1/02ccb06/dffbc08/Build/spdlog/Install/include/spdlog/sinks/syslog_sink.h\n",
            "-- Up-to-date: /root/.hunter/_Base/70287b1/02ccb06/dffbc08/Build/spdlog/Install/include/spdlog/sinks/windebug_sink.h\n",
            "-- Up-to-date: /root/.hunter/_Base/70287b1/02ccb06/dffbc08/Build/spdlog/Install/include/spdlog/sinks/base_sink.h\n",
            "-- Up-to-date: /root/.hunter/_Base/70287b1/02ccb06/dffbc08/Build/spdlog/Install/include/spdlog/sinks/wincolor_sink.h\n",
            "-- Up-to-date: /root/.hunter/_Base/70287b1/02ccb06/dffbc08/Build/spdlog/Install/include/spdlog/formatter.h\n",
            "-- Up-to-date: /root/.hunter/_Base/70287b1/02ccb06/dffbc08/Build/spdlog/Install/include/spdlog/async_logger.h\n",
            "-- Up-to-date: /root/.hunter/_Base/70287b1/02ccb06/dffbc08/Build/spdlog/Install/include/spdlog/common.h\n",
            "-- Up-to-date: /root/.hunter/_Base/70287b1/02ccb06/dffbc08/Build/spdlog/Install/include/spdlog/fmt\n",
            "-- Up-to-date: /root/.hunter/_Base/70287b1/02ccb06/dffbc08/Build/spdlog/Install/include/spdlog/fmt/bundled\n",
            "-- Up-to-date: /root/.hunter/_Base/70287b1/02ccb06/dffbc08/Build/spdlog/Install/include/spdlog/fmt/bundled/posix.cc\n",
            "-- Up-to-date: /root/.hunter/_Base/70287b1/02ccb06/dffbc08/Build/spdlog/Install/include/spdlog/fmt/bundled/ostream.h\n",
            "-- Up-to-date: /root/.hunter/_Base/70287b1/02ccb06/dffbc08/Build/spdlog/Install/include/spdlog/fmt/bundled/format.cc\n",
            "-- Up-to-date: /root/.hunter/_Base/70287b1/02ccb06/dffbc08/Build/spdlog/Install/include/spdlog/fmt/bundled/time.h\n",
            "-- Up-to-date: /root/.hunter/_Base/70287b1/02ccb06/dffbc08/Build/spdlog/Install/include/spdlog/fmt/bundled/printf.cc\n",
            "-- Up-to-date: /root/.hunter/_Base/70287b1/02ccb06/dffbc08/Build/spdlog/Install/include/spdlog/fmt/bundled/posix.h\n",
            "-- Up-to-date: /root/.hunter/_Base/70287b1/02ccb06/dffbc08/Build/spdlog/Install/include/spdlog/fmt/bundled/ostream.cc\n",
            "-- Up-to-date: /root/.hunter/_Base/70287b1/02ccb06/dffbc08/Build/spdlog/Install/include/spdlog/fmt/bundled/printf.h\n",
            "-- Up-to-date: /root/.hunter/_Base/70287b1/02ccb06/dffbc08/Build/spdlog/Install/include/spdlog/fmt/bundled/LICENSE.rst\n",
            "-- Up-to-date: /root/.hunter/_Base/70287b1/02ccb06/dffbc08/Build/spdlog/Install/include/spdlog/fmt/bundled/format.h\n",
            "-- Up-to-date: /root/.hunter/_Base/70287b1/02ccb06/dffbc08/Build/spdlog/Install/include/spdlog/fmt/fmt.h\n",
            "-- Up-to-date: /root/.hunter/_Base/70287b1/02ccb06/dffbc08/Build/spdlog/Install/include/spdlog/fmt/ostr.h\n",
            "-- Up-to-date: /root/.hunter/_Base/70287b1/02ccb06/dffbc08/Build/spdlog/Install/include/spdlog/details\n",
            "-- Up-to-date: /root/.hunter/_Base/70287b1/02ccb06/dffbc08/Build/spdlog/Install/include/spdlog/details/file_helper.h\n",
            "-- Up-to-date: /root/.hunter/_Base/70287b1/02ccb06/dffbc08/Build/spdlog/Install/include/spdlog/details/async_logger_impl.h\n",
            "-- Up-to-date: /root/.hunter/_Base/70287b1/02ccb06/dffbc08/Build/spdlog/Install/include/spdlog/details/mpmc_bounded_q.h\n",
            "-- Up-to-date: /root/.hunter/_Base/70287b1/02ccb06/dffbc08/Build/spdlog/Install/include/spdlog/details/async_log_helper.h\n",
            "-- Up-to-date: /root/.hunter/_Base/70287b1/02ccb06/dffbc08/Build/spdlog/Install/include/spdlog/details/registry.h\n",
            "-- Up-to-date: /root/.hunter/_Base/70287b1/02ccb06/dffbc08/Build/spdlog/Install/include/spdlog/details/spdlog_impl.h\n",
            "-- Up-to-date: /root/.hunter/_Base/70287b1/02ccb06/dffbc08/Build/spdlog/Install/include/spdlog/details/os.h\n",
            "-- Up-to-date: /root/.hunter/_Base/70287b1/02ccb06/dffbc08/Build/spdlog/Install/include/spdlog/details/logger_impl.h\n",
            "-- Up-to-date: /root/.hunter/_Base/70287b1/02ccb06/dffbc08/Build/spdlog/Install/include/spdlog/details/pattern_formatter_impl.h\n",
            "-- Up-to-date: /root/.hunter/_Base/70287b1/02ccb06/dffbc08/Build/spdlog/Install/include/spdlog/details/log_msg.h\n",
            "-- Up-to-date: /root/.hunter/_Base/70287b1/02ccb06/dffbc08/Build/spdlog/Install/include/spdlog/details/null_mutex.h\n",
            "-- Up-to-date: /root/.hunter/_Base/70287b1/02ccb06/dffbc08/Build/spdlog/Install/include/spdlog/logger.h\n",
            "-- Installing: /root/.hunter/_Base/70287b1/02ccb06/dffbc08/Build/spdlog/Install/lib/cmake/spdlog/spdlogConfig.cmake\n",
            "-- Installing: /root/.hunter/_Base/70287b1/02ccb06/dffbc08/Build/spdlog/Install/lib/cmake/spdlog/spdlogConfigVersion.cmake\n",
            "-- Installing: /root/.hunter/_Base/70287b1/02ccb06/dffbc08/Build/spdlog/Install/lib/pkgconfig/spdlog.pc\n",
            "-- Installing: /root/.hunter/_Base/70287b1/02ccb06/dffbc08/Build/spdlog/Install/lib/cmake/spdlog/spdlogTargets.cmake\n",
            "loading initial cache file /root/.hunter/_Base/70287b1/02ccb06/dffbc08/Build/spdlog/args.cmake\n",
            "[100%] Completed 'spdlog-Debug'\n",
            "[100%] Built target spdlog-Debug\n",
            "-- [hunter] Build step successful (dir: /root/.hunter/_Base/70287b1/02ccb06/dffbc08/Build/spdlog)\n",
            "-- [hunter] Cache saved: /root/.hunter/_Base/Cache/raw/aa4e153430f737af53e0447b4fdf2727a74f63bc.tar.bz2\n",
            "-- Looking for pthread.h\n",
            "-- Looking for pthread.h - found\n",
            "-- Looking for pthread_create\n",
            "-- Looking for pthread_create - not found\n",
            "-- Looking for pthread_create in pthreads\n",
            "-- Looking for pthread_create in pthreads - not found\n",
            "-- Looking for pthread_create in pthread\n",
            "-- Looking for pthread_create in pthread - found\n",
            "-- Found Threads: TRUE  \n",
            "-- Configuring done\n",
            "-- Generating done\n",
            "-- Build files have been written to: /content/build\n",
            "\u001b[35m\u001b[1mScanning dependencies of target obj_khaiii\u001b[0m\n",
            "[  3%] \u001b[32mBuilding CXX object CMakeFiles/obj_khaiii.dir/src/main/cpp/khaiii/Config.cpp.o\u001b[0m\n",
            "[  7%] \u001b[32mBuilding CXX object CMakeFiles/obj_khaiii.dir/src/main/cpp/khaiii/Embed.cpp.o\u001b[0m\n",
            "[ 11%] \u001b[32mBuilding CXX object CMakeFiles/obj_khaiii.dir/src/main/cpp/khaiii/ErrPatch.cpp.o\u001b[0m\n",
            "[ 15%] \u001b[32mBuilding CXX object CMakeFiles/obj_khaiii.dir/src/main/cpp/khaiii/KhaiiiImpl.cpp.o\u001b[0m\n",
            "[ 19%] \u001b[32mBuilding CXX object CMakeFiles/obj_khaiii.dir/src/main/cpp/khaiii/Morph.cpp.o\u001b[0m\n",
            "[ 23%] \u001b[32mBuilding CXX object CMakeFiles/obj_khaiii.dir/src/main/cpp/khaiii/Preanal.cpp.o\u001b[0m\n",
            "[ 26%] \u001b[32mBuilding CXX object CMakeFiles/obj_khaiii.dir/src/main/cpp/khaiii/Resource.cpp.o\u001b[0m\n",
            "[ 30%] \u001b[32mBuilding CXX object CMakeFiles/obj_khaiii.dir/src/main/cpp/khaiii/Restore.cpp.o\u001b[0m\n",
            "[ 34%] \u001b[32mBuilding CXX object CMakeFiles/obj_khaiii.dir/src/main/cpp/khaiii/Sentence.cpp.o\u001b[0m\n",
            "[ 38%] \u001b[32mBuilding CXX object CMakeFiles/obj_khaiii.dir/src/main/cpp/khaiii/Tagger.cpp.o\u001b[0m\n",
            "[ 42%] \u001b[32mBuilding CXX object CMakeFiles/obj_khaiii.dir/src/main/cpp/khaiii/Trie.cpp.o\u001b[0m\n",
            "[ 46%] \u001b[32mBuilding CXX object CMakeFiles/obj_khaiii.dir/src/main/cpp/khaiii/Word.cpp.o\u001b[0m\n",
            "[ 50%] \u001b[32mBuilding CXX object CMakeFiles/obj_khaiii.dir/src/main/cpp/khaiii/khaiii_api.cpp.o\u001b[0m\n",
            "[ 53%] \u001b[32mBuilding CXX object CMakeFiles/obj_khaiii.dir/src/main/cpp/khaiii/khaiii_dev.cpp.o\u001b[0m\n",
            "[ 57%] \u001b[32mBuilding CXX object CMakeFiles/obj_khaiii.dir/src/main/cpp/khaiii/nn/Conv1d.cpp.o\u001b[0m\n",
            "[ 61%] \u001b[32mBuilding CXX object CMakeFiles/obj_khaiii.dir/src/main/cpp/khaiii/nn/Linear.cpp.o\u001b[0m\n",
            "[ 65%] \u001b[32mBuilding CXX object CMakeFiles/obj_khaiii.dir/src/main/cpp/khaiii/nn/tensor.cpp.o\u001b[0m\n",
            "[ 65%] Built target obj_khaiii\n",
            "\u001b[35m\u001b[1mScanning dependencies of target khaiii\u001b[0m\n",
            "[ 69%] \u001b[32m\u001b[1mLinking CXX shared library lib/libkhaiii.so\u001b[0m\n",
            "[ 69%] Built target khaiii\n",
            "\u001b[35m\u001b[1mScanning dependencies of target bin_khaiii\u001b[0m\n",
            "[ 73%] \u001b[32mBuilding CXX object CMakeFiles/bin_khaiii.dir/src/main/cpp/main.cpp.o\u001b[0m\n",
            "[ 76%] \u001b[32m\u001b[1mLinking CXX executable bin/khaiii\u001b[0m\n",
            "[ 76%] Built target bin_khaiii\n",
            "\u001b[35m\u001b[1mScanning dependencies of target test_khaiii\u001b[0m\n",
            "[ 80%] \u001b[32mBuilding CXX object CMakeFiles/test_khaiii.dir/src/test/cpp/test_main.cpp.o\u001b[0m\n",
            "[ 84%] \u001b[32mBuilding CXX object CMakeFiles/test_khaiii.dir/src/test/cpp/khaiii/ErrPatchTest.cpp.o\u001b[0m\n",
            "[ 88%] \u001b[32mBuilding CXX object CMakeFiles/test_khaiii.dir/src/test/cpp/khaiii/KhaiiiApiTest.cpp.o\u001b[0m\n",
            "[ 92%] \u001b[32mBuilding CXX object CMakeFiles/test_khaiii.dir/src/test/cpp/khaiii/KhaiiiDevTest.cpp.o\u001b[0m\n",
            "[ 96%] \u001b[32mBuilding CXX object CMakeFiles/test_khaiii.dir/src/test/cpp/khaiii/PreanalTest.cpp.o\u001b[0m\n",
            "[100%] \u001b[32m\u001b[1mLinking CXX executable test/khaiii\u001b[0m\n",
            "[100%] Built target test_khaiii\n",
            "\u001b[35m\u001b[1mScanning dependencies of target resource\u001b[0m\n",
            "INFO:root:config: {\n",
            "    \"cutoff\": 1,\n",
            "    \"embed_dim\": 35,\n",
            "    \"hidden_dim\": 320,\n",
            "    \"model_id\": \"munjong.cut1.win4.sdo0.1.emb35.lr0.001.lrd0.9.bs500\",\n",
            "    \"rsc_src\": \"../rsc/src\",\n",
            "    \"window\": 4\n",
            "}\n",
            "INFO:root:vocab.in: 5621 entries, 0 cutoff\n",
            "INFO:root:vocab.out: 500 entries, 0 cutoff\n",
            "INFO:root:restore.dic: 4303 entries\n",
            "INFO:root:preanal.manual\n",
            "INFO:root:preanal.auto\n",
            "INFO:root:trie saved: /content/build/share/khaiii/preanal.tri\n",
            "INFO:root:total nodes: 120812\n",
            "INFO:root:expected size: 1932992\n",
            "INFO:root:value saved: /content/build/share/khaiii/preanal.val\n",
            "INFO:root:total entries: 83373\n",
            "INFO:root:expected size: 593730\n",
            "INFO:root:restore.key: 17212\n",
            "INFO:root:restore.val: 68848\n",
            "INFO:root:restore.one: 503\n",
            "INFO:root:base.errpatch.auto\n",
            "INFO:root:base.errpatch.manual\n",
            "INFO:root:trie saved: /content/build/share/khaiii/errpatch.tri\n",
            "INFO:root:total nodes: 2067\n",
            "INFO:root:expected size: 33072\n",
            "INFO:root:length saved: /content/build/share/khaiii/errpatch.len\n",
            "INFO:root:expected size: 551\n",
            "INFO:root:value saved: /content/build/share/khaiii/errpatch.val\n",
            "INFO:root:total entries: 550\n",
            "INFO:root:expected size: 7632\n",
            "Built target resource\n",
            "[ 65%] Built target obj_khaiii\n",
            "[ 69%] Built target khaiii\n",
            "[ 76%] Built target bin_khaiii\n",
            "[100%] Built target test_khaiii\n",
            "\u001b[36mInstall the project...\u001b[0m\n",
            "-- Install configuration: \"\"\n",
            "-- Installing: /usr/local/include/khaiii\n",
            "-- Installing: /usr/local/include/khaiii/KhaiiiApi.hpp\n",
            "-- Installing: /usr/local/include/khaiii/khaiii_api.h\n",
            "-- Installing: /usr/local/include/khaiii/khaiii_dev.h\n",
            "-- Installing: /usr/local/share/khaiii\n",
            "-- Installing: /usr/local/share/khaiii/conv.2.fil\n",
            "-- Installing: /usr/local/share/khaiii/config.json\n",
            "-- Installing: /usr/local/share/khaiii/conv.4.fil\n",
            "-- Installing: /usr/local/share/khaiii/conv.5.fil\n",
            "-- Installing: /usr/local/share/khaiii/restore.val\n",
            "-- Installing: /usr/local/share/khaiii/restore.key\n",
            "-- Installing: /usr/local/share/khaiii/errpatch.tri\n",
            "-- Installing: /usr/local/share/khaiii/errpatch.val\n",
            "-- Installing: /usr/local/share/khaiii/cnv2hdn.lin\n",
            "-- Installing: /usr/local/share/khaiii/errpatch.len\n",
            "-- Installing: /usr/local/share/khaiii/conv.3.fil\n",
            "-- Installing: /usr/local/share/khaiii/preanal.val\n",
            "-- Installing: /usr/local/share/khaiii/restore.one\n",
            "-- Installing: /usr/local/share/khaiii/hdn2tag.lin\n",
            "-- Installing: /usr/local/share/khaiii/preanal.tri\n",
            "-- Installing: /usr/local/share/khaiii/embed.bin\n",
            "-- Installing: /usr/local/lib/libkhaiii.so.0.4\n",
            "-- Installing: /usr/local/lib/libkhaiii.so.0\n",
            "-- Installing: /usr/local/lib/libkhaiii.so\n",
            "-- Installing: /usr/local/bin/khaiii\n",
            "\u001b[35m\u001b[1mScanning dependencies of target package_python\u001b[0m\n",
            "\u001b[36mRun CPack packaging tool for source...\u001b[0m\n",
            "CPack: Create package using ZIP\n",
            "CPack: Install projects\n",
            "CPack: - Install directory: /content/khaiii\n",
            "CPack: Create package\n",
            "CPack: - package: /content/build/khaiii-0.4.zip generated.\n",
            "Built target package_python\n",
            "Processing ./build/package_python\n",
            "Building wheels for collected packages: khaiii\n",
            "  Building wheel for khaiii (setup.py) ... \u001b[?25l\u001b[?25hdone\n",
            "  Created wheel for khaiii: filename=khaiii-0.4-cp36-none-any.whl size=22883133 sha256=aa2beb655f948107248eec2a1ff8d9413554bc8a5c4f789aafbcbd262ee48806\n",
            "  Stored in directory: /tmp/pip-ephem-wheel-cache-lfnghwe3/wheels/6b/4d/23/84c4acc3ef5226ca75c4e3ad84c39a0654d11c3a9c1941193f\n",
            "Successfully built khaiii\n",
            "Installing collected packages: khaiii\n",
            "Successfully installed khaiii-0.4\n"
          ],
          "name": "stdout"
        }
      ]
    },
    {
      "cell_type": "code",
      "metadata": {
        "colab": {
          "base_uri": "https://localhost:8080/"
        },
        "id": "Oa2JwE-Q84Qu",
        "outputId": "d028559d-bbec-4c32-976c-7fd5c0397be1"
      },
      "source": [
        "from khaiii import KhaiiiApi\n",
        "api = KhaiiiApi()\n",
        "\n",
        "test_sents = ['나도 모르게 사버렸다.', '행복해야해!', \"내가 안 그랬어!\", \"나는 사지 않았어.\", \"하나도 안 기쁘다.\", \"상관하지마\", \"그것 좀 가져와\"]\n",
        "\n",
        "for sent in test_sents:\n",
        "  # 리스트안의 텍스트를 분리 \n",
        "  for word in api.analyze(sent):\n",
        "    # 각 텍스트를 분석\n",
        "    for morph in word.morphs:\n",
        "      # \n",
        "      print(morph.lex + '/' + morph.tag)\n",
        "  print('\\n')\n",
        "\n",
        "# Khaiii를 통해 형태소가 잘 분리된 것을 볼 수 있다."
      ],
      "execution_count": null,
      "outputs": [
        {
          "output_type": "stream",
          "text": [
            "나/NP\n",
            "도/JX\n",
            "모르/VV\n",
            "게/EC\n",
            "사/VV\n",
            "아/EC\n",
            "버리/VX\n",
            "었/EP\n",
            "다/EF\n",
            "./SF\n",
            "\n",
            "\n",
            "행복/NNG\n",
            "하/XSA\n",
            "아/EF\n",
            "야/EC\n",
            "하/VX\n",
            "아/EF\n",
            "!/SF\n",
            "\n",
            "\n",
            "내/NP\n",
            "가/JKS\n",
            "안/MAG\n",
            "그/VV\n",
            "렇/VA\n",
            "었/EP\n",
            "어/EF\n",
            "!/SF\n",
            "\n",
            "\n",
            "나/NP\n",
            "는/JX\n",
            "사/VV\n",
            "지/EC\n",
            "않/VX\n",
            "았/EP\n",
            "어/EF\n",
            "./SF\n",
            "\n",
            "\n",
            "하나/NR\n",
            "도/JX\n",
            "안/MAG\n",
            "기쁘/VA\n",
            "다/EF\n",
            "./SF\n",
            "\n",
            "\n",
            "상관/NNG\n",
            "하/XSV\n",
            "지마/NNG\n",
            "\n",
            "\n",
            "그것/NP\n",
            "좀/MAG\n",
            "가져오/VV\n",
            "아/EC\n",
            "\n",
            "\n"
          ],
          "name": "stdout"
        }
      ]
    },
    {
      "cell_type": "code",
      "metadata": {
        "id": "fFIOeJ5r_8zU"
      },
      "source": [
        "significant_tags = ['NNG', 'NNP', 'NNB', 'VV', 'VA', 'VX', 'MAG', 'MAJ', 'XSV', 'XSA']\n",
        "\n",
        "def pos_text(texts):\n",
        "    corpus = []\n",
        "    for sent in texts:\n",
        "        pos_tagged = ''\n",
        "        for word in api.analyze(sent):\n",
        "            for morph in word.morphs:\n",
        "                if morph.tag in significant_tags:\n",
        "                    # pos_tagged += morph.lex + '/' + morph.tag + ' '\n",
        "                    pos_tagged += morph.lex + ' '\n",
        "        corpus.append(pos_tagged.strip())\n",
        "    return corpus\n"
      ],
      "execution_count": null,
      "outputs": []
    },
    {
      "cell_type": "code",
      "metadata": {
        "id": "z3ZOe6uQ8T7W"
      },
      "source": [
        "# 실험 실패 \n",
        "\n",
        "\n",
        "# significant_tags = ['NNG', 'NNP', 'NNB', 'VV', 'VA', 'VX', 'MAG', 'MAJ', 'XSV', 'XSA']\n",
        "\n",
        "# def pos_text1(texts):\n",
        "#     corpus = []\n",
        "#     for sent in texts:\n",
        "#         pos_tagged = ''\n",
        "#         for word in api.analyze(sent):\n",
        "#           for morph in word.morphs:\n",
        "#             corpus.append(morph)\n",
        "#     return corpus\n",
        "#\n"
      ],
      "execution_count": null,
      "outputs": []
    },
    {
      "cell_type": "code",
      "metadata": {
        "id": "xca6uNsnAbWy"
      },
      "source": [
        "pos_tagged_corpus = pos_text(basic_preprocessed_corpus)\n",
        "# 띄어쓰기, 맞춤법 검사를 제외하고 Khaii 형태소 분석을 사용"
      ],
      "execution_count": null,
      "outputs": []
    },
    {
      "cell_type": "code",
      "metadata": {
        "colab": {
          "base_uri": "https://localhost:8080/"
        },
        "id": "SNplWUXI7RaV",
        "outputId": "f5e028dc-ffa9-49b9-c127-fa4d27e96011"
      },
      "source": [
        "print(spell_preprocessed_corpus)\n",
        "print(pos_tagged_corpus)"
      ],
      "execution_count": null,
      "outputs": [
        {
          "output_type": "stream",
          "text": [
            "['친부에게 정당한 이유 없이 뺨을 맞아서 고막에 천공이 생겨 고막패치술을 받았습니다. 어머니는 협의이혼을 생각 중이신데 미성년자인 동생이 있어서 개월 간 숙려 기간을 가져야 한다고 알고 있습니다. ) 협의이혼 시 개월의 숙려 기간 동안 친부와 따로 살도록 할 수 있나요? 가정폭력에 대한 증거가 고막천공으로 치료받았다는 진단서밖에 없는데 신고를 해서 접근금지 처분을 내릴 수 있나요? ) 만약 친부가 이혼에 반대하면 진단서로 가정폭력 했다는 사실을 증명해서 이혼소송을 걸 수 있나요? ) 향후 미성년자인 동생의 양육권 분쟁에서 제가 당한 가정폭력을 근거로 친모가 양육권을 가져갈 수 있도록 할 수 있나요? ) 위 절차에 필요한 진단서는 치료를 받았던 의원에 가서 뗄 수 있나요?']\n",
            "['친부 하 이유 없이 뺨 맞 고막 천공 생기 고막패 치술 받 어머니 협의 이혼 생각 중 성년자 동생 있 개월 가 숙리 기간 가지 하 알 있 협의 이혼 시 개월 숙리 기간 동안 친부 따로 살 하 수 있 가정 폭력 대하 증거 고막천공 치료 받 진단서 없 신고 하 접근 금지 처분 내리 수 있 만약 친부 이혼 반대 하 진단서 가정 폭력 하 사실 증명 하 이혼 소송 걸 수 있 향후 성년자 동생 양육 분쟁 당하 가정 폭력 근거 친모 양육 가져가 수 있 하 수 있 위 절차 필요 하 진단서 치료 받 의원 가 떼 수 있']\n"
          ],
          "name": "stdout"
        }
      ]
    },
    {
      "cell_type": "code",
      "metadata": {
        "colab": {
          "base_uri": "https://localhost:8080/"
        },
        "id": "EPnxiwJfGR4O",
        "outputId": "93d78a09-bcda-4c5b-c5d4-f3d8c989611d"
      },
      "source": [
        "print(len(pos_tagged_corpus))\n",
        "print(len(Senti))"
      ],
      "execution_count": null,
      "outputs": [
        {
          "output_type": "stream",
          "text": [
            "6528\n",
            "6528\n"
          ],
          "name": "stdout"
        }
      ]
    },
    {
      "cell_type": "code",
      "metadata": {
        "colab": {
          "base_uri": "https://localhost:8080/"
        },
        "id": "iwOwC0FT9dTl",
        "outputId": "2735d8b4-1fdd-46a6-84ca-7cce37028500"
      },
      "source": [
        "pos_tagged_corpus"
      ],
      "execution_count": null,
      "outputs": [
        {
          "output_type": "execute_result",
          "data": {
            "text/plain": [
              "['친부/NNG 하/XSA 이유/NNG 없이/MAG 뺨/NNG 맞/VV 고막/NNG 천공/NNG 생기/VV 고막패/NNG 치술/NNG 받/VV 어머니/NNG 협의/NNG 이혼/NNG 생각/NNG 중/NNB 성년자/NNG 동생/NNG 있/VV 개월/NNB 가/VV 숙리/VV 기간/NNG 가지/VV 하/VX 알/VV 있/VX 협의/NNG 이혼/NNG 시/NNG 개월/NNB 숙리/VV 기간/NNG 동안/NNG 친부/NNG 따로/MAG 살/VV 하/VX 수/NNB 있/VV 가정/NNG 폭력/NNG 대하/VV 증거/NNG 고막천공/NNG 치료/NNG 받/VV 진단서/NNG 없/VA 신고/NNG 하/VV 접근/NNG 금지/NNG 처분/NNG 내리/VV 수/NNB 있/VV 만약/NNG 친부/NNG 이혼/NNG 반대/NNG 하/XSV 진단서/NNG 가정/NNG 폭력/NNG 하/VV 사실/NNG 증명/NNG 하/XSV 이혼/NNG 소송/NNG 걸/VV 수/NNB 있/VV 향후/NNG 성년자/NNG 동생/NNG 양육/NNG 분쟁/NNG 당하/VV 가정/NNG 폭력/NNG 근거/NNG 친모/NNG 양육/NNG 가져가/VV 수/NNB 있/VV 하/VX 수/NNB 있/VV 위/NNG 절차/NNG 필요/NNG 하/XSA 진단서/NNG 치료/NNG 받/VV 의원/NNG 가/VV 떼/VV 수/NNB 있/VV']"
            ]
          },
          "metadata": {
            "tags": []
          },
          "execution_count": 74
        }
      ]
    },
    {
      "cell_type": "code",
      "metadata": {
        "id": "KmgxL_AlGY5A",
        "colab": {
          "base_uri": "https://localhost:8080/"
        },
        "outputId": "a0b4bad0-ba58-4a09-99d5-ffce1dca6913"
      },
      "source": [
        "df['Label'].unique()"
      ],
      "execution_count": null,
      "outputs": [
        {
          "output_type": "execute_result",
          "data": {
            "text/plain": [
              "array([1, 3, 4, 6, 2, 5])"
            ]
          },
          "metadata": {
            "tags": []
          },
          "execution_count": 16
        }
      ]
    },
    {
      "cell_type": "code",
      "metadata": {
        "id": "bXcfWKuhfym0"
      },
      "source": [
        "def text_cleaning(doc):\n",
        "    if doc not in SW:\n",
        "      doc = re.sub(\"[^ㄱ-ㅎㅏ-ㅣ가-힣 ]\", \"\", str(doc))\n",
        "\n",
        "        \n",
        "    return doc"
      ],
      "execution_count": null,
      "outputs": []
    },
    {
      "cell_type": "code",
      "metadata": {
        "id": "1IPUDKU5fx6s"
      },
      "source": [
        "# def text_tokenizing(doc):\n",
        "#     return [word for word in rhinoMorph.onlyMorph_list(rn,doc, pos = ['NNG', 'NNP','NP', 'VV', 'VA', 'XR', 'IC', 'MM', 'MAG', 'MAJ'], eomi = False) if word not in SW and len(word) > 1]\n",
        "\n",
        "#     # for word in doc:\n",
        "#     #   word = word.split()\n",
        "#     #   for words in word:\n",
        "#     #     if words not in SW and len(words) > 1:\n",
        "      \n",
        "#     #       return words\n",
        "# Khaii를 사용하였기 때문에 이거는 제외 "
      ],
      "execution_count": null,
      "outputs": []
    },
    {
      "cell_type": "code",
      "metadata": {
        "id": "X_m-UtXGfxrt"
      },
      "source": [
        "def define_stopwords(path):\n",
        "    \n",
        "    SW = set() \n",
        "    #집합형태로 만들어줘야 중복을 제외하고 출력해줌\n",
        "    #불용어들을 추가할려면 SW.add()이렇게 넣어주면 됨\n",
        "    \n",
        "    with open(path, encoding = 'cp949') as f:\n",
        "        for word in f:\n",
        "            SW.add(word)\n",
        "            \n",
        "    return SW\n",
        "\n",
        "SW = define_stopwords('gdrive/My Drive/pytest/stopwords-ko.txt')"
      ],
      "execution_count": null,
      "outputs": []
    },
    {
      "cell_type": "code",
      "metadata": {
        "colab": {
          "base_uri": "https://localhost:8080/"
        },
        "id": "CAyeEKu5IWyU",
        "outputId": "333b91fc-8161-4047-c891-a0ecd1a837a6"
      },
      "source": [
        "Text"
      ],
      "execution_count": null,
      "outputs": [
        {
          "output_type": "execute_result",
          "data": {
            "text/plain": [
              "0       친부 하 이유 없이 뺨 맞 고막 천공 생기 고막패 치술 받 어머니 협의 이혼 생각 ...\n",
              "1       살 자 데 집 가정 폭력 일어나 어 리 때 신체 폭력 많이 당하 성인 되 이후 손지...\n",
              "2       아직 청소년 가정 폭력 신고 직접 경찰서 가 녹음본 사진 보이 드리 신고 하 절차 ...\n",
              "3       남동생 패륜아 따로 없 밀치 욕하 공포 심유발 하 눈 뒤집 말 하 멱살 잡 폭력 행...\n",
              "4       현재 살대학생 제목 같이 현재 가정 폭력 신고 하 후 법원 벌금형 부친 선고 하 년...\n",
              "                              ...                        \n",
              "6523           쌤 학생 욕하 몽둥이 머리 세 치 뺨때리 발 로 차 거 아동학대 신고가능 하\n",
              "6524    아빠 공부 하 평소 공부 하 때 진짜 개패 패 가정 폭력 공부 닐때 훈육 아빠 그렇...\n",
              "6525    안녕 하 일단 그리 하 것 이 어머니 누나 담배 피시 집안 화장실 피 담배 냄새 지...\n",
              "6526    엄마 동생 왜 같 자식 키우 괴물 그러 아빠 밟 죽이 그러 고 데 막상 날 잘 하 ...\n",
              "6527    이제 남자 세 되 예비 중 입 않 명 당하 아빠 화 내 숙제도움 줄 하 필요 없 이...\n",
              "Length: 6528, dtype: object"
            ]
          },
          "metadata": {
            "tags": []
          },
          "execution_count": 107
        }
      ]
    },
    {
      "cell_type": "code",
      "metadata": {
        "colab": {
          "base_uri": "https://localhost:8080/",
          "height": 419
        },
        "id": "SjCQu2y8IYvw",
        "outputId": "7d280f0d-2059-4b76-d248-78e5a3c93c3b"
      },
      "source": [
        "Senti"
      ],
      "execution_count": null,
      "outputs": [
        {
          "output_type": "execute_result",
          "data": {
            "text/html": [
              "<div>\n",
              "<style scoped>\n",
              "    .dataframe tbody tr th:only-of-type {\n",
              "        vertical-align: middle;\n",
              "    }\n",
              "\n",
              "    .dataframe tbody tr th {\n",
              "        vertical-align: top;\n",
              "    }\n",
              "\n",
              "    .dataframe thead th {\n",
              "        text-align: right;\n",
              "    }\n",
              "</style>\n",
              "<table border=\"1\" class=\"dataframe\">\n",
              "  <thead>\n",
              "    <tr style=\"text-align: right;\">\n",
              "      <th></th>\n",
              "      <th>Label</th>\n",
              "    </tr>\n",
              "  </thead>\n",
              "  <tbody>\n",
              "    <tr>\n",
              "      <th>0</th>\n",
              "      <td>1</td>\n",
              "    </tr>\n",
              "    <tr>\n",
              "      <th>1</th>\n",
              "      <td>1</td>\n",
              "    </tr>\n",
              "    <tr>\n",
              "      <th>2</th>\n",
              "      <td>1</td>\n",
              "    </tr>\n",
              "    <tr>\n",
              "      <th>3</th>\n",
              "      <td>1</td>\n",
              "    </tr>\n",
              "    <tr>\n",
              "      <th>4</th>\n",
              "      <td>1</td>\n",
              "    </tr>\n",
              "    <tr>\n",
              "      <th>...</th>\n",
              "      <td>...</td>\n",
              "    </tr>\n",
              "    <tr>\n",
              "      <th>6523</th>\n",
              "      <td>5</td>\n",
              "    </tr>\n",
              "    <tr>\n",
              "      <th>6524</th>\n",
              "      <td>5</td>\n",
              "    </tr>\n",
              "    <tr>\n",
              "      <th>6525</th>\n",
              "      <td>5</td>\n",
              "    </tr>\n",
              "    <tr>\n",
              "      <th>6526</th>\n",
              "      <td>5</td>\n",
              "    </tr>\n",
              "    <tr>\n",
              "      <th>6527</th>\n",
              "      <td>5</td>\n",
              "    </tr>\n",
              "  </tbody>\n",
              "</table>\n",
              "<p>6528 rows × 1 columns</p>\n",
              "</div>"
            ],
            "text/plain": [
              "      Label\n",
              "0         1\n",
              "1         1\n",
              "2         1\n",
              "3         1\n",
              "4         1\n",
              "...     ...\n",
              "6523      5\n",
              "6524      5\n",
              "6525      5\n",
              "6526      5\n",
              "6527      5\n",
              "\n",
              "[6528 rows x 1 columns]"
            ]
          },
          "metadata": {
            "tags": []
          },
          "execution_count": 108
        }
      ]
    },
    {
      "cell_type": "code",
      "metadata": {
        "id": "o3GzrEBGo68-"
      },
      "source": [
        "Text = pd.Series(pos_tagged_corpus)"
      ],
      "execution_count": null,
      "outputs": []
    },
    {
      "cell_type": "code",
      "metadata": {
        "id": "5jxpkEcMI4i6"
      },
      "source": [
        "df = pd.DataFrame()\n",
        "df['Text'] = Text\n",
        "df['Senti'] = Senti"
      ],
      "execution_count": null,
      "outputs": []
    },
    {
      "cell_type": "code",
      "metadata": {
        "colab": {
          "base_uri": "https://localhost:8080/",
          "height": 204
        },
        "id": "Dkoy3DPTKVrr",
        "outputId": "90a89ce6-b4cf-4feb-b7c0-295b85810f39"
      },
      "source": [
        "df.tail()"
      ],
      "execution_count": null,
      "outputs": [
        {
          "output_type": "execute_result",
          "data": {
            "text/html": [
              "<div>\n",
              "<style scoped>\n",
              "    .dataframe tbody tr th:only-of-type {\n",
              "        vertical-align: middle;\n",
              "    }\n",
              "\n",
              "    .dataframe tbody tr th {\n",
              "        vertical-align: top;\n",
              "    }\n",
              "\n",
              "    .dataframe thead th {\n",
              "        text-align: right;\n",
              "    }\n",
              "</style>\n",
              "<table border=\"1\" class=\"dataframe\">\n",
              "  <thead>\n",
              "    <tr style=\"text-align: right;\">\n",
              "      <th></th>\n",
              "      <th>Text</th>\n",
              "      <th>Senti</th>\n",
              "    </tr>\n",
              "  </thead>\n",
              "  <tbody>\n",
              "    <tr>\n",
              "      <th>6523</th>\n",
              "      <td>쌤 학생 욕하 몽둥이 머리 세 치 뺨때리 발 로 차 거 아동학대 신고가능 하</td>\n",
              "      <td>5</td>\n",
              "    </tr>\n",
              "    <tr>\n",
              "      <th>6524</th>\n",
              "      <td>아빠 공부 하 평소 공부 하 때 진짜 개패 패 가정 폭력 공부 닐때 훈육 아빠 그렇...</td>\n",
              "      <td>5</td>\n",
              "    </tr>\n",
              "    <tr>\n",
              "      <th>6525</th>\n",
              "      <td>안녕 하 일단 그리 하 것 이 어머니 누나 담배 피시 집안 화장실 피 담배 냄새 지...</td>\n",
              "      <td>5</td>\n",
              "    </tr>\n",
              "    <tr>\n",
              "      <th>6526</th>\n",
              "      <td>엄마 동생 왜 같 자식 키우 괴물 그러 아빠 밟 죽이 그러 고 데 막상 날 잘 하 ...</td>\n",
              "      <td>5</td>\n",
              "    </tr>\n",
              "    <tr>\n",
              "      <th>6527</th>\n",
              "      <td>이제 남자 세 되 예비 중 입 않 명 당하 아빠 화 내 숙제도움 줄 하 필요 없 이...</td>\n",
              "      <td>5</td>\n",
              "    </tr>\n",
              "  </tbody>\n",
              "</table>\n",
              "</div>"
            ],
            "text/plain": [
              "                                                   Text  Senti\n",
              "6523         쌤 학생 욕하 몽둥이 머리 세 치 뺨때리 발 로 차 거 아동학대 신고가능 하      5\n",
              "6524  아빠 공부 하 평소 공부 하 때 진짜 개패 패 가정 폭력 공부 닐때 훈육 아빠 그렇...      5\n",
              "6525  안녕 하 일단 그리 하 것 이 어머니 누나 담배 피시 집안 화장실 피 담배 냄새 지...      5\n",
              "6526  엄마 동생 왜 같 자식 키우 괴물 그러 아빠 밟 죽이 그러 고 데 막상 날 잘 하 ...      5\n",
              "6527  이제 남자 세 되 예비 중 입 않 명 당하 아빠 화 내 숙제도움 줄 하 필요 없 이...      5"
            ]
          },
          "metadata": {
            "tags": []
          },
          "execution_count": 37
        }
      ]
    },
    {
      "cell_type": "code",
      "metadata": {
        "id": "dYWnjqNkqfGj",
        "colab": {
          "base_uri": "https://localhost:8080/",
          "height": 198
        },
        "outputId": "d7c4f73b-9948-4976-e0ee-77a2c2fac6ef"
      },
      "source": [
        "a = []\n",
        "for i in SW:\n",
        "  a.append(i.replace(\"\\n\",\"\"))"
      ],
      "execution_count": null,
      "outputs": [
        {
          "output_type": "error",
          "ename": "NameError",
          "evalue": "ignored",
          "traceback": [
            "\u001b[0;31m---------------------------------------------------------------------------\u001b[0m",
            "\u001b[0;31mNameError\u001b[0m                                 Traceback (most recent call last)",
            "\u001b[0;32m<ipython-input-38-1b3aca7a73cd>\u001b[0m in \u001b[0;36m<module>\u001b[0;34m()\u001b[0m\n\u001b[1;32m      1\u001b[0m \u001b[0ma\u001b[0m \u001b[0;34m=\u001b[0m \u001b[0;34m[\u001b[0m\u001b[0;34m]\u001b[0m\u001b[0;34m\u001b[0m\u001b[0;34m\u001b[0m\u001b[0m\n\u001b[0;32m----> 2\u001b[0;31m \u001b[0;32mfor\u001b[0m \u001b[0mi\u001b[0m \u001b[0;32min\u001b[0m \u001b[0mSW\u001b[0m\u001b[0;34m:\u001b[0m\u001b[0;34m\u001b[0m\u001b[0;34m\u001b[0m\u001b[0m\n\u001b[0m\u001b[1;32m      3\u001b[0m   \u001b[0ma\u001b[0m\u001b[0;34m.\u001b[0m\u001b[0mappend\u001b[0m\u001b[0;34m(\u001b[0m\u001b[0mi\u001b[0m\u001b[0;34m.\u001b[0m\u001b[0mreplace\u001b[0m\u001b[0;34m(\u001b[0m\u001b[0;34m\"\\n\"\u001b[0m\u001b[0;34m,\u001b[0m\u001b[0;34m\"\"\u001b[0m\u001b[0;34m)\u001b[0m\u001b[0;34m)\u001b[0m\u001b[0;34m\u001b[0m\u001b[0;34m\u001b[0m\u001b[0m\n",
            "\u001b[0;31mNameError\u001b[0m: name 'SW' is not defined"
          ]
        }
      ]
    },
    {
      "cell_type": "code",
      "metadata": {
        "id": "nGaayNHBqqSS"
      },
      "source": [
        "SW = set()"
      ],
      "execution_count": null,
      "outputs": []
    },
    {
      "cell_type": "code",
      "metadata": {
        "id": "vmKOU5Zyqu-b"
      },
      "source": [
        "for i in a:\n",
        "  SW.add(i)\n",
        "  SW.add('안녕하세요')\n",
        "  SW.add('안녕')"
      ],
      "execution_count": null,
      "outputs": []
    },
    {
      "cell_type": "code",
      "metadata": {
        "id": "0nWc5dvPoI-t",
        "colab": {
          "base_uri": "https://localhost:8080/"
        },
        "outputId": "3088c81f-550d-4742-ae03-8b242fee08cf"
      },
      "source": [
        "SW"
      ],
      "execution_count": null,
      "outputs": [
        {
          "output_type": "execute_result",
          "data": {
            "text/plain": [
              "set()"
            ]
          },
          "metadata": {
            "tags": []
          },
          "execution_count": 41
        }
      ]
    },
    {
      "cell_type": "code",
      "metadata": {
        "id": "g4bTlIoYxqhI"
      },
      "source": [
        "list1 = df.values.tolist()"
      ],
      "execution_count": null,
      "outputs": []
    },
    {
      "cell_type": "code",
      "metadata": {
        "id": "Gku8o-vgzpRf"
      },
      "source": [
        "Senti = pd.DataFrame(Senti)\n",
        "\n",
        "Senti.rename(columns = { 0 : 'Label'}, inplace = True)"
      ],
      "execution_count": null,
      "outputs": []
    },
    {
      "cell_type": "code",
      "metadata": {
        "id": "eaG3DxzAzq2U"
      },
      "source": [
        "labels = Senti['Label']\n",
        "\n",
        "classes = sorted(labels.unique())"
      ],
      "execution_count": null,
      "outputs": []
    },
    {
      "cell_type": "code",
      "metadata": {
        "id": "0WdLott-zts1",
        "colab": {
          "base_uri": "https://localhost:8080/"
        },
        "outputId": "9d704416-973e-445e-bf57-87d37dd3d70a"
      },
      "source": [
        "label_to_cat = dict()\n",
        "\n",
        "for i in range(len(classes)):\n",
        "  dummy = np.zeros((len(classes),), dtype = 'int8')\n",
        "  dummy[i] = 1\n",
        "  label_to_cat[classes[i]] = dummy\n",
        "\n",
        "label_to_cat"
      ],
      "execution_count": null,
      "outputs": [
        {
          "output_type": "execute_result",
          "data": {
            "text/plain": [
              "{1: array([1, 0, 0, 0, 0, 0], dtype=int8),\n",
              " 2: array([0, 1, 0, 0, 0, 0], dtype=int8),\n",
              " 3: array([0, 0, 1, 0, 0, 0], dtype=int8),\n",
              " 4: array([0, 0, 0, 1, 0, 0], dtype=int8),\n",
              " 5: array([0, 0, 0, 0, 1, 0], dtype=int8),\n",
              " 6: array([0, 0, 0, 0, 0, 1], dtype=int8)}"
            ]
          },
          "metadata": {
            "tags": []
          },
          "execution_count": 45
        }
      ]
    },
    {
      "cell_type": "code",
      "metadata": {
        "id": "6DkGK3_WzwQe"
      },
      "source": [
        "y = np.array([label_to_cat[label] for label in Senti.Label])"
      ],
      "execution_count": null,
      "outputs": []
    },
    {
      "cell_type": "code",
      "metadata": {
        "id": "oYIgq9o3z6Xc"
      },
      "source": [
        "# print(len(a))\n",
        "# print(len(y))"
      ],
      "execution_count": null,
      "outputs": []
    },
    {
      "cell_type": "code",
      "metadata": {
        "id": "2jkRB45oq5zU"
      },
      "source": [
        "# y = pd.Series(y)"
      ],
      "execution_count": null,
      "outputs": []
    },
    {
      "cell_type": "code",
      "metadata": {
        "id": "2loOlefyqiH7"
      },
      "source": [
        "# a = pd.Series(a)\n",
        "\n",
        "# DF = pd.concat([a,y], axis = 1)"
      ],
      "execution_count": null,
      "outputs": []
    },
    {
      "cell_type": "code",
      "metadata": {
        "id": "gNx8jVBPjOkY"
      },
      "source": [
        "################### 여기부터 #########################"
      ],
      "execution_count": null,
      "outputs": []
    },
    {
      "cell_type": "code",
      "metadata": {
        "id": "PCkjJsL0immb"
      },
      "source": [
        "# #텍스트 클리닝과 텍스트 토큰화\n",
        "# #from konlpy.tag import Okt 보통의 경우에는 Okt를 사용하지 x\n",
        "# import json\n",
        "# import os\n",
        "# import re\n",
        "# from pprint import pprint\n",
        "\n",
        "# # okt = Okt()\n",
        "# # mecab = Mecab()\n",
        "# # kkma = Kkma()\n",
        "# # hannanum = Hannanum()\n",
        "\n",
        "# # 불용어들을 SW에 저장 \n",
        "\n",
        "# if os.path.exists('train_docs.json'): #op.path.exists() 어떤 파일이 디렉토리에 있는지 확인하는 함수 있으면 true출력\n",
        "#     with open(\"train_docs.json\", encoding='utf-8') as f: #if를 만족하면 파일을 불러올 수 있다 \n",
        "#         train_data = json.load(f)\n",
        "# else:\n",
        "#     #토큰화와 클리닝까지 \n",
        "#     #투플은 리스트와 비슷하지만 값은 변경할 수 없다 \n",
        "#     #line[1]을 토큰화하는 이유는 line[1]에 리뷰가 존재\n",
        "#     #클리닝을 먼저하고 토큰화를 하는게 좋다 \n",
        "#     train_data = [(text_tokenizing(text_cleaning(line[1])), line[2])for line in list1 if text_tokenizing(text_cleaning(line[1]))]\n",
        "#     #클리닝을 넣고 토큰화진행  \n",
        "#     #이게 토큰화만 수행하는 코드 train_data = [(text_tokenizing(line[1]), line[2]) for line in train_docs if text_tokenizing(line[1])] if뒤에는 만약 ㅋㅋㅋ같은거는 토큰화하면 날라가므로 그러면 거기에는 빈 리스트만 존재하니깐 그걸 방지하기 위해\n",
        "    \n",
        "#     with open(\"train_docs.json\", 'w', encoding='utf-8') as f:\n",
        "#         json.dump(train_data, f, ensure_ascii=False, indent='\\t')\n",
        "        \n",
        "# # if os.path.exists('test_docs.json'):\n",
        "# #     with open(\"test_docs.json\", encoding='utf-8') as f:\n",
        "# #         test_data = json.load(f)\n",
        "# # else:\n",
        "# #     test_data = [(text_tokenizing(text_cleaning(line[1])), line[2]) for line in test_docs if text_tokenizing(text_cleaning(line[1]))]\n",
        "# #     #test_data = [(text_tokenizing(line[1]), line[2]) for line in test_docs if text_tokenizing(line[1])]\n",
        "# #     with open(\"test_docs.json\", 'w', encoding='utf-8') as f:\n",
        "# #         json.dump(test_data, f, ensure_ascii=False, indent='\\t')\n",
        "\n",
        "# # pprint(train_data[0])\n",
        "# # pprint(test_data[0])"
      ],
      "execution_count": null,
      "outputs": []
    },
    {
      "cell_type": "code",
      "metadata": {
        "id": "W-AETGWu0GV3"
      },
      "source": [
        "b = []\n",
        "c = []\n",
        "for line in list1:\n",
        "  b.append(text_cleaning(line[0]))"
      ],
      "execution_count": null,
      "outputs": []
    },
    {
      "cell_type": "code",
      "metadata": {
        "id": "6mz7mSWXf6jQ"
      },
      "source": [
        "from sklearn.model_selection import train_test_split\n",
        "\n",
        "# df_train, df_test = train_test_split(\n",
        "#     b,y,\n",
        "#     test_size = 0.2,\n",
        "#     random_state = 410\n",
        "# )\n",
        "\n",
        "train_text, test_text, train_senti, test_senti = train_test_split(b,y,test_size = 0.3, stratify = y)"
      ],
      "execution_count": null,
      "outputs": []
    },
    {
      "cell_type": "code",
      "metadata": {
        "id": "erHxv-B_XLRz",
        "colab": {
          "base_uri": "https://localhost:8080/"
        },
        "outputId": "d17e4c90-29fe-40c3-b1f7-ccec2d9caf27"
      },
      "source": [
        "print(len(train_text))\n",
        "print(len(train_senti))"
      ],
      "execution_count": null,
      "outputs": [
        {
          "output_type": "stream",
          "text": [
            "4569\n",
            "4569\n"
          ],
          "name": "stdout"
        }
      ]
    },
    {
      "cell_type": "code",
      "metadata": {
        "colab": {
          "base_uri": "https://localhost:8080/"
        },
        "id": "IiaiksR9LG8b",
        "outputId": "2328c6d1-3e36-4969-93c1-b94b91d6cc34"
      },
      "source": [
        "print(len(test_text))\n",
        "print(len(test_senti))"
      ],
      "execution_count": null,
      "outputs": [
        {
          "output_type": "stream",
          "text": [
            "1959\n",
            "1959\n"
          ],
          "name": "stdout"
        }
      ]
    },
    {
      "cell_type": "markdown",
      "metadata": {
        "id": "28aO4lGrwMjD"
      },
      "source": [
        "## 버트 인풋 만들기"
      ]
    },
    {
      "cell_type": "code",
      "metadata": {
        "id": "ro5nKW78aktM"
      },
      "source": [
        "import logging\n",
        "import os\n",
        "import unicodedata\n",
        "from shutil import copyfile\n",
        "\n",
        "from transformers import PreTrainedTokenizer\n",
        "\n",
        "\n",
        "logger = logging.getLogger(__name__)\n",
        "\n",
        "VOCAB_FILES_NAMES = {\"vocab_file\": \"tokenizer_78b3253a26.model\",\n",
        "                     \"vocab_txt\": \"vocab.txt\"}\n",
        "\n",
        "PRETRAINED_VOCAB_FILES_MAP = {\n",
        "    \"vocab_file\": {\n",
        "        \"monologg/kobert\": \"https://s3.amazonaws.com/models.huggingface.co/bert/monologg/kobert/tokenizer_78b3253a26.model\",\n",
        "        \"monologg/kobert-lm\": \"https://s3.amazonaws.com/models.huggingface.co/bert/monologg/kobert-lm/tokenizer_78b3253a26.model\",\n",
        "        \"monologg/distilkobert\": \"https://s3.amazonaws.com/models.huggingface.co/bert/monologg/distilkobert/tokenizer_78b3253a26.model\"\n",
        "    },\n",
        "    \"vocab_txt\": {\n",
        "        \"monologg/kobert\": \"https://s3.amazonaws.com/models.huggingface.co/bert/monologg/kobert/vocab.txt\",\n",
        "        \"monologg/kobert-lm\": \"https://s3.amazonaws.com/models.huggingface.co/bert/monologg/kobert-lm/vocab.txt\",\n",
        "        \"monologg/distilkobert\": \"https://s3.amazonaws.com/models.huggingface.co/bert/monologg/distilkobert/vocab.txt\"\n",
        "    }\n",
        "}\n",
        "\n",
        "PRETRAINED_POSITIONAL_EMBEDDINGS_SIZES = {\n",
        "    \"monologg/kobert\": 512,\n",
        "    \"monologg/kobert-lm\": 512,\n",
        "    \"monologg/distilkobert\": 512\n",
        "}\n",
        "\n",
        "PRETRAINED_INIT_CONFIGURATION = {\n",
        "    \"monologg/kobert\": {\"do_lower_case\": False},\n",
        "    \"monologg/kobert-lm\": {\"do_lower_case\": False},\n",
        "    \"monologg/distilkobert\": {\"do_lower_case\": False}\n",
        "}\n",
        "\n",
        "SPIECE_UNDERLINE = u'▁'\n",
        "\n",
        "\n",
        "class KoBertTokenizer(PreTrainedTokenizer):\n",
        "    \"\"\"\n",
        "        SentencePiece based tokenizer. Peculiarities:\n",
        "            - requires `SentencePiece <https://github.com/google/sentencepiece>`_\n",
        "    \"\"\"\n",
        "    vocab_files_names = VOCAB_FILES_NAMES\n",
        "    pretrained_vocab_files_map = PRETRAINED_VOCAB_FILES_MAP\n",
        "    pretrained_init_configuration = PRETRAINED_INIT_CONFIGURATION\n",
        "    max_model_input_sizes = PRETRAINED_POSITIONAL_EMBEDDINGS_SIZES\n",
        "\n",
        "    def __init__(\n",
        "            self,\n",
        "            vocab_file,\n",
        "            vocab_txt,\n",
        "            do_lower_case=False,\n",
        "            remove_space=True,\n",
        "            keep_accents=False,\n",
        "            unk_token=\"[UNK]\",\n",
        "            sep_token=\"[SEP]\",\n",
        "            pad_token=\"[PAD]\",\n",
        "            cls_token=\"[CLS]\",\n",
        "            mask_token=\"[MASK]\",\n",
        "            **kwargs):\n",
        "        super().__init__(\n",
        "            unk_token=unk_token,\n",
        "            sep_token=sep_token,\n",
        "            pad_token=pad_token,\n",
        "            cls_token=cls_token,\n",
        "            mask_token=mask_token,\n",
        "            **kwargs\n",
        "        )\n",
        "\n",
        "        # Build vocab\n",
        "        self.token2idx = dict()\n",
        "        self.idx2token = []\n",
        "        with open(vocab_txt, 'r', encoding='utf-8') as f:\n",
        "            for idx, token in enumerate(f):\n",
        "                token = token.strip()\n",
        "                self.token2idx[token] = idx\n",
        "                self.idx2token.append(token)\n",
        "\n",
        "        try:\n",
        "            import sentencepiece as spm\n",
        "        except ImportError:\n",
        "            logger.warning(\"You need to install SentencePiece to use KoBertTokenizer: https://github.com/google/sentencepiece\"\n",
        "                           \"pip install sentencepiece\")\n",
        "\n",
        "        self.do_lower_case = do_lower_case\n",
        "        self.remove_space = remove_space\n",
        "        self.keep_accents = keep_accents\n",
        "        self.vocab_file = vocab_file\n",
        "        self.vocab_txt = vocab_txt\n",
        "\n",
        "        self.sp_model = spm.SentencePieceProcessor()\n",
        "        self.sp_model.Load(vocab_file)\n",
        "\n",
        "    @property\n",
        "    def vocab_size(self):\n",
        "        return len(self.idx2token)\n",
        "\n",
        "    def get_vocab(self):\n",
        "        return dict(self.token2idx, **self.added_tokens_encoder)\n",
        "\n",
        "    def __getstate__(self):\n",
        "        state = self.__dict__.copy()\n",
        "        state[\"sp_model\"] = None\n",
        "        return state\n",
        "\n",
        "    def __setstate__(self, d):\n",
        "        self.__dict__ = d\n",
        "        try:\n",
        "            import sentencepiece as spm\n",
        "        except ImportError:\n",
        "            logger.warning(\"You need to install SentencePiece to use KoBertTokenizer: https://github.com/google/sentencepiece\"\n",
        "                           \"pip install sentencepiece\")\n",
        "        self.sp_model = spm.SentencePieceProcessor()\n",
        "        self.sp_model.Load(self.vocab_file)\n",
        "\n",
        "    def preprocess_text(self, inputs):\n",
        "        if self.remove_space:\n",
        "            outputs = \" \".join(inputs.strip().split())\n",
        "        else:\n",
        "            outputs = inputs\n",
        "        outputs = outputs.replace(\"``\", '\"').replace(\"''\", '\"')\n",
        "\n",
        "        if not self.keep_accents:\n",
        "            outputs = unicodedata.normalize('NFKD', outputs)\n",
        "            outputs = \"\".join([c for c in outputs if not unicodedata.combining(c)])\n",
        "        if self.do_lower_case:\n",
        "            outputs = outputs.lower()\n",
        "\n",
        "        return outputs\n",
        "\n",
        "    def _tokenize(self, text, return_unicode=True, sample=False):\n",
        "        \"\"\" Tokenize a string. \"\"\"\n",
        "        text = self.preprocess_text(text)\n",
        "\n",
        "        if not sample:\n",
        "            pieces = self.sp_model.EncodeAsPieces(text)\n",
        "        else:\n",
        "            pieces = self.sp_model.SampleEncodeAsPieces(text, 64, 0.1)\n",
        "        new_pieces = []\n",
        "        for piece in pieces:\n",
        "            if len(piece) > 1 and piece[-1] == str(\",\") and piece[-2].isdigit():\n",
        "                cur_pieces = self.sp_model.EncodeAsPieces(piece[:-1].replace(SPIECE_UNDERLINE, \"\"))\n",
        "                if piece[0] != SPIECE_UNDERLINE and cur_pieces[0][0] == SPIECE_UNDERLINE:\n",
        "                    if len(cur_pieces[0]) == 1:\n",
        "                        cur_pieces = cur_pieces[1:]\n",
        "                    else:\n",
        "                        cur_pieces[0] = cur_pieces[0][1:]\n",
        "                cur_pieces.append(piece[-1])\n",
        "                new_pieces.extend(cur_pieces)\n",
        "            else:\n",
        "                new_pieces.append(piece)\n",
        "\n",
        "        return new_pieces\n",
        "\n",
        "    def _convert_token_to_id(self, token):\n",
        "        \"\"\" Converts a token (str/unicode) in an id using the vocab. \"\"\"\n",
        "        return self.token2idx.get(token, self.token2idx[self.unk_token])\n",
        "\n",
        "    def _convert_id_to_token(self, index, return_unicode=True):\n",
        "        \"\"\"Converts an index (integer) in a token (string/unicode) using the vocab.\"\"\"\n",
        "        return self.idx2token[index]\n",
        "\n",
        "    def convert_tokens_to_string(self, tokens):\n",
        "        \"\"\"Converts a sequence of tokens (strings for sub-words) in a single string.\"\"\"\n",
        "        out_string = \"\".join(tokens).replace(SPIECE_UNDERLINE, \" \").strip()\n",
        "        return out_string\n",
        "\n",
        "    def build_inputs_with_special_tokens(self, token_ids_0, token_ids_1=None):\n",
        "        \"\"\"\n",
        "        Build model inputs from a sequence or a pair of sequence for sequence classification tasks\n",
        "        by concatenating and adding special tokens.\n",
        "        A KoBERT sequence has the following format:\n",
        "            single sequence: [CLS] X [SEP]\n",
        "            pair of sequences: [CLS] A [SEP] B [SEP]\n",
        "        \"\"\"\n",
        "        if token_ids_1 is None:\n",
        "            return [self.cls_token_id] + token_ids_0 + [self.sep_token_id]\n",
        "        cls = [self.cls_token_id]\n",
        "        sep = [self.sep_token_id]\n",
        "        return cls + token_ids_0 + sep + token_ids_1 + sep\n",
        "\n",
        "    def get_special_tokens_mask(self, token_ids_0, token_ids_1=None, already_has_special_tokens=False):\n",
        "        \"\"\"\n",
        "        Retrieves sequence ids from a token list that has no special tokens added. This method is called when adding\n",
        "        special tokens using the tokenizer ``prepare_for_model`` or ``encode_plus`` methods.\n",
        "        Args:\n",
        "            token_ids_0: list of ids (must not contain special tokens)\n",
        "            token_ids_1: Optional list of ids (must not contain special tokens), necessary when fetching sequence ids\n",
        "                for sequence pairs\n",
        "            already_has_special_tokens: (default False) Set to True if the token list is already formated with\n",
        "                special tokens for the model\n",
        "        Returns:\n",
        "            A list of integers in the range [0, 1]: 0 for a special token, 1 for a sequence token.\n",
        "        \"\"\"\n",
        "\n",
        "        if already_has_special_tokens:\n",
        "            if token_ids_1 is not None:\n",
        "                raise ValueError(\n",
        "                    \"You should not supply a second sequence if the provided sequence of \"\n",
        "                    \"ids is already formated with special tokens for the model.\"\n",
        "                )\n",
        "            return list(map(lambda x: 1 if x in [self.sep_token_id, self.cls_token_id] else 0, token_ids_0))\n",
        "\n",
        "        if token_ids_1 is not None:\n",
        "            return [1] + ([0] * len(token_ids_0)) + [1] + ([0] * len(token_ids_1)) + [1]\n",
        "        return [1] + ([0] * len(token_ids_0)) + [1]\n",
        "\n",
        "    def create_token_type_ids_from_sequences(self, token_ids_0, token_ids_1=None):\n",
        "        \"\"\"\n",
        "        Creates a mask from the two sequences passed to be used in a sequence-pair classification task.\n",
        "        A KoBERT sequence pair mask has the following format:\n",
        "        0 0 0 0 0 0 0 0 0 0 1 1 1 1 1 1 1 1 1 1 1\n",
        "        | first sequence    | second sequence\n",
        "        if token_ids_1 is None, only returns the first portion of the mask (0's).\n",
        "        \"\"\"\n",
        "        sep = [self.sep_token_id]\n",
        "        cls = [self.cls_token_id]\n",
        "        if token_ids_1 is None:\n",
        "            return len(cls + token_ids_0 + sep) * [0]\n",
        "        return len(cls + token_ids_0 + sep) * [0] + len(token_ids_1 + sep) * [1]\n",
        "\n",
        "    def save_vocabulary(self, save_directory):\n",
        "        \"\"\" Save the sentencepiece vocabulary (copy original file) and special tokens file\n",
        "            to a directory.\n",
        "        \"\"\"\n",
        "        if not os.path.isdir(save_directory):\n",
        "            logger.error(\"Vocabulary path ({}) should be a directory\".format(save_directory))\n",
        "            return\n",
        "\n",
        "        # 1. Save sentencepiece model\n",
        "        out_vocab_model = os.path.join(save_directory, VOCAB_FILES_NAMES[\"vocab_file\"])\n",
        "\n",
        "        if os.path.abspath(self.vocab_file) != os.path.abspath(out_vocab_model):\n",
        "            copyfile(self.vocab_file, out_vocab_model)\n",
        "\n",
        "        # 2. Save vocab.txt\n",
        "        index = 0\n",
        "        out_vocab_txt = os.path.join(save_directory, VOCAB_FILES_NAMES[\"vocab_txt\"])\n",
        "        with open(out_vocab_txt, \"w\", encoding=\"utf-8\") as writer:\n",
        "            for token, token_index in sorted(self.token2idx.items(), key=lambda kv: kv[1]):\n",
        "                if index != token_index:\n",
        "                    logger.warning(\n",
        "                        \"Saving vocabulary to {}: vocabulary indices are not consecutive.\"\n",
        "                        \" Please check that the vocabulary is not corrupted!\".format(out_vocab_txt)\n",
        "                    )\n",
        "                    index = token_index\n",
        "                writer.write(token + \"\\n\")\n",
        "                index += 1\n",
        "\n",
        "        return out_vocab_model, out_vocab_txt"
      ],
      "execution_count": null,
      "outputs": []
    },
    {
      "cell_type": "code",
      "metadata": {
        "colab": {
          "base_uri": "https://localhost:8080/"
        },
        "id": "CZ_j23megHO7",
        "outputId": "56bf5213-474f-4af8-f4eb-2e201a56b07f"
      },
      "source": [
        "!pip install sentencepiece\n",
        "# 요거 설치하면 spm오류가 안뜸 "
      ],
      "execution_count": null,
      "outputs": [
        {
          "output_type": "stream",
          "text": [
            "Collecting sentencepiece\n",
            "\u001b[?25l  Downloading https://files.pythonhosted.org/packages/e5/2d/6d4ca4bef9a67070fa1cac508606328329152b1df10bdf31fb6e4e727894/sentencepiece-0.1.94-cp36-cp36m-manylinux2014_x86_64.whl (1.1MB)\n",
            "\u001b[K     |████████████████████████████████| 1.1MB 6.8MB/s \n",
            "\u001b[?25hInstalling collected packages: sentencepiece\n",
            "Successfully installed sentencepiece-0.1.94\n"
          ],
          "name": "stdout"
        }
      ]
    },
    {
      "cell_type": "code",
      "metadata": {
        "id": "g4Xgl9RtsGul"
      },
      "source": [
        "tokenizer = KoBertTokenizer.from_pretrained('monologg/distilkobert')\n",
        "# spm오류로 막힘 "
      ],
      "execution_count": null,
      "outputs": []
    },
    {
      "cell_type": "code",
      "metadata": {
        "id": "XBa3KLTxyV0e",
        "colab": {
          "base_uri": "https://localhost:8080/",
          "height": 54
        },
        "outputId": "4723650a-d31b-4caf-fdcb-c8ed86f0af71"
      },
      "source": [
        "# 세그멘트 인풋\n",
        "print([0]*64)"
      ],
      "execution_count": null,
      "outputs": [
        {
          "output_type": "stream",
          "text": [
            "[0, 0, 0, 0, 0, 0, 0, 0, 0, 0, 0, 0, 0, 0, 0, 0, 0, 0, 0, 0, 0, 0, 0, 0, 0, 0, 0, 0, 0, 0, 0, 0, 0, 0, 0, 0, 0, 0, 0, 0, 0, 0, 0, 0, 0, 0, 0, 0, 0, 0, 0, 0, 0, 0, 0, 0, 0, 0, 0, 0, 0, 0, 0, 0]\n"
          ],
          "name": "stdout"
        }
      ]
    },
    {
      "cell_type": "code",
      "metadata": {
        "id": "F_Ebj3VIoztJ",
        "colab": {
          "base_uri": "https://localhost:8080/"
        },
        "outputId": "0b3229ee-e61e-4eed-bc7c-0d91ffce3f50"
      },
      "source": [
        " tokens, masks, segments = [], [], []\n",
        " SEQ_LEN = 256\n",
        "\n",
        " for i in train_text:\n",
        "        # token : 문장을 토큰화함\n",
        "        # if len(i) > 256: 이게 있어서 8000개만 추출된듯 \n",
        "        i = i[:256]\n",
        "        token = tokenizer.encode(i, max_length=SEQ_LEN, pad_to_max_length=True,truncation = True)\n",
        "        # 마스크는 토큰화한 문장에서 패딩이 아닌 부분은 1, 패딩인 부분은 0으로 통일\n",
        "        num_zeros = token.count(0)\n",
        "        mask = [1]*(SEQ_LEN-num_zeros) + [0]*num_zeros\n",
        "        \n",
        "        # 문장의 전후관계를 구분해주는 세그먼트는 문장이 1개밖에 없으므로 모두 0\n",
        "        segment = [0]*SEQ_LEN\n",
        "\n",
        "        # 버트 인풋으로 들어가는 token, mask, segment를 tokens, segments에 각각 저장\n",
        "        tokens.append(token)\n",
        "        masks.append(mask)\n",
        "        segments.append(segment)"
      ],
      "execution_count": null,
      "outputs": [
        {
          "output_type": "stream",
          "text": [
            "/usr/local/lib/python3.6/dist-packages/transformers/tokenization_utils_base.py:2179: FutureWarning: The `pad_to_max_length` argument is deprecated and will be removed in a future version, use `padding=True` or `padding='longest'` to pad to the longest sequence in the batch, or use `padding='max_length'` to pad to a max length. In this case, you can give a specific length with `max_length` (e.g. `max_length=45`) or leave max_length to None to pad to the maximal input size of the model (e.g. 512 for Bert).\n",
            "  FutureWarning,\n"
          ],
          "name": "stderr"
        }
      ]
    },
    {
      "cell_type": "code",
      "metadata": {
        "id": "2RCB3m-_KiGo"
      },
      "source": [
        "# tokens = np.array(tokens)\n",
        "\n",
        "tokens = pad_sequences(tokens, value = 0, padding = 'post')\n",
        "masks = np.array(masks)\n",
        "segments = np.array(segments)\n",
        "train_X = [tokens, masks, segments]"
      ],
      "execution_count": null,
      "outputs": []
    },
    {
      "cell_type": "code",
      "metadata": {
        "id": "8bxUIPo_e2nT",
        "colab": {
          "base_uri": "https://localhost:8080/"
        },
        "outputId": "ac090fcc-a75e-416a-cca2-0b6ee3637e92"
      },
      "source": [
        " tokens, masks, segments = [], [], []\n",
        " SEQ_LEN = 256\n",
        "\n",
        " for i in test_text:\n",
        "        # token : 문장을 토큰화함\n",
        "        # if len(i) > 256: 이게 있어서 8000개만 추출된듯 \n",
        "        i = i[:256]\n",
        "        token = tokenizer.encode(i, max_length=SEQ_LEN, pad_to_max_length=True,truncation = True)\n",
        "        # 마스크는 토큰화한 문장에서 패딩이 아닌 부분은 1, 패딩인 부분은 0으로 통일\n",
        "        num_zeros = token.count(0)\n",
        "        mask = [1]*(SEQ_LEN-num_zeros) + [0]*num_zeros\n",
        "        \n",
        "        # 문장의 전후관계를 구분해주는 세그먼트는 문장이 1개밖에 없으므로 모두 0\n",
        "        segment = [0]*SEQ_LEN\n",
        "\n",
        "        # 버트 인풋으로 들어가는 token, mask, segment를 tokens, segments에 각각 저장\n",
        "        tokens.append(token)\n",
        "        masks.append(mask)\n",
        "        segments.append(segment)"
      ],
      "execution_count": null,
      "outputs": [
        {
          "output_type": "stream",
          "text": [
            "/usr/local/lib/python3.6/dist-packages/transformers/tokenization_utils_base.py:2179: FutureWarning: The `pad_to_max_length` argument is deprecated and will be removed in a future version, use `padding=True` or `padding='longest'` to pad to the longest sequence in the batch, or use `padding='max_length'` to pad to a max length. In this case, you can give a specific length with `max_length` (e.g. `max_length=45`) or leave max_length to None to pad to the maximal input size of the model (e.g. 512 for Bert).\n",
            "  FutureWarning,\n"
          ],
          "name": "stderr"
        }
      ]
    },
    {
      "cell_type": "code",
      "metadata": {
        "id": "8I0sBJYle5FX"
      },
      "source": [
        "# tokens = np.array(tokens)\n",
        "\n",
        "tokens = pad_sequences(tokens, value = 0, padding = 'post')\n",
        "masks = np.array(masks)\n",
        "segments = np.array(segments)\n",
        "test_X = [tokens, masks, segments]"
      ],
      "execution_count": null,
      "outputs": []
    },
    {
      "cell_type": "code",
      "metadata": {
        "id": "RnLm2P5_3AVF",
        "colab": {
          "base_uri": "https://localhost:8080/"
        },
        "outputId": "6517ef43-cde0-4dac-9fdf-b7b6f0110a2e"
      },
      "source": [
        "train_X"
      ],
      "execution_count": null,
      "outputs": [
        {
          "output_type": "execute_result",
          "data": {
            "text/plain": [
              "[array([[   2, 4575, 7828, ...,    1,    1,    1],\n",
              "        [   2, 3429, 3854, ...,    1,    1,    1],\n",
              "        [   2, 3112,  980, ...,    1,    1,    1],\n",
              "        ...,\n",
              "        [   2, 3128, 3422, ...,    1,    1,    1],\n",
              "        [   2, 3135, 5724, ...,    1,    1,    1],\n",
              "        [   2, 3732, 3854, ...,    1,    1,    1]], dtype=int32),\n",
              " array([[1, 1, 1, ..., 1, 1, 1],\n",
              "        [1, 1, 1, ..., 1, 0, 0],\n",
              "        [1, 1, 1, ..., 1, 1, 1],\n",
              "        ...,\n",
              "        [1, 1, 1, ..., 1, 1, 1],\n",
              "        [1, 1, 1, ..., 1, 1, 1],\n",
              "        [1, 1, 1, ..., 1, 1, 1]]),\n",
              " array([[0, 0, 0, ..., 0, 0, 0],\n",
              "        [0, 0, 0, ..., 0, 0, 0],\n",
              "        [0, 0, 0, ..., 0, 0, 0],\n",
              "        ...,\n",
              "        [0, 0, 0, ..., 0, 0, 0],\n",
              "        [0, 0, 0, ..., 0, 0, 0],\n",
              "        [0, 0, 0, ..., 0, 0, 0]])]"
            ]
          },
          "metadata": {
            "tags": []
          },
          "execution_count": 83
        }
      ]
    },
    {
      "cell_type": "code",
      "metadata": {
        "id": "Z04Y4GlRKqoE"
      },
      "source": [
        "# targets = []\n",
        "# for i in df_train['Label']:\n",
        "#   targets.append(i)\n",
        "\n",
        "# targets = np.array(targets)\n",
        "# train_y = targets"
      ],
      "execution_count": null,
      "outputs": []
    },
    {
      "cell_type": "code",
      "metadata": {
        "id": "ERgO6bfjkWCH",
        "colab": {
          "base_uri": "https://localhost:8080/"
        },
        "outputId": "68164fd8-23f9-428e-b002-cb1bf4a980a9"
      },
      "source": [
        "# TPU 객체 만들기\n",
        "resolver = tf.distribute.cluster_resolver.TPUClusterResolver(tpu='grpc://' + os.environ['COLAB_TPU_ADDR'])\n",
        "tf.config.experimental_connect_to_cluster(resolver)\n",
        "tf.tpu.experimental.initialize_tpu_system(resolver)"
      ],
      "execution_count": null,
      "outputs": [
        {
          "output_type": "stream",
          "text": [
            "INFO:absl:Entering into master device scope: /job:worker/replica:0/task:0/device:CPU:0\n"
          ],
          "name": "stderr"
        },
        {
          "output_type": "stream",
          "text": [
            "INFO:tensorflow:Initializing the TPU system: grpc://10.105.238.58:8470\n"
          ],
          "name": "stdout"
        },
        {
          "output_type": "stream",
          "text": [
            "INFO:tensorflow:Initializing the TPU system: grpc://10.105.238.58:8470\n"
          ],
          "name": "stderr"
        },
        {
          "output_type": "stream",
          "text": [
            "INFO:tensorflow:Clearing out eager caches\n"
          ],
          "name": "stdout"
        },
        {
          "output_type": "stream",
          "text": [
            "INFO:tensorflow:Clearing out eager caches\n"
          ],
          "name": "stderr"
        },
        {
          "output_type": "stream",
          "text": [
            "INFO:tensorflow:Finished initializing TPU system.\n"
          ],
          "name": "stdout"
        },
        {
          "output_type": "stream",
          "text": [
            "INFO:tensorflow:Finished initializing TPU system.\n"
          ],
          "name": "stderr"
        },
        {
          "output_type": "execute_result",
          "data": {
            "text/plain": [
              "<tensorflow.python.tpu.topology.Topology at 0x7fd5d23e5a20>"
            ]
          },
          "metadata": {
            "tags": []
          },
          "execution_count": 84
        }
      ]
    },
    {
      "cell_type": "markdown",
      "metadata": {
        "id": "45UY1wudwa3Q"
      },
      "source": [
        "## 버트를 활용한 감성분석 모델 만들기"
      ]
    },
    {
      "cell_type": "code",
      "metadata": {
        "id": "GsbF3XMXkdGd"
      },
      "source": [
        "def create_sentiment_bert():\n",
        "  # 버트 pretrained 모델 로드\n",
        "  model = TFBertModel.from_pretrained(\"monologg/kobert\", from_pt=True)\n",
        "  # 토큰 인풋, 마스크 인풋, 세그먼트 인풋 정의\n",
        "  token_inputs = tf.keras.layers.Input((SEQ_LEN,), dtype=tf.int32, name='input_word_ids')\n",
        "  mask_inputs = tf.keras.layers.Input((SEQ_LEN,), dtype=tf.int32, name='input_masks')\n",
        "  segment_inputs = tf.keras.layers.Input((SEQ_LEN,), dtype=tf.int32, name='input_segment')\n",
        "  # 인풋이 [토큰, 마스크, 세그먼트]인 모델 정의\n",
        "  bert_outputs = model([token_inputs, mask_inputs, segment_inputs])\n",
        "\n",
        "  bert_outputs = bert_outputs[1]\n",
        "  sentiment_first = tf.keras.layers.Dense(6, activation='softmax', kernel_initializer=tf.keras.initializers.TruncatedNormal(0.02))(bert_outputs)\n",
        "  sentiment_model = tf.keras.Model([token_inputs, mask_inputs, segment_inputs], sentiment_first)\n",
        "  # 옵티마이저는 간단하게 Adam 옵티마이저 활용\n",
        "  sentiment_model.compile(optimizer=tf.keras.optimizers.Adam(lr=0.00001), loss=tf.keras.losses.CategoricalCrossentropy(from_logits=False),\n",
        "      metrics=['accuracy'])\n",
        "  return sentiment_model"
      ],
      "execution_count": null,
      "outputs": []
    },
    {
      "cell_type": "code",
      "metadata": {
        "id": "hMcLITFanlqX"
      },
      "source": [
        "train_senti = np.asarray(train_senti).astype(np.int32)\n",
        "test_senti = np.asarray(test_senti).astype(np.int32)"
      ],
      "execution_count": null,
      "outputs": []
    },
    {
      "cell_type": "code",
      "metadata": {
        "id": "aBsEb-O8oKYw",
        "colab": {
          "base_uri": "https://localhost:8080/"
        },
        "outputId": "1a0426b8-8d2d-43d4-c375-8f3f0e02f70a"
      },
      "source": [
        "train_senti"
      ],
      "execution_count": null,
      "outputs": [
        {
          "output_type": "execute_result",
          "data": {
            "text/plain": [
              "array([[0, 0, 0, 0, 0, 1],\n",
              "       [1, 0, 0, 0, 0, 0],\n",
              "       [1, 0, 0, 0, 0, 0],\n",
              "       ...,\n",
              "       [0, 0, 1, 0, 0, 0],\n",
              "       [0, 0, 0, 0, 1, 0],\n",
              "       [1, 0, 0, 0, 0, 0]], dtype=int32)"
            ]
          },
          "metadata": {
            "tags": []
          },
          "execution_count": 87
        }
      ]
    },
    {
      "cell_type": "code",
      "metadata": {
        "id": "DBAs9uvJzMf1"
      },
      "source": [
        "from keras.callbacks import EarlyStopping\n",
        "es = EarlyStopping(monitor = 'val_loss', patience = 3)\n"
      ],
      "execution_count": null,
      "outputs": []
    },
    {
      "cell_type": "code",
      "metadata": {
        "id": "htwhP41dYyD5",
        "colab": {
          "base_uri": "https://localhost:8080/"
        },
        "outputId": "bf662616-5c29-4e19-dd88-2fb3f33b1f2a"
      },
      "source": [
        "len(train_X[0][0])"
      ],
      "execution_count": null,
      "outputs": [
        {
          "output_type": "execute_result",
          "data": {
            "text/plain": [
              "256"
            ]
          },
          "metadata": {
            "tags": []
          },
          "execution_count": 89
        }
      ]
    },
    {
      "cell_type": "code",
      "metadata": {
        "id": "tah6mCaiY12_",
        "colab": {
          "base_uri": "https://localhost:8080/"
        },
        "outputId": "61737e06-a8cf-4a99-de1f-b2e0c1a70597"
      },
      "source": [
        "len(test_X[0][0])"
      ],
      "execution_count": null,
      "outputs": [
        {
          "output_type": "execute_result",
          "data": {
            "text/plain": [
              "256"
            ]
          },
          "metadata": {
            "tags": []
          },
          "execution_count": 90
        }
      ]
    },
    {
      "cell_type": "code",
      "metadata": {
        "id": "Wc3x3NrQLVop",
        "colab": {
          "base_uri": "https://localhost:8080/"
        },
        "outputId": "d35d2b33-8847-4957-b1f5-65ca23fee892"
      },
      "source": [
        "print(len(test_X[0]))\n",
        "print(len(train_X[0]))\n",
        "print(len(train_senti))\n",
        "print(len(test_senti))"
      ],
      "execution_count": null,
      "outputs": [
        {
          "output_type": "stream",
          "text": [
            "1959\n",
            "4569\n",
            "4569\n",
            "1959\n"
          ],
          "name": "stdout"
        }
      ]
    },
    {
      "cell_type": "code",
      "metadata": {
        "id": "tpz3cyXAvOb2"
      },
      "source": [
        "from keras.callbacks import ModelCheckpoint\n",
        "from keras.models import load_model\n",
        "\n",
        "MODEL_SAVE_FOLDER_PATH = 'gdrive/My Drive/pytest/'\n",
        "\n",
        "if not os.path.exists(MODEL_SAVE_FOLDER_PATH):\n",
        "  os.mkdir(MODEL_SAVE_FOLDER_PATH)\n",
        "\n",
        "model_path = MODEL_SAVE_FOLDER_PATH + '{epoch:02d}-{val_loss:.4f}.h5'\n",
        "\n",
        "cb_checkpoint = ModelCheckpoint(filepath=model_path, monitor='val_loss',\n",
        "                                verbose=0, save_best_only = True, save_weight_only = True, mode = 'min' )"
      ],
      "execution_count": null,
      "outputs": []
    },
    {
      "cell_type": "code",
      "metadata": {
        "id": "UBEc6i6Fmas4",
        "colab": {
          "base_uri": "https://localhost:8080/",
          "height": 1000,
          "referenced_widgets": [
            "393cea6ba04d4912aef569efb72e0147",
            "af5c6e7fcc0d44e88f00e81151dc66dd",
            "ae60a359b0194a3ba96c61eccfc761a1",
            "f7e1de2cb1634537a1f9c6ff29c6825e",
            "7692e2dbe5d74054ae257a292aff58bc",
            "349c00ae7eba4cc3aa1b78ba359a4c48",
            "1c8d4d85252c4abea1a04a694bcf5705",
            "3f05d2b5e1ae4b009322d118019aab11",
            "f51b330dc61d40f69faf1e5bd76a99e5",
            "1283fbe06bcc436ba77c2565796200c9",
            "f4b72323a5644f83ae622fd1644233c1",
            "43859199cb7a406595aa040b2c019bdb",
            "16e90abca2fb4eb7befb97283d183b92",
            "f4c51e7df54e457e985ca3506a8f91fa",
            "1fb3477448a84178a2138ef31e27ff7c",
            "6f87da063b6f4fdc941e71f045ddb512"
          ]
        },
        "outputId": "f1b465bb-20a3-42d5-d894-fa7cf6edaeaa"
      },
      "source": [
        "strategy = tf.distribute.experimental.TPUStrategy(resolver)\n",
        "# TPU를 활용하기 위해 context로 묶어주기\n",
        "with strategy.scope():\n",
        "  \n",
        "  sentiment_model = create_sentiment_bert()\n",
        "  sentiment_model.fit(train_X, train_senti, epochs=15, shuffle=True, batch_size=10, validation_data= (test_X, test_senti),callbacks = [es])\n",
        "      "
      ],
      "execution_count": null,
      "outputs": [
        {
          "output_type": "stream",
          "text": [
            "WARNING:absl:`tf.distribute.experimental.TPUStrategy` is deprecated, please use  the non experimental symbol `tf.distribute.TPUStrategy` instead.\n"
          ],
          "name": "stderr"
        },
        {
          "output_type": "stream",
          "text": [
            "INFO:tensorflow:Found TPU system:\n"
          ],
          "name": "stdout"
        },
        {
          "output_type": "stream",
          "text": [
            "INFO:tensorflow:Found TPU system:\n"
          ],
          "name": "stderr"
        },
        {
          "output_type": "stream",
          "text": [
            "INFO:tensorflow:*** Num TPU Cores: 8\n"
          ],
          "name": "stdout"
        },
        {
          "output_type": "stream",
          "text": [
            "INFO:tensorflow:*** Num TPU Cores: 8\n"
          ],
          "name": "stderr"
        },
        {
          "output_type": "stream",
          "text": [
            "INFO:tensorflow:*** Num TPU Workers: 1\n"
          ],
          "name": "stdout"
        },
        {
          "output_type": "stream",
          "text": [
            "INFO:tensorflow:*** Num TPU Workers: 1\n"
          ],
          "name": "stderr"
        },
        {
          "output_type": "stream",
          "text": [
            "INFO:tensorflow:*** Num TPU Cores Per Worker: 8\n"
          ],
          "name": "stdout"
        },
        {
          "output_type": "stream",
          "text": [
            "INFO:tensorflow:*** Num TPU Cores Per Worker: 8\n"
          ],
          "name": "stderr"
        },
        {
          "output_type": "stream",
          "text": [
            "INFO:tensorflow:*** Available Device: _DeviceAttributes(/job:localhost/replica:0/task:0/device:CPU:0, CPU, 0, 0)\n"
          ],
          "name": "stdout"
        },
        {
          "output_type": "stream",
          "text": [
            "INFO:tensorflow:*** Available Device: _DeviceAttributes(/job:localhost/replica:0/task:0/device:CPU:0, CPU, 0, 0)\n"
          ],
          "name": "stderr"
        },
        {
          "output_type": "stream",
          "text": [
            "INFO:tensorflow:*** Available Device: _DeviceAttributes(/job:worker/replica:0/task:0/device:CPU:0, CPU, 0, 0)\n"
          ],
          "name": "stdout"
        },
        {
          "output_type": "stream",
          "text": [
            "INFO:tensorflow:*** Available Device: _DeviceAttributes(/job:worker/replica:0/task:0/device:CPU:0, CPU, 0, 0)\n"
          ],
          "name": "stderr"
        },
        {
          "output_type": "stream",
          "text": [
            "INFO:tensorflow:*** Available Device: _DeviceAttributes(/job:worker/replica:0/task:0/device:TPU:0, TPU, 0, 0)\n"
          ],
          "name": "stdout"
        },
        {
          "output_type": "stream",
          "text": [
            "INFO:tensorflow:*** Available Device: _DeviceAttributes(/job:worker/replica:0/task:0/device:TPU:0, TPU, 0, 0)\n"
          ],
          "name": "stderr"
        },
        {
          "output_type": "stream",
          "text": [
            "INFO:tensorflow:*** Available Device: _DeviceAttributes(/job:worker/replica:0/task:0/device:TPU:1, TPU, 0, 0)\n"
          ],
          "name": "stdout"
        },
        {
          "output_type": "stream",
          "text": [
            "INFO:tensorflow:*** Available Device: _DeviceAttributes(/job:worker/replica:0/task:0/device:TPU:1, TPU, 0, 0)\n"
          ],
          "name": "stderr"
        },
        {
          "output_type": "stream",
          "text": [
            "INFO:tensorflow:*** Available Device: _DeviceAttributes(/job:worker/replica:0/task:0/device:TPU:2, TPU, 0, 0)\n"
          ],
          "name": "stdout"
        },
        {
          "output_type": "stream",
          "text": [
            "INFO:tensorflow:*** Available Device: _DeviceAttributes(/job:worker/replica:0/task:0/device:TPU:2, TPU, 0, 0)\n"
          ],
          "name": "stderr"
        },
        {
          "output_type": "stream",
          "text": [
            "INFO:tensorflow:*** Available Device: _DeviceAttributes(/job:worker/replica:0/task:0/device:TPU:3, TPU, 0, 0)\n"
          ],
          "name": "stdout"
        },
        {
          "output_type": "stream",
          "text": [
            "INFO:tensorflow:*** Available Device: _DeviceAttributes(/job:worker/replica:0/task:0/device:TPU:3, TPU, 0, 0)\n"
          ],
          "name": "stderr"
        },
        {
          "output_type": "stream",
          "text": [
            "INFO:tensorflow:*** Available Device: _DeviceAttributes(/job:worker/replica:0/task:0/device:TPU:4, TPU, 0, 0)\n"
          ],
          "name": "stdout"
        },
        {
          "output_type": "stream",
          "text": [
            "INFO:tensorflow:*** Available Device: _DeviceAttributes(/job:worker/replica:0/task:0/device:TPU:4, TPU, 0, 0)\n"
          ],
          "name": "stderr"
        },
        {
          "output_type": "stream",
          "text": [
            "INFO:tensorflow:*** Available Device: _DeviceAttributes(/job:worker/replica:0/task:0/device:TPU:5, TPU, 0, 0)\n"
          ],
          "name": "stdout"
        },
        {
          "output_type": "stream",
          "text": [
            "INFO:tensorflow:*** Available Device: _DeviceAttributes(/job:worker/replica:0/task:0/device:TPU:5, TPU, 0, 0)\n"
          ],
          "name": "stderr"
        },
        {
          "output_type": "stream",
          "text": [
            "INFO:tensorflow:*** Available Device: _DeviceAttributes(/job:worker/replica:0/task:0/device:TPU:6, TPU, 0, 0)\n"
          ],
          "name": "stdout"
        },
        {
          "output_type": "stream",
          "text": [
            "INFO:tensorflow:*** Available Device: _DeviceAttributes(/job:worker/replica:0/task:0/device:TPU:6, TPU, 0, 0)\n"
          ],
          "name": "stderr"
        },
        {
          "output_type": "stream",
          "text": [
            "INFO:tensorflow:*** Available Device: _DeviceAttributes(/job:worker/replica:0/task:0/device:TPU:7, TPU, 0, 0)\n"
          ],
          "name": "stdout"
        },
        {
          "output_type": "stream",
          "text": [
            "INFO:tensorflow:*** Available Device: _DeviceAttributes(/job:worker/replica:0/task:0/device:TPU:7, TPU, 0, 0)\n"
          ],
          "name": "stderr"
        },
        {
          "output_type": "stream",
          "text": [
            "INFO:tensorflow:*** Available Device: _DeviceAttributes(/job:worker/replica:0/task:0/device:TPU_SYSTEM:0, TPU_SYSTEM, 0, 0)\n"
          ],
          "name": "stdout"
        },
        {
          "output_type": "stream",
          "text": [
            "INFO:tensorflow:*** Available Device: _DeviceAttributes(/job:worker/replica:0/task:0/device:TPU_SYSTEM:0, TPU_SYSTEM, 0, 0)\n"
          ],
          "name": "stderr"
        },
        {
          "output_type": "stream",
          "text": [
            "INFO:tensorflow:*** Available Device: _DeviceAttributes(/job:worker/replica:0/task:0/device:XLA_CPU:0, XLA_CPU, 0, 0)\n"
          ],
          "name": "stdout"
        },
        {
          "output_type": "stream",
          "text": [
            "INFO:tensorflow:*** Available Device: _DeviceAttributes(/job:worker/replica:0/task:0/device:XLA_CPU:0, XLA_CPU, 0, 0)\n"
          ],
          "name": "stderr"
        },
        {
          "output_type": "display_data",
          "data": {
            "application/vnd.jupyter.widget-view+json": {
              "model_id": "393cea6ba04d4912aef569efb72e0147",
              "version_minor": 0,
              "version_major": 2
            },
            "text/plain": [
              "HBox(children=(FloatProgress(value=0.0, description='Downloading', max=426.0, style=ProgressStyle(description_…"
            ]
          },
          "metadata": {
            "tags": []
          }
        },
        {
          "output_type": "stream",
          "text": [
            "\n"
          ],
          "name": "stdout"
        },
        {
          "output_type": "display_data",
          "data": {
            "application/vnd.jupyter.widget-view+json": {
              "model_id": "f51b330dc61d40f69faf1e5bd76a99e5",
              "version_minor": 0,
              "version_major": 2
            },
            "text/plain": [
              "HBox(children=(FloatProgress(value=0.0, description='Downloading', max=368792146.0, style=ProgressStyle(descri…"
            ]
          },
          "metadata": {
            "tags": []
          }
        },
        {
          "output_type": "stream",
          "text": [
            "\n"
          ],
          "name": "stdout"
        },
        {
          "output_type": "stream",
          "text": [
            "All PyTorch model weights were used when initializing TFBertModel.\n",
            "\n",
            "All the weights of TFBertModel were initialized from the PyTorch model.\n",
            "If your task is similar to the task the model of the checkpoint was trained on, you can already use TFBertModel for predictions without further training.\n"
          ],
          "name": "stderr"
        },
        {
          "output_type": "stream",
          "text": [
            "WARNING:tensorflow:AutoGraph could not transform <bound method Socket.send of <zmq.sugar.socket.Socket object at 0x7fd65c51e660>> and will run it as-is.\n",
            "Please report this to the TensorFlow team. When filing the bug, set the verbosity to 10 (on Linux, `export AUTOGRAPH_VERBOSITY=10`) and attach the full output.\n",
            "Cause: <cyfunction Socket.send at 0x7fd66e667e58> is not a module, class, method, function, traceback, frame, or code object\n",
            "To silence this warning, decorate the function with @tf.autograph.experimental.do_not_convert\n"
          ],
          "name": "stdout"
        },
        {
          "output_type": "stream",
          "text": [
            "The parameters `output_attentions`, `output_hidden_states` and `use_cache` cannot be updated when calling a model.They have to be set to True/False in the config object (i.e.: `config=XConfig.from_pretrained('name', output_attentions=True)`).WARNING:tensorflow:AutoGraph could not transform <bound method Socket.send of <zmq.sugar.socket.Socket object at 0x7fd65c51e660>> and will run it as-is.\n",
            "Please report this to the TensorFlow team. When filing the bug, set the verbosity to 10 (on Linux, `export AUTOGRAPH_VERBOSITY=10`) and attach the full output.\n",
            "Cause: <cyfunction Socket.send at 0x7fd66e667e58> is not a module, class, method, function, traceback, frame, or code object\n",
            "To silence this warning, decorate the function with @tf.autograph.experimental.do_not_convert\n"
          ],
          "name": "stderr"
        },
        {
          "output_type": "stream",
          "text": [
            "WARNING: AutoGraph could not transform <bound method Socket.send of <zmq.sugar.socket.Socket object at 0x7fd65c51e660>> and will run it as-is.\n",
            "Please report this to the TensorFlow team. When filing the bug, set the verbosity to 10 (on Linux, `export AUTOGRAPH_VERBOSITY=10`) and attach the full output.\n",
            "Cause: <cyfunction Socket.send at 0x7fd66e667e58> is not a module, class, method, function, traceback, frame, or code object\n",
            "To silence this warning, decorate the function with @tf.autograph.experimental.do_not_convert\n"
          ],
          "name": "stdout"
        },
        {
          "output_type": "stream",
          "text": [
            "\n"
          ],
          "name": "stderr"
        },
        {
          "output_type": "stream",
          "text": [
            "WARNING:tensorflow:AutoGraph could not transform <function wrap at 0x7fd66bff88c8> and will run it as-is.\n",
            "Cause: while/else statement not yet supported\n",
            "To silence this warning, decorate the function with @tf.autograph.experimental.do_not_convert\n"
          ],
          "name": "stdout"
        },
        {
          "output_type": "stream",
          "text": [
            "The parameter `return_dict` cannot be set in graph mode and will always be set to `True`.\n",
            "WARNING:tensorflow:AutoGraph could not transform <function wrap at 0x7fd66bff88c8> and will run it as-is.\n",
            "Cause: while/else statement not yet supported\n",
            "To silence this warning, decorate the function with @tf.autograph.experimental.do_not_convert\n"
          ],
          "name": "stderr"
        },
        {
          "output_type": "stream",
          "text": [
            "WARNING: AutoGraph could not transform <function wrap at 0x7fd66bff88c8> and will run it as-is.\n",
            "Cause: while/else statement not yet supported\n",
            "To silence this warning, decorate the function with @tf.autograph.experimental.do_not_convert\n"
          ],
          "name": "stdout"
        },
        {
          "output_type": "stream",
          "text": [
            "The parameters `output_attentions`, `output_hidden_states` and `use_cache` cannot be updated when calling a model.They have to be set to True/False in the config object (i.e.: `config=XConfig.from_pretrained('name', output_attentions=True)`).\n"
          ],
          "name": "stderr"
        },
        {
          "output_type": "stream",
          "text": [
            "Epoch 1/15\n"
          ],
          "name": "stdout"
        },
        {
          "output_type": "stream",
          "text": [
            "The parameter `return_dict` cannot be set in graph mode and will always be set to `True`.\n",
            "The parameters `output_attentions`, `output_hidden_states` and `use_cache` cannot be updated when calling a model.They have to be set to True/False in the config object (i.e.: `config=XConfig.from_pretrained('name', output_attentions=True)`).\n",
            "The parameter `return_dict` cannot be set in graph mode and will always be set to `True`.\n"
          ],
          "name": "stderr"
        },
        {
          "output_type": "stream",
          "text": [
            "457/457 [==============================] - ETA: 0s - loss: 1.7338 - accuracy: 0.2825"
          ],
          "name": "stdout"
        },
        {
          "output_type": "stream",
          "text": [
            "The parameters `output_attentions`, `output_hidden_states` and `use_cache` cannot be updated when calling a model.They have to be set to True/False in the config object (i.e.: `config=XConfig.from_pretrained('name', output_attentions=True)`).\n",
            "The parameter `return_dict` cannot be set in graph mode and will always be set to `True`.\n"
          ],
          "name": "stderr"
        },
        {
          "output_type": "stream",
          "text": [
            "457/457 [==============================] - 120s 99ms/step - loss: 1.7336 - accuracy: 0.2826 - val_loss: 1.4699 - val_accuracy: 0.4222\n",
            "Epoch 2/15\n",
            "457/457 [==============================] - 37s 81ms/step - loss: 1.3453 - accuracy: 0.4718 - val_loss: 1.2297 - val_accuracy: 0.5125\n",
            "Epoch 3/15\n",
            "457/457 [==============================] - 37s 82ms/step - loss: 1.1317 - accuracy: 0.5342 - val_loss: 1.1564 - val_accuracy: 0.5212\n",
            "Epoch 4/15\n",
            "457/457 [==============================] - 37s 81ms/step - loss: 1.0229 - accuracy: 0.5810 - val_loss: 1.0762 - val_accuracy: 0.5595\n",
            "Epoch 5/15\n",
            "457/457 [==============================] - 37s 81ms/step - loss: 0.9507 - accuracy: 0.6157 - val_loss: 1.0643 - val_accuracy: 0.5875\n",
            "Epoch 6/15\n",
            "457/457 [==============================] - 37s 81ms/step - loss: 0.8397 - accuracy: 0.6655 - val_loss: 1.0922 - val_accuracy: 0.6018\n",
            "Epoch 7/15\n",
            "457/457 [==============================] - 37s 81ms/step - loss: 0.7671 - accuracy: 0.7052 - val_loss: 1.0633 - val_accuracy: 0.5937\n",
            "Epoch 8/15\n",
            "457/457 [==============================] - 37s 81ms/step - loss: 0.6437 - accuracy: 0.7543 - val_loss: 1.1348 - val_accuracy: 0.5947\n",
            "Epoch 9/15\n",
            "457/457 [==============================] - 37s 81ms/step - loss: 0.5972 - accuracy: 0.7802 - val_loss: 1.1022 - val_accuracy: 0.6090\n",
            "Epoch 10/15\n",
            "457/457 [==============================] - 37s 81ms/step - loss: 0.4952 - accuracy: 0.8211 - val_loss: 1.2872 - val_accuracy: 0.5850\n"
          ],
          "name": "stdout"
        }
      ]
    },
    {
      "cell_type": "code",
      "metadata": {
        "id": "tGFtE1y5dJEo"
      },
      "source": [
        "# model_json = sentiment_model.to_json()\n",
        "# with open(\"gdrive/My Drive/pytest/sentiment_model.json\", \"w\") as json_file : \n",
        "#     json_file.write(model_json)"
      ],
      "execution_count": null,
      "outputs": []
    },
    {
      "cell_type": "code",
      "metadata": {
        "id": "cPAMRo7rclcY"
      },
      "source": [
        "# sentiment_model.save_weights(\"gdrive/My Drive/pytest/sentiment_model.h5\")\n",
        "# print(\"Saved model to disk\")"
      ],
      "execution_count": null,
      "outputs": []
    },
    {
      "cell_type": "code",
      "metadata": {
        "id": "mHV0NLcpexls",
        "colab": {
          "base_uri": "https://localhost:8080/"
        },
        "outputId": "fc47e5aa-beb2-4e94-d795-3bee4f3425f7"
      },
      "source": [
        "preds = sentiment_model.predict(test_X)"
      ],
      "execution_count": null,
      "outputs": [
        {
          "output_type": "stream",
          "text": [
            "The parameters `output_attentions`, `output_hidden_states` and `use_cache` cannot be updated when calling a model.They have to be set to True/False in the config object (i.e.: `config=XConfig.from_pretrained('name', output_attentions=True)`).\n",
            "The parameter `return_dict` cannot be set in graph mode and will always be set to `True`.\n"
          ],
          "name": "stderr"
        }
      ]
    },
    {
      "cell_type": "code",
      "metadata": {
        "id": "1al7EiqpfnH1",
        "colab": {
          "base_uri": "https://localhost:8080/"
        },
        "outputId": "1ab3ddeb-7acc-4967-8963-003a945ec255"
      },
      "source": [
        "preds"
      ],
      "execution_count": null,
      "outputs": [
        {
          "output_type": "execute_result",
          "data": {
            "text/plain": [
              "array([[0.01905204, 0.01708614, 0.00679972, 0.02853304, 0.9273591 ,\n",
              "        0.00116994],\n",
              "       [0.04132271, 0.933724  , 0.00567823, 0.0017697 , 0.01479286,\n",
              "        0.00271252],\n",
              "       [0.0608942 , 0.9108161 , 0.004138  , 0.00165989, 0.02011784,\n",
              "        0.00237397],\n",
              "       ...,\n",
              "       [0.87389654, 0.04234997, 0.04318496, 0.01471535, 0.02211166,\n",
              "        0.0037415 ],\n",
              "       [0.4323632 , 0.14716618, 0.00393292, 0.00977035, 0.40468213,\n",
              "        0.00208529],\n",
              "       [0.3813681 , 0.5398797 , 0.01487028, 0.0154033 , 0.04662788,\n",
              "        0.00185082]], dtype=float32)"
            ]
          },
          "metadata": {
            "tags": []
          },
          "execution_count": 95
        }
      ]
    },
    {
      "cell_type": "code",
      "metadata": {
        "id": "ys5o1racTsxM",
        "colab": {
          "base_uri": "https://localhost:8080/",
          "height": 357
        },
        "outputId": "33c2cb46-d912-40bb-9ffc-c82197f5a357"
      },
      "source": [
        "sentiment_model.summary()"
      ],
      "execution_count": null,
      "outputs": [
        {
          "output_type": "stream",
          "text": [
            "Model: \"functional_1\"\n",
            "__________________________________________________________________________________________________\n",
            "Layer (type)                    Output Shape         Param #     Connected to                     \n",
            "==================================================================================================\n",
            "input_word_ids (InputLayer)     [(None, 256)]        0                                            \n",
            "__________________________________________________________________________________________________\n",
            "input_masks (InputLayer)        [(None, 256)]        0                                            \n",
            "__________________________________________________________________________________________________\n",
            "input_segment (InputLayer)      [(None, 256)]        0                                            \n",
            "__________________________________________________________________________________________________\n",
            "tf_bert_model (TFBertModel)     ((None, 256, 768), ( 92186880    input_word_ids[0][0]             \n",
            "                                                                 input_masks[0][0]                \n",
            "                                                                 input_segment[0][0]              \n",
            "__________________________________________________________________________________________________\n",
            "dense (Dense)                   (None, 6)            4614        tf_bert_model[0][1]              \n",
            "==================================================================================================\n",
            "Total params: 92,191,494\n",
            "Trainable params: 92,191,494\n",
            "Non-trainable params: 0\n",
            "__________________________________________________________________________________________________\n"
          ],
          "name": "stdout"
        }
      ]
    },
    {
      "cell_type": "code",
      "metadata": {
        "id": "HWOhTxdAe9Cp",
        "colab": {
          "base_uri": "https://localhost:8080/"
        },
        "outputId": "21643db2-32e0-47ed-93c9-6f0c4dcb6953"
      },
      "source": [
        "\n",
        "from sklearn.metrics import classification_report\n",
        "y_true = test_senti\n",
        "# F1 Score 확인\n",
        "print(classification_report(y_true, np.round(preds,0)))"
      ],
      "execution_count": null,
      "outputs": [
        {
          "output_type": "stream",
          "text": [
            "              precision    recall  f1-score   support\n",
            "\n",
            "           0       0.60      0.43      0.50       536\n",
            "           1       0.45      0.54      0.49       241\n",
            "           2       0.66      0.28      0.39       255\n",
            "           3       0.69      0.80      0.74       285\n",
            "           4       0.52      0.44      0.48       304\n",
            "           5       0.90      0.78      0.84       338\n",
            "\n",
            "   micro avg       0.64      0.54      0.58      1959\n",
            "   macro avg       0.64      0.55      0.57      1959\n",
            "weighted avg       0.64      0.54      0.57      1959\n",
            " samples avg       0.54      0.54      0.54      1959\n",
            "\n"
          ],
          "name": "stdout"
        },
        {
          "output_type": "stream",
          "text": [
            "/usr/local/lib/python3.6/dist-packages/sklearn/metrics/_classification.py:1272: UndefinedMetricWarning: Precision and F-score are ill-defined and being set to 0.0 in samples with no predicted labels. Use `zero_division` parameter to control this behavior.\n",
            "  _warn_prf(average, modifier, msg_start, len(result))\n"
          ],
          "name": "stderr"
        }
      ]
    },
    {
      "cell_type": "code",
      "metadata": {
        "id": "F4S__bRkeqIq"
      },
      "source": [
        "def sentence_convert_data(data):\n",
        "    global tokenizer\n",
        "    SEQ_LEN = 256\n",
        "    tokens, masks, segments = [], [], []\n",
        "\n",
        "    data1 = text_tokenizing(text_cleaning(data)) # 이거\n",
        "\n",
        "    token = tokenizer.encode(data1, max_length=SEQ_LEN, pad_to_max_length=True, truncation = True)\n",
        "    \n",
        "    num_zeros = token.count(0) \n",
        "    mask = [1]*(SEQ_LEN-num_zeros) + [0]*num_zeros \n",
        "    segment = [0]*SEQ_LEN\n",
        "\n",
        "    tokens.append(token)\n",
        "    segments.append(segment)\n",
        "    masks.append(mask)\n",
        "\n",
        "    tokens = pad_sequences(tokens, value = 0, padding = 'post')\n",
        "    masks = np.array(masks)\n",
        "    segments = np.array(segments)\n",
        "    return [tokens, masks, segments]\n",
        "\n",
        "def child_evaluation_predict(sentence):\n",
        "    data_x = sentence_convert_data(sentence)\n",
        "    predict = sentiment_model.predict(data_x)\n",
        "    predict_value = np.ravel(predict)\n",
        " \n",
        "\n",
        "    categories = ['아동 학대 심각성 및 지속성', '피해아동 욕구 및 특성','생활환경','행위자 학대 심각성 및 지속성','학대에 대한 인식','학대 행위자 특성']\n",
        "\n",
        "    N = len(categories)\n",
        "\n",
        "    values = np.round(predict, 3).flatten().tolist()\n",
        "    values += values[:1]\n",
        "\n",
        "    angles = [n / float(N) * 2 * pi for n in range(N)]\n",
        "    angles += angles[:1]\n",
        "\n",
        "    plt.polar(angles, values)\n",
        "    plt.fill(angles, values, alpha = 10.0)\n",
        "    plt.xticks(angles[:-1], categories)\n",
        "\n",
        "    plt.yticks([0,0.25,0.5,0.75,1.0])\n",
        "    plt.ylim(0,1)\n",
        "    \n",
        "    plt.show()\n",
        "    \n",
        "    \n",
        "    "
      ],
      "execution_count": null,
      "outputs": []
    },
    {
      "cell_type": "code",
      "metadata": {
        "id": "VdwPYRmAoMV0"
      },
      "source": [
        "def mean_answer_label(*preds):\n",
        "  preds_sum = np.zeros(preds[0].shape[0])\n",
        "  for pred in preds:\n",
        "    preds_sum += np.argmax(pred, axis=-1)\n",
        "  return np.round(preds_sum/len(preds), 0).astype(int)"
      ],
      "execution_count": null,
      "outputs": []
    },
    {
      "cell_type": "code",
      "metadata": {
        "id": "THX6Mzw9nNFw"
      },
      "source": [
        "import sys\n",
        "mod = sys.modules[__name__]\n",
        "\n",
        "\n",
        "\n",
        "\n",
        "def sentence_convert_data(data):\n",
        "    global tokenizer\n",
        "    \n",
        "    tokens, masks, segments = [], [], []\n",
        "    token = tokenizer.encode(data, max_length=SEQ_LEN, pad_to_max_length=True)\n",
        "    \n",
        "    num_zeros = token.count(0) \n",
        "    mask = [1]*(SEQ_LEN-num_zeros) + [0]*num_zeros \n",
        "    segment = [0]*SEQ_LEN\n",
        "\n",
        "    tokens.append(token)\n",
        "    segments.append(segment)\n",
        "    masks.append(mask)\n",
        "\n",
        "    tokens = np.array(tokens)\n",
        "    masks = np.array(masks)\n",
        "    segments = np.array(segments)\n",
        "    return [tokens, masks, segments]\n",
        "\n",
        "def category_evaluation_predict(sentence):\n",
        "    cat_dict = {'0':\"아동 학대 심각성 및 지속성\", '1':\"피해아동 욕구 및 특성\", '2': \"생활환경\",'3':'행위자 학대 심각성 및 지속성', '4' : '학대에 대한 인식', '5' : '학대 행위자 특성'}\n",
        "    global mod\n",
        "    import re\n",
        "    sentence = re.sub(\"[-=+,#/\\?:^$.@*\\\"※~&%ㆍ!』\\\\‘|\\(\\)\\[\\]\\<\\>`\\'…]+\", \"\", sentence)\n",
        "    sentence = re.sub(\"\\\\n+\", \" \", sentence)\n",
        "    sentence = re.sub(\"\\\\t+\", \" \", sentence)\n",
        "    data_x = sentence_convert_data(sentence)\n",
        "    \n",
        "    global strategy\n",
        "    with strategy.scope():\n",
        "      \n",
        "      setattr(mod, 'chung', sentiment_model.predict(data_x, batch_size=1))\n",
        "\n",
        "    predict = sentiment_model.predict(data_x)\n",
        "    categories = ['아동 학대 심각성 및 지속성', '피해아동 욕구 및 특성','생활환경','행위자 학대 심각성 및 지속성','학대에 대한 인식','학대 행위자 특성']\n",
        "\n",
        "    N = len(categories)\n",
        "\n",
        "    values = np.round(predict, 3).flatten().tolist()\n",
        "    values += values[:1]\n",
        "\n",
        "    angles = [n / float(N) * 2 * pi for n in range(N)]\n",
        "    angles += angles[:1]\n",
        "\n",
        "    plt.polar(angles, values)\n",
        "    plt.fill(angles, values, alpha = 10.0)\n",
        "    plt.xticks(angles[:-1], categories)\n",
        "\n",
        "    plt.yticks([0,0.25,0.5,0.75,1.0])\n",
        "    plt.ylim(0,1)\n",
        "\n",
        "    plt.show()\n",
        "    preds = str(mean_answer_label(chung).item())\n",
        "    \n",
        "\n",
        "    if preds == '0':\n",
        "      print(cat_dict[preds],\" 카테고리 입니다.\")\n",
        "    elif preds == '1':\n",
        "      print(cat_dict[preds],\" 카테고리 입니다.\")\n",
        "    elif preds == '2':\n",
        "      print(cat_dict[preds],\" 카테고리 입니다.\")\n",
        "    elif preds == '3':\n",
        "      print(cat_dict[preds],\" 카테고리 입니다.\") \n",
        "    elif preds == '4':\n",
        "      print(cat_dict[preds],\" 카테고리 입니다.\")  \n",
        "    elif preds == '5':\n",
        "      print(cat_dict[preds],\" 카테고리 입니다.\") \n",
        "\n",
        "    print(predict)\n",
        "    g = int()\n",
        "    for line in predict:\n",
        "      for i,v in enumerate(line):\n",
        "        if v >= 0.2:\n",
        "          g += 1\n",
        "    print('평가척도 점수는 6점 중',g,'점입니다.')\n",
        "        "
      ],
      "execution_count": null,
      "outputs": []
    },
    {
      "cell_type": "code",
      "metadata": {
        "id": "1hqay9dyfHSL",
        "colab": {
          "base_uri": "https://localhost:8080/",
          "height": 1000
        },
        "outputId": "7dbfb605-8794-4c8a-a8f8-fc46687840b9"
      },
      "source": [
        "category_evaluation_predict(\"오늘 엄마랑 아빠랑 놀이동산에 놀러갔다. 추러스도 먹고 맛있는 핫도그도 먹고 재밌는 롤러코스터도 많이 탔다. 집에 돌아오는길에 차에서 토했는데 엄마랑 아빠가 왜그러냐며 뭐라하셨다. 속상했다\")"
      ],
      "execution_count": null,
      "outputs": [
        {
          "output_type": "stream",
          "text": [
            "/usr/local/lib/python3.6/dist-packages/transformers/tokenization_utils_base.py:2179: FutureWarning: The `pad_to_max_length` argument is deprecated and will be removed in a future version, use `padding=True` or `padding='longest'` to pad to the longest sequence in the batch, or use `padding='max_length'` to pad to a max length. In this case, you can give a specific length with `max_length` (e.g. `max_length=45`) or leave max_length to None to pad to the maximal input size of the model (e.g. 512 for Bert).\n",
            "  FutureWarning,\n",
            "/usr/local/lib/python3.6/dist-packages/matplotlib/backends/backend_agg.py:214: RuntimeWarning: Glyph 50500 missing from current font.\n",
            "  font.set_text(s, 0.0, flags=flags)\n",
            "/usr/local/lib/python3.6/dist-packages/matplotlib/backends/backend_agg.py:214: RuntimeWarning: Glyph 46041 missing from current font.\n",
            "  font.set_text(s, 0.0, flags=flags)\n",
            "/usr/local/lib/python3.6/dist-packages/matplotlib/backends/backend_agg.py:214: RuntimeWarning: Glyph 54617 missing from current font.\n",
            "  font.set_text(s, 0.0, flags=flags)\n",
            "/usr/local/lib/python3.6/dist-packages/matplotlib/backends/backend_agg.py:214: RuntimeWarning: Glyph 45824 missing from current font.\n",
            "  font.set_text(s, 0.0, flags=flags)\n",
            "/usr/local/lib/python3.6/dist-packages/matplotlib/backends/backend_agg.py:214: RuntimeWarning: Glyph 49900 missing from current font.\n",
            "  font.set_text(s, 0.0, flags=flags)\n",
            "/usr/local/lib/python3.6/dist-packages/matplotlib/backends/backend_agg.py:214: RuntimeWarning: Glyph 44033 missing from current font.\n",
            "  font.set_text(s, 0.0, flags=flags)\n",
            "/usr/local/lib/python3.6/dist-packages/matplotlib/backends/backend_agg.py:214: RuntimeWarning: Glyph 49457 missing from current font.\n",
            "  font.set_text(s, 0.0, flags=flags)\n",
            "/usr/local/lib/python3.6/dist-packages/matplotlib/backends/backend_agg.py:214: RuntimeWarning: Glyph 48143 missing from current font.\n",
            "  font.set_text(s, 0.0, flags=flags)\n",
            "/usr/local/lib/python3.6/dist-packages/matplotlib/backends/backend_agg.py:214: RuntimeWarning: Glyph 51648 missing from current font.\n",
            "  font.set_text(s, 0.0, flags=flags)\n",
            "/usr/local/lib/python3.6/dist-packages/matplotlib/backends/backend_agg.py:214: RuntimeWarning: Glyph 49549 missing from current font.\n",
            "  font.set_text(s, 0.0, flags=flags)\n",
            "/usr/local/lib/python3.6/dist-packages/matplotlib/backends/backend_agg.py:214: RuntimeWarning: Glyph 54588 missing from current font.\n",
            "  font.set_text(s, 0.0, flags=flags)\n",
            "/usr/local/lib/python3.6/dist-packages/matplotlib/backends/backend_agg.py:214: RuntimeWarning: Glyph 54644 missing from current font.\n",
            "  font.set_text(s, 0.0, flags=flags)\n",
            "/usr/local/lib/python3.6/dist-packages/matplotlib/backends/backend_agg.py:214: RuntimeWarning: Glyph 50837 missing from current font.\n",
            "  font.set_text(s, 0.0, flags=flags)\n",
            "/usr/local/lib/python3.6/dist-packages/matplotlib/backends/backend_agg.py:214: RuntimeWarning: Glyph 44396 missing from current font.\n",
            "  font.set_text(s, 0.0, flags=flags)\n",
            "/usr/local/lib/python3.6/dist-packages/matplotlib/backends/backend_agg.py:214: RuntimeWarning: Glyph 53945 missing from current font.\n",
            "  font.set_text(s, 0.0, flags=flags)\n",
            "/usr/local/lib/python3.6/dist-packages/matplotlib/backends/backend_agg.py:214: RuntimeWarning: Glyph 49373 missing from current font.\n",
            "  font.set_text(s, 0.0, flags=flags)\n",
            "/usr/local/lib/python3.6/dist-packages/matplotlib/backends/backend_agg.py:214: RuntimeWarning: Glyph 54876 missing from current font.\n",
            "  font.set_text(s, 0.0, flags=flags)\n",
            "/usr/local/lib/python3.6/dist-packages/matplotlib/backends/backend_agg.py:214: RuntimeWarning: Glyph 54872 missing from current font.\n",
            "  font.set_text(s, 0.0, flags=flags)\n",
            "/usr/local/lib/python3.6/dist-packages/matplotlib/backends/backend_agg.py:214: RuntimeWarning: Glyph 44221 missing from current font.\n",
            "  font.set_text(s, 0.0, flags=flags)\n",
            "/usr/local/lib/python3.6/dist-packages/matplotlib/backends/backend_agg.py:214: RuntimeWarning: Glyph 54665 missing from current font.\n",
            "  font.set_text(s, 0.0, flags=flags)\n",
            "/usr/local/lib/python3.6/dist-packages/matplotlib/backends/backend_agg.py:214: RuntimeWarning: Glyph 50948 missing from current font.\n",
            "  font.set_text(s, 0.0, flags=flags)\n",
            "/usr/local/lib/python3.6/dist-packages/matplotlib/backends/backend_agg.py:214: RuntimeWarning: Glyph 51088 missing from current font.\n",
            "  font.set_text(s, 0.0, flags=flags)\n",
            "/usr/local/lib/python3.6/dist-packages/matplotlib/backends/backend_agg.py:214: RuntimeWarning: Glyph 50640 missing from current font.\n",
            "  font.set_text(s, 0.0, flags=flags)\n",
            "/usr/local/lib/python3.6/dist-packages/matplotlib/backends/backend_agg.py:214: RuntimeWarning: Glyph 54620 missing from current font.\n",
            "  font.set_text(s, 0.0, flags=flags)\n",
            "/usr/local/lib/python3.6/dist-packages/matplotlib/backends/backend_agg.py:214: RuntimeWarning: Glyph 51064 missing from current font.\n",
            "  font.set_text(s, 0.0, flags=flags)\n",
            "/usr/local/lib/python3.6/dist-packages/matplotlib/backends/backend_agg.py:214: RuntimeWarning: Glyph 49885 missing from current font.\n",
            "  font.set_text(s, 0.0, flags=flags)\n",
            "/usr/local/lib/python3.6/dist-packages/matplotlib/backends/backend_agg.py:183: RuntimeWarning: Glyph 50500 missing from current font.\n",
            "  font.set_text(s, 0, flags=flags)\n",
            "/usr/local/lib/python3.6/dist-packages/matplotlib/backends/backend_agg.py:183: RuntimeWarning: Glyph 46041 missing from current font.\n",
            "  font.set_text(s, 0, flags=flags)\n",
            "/usr/local/lib/python3.6/dist-packages/matplotlib/backends/backend_agg.py:183: RuntimeWarning: Glyph 54617 missing from current font.\n",
            "  font.set_text(s, 0, flags=flags)\n",
            "/usr/local/lib/python3.6/dist-packages/matplotlib/backends/backend_agg.py:183: RuntimeWarning: Glyph 45824 missing from current font.\n",
            "  font.set_text(s, 0, flags=flags)\n",
            "/usr/local/lib/python3.6/dist-packages/matplotlib/backends/backend_agg.py:183: RuntimeWarning: Glyph 49900 missing from current font.\n",
            "  font.set_text(s, 0, flags=flags)\n",
            "/usr/local/lib/python3.6/dist-packages/matplotlib/backends/backend_agg.py:183: RuntimeWarning: Glyph 44033 missing from current font.\n",
            "  font.set_text(s, 0, flags=flags)\n",
            "/usr/local/lib/python3.6/dist-packages/matplotlib/backends/backend_agg.py:183: RuntimeWarning: Glyph 49457 missing from current font.\n",
            "  font.set_text(s, 0, flags=flags)\n",
            "/usr/local/lib/python3.6/dist-packages/matplotlib/backends/backend_agg.py:183: RuntimeWarning: Glyph 48143 missing from current font.\n",
            "  font.set_text(s, 0, flags=flags)\n",
            "/usr/local/lib/python3.6/dist-packages/matplotlib/backends/backend_agg.py:183: RuntimeWarning: Glyph 51648 missing from current font.\n",
            "  font.set_text(s, 0, flags=flags)\n",
            "/usr/local/lib/python3.6/dist-packages/matplotlib/backends/backend_agg.py:183: RuntimeWarning: Glyph 49549 missing from current font.\n",
            "  font.set_text(s, 0, flags=flags)\n",
            "/usr/local/lib/python3.6/dist-packages/matplotlib/backends/backend_agg.py:183: RuntimeWarning: Glyph 54588 missing from current font.\n",
            "  font.set_text(s, 0, flags=flags)\n",
            "/usr/local/lib/python3.6/dist-packages/matplotlib/backends/backend_agg.py:183: RuntimeWarning: Glyph 54644 missing from current font.\n",
            "  font.set_text(s, 0, flags=flags)\n",
            "/usr/local/lib/python3.6/dist-packages/matplotlib/backends/backend_agg.py:183: RuntimeWarning: Glyph 50837 missing from current font.\n",
            "  font.set_text(s, 0, flags=flags)\n",
            "/usr/local/lib/python3.6/dist-packages/matplotlib/backends/backend_agg.py:183: RuntimeWarning: Glyph 44396 missing from current font.\n",
            "  font.set_text(s, 0, flags=flags)\n",
            "/usr/local/lib/python3.6/dist-packages/matplotlib/backends/backend_agg.py:183: RuntimeWarning: Glyph 53945 missing from current font.\n",
            "  font.set_text(s, 0, flags=flags)\n",
            "/usr/local/lib/python3.6/dist-packages/matplotlib/backends/backend_agg.py:183: RuntimeWarning: Glyph 49373 missing from current font.\n",
            "  font.set_text(s, 0, flags=flags)\n",
            "/usr/local/lib/python3.6/dist-packages/matplotlib/backends/backend_agg.py:183: RuntimeWarning: Glyph 54876 missing from current font.\n",
            "  font.set_text(s, 0, flags=flags)\n",
            "/usr/local/lib/python3.6/dist-packages/matplotlib/backends/backend_agg.py:183: RuntimeWarning: Glyph 54872 missing from current font.\n",
            "  font.set_text(s, 0, flags=flags)\n",
            "/usr/local/lib/python3.6/dist-packages/matplotlib/backends/backend_agg.py:183: RuntimeWarning: Glyph 44221 missing from current font.\n",
            "  font.set_text(s, 0, flags=flags)\n",
            "/usr/local/lib/python3.6/dist-packages/matplotlib/backends/backend_agg.py:183: RuntimeWarning: Glyph 54665 missing from current font.\n",
            "  font.set_text(s, 0, flags=flags)\n",
            "/usr/local/lib/python3.6/dist-packages/matplotlib/backends/backend_agg.py:183: RuntimeWarning: Glyph 50948 missing from current font.\n",
            "  font.set_text(s, 0, flags=flags)\n",
            "/usr/local/lib/python3.6/dist-packages/matplotlib/backends/backend_agg.py:183: RuntimeWarning: Glyph 51088 missing from current font.\n",
            "  font.set_text(s, 0, flags=flags)\n",
            "/usr/local/lib/python3.6/dist-packages/matplotlib/backends/backend_agg.py:183: RuntimeWarning: Glyph 50640 missing from current font.\n",
            "  font.set_text(s, 0, flags=flags)\n",
            "/usr/local/lib/python3.6/dist-packages/matplotlib/backends/backend_agg.py:183: RuntimeWarning: Glyph 54620 missing from current font.\n",
            "  font.set_text(s, 0, flags=flags)\n",
            "/usr/local/lib/python3.6/dist-packages/matplotlib/backends/backend_agg.py:183: RuntimeWarning: Glyph 51064 missing from current font.\n",
            "  font.set_text(s, 0, flags=flags)\n",
            "/usr/local/lib/python3.6/dist-packages/matplotlib/backends/backend_agg.py:183: RuntimeWarning: Glyph 49885 missing from current font.\n",
            "  font.set_text(s, 0, flags=flags)\n"
          ],
          "name": "stderr"
        },
        {
          "output_type": "display_data",
          "data": {
            "image/png": "[encoded data removed]",
            "text/plain": [
              "<Figure size 432x288 with 1 Axes>"
            ]
          },
          "metadata": {
            "tags": [],
            "needs_background": "light"
          }
        },
        {
          "output_type": "stream",
          "text": [
            "아동 학대 심각성 및 지속성  카테고리 입니다.\n",
            "[[0.70482075 0.0592591  0.00736561 0.02165775 0.20477709 0.00211973]]\n",
            "평가척도 점수는 6점 중 2 점입니다.\n"
          ],
          "name": "stdout"
        }
      ]
    },
    {
      "cell_type": "code",
      "metadata": {
        "id": "9Iv6OdL9fJou",
        "colab": {
          "base_uri": "https://localhost:8080/",
          "height": 1000
        },
        "outputId": "19b5a8b2-4fb1-4f87-c1b1-7e41e71c6f93"
      },
      "source": [
        "category_evaluation_predict(\"3일째 부모님이 술마시느라 집에 안들어오고 있고 전화를 해도 안받아요. 집에 먹을게 없어요... 라면을 어떻게 끓이는 건가요\")"
      ],
      "execution_count": null,
      "outputs": [
        {
          "output_type": "stream",
          "text": [
            "/usr/local/lib/python3.6/dist-packages/transformers/tokenization_utils_base.py:2179: FutureWarning: The `pad_to_max_length` argument is deprecated and will be removed in a future version, use `padding=True` or `padding='longest'` to pad to the longest sequence in the batch, or use `padding='max_length'` to pad to a max length. In this case, you can give a specific length with `max_length` (e.g. `max_length=45`) or leave max_length to None to pad to the maximal input size of the model (e.g. 512 for Bert).\n",
            "  FutureWarning,\n",
            "/usr/local/lib/python3.6/dist-packages/matplotlib/backends/backend_agg.py:214: RuntimeWarning: Glyph 50500 missing from current font.\n",
            "  font.set_text(s, 0.0, flags=flags)\n",
            "/usr/local/lib/python3.6/dist-packages/matplotlib/backends/backend_agg.py:214: RuntimeWarning: Glyph 46041 missing from current font.\n",
            "  font.set_text(s, 0.0, flags=flags)\n",
            "/usr/local/lib/python3.6/dist-packages/matplotlib/backends/backend_agg.py:214: RuntimeWarning: Glyph 54617 missing from current font.\n",
            "  font.set_text(s, 0.0, flags=flags)\n",
            "/usr/local/lib/python3.6/dist-packages/matplotlib/backends/backend_agg.py:214: RuntimeWarning: Glyph 45824 missing from current font.\n",
            "  font.set_text(s, 0.0, flags=flags)\n",
            "/usr/local/lib/python3.6/dist-packages/matplotlib/backends/backend_agg.py:214: RuntimeWarning: Glyph 49900 missing from current font.\n",
            "  font.set_text(s, 0.0, flags=flags)\n",
            "/usr/local/lib/python3.6/dist-packages/matplotlib/backends/backend_agg.py:214: RuntimeWarning: Glyph 44033 missing from current font.\n",
            "  font.set_text(s, 0.0, flags=flags)\n",
            "/usr/local/lib/python3.6/dist-packages/matplotlib/backends/backend_agg.py:214: RuntimeWarning: Glyph 49457 missing from current font.\n",
            "  font.set_text(s, 0.0, flags=flags)\n",
            "/usr/local/lib/python3.6/dist-packages/matplotlib/backends/backend_agg.py:214: RuntimeWarning: Glyph 48143 missing from current font.\n",
            "  font.set_text(s, 0.0, flags=flags)\n",
            "/usr/local/lib/python3.6/dist-packages/matplotlib/backends/backend_agg.py:214: RuntimeWarning: Glyph 51648 missing from current font.\n",
            "  font.set_text(s, 0.0, flags=flags)\n",
            "/usr/local/lib/python3.6/dist-packages/matplotlib/backends/backend_agg.py:214: RuntimeWarning: Glyph 49549 missing from current font.\n",
            "  font.set_text(s, 0.0, flags=flags)\n",
            "/usr/local/lib/python3.6/dist-packages/matplotlib/backends/backend_agg.py:214: RuntimeWarning: Glyph 54588 missing from current font.\n",
            "  font.set_text(s, 0.0, flags=flags)\n",
            "/usr/local/lib/python3.6/dist-packages/matplotlib/backends/backend_agg.py:214: RuntimeWarning: Glyph 54644 missing from current font.\n",
            "  font.set_text(s, 0.0, flags=flags)\n",
            "/usr/local/lib/python3.6/dist-packages/matplotlib/backends/backend_agg.py:214: RuntimeWarning: Glyph 50837 missing from current font.\n",
            "  font.set_text(s, 0.0, flags=flags)\n",
            "/usr/local/lib/python3.6/dist-packages/matplotlib/backends/backend_agg.py:214: RuntimeWarning: Glyph 44396 missing from current font.\n",
            "  font.set_text(s, 0.0, flags=flags)\n",
            "/usr/local/lib/python3.6/dist-packages/matplotlib/backends/backend_agg.py:214: RuntimeWarning: Glyph 53945 missing from current font.\n",
            "  font.set_text(s, 0.0, flags=flags)\n",
            "/usr/local/lib/python3.6/dist-packages/matplotlib/backends/backend_agg.py:214: RuntimeWarning: Glyph 49373 missing from current font.\n",
            "  font.set_text(s, 0.0, flags=flags)\n",
            "/usr/local/lib/python3.6/dist-packages/matplotlib/backends/backend_agg.py:214: RuntimeWarning: Glyph 54876 missing from current font.\n",
            "  font.set_text(s, 0.0, flags=flags)\n",
            "/usr/local/lib/python3.6/dist-packages/matplotlib/backends/backend_agg.py:214: RuntimeWarning: Glyph 54872 missing from current font.\n",
            "  font.set_text(s, 0.0, flags=flags)\n",
            "/usr/local/lib/python3.6/dist-packages/matplotlib/backends/backend_agg.py:214: RuntimeWarning: Glyph 44221 missing from current font.\n",
            "  font.set_text(s, 0.0, flags=flags)\n",
            "/usr/local/lib/python3.6/dist-packages/matplotlib/backends/backend_agg.py:214: RuntimeWarning: Glyph 54665 missing from current font.\n",
            "  font.set_text(s, 0.0, flags=flags)\n",
            "/usr/local/lib/python3.6/dist-packages/matplotlib/backends/backend_agg.py:214: RuntimeWarning: Glyph 50948 missing from current font.\n",
            "  font.set_text(s, 0.0, flags=flags)\n",
            "/usr/local/lib/python3.6/dist-packages/matplotlib/backends/backend_agg.py:214: RuntimeWarning: Glyph 51088 missing from current font.\n",
            "  font.set_text(s, 0.0, flags=flags)\n",
            "/usr/local/lib/python3.6/dist-packages/matplotlib/backends/backend_agg.py:214: RuntimeWarning: Glyph 50640 missing from current font.\n",
            "  font.set_text(s, 0.0, flags=flags)\n",
            "/usr/local/lib/python3.6/dist-packages/matplotlib/backends/backend_agg.py:214: RuntimeWarning: Glyph 54620 missing from current font.\n",
            "  font.set_text(s, 0.0, flags=flags)\n",
            "/usr/local/lib/python3.6/dist-packages/matplotlib/backends/backend_agg.py:214: RuntimeWarning: Glyph 51064 missing from current font.\n",
            "  font.set_text(s, 0.0, flags=flags)\n",
            "/usr/local/lib/python3.6/dist-packages/matplotlib/backends/backend_agg.py:214: RuntimeWarning: Glyph 49885 missing from current font.\n",
            "  font.set_text(s, 0.0, flags=flags)\n",
            "/usr/local/lib/python3.6/dist-packages/matplotlib/backends/backend_agg.py:183: RuntimeWarning: Glyph 50500 missing from current font.\n",
            "  font.set_text(s, 0, flags=flags)\n",
            "/usr/local/lib/python3.6/dist-packages/matplotlib/backends/backend_agg.py:183: RuntimeWarning: Glyph 46041 missing from current font.\n",
            "  font.set_text(s, 0, flags=flags)\n",
            "/usr/local/lib/python3.6/dist-packages/matplotlib/backends/backend_agg.py:183: RuntimeWarning: Glyph 54617 missing from current font.\n",
            "  font.set_text(s, 0, flags=flags)\n",
            "/usr/local/lib/python3.6/dist-packages/matplotlib/backends/backend_agg.py:183: RuntimeWarning: Glyph 45824 missing from current font.\n",
            "  font.set_text(s, 0, flags=flags)\n",
            "/usr/local/lib/python3.6/dist-packages/matplotlib/backends/backend_agg.py:183: RuntimeWarning: Glyph 49900 missing from current font.\n",
            "  font.set_text(s, 0, flags=flags)\n",
            "/usr/local/lib/python3.6/dist-packages/matplotlib/backends/backend_agg.py:183: RuntimeWarning: Glyph 44033 missing from current font.\n",
            "  font.set_text(s, 0, flags=flags)\n",
            "/usr/local/lib/python3.6/dist-packages/matplotlib/backends/backend_agg.py:183: RuntimeWarning: Glyph 49457 missing from current font.\n",
            "  font.set_text(s, 0, flags=flags)\n",
            "/usr/local/lib/python3.6/dist-packages/matplotlib/backends/backend_agg.py:183: RuntimeWarning: Glyph 48143 missing from current font.\n",
            "  font.set_text(s, 0, flags=flags)\n",
            "/usr/local/lib/python3.6/dist-packages/matplotlib/backends/backend_agg.py:183: RuntimeWarning: Glyph 51648 missing from current font.\n",
            "  font.set_text(s, 0, flags=flags)\n",
            "/usr/local/lib/python3.6/dist-packages/matplotlib/backends/backend_agg.py:183: RuntimeWarning: Glyph 49549 missing from current font.\n",
            "  font.set_text(s, 0, flags=flags)\n",
            "/usr/local/lib/python3.6/dist-packages/matplotlib/backends/backend_agg.py:183: RuntimeWarning: Glyph 54588 missing from current font.\n",
            "  font.set_text(s, 0, flags=flags)\n",
            "/usr/local/lib/python3.6/dist-packages/matplotlib/backends/backend_agg.py:183: RuntimeWarning: Glyph 54644 missing from current font.\n",
            "  font.set_text(s, 0, flags=flags)\n",
            "/usr/local/lib/python3.6/dist-packages/matplotlib/backends/backend_agg.py:183: RuntimeWarning: Glyph 50837 missing from current font.\n",
            "  font.set_text(s, 0, flags=flags)\n",
            "/usr/local/lib/python3.6/dist-packages/matplotlib/backends/backend_agg.py:183: RuntimeWarning: Glyph 44396 missing from current font.\n",
            "  font.set_text(s, 0, flags=flags)\n",
            "/usr/local/lib/python3.6/dist-packages/matplotlib/backends/backend_agg.py:183: RuntimeWarning: Glyph 53945 missing from current font.\n",
            "  font.set_text(s, 0, flags=flags)\n",
            "/usr/local/lib/python3.6/dist-packages/matplotlib/backends/backend_agg.py:183: RuntimeWarning: Glyph 49373 missing from current font.\n",
            "  font.set_text(s, 0, flags=flags)\n",
            "/usr/local/lib/python3.6/dist-packages/matplotlib/backends/backend_agg.py:183: RuntimeWarning: Glyph 54876 missing from current font.\n",
            "  font.set_text(s, 0, flags=flags)\n",
            "/usr/local/lib/python3.6/dist-packages/matplotlib/backends/backend_agg.py:183: RuntimeWarning: Glyph 54872 missing from current font.\n",
            "  font.set_text(s, 0, flags=flags)\n",
            "/usr/local/lib/python3.6/dist-packages/matplotlib/backends/backend_agg.py:183: RuntimeWarning: Glyph 44221 missing from current font.\n",
            "  font.set_text(s, 0, flags=flags)\n",
            "/usr/local/lib/python3.6/dist-packages/matplotlib/backends/backend_agg.py:183: RuntimeWarning: Glyph 54665 missing from current font.\n",
            "  font.set_text(s, 0, flags=flags)\n",
            "/usr/local/lib/python3.6/dist-packages/matplotlib/backends/backend_agg.py:183: RuntimeWarning: Glyph 50948 missing from current font.\n",
            "  font.set_text(s, 0, flags=flags)\n",
            "/usr/local/lib/python3.6/dist-packages/matplotlib/backends/backend_agg.py:183: RuntimeWarning: Glyph 51088 missing from current font.\n",
            "  font.set_text(s, 0, flags=flags)\n",
            "/usr/local/lib/python3.6/dist-packages/matplotlib/backends/backend_agg.py:183: RuntimeWarning: Glyph 50640 missing from current font.\n",
            "  font.set_text(s, 0, flags=flags)\n",
            "/usr/local/lib/python3.6/dist-packages/matplotlib/backends/backend_agg.py:183: RuntimeWarning: Glyph 54620 missing from current font.\n",
            "  font.set_text(s, 0, flags=flags)\n",
            "/usr/local/lib/python3.6/dist-packages/matplotlib/backends/backend_agg.py:183: RuntimeWarning: Glyph 51064 missing from current font.\n",
            "  font.set_text(s, 0, flags=flags)\n",
            "/usr/local/lib/python3.6/dist-packages/matplotlib/backends/backend_agg.py:183: RuntimeWarning: Glyph 49885 missing from current font.\n",
            "  font.set_text(s, 0, flags=flags)\n"
          ],
          "name": "stderr"
        },
        {
          "output_type": "display_data",
          "data": {
            "image/png": "[encoded data removed]",
            "text/plain": [
              "<Figure size 432x288 with 1 Axes>"
            ]
          },
          "metadata": {
            "tags": [],
            "needs_background": "light"
          }
        },
        {
          "output_type": "stream",
          "text": [
            "아동 학대 심각성 및 지속성  카테고리 입니다.\n",
            "[[0.8885744  0.02215358 0.04434776 0.00217496 0.00646016 0.03628919]]\n",
            "평가척도 점수는 6점 중 1 점입니다.\n"
          ],
          "name": "stdout"
        }
      ]
    },
    {
      "cell_type": "code",
      "metadata": {
        "id": "3hqeuu5dcswD",
        "colab": {
          "base_uri": "https://localhost:8080/",
          "height": 1000
        },
        "outputId": "386441cc-ae07-4222-a05d-1793d1a2c9ba"
      },
      "source": [
        "category_evaluation_predict(\"제가 방탄소년단 팬이여서 콘서트에 갈려고 티켓을 예매했는데 조금있으면 중간고사라 부모님이 저한테 욕을 하고 저의 자존심을 무너트리고 있어요.\")"
      ],
      "execution_count": null,
      "outputs": [
        {
          "output_type": "stream",
          "text": [
            "/usr/local/lib/python3.6/dist-packages/transformers/tokenization_utils_base.py:2179: FutureWarning: The `pad_to_max_length` argument is deprecated and will be removed in a future version, use `padding=True` or `padding='longest'` to pad to the longest sequence in the batch, or use `padding='max_length'` to pad to a max length. In this case, you can give a specific length with `max_length` (e.g. `max_length=45`) or leave max_length to None to pad to the maximal input size of the model (e.g. 512 for Bert).\n",
            "  FutureWarning,\n",
            "/usr/local/lib/python3.6/dist-packages/matplotlib/backends/backend_agg.py:214: RuntimeWarning: Glyph 50500 missing from current font.\n",
            "  font.set_text(s, 0.0, flags=flags)\n",
            "/usr/local/lib/python3.6/dist-packages/matplotlib/backends/backend_agg.py:214: RuntimeWarning: Glyph 46041 missing from current font.\n",
            "  font.set_text(s, 0.0, flags=flags)\n",
            "/usr/local/lib/python3.6/dist-packages/matplotlib/backends/backend_agg.py:214: RuntimeWarning: Glyph 54617 missing from current font.\n",
            "  font.set_text(s, 0.0, flags=flags)\n",
            "/usr/local/lib/python3.6/dist-packages/matplotlib/backends/backend_agg.py:214: RuntimeWarning: Glyph 45824 missing from current font.\n",
            "  font.set_text(s, 0.0, flags=flags)\n",
            "/usr/local/lib/python3.6/dist-packages/matplotlib/backends/backend_agg.py:214: RuntimeWarning: Glyph 49900 missing from current font.\n",
            "  font.set_text(s, 0.0, flags=flags)\n",
            "/usr/local/lib/python3.6/dist-packages/matplotlib/backends/backend_agg.py:214: RuntimeWarning: Glyph 44033 missing from current font.\n",
            "  font.set_text(s, 0.0, flags=flags)\n",
            "/usr/local/lib/python3.6/dist-packages/matplotlib/backends/backend_agg.py:214: RuntimeWarning: Glyph 49457 missing from current font.\n",
            "  font.set_text(s, 0.0, flags=flags)\n",
            "/usr/local/lib/python3.6/dist-packages/matplotlib/backends/backend_agg.py:214: RuntimeWarning: Glyph 48143 missing from current font.\n",
            "  font.set_text(s, 0.0, flags=flags)\n",
            "/usr/local/lib/python3.6/dist-packages/matplotlib/backends/backend_agg.py:214: RuntimeWarning: Glyph 51648 missing from current font.\n",
            "  font.set_text(s, 0.0, flags=flags)\n",
            "/usr/local/lib/python3.6/dist-packages/matplotlib/backends/backend_agg.py:214: RuntimeWarning: Glyph 49549 missing from current font.\n",
            "  font.set_text(s, 0.0, flags=flags)\n",
            "/usr/local/lib/python3.6/dist-packages/matplotlib/backends/backend_agg.py:214: RuntimeWarning: Glyph 54588 missing from current font.\n",
            "  font.set_text(s, 0.0, flags=flags)\n",
            "/usr/local/lib/python3.6/dist-packages/matplotlib/backends/backend_agg.py:214: RuntimeWarning: Glyph 54644 missing from current font.\n",
            "  font.set_text(s, 0.0, flags=flags)\n",
            "/usr/local/lib/python3.6/dist-packages/matplotlib/backends/backend_agg.py:214: RuntimeWarning: Glyph 50837 missing from current font.\n",
            "  font.set_text(s, 0.0, flags=flags)\n",
            "/usr/local/lib/python3.6/dist-packages/matplotlib/backends/backend_agg.py:214: RuntimeWarning: Glyph 44396 missing from current font.\n",
            "  font.set_text(s, 0.0, flags=flags)\n",
            "/usr/local/lib/python3.6/dist-packages/matplotlib/backends/backend_agg.py:214: RuntimeWarning: Glyph 53945 missing from current font.\n",
            "  font.set_text(s, 0.0, flags=flags)\n",
            "/usr/local/lib/python3.6/dist-packages/matplotlib/backends/backend_agg.py:214: RuntimeWarning: Glyph 49373 missing from current font.\n",
            "  font.set_text(s, 0.0, flags=flags)\n",
            "/usr/local/lib/python3.6/dist-packages/matplotlib/backends/backend_agg.py:214: RuntimeWarning: Glyph 54876 missing from current font.\n",
            "  font.set_text(s, 0.0, flags=flags)\n",
            "/usr/local/lib/python3.6/dist-packages/matplotlib/backends/backend_agg.py:214: RuntimeWarning: Glyph 54872 missing from current font.\n",
            "  font.set_text(s, 0.0, flags=flags)\n",
            "/usr/local/lib/python3.6/dist-packages/matplotlib/backends/backend_agg.py:214: RuntimeWarning: Glyph 44221 missing from current font.\n",
            "  font.set_text(s, 0.0, flags=flags)\n",
            "/usr/local/lib/python3.6/dist-packages/matplotlib/backends/backend_agg.py:214: RuntimeWarning: Glyph 54665 missing from current font.\n",
            "  font.set_text(s, 0.0, flags=flags)\n",
            "/usr/local/lib/python3.6/dist-packages/matplotlib/backends/backend_agg.py:214: RuntimeWarning: Glyph 50948 missing from current font.\n",
            "  font.set_text(s, 0.0, flags=flags)\n",
            "/usr/local/lib/python3.6/dist-packages/matplotlib/backends/backend_agg.py:214: RuntimeWarning: Glyph 51088 missing from current font.\n",
            "  font.set_text(s, 0.0, flags=flags)\n",
            "/usr/local/lib/python3.6/dist-packages/matplotlib/backends/backend_agg.py:214: RuntimeWarning: Glyph 50640 missing from current font.\n",
            "  font.set_text(s, 0.0, flags=flags)\n",
            "/usr/local/lib/python3.6/dist-packages/matplotlib/backends/backend_agg.py:214: RuntimeWarning: Glyph 54620 missing from current font.\n",
            "  font.set_text(s, 0.0, flags=flags)\n",
            "/usr/local/lib/python3.6/dist-packages/matplotlib/backends/backend_agg.py:214: RuntimeWarning: Glyph 51064 missing from current font.\n",
            "  font.set_text(s, 0.0, flags=flags)\n",
            "/usr/local/lib/python3.6/dist-packages/matplotlib/backends/backend_agg.py:214: RuntimeWarning: Glyph 49885 missing from current font.\n",
            "  font.set_text(s, 0.0, flags=flags)\n",
            "/usr/local/lib/python3.6/dist-packages/matplotlib/backends/backend_agg.py:183: RuntimeWarning: Glyph 50500 missing from current font.\n",
            "  font.set_text(s, 0, flags=flags)\n",
            "/usr/local/lib/python3.6/dist-packages/matplotlib/backends/backend_agg.py:183: RuntimeWarning: Glyph 46041 missing from current font.\n",
            "  font.set_text(s, 0, flags=flags)\n",
            "/usr/local/lib/python3.6/dist-packages/matplotlib/backends/backend_agg.py:183: RuntimeWarning: Glyph 54617 missing from current font.\n",
            "  font.set_text(s, 0, flags=flags)\n",
            "/usr/local/lib/python3.6/dist-packages/matplotlib/backends/backend_agg.py:183: RuntimeWarning: Glyph 45824 missing from current font.\n",
            "  font.set_text(s, 0, flags=flags)\n",
            "/usr/local/lib/python3.6/dist-packages/matplotlib/backends/backend_agg.py:183: RuntimeWarning: Glyph 49900 missing from current font.\n",
            "  font.set_text(s, 0, flags=flags)\n",
            "/usr/local/lib/python3.6/dist-packages/matplotlib/backends/backend_agg.py:183: RuntimeWarning: Glyph 44033 missing from current font.\n",
            "  font.set_text(s, 0, flags=flags)\n",
            "/usr/local/lib/python3.6/dist-packages/matplotlib/backends/backend_agg.py:183: RuntimeWarning: Glyph 49457 missing from current font.\n",
            "  font.set_text(s, 0, flags=flags)\n",
            "/usr/local/lib/python3.6/dist-packages/matplotlib/backends/backend_agg.py:183: RuntimeWarning: Glyph 48143 missing from current font.\n",
            "  font.set_text(s, 0, flags=flags)\n",
            "/usr/local/lib/python3.6/dist-packages/matplotlib/backends/backend_agg.py:183: RuntimeWarning: Glyph 51648 missing from current font.\n",
            "  font.set_text(s, 0, flags=flags)\n",
            "/usr/local/lib/python3.6/dist-packages/matplotlib/backends/backend_agg.py:183: RuntimeWarning: Glyph 49549 missing from current font.\n",
            "  font.set_text(s, 0, flags=flags)\n",
            "/usr/local/lib/python3.6/dist-packages/matplotlib/backends/backend_agg.py:183: RuntimeWarning: Glyph 54588 missing from current font.\n",
            "  font.set_text(s, 0, flags=flags)\n",
            "/usr/local/lib/python3.6/dist-packages/matplotlib/backends/backend_agg.py:183: RuntimeWarning: Glyph 54644 missing from current font.\n",
            "  font.set_text(s, 0, flags=flags)\n",
            "/usr/local/lib/python3.6/dist-packages/matplotlib/backends/backend_agg.py:183: RuntimeWarning: Glyph 50837 missing from current font.\n",
            "  font.set_text(s, 0, flags=flags)\n",
            "/usr/local/lib/python3.6/dist-packages/matplotlib/backends/backend_agg.py:183: RuntimeWarning: Glyph 44396 missing from current font.\n",
            "  font.set_text(s, 0, flags=flags)\n",
            "/usr/local/lib/python3.6/dist-packages/matplotlib/backends/backend_agg.py:183: RuntimeWarning: Glyph 53945 missing from current font.\n",
            "  font.set_text(s, 0, flags=flags)\n",
            "/usr/local/lib/python3.6/dist-packages/matplotlib/backends/backend_agg.py:183: RuntimeWarning: Glyph 49373 missing from current font.\n",
            "  font.set_text(s, 0, flags=flags)\n",
            "/usr/local/lib/python3.6/dist-packages/matplotlib/backends/backend_agg.py:183: RuntimeWarning: Glyph 54876 missing from current font.\n",
            "  font.set_text(s, 0, flags=flags)\n",
            "/usr/local/lib/python3.6/dist-packages/matplotlib/backends/backend_agg.py:183: RuntimeWarning: Glyph 54872 missing from current font.\n",
            "  font.set_text(s, 0, flags=flags)\n",
            "/usr/local/lib/python3.6/dist-packages/matplotlib/backends/backend_agg.py:183: RuntimeWarning: Glyph 44221 missing from current font.\n",
            "  font.set_text(s, 0, flags=flags)\n",
            "/usr/local/lib/python3.6/dist-packages/matplotlib/backends/backend_agg.py:183: RuntimeWarning: Glyph 54665 missing from current font.\n",
            "  font.set_text(s, 0, flags=flags)\n",
            "/usr/local/lib/python3.6/dist-packages/matplotlib/backends/backend_agg.py:183: RuntimeWarning: Glyph 50948 missing from current font.\n",
            "  font.set_text(s, 0, flags=flags)\n",
            "/usr/local/lib/python3.6/dist-packages/matplotlib/backends/backend_agg.py:183: RuntimeWarning: Glyph 51088 missing from current font.\n",
            "  font.set_text(s, 0, flags=flags)\n",
            "/usr/local/lib/python3.6/dist-packages/matplotlib/backends/backend_agg.py:183: RuntimeWarning: Glyph 50640 missing from current font.\n",
            "  font.set_text(s, 0, flags=flags)\n",
            "/usr/local/lib/python3.6/dist-packages/matplotlib/backends/backend_agg.py:183: RuntimeWarning: Glyph 54620 missing from current font.\n",
            "  font.set_text(s, 0, flags=flags)\n",
            "/usr/local/lib/python3.6/dist-packages/matplotlib/backends/backend_agg.py:183: RuntimeWarning: Glyph 51064 missing from current font.\n",
            "  font.set_text(s, 0, flags=flags)\n",
            "/usr/local/lib/python3.6/dist-packages/matplotlib/backends/backend_agg.py:183: RuntimeWarning: Glyph 49885 missing from current font.\n",
            "  font.set_text(s, 0, flags=flags)\n"
          ],
          "name": "stderr"
        },
        {
          "output_type": "display_data",
          "data": {
            "image/png": "[encoded data removed]",
            "text/plain": [
              "<Figure size 432x288 with 1 Axes>"
            ]
          },
          "metadata": {
            "tags": [],
            "needs_background": "light"
          }
        },
        {
          "output_type": "stream",
          "text": [
            "학대에 대한 인식  카테고리 입니다.\n",
            "[[0.04652034 0.01637503 0.00187186 0.00622113 0.92684776 0.00216387]]\n",
            "평가척도 점수는 6점 중 1 점입니다.\n"
          ],
          "name": "stdout"
        }
      ]
    },
    {
      "cell_type": "code",
      "metadata": {
        "id": "Zx9SXee7llp2",
        "colab": {
          "base_uri": "https://localhost:8080/",
          "height": 1000
        },
        "outputId": "78b4d171-6237-4e1d-a6e8-7fe3e867967e"
      },
      "source": [
        "category_evaluation_predict(\"할아버지가 내가 너무 이쁘다며 내 몸 여러군데를 더듬는다. 그리고 장난으로 엉덩이나 가슴을 만지시는데 너무 불쾌하고 대처방안을 잘모르겠다.\")"
      ],
      "execution_count": null,
      "outputs": [
        {
          "output_type": "stream",
          "text": [
            "/usr/local/lib/python3.6/dist-packages/transformers/tokenization_utils_base.py:2179: FutureWarning: The `pad_to_max_length` argument is deprecated and will be removed in a future version, use `padding=True` or `padding='longest'` to pad to the longest sequence in the batch, or use `padding='max_length'` to pad to a max length. In this case, you can give a specific length with `max_length` (e.g. `max_length=45`) or leave max_length to None to pad to the maximal input size of the model (e.g. 512 for Bert).\n",
            "  FutureWarning,\n",
            "/usr/local/lib/python3.6/dist-packages/matplotlib/backends/backend_agg.py:214: RuntimeWarning: Glyph 50500 missing from current font.\n",
            "  font.set_text(s, 0.0, flags=flags)\n",
            "/usr/local/lib/python3.6/dist-packages/matplotlib/backends/backend_agg.py:214: RuntimeWarning: Glyph 46041 missing from current font.\n",
            "  font.set_text(s, 0.0, flags=flags)\n",
            "/usr/local/lib/python3.6/dist-packages/matplotlib/backends/backend_agg.py:214: RuntimeWarning: Glyph 54617 missing from current font.\n",
            "  font.set_text(s, 0.0, flags=flags)\n",
            "/usr/local/lib/python3.6/dist-packages/matplotlib/backends/backend_agg.py:214: RuntimeWarning: Glyph 45824 missing from current font.\n",
            "  font.set_text(s, 0.0, flags=flags)\n",
            "/usr/local/lib/python3.6/dist-packages/matplotlib/backends/backend_agg.py:214: RuntimeWarning: Glyph 49900 missing from current font.\n",
            "  font.set_text(s, 0.0, flags=flags)\n",
            "/usr/local/lib/python3.6/dist-packages/matplotlib/backends/backend_agg.py:214: RuntimeWarning: Glyph 44033 missing from current font.\n",
            "  font.set_text(s, 0.0, flags=flags)\n",
            "/usr/local/lib/python3.6/dist-packages/matplotlib/backends/backend_agg.py:214: RuntimeWarning: Glyph 49457 missing from current font.\n",
            "  font.set_text(s, 0.0, flags=flags)\n",
            "/usr/local/lib/python3.6/dist-packages/matplotlib/backends/backend_agg.py:214: RuntimeWarning: Glyph 48143 missing from current font.\n",
            "  font.set_text(s, 0.0, flags=flags)\n",
            "/usr/local/lib/python3.6/dist-packages/matplotlib/backends/backend_agg.py:214: RuntimeWarning: Glyph 51648 missing from current font.\n",
            "  font.set_text(s, 0.0, flags=flags)\n",
            "/usr/local/lib/python3.6/dist-packages/matplotlib/backends/backend_agg.py:214: RuntimeWarning: Glyph 49549 missing from current font.\n",
            "  font.set_text(s, 0.0, flags=flags)\n",
            "/usr/local/lib/python3.6/dist-packages/matplotlib/backends/backend_agg.py:214: RuntimeWarning: Glyph 54588 missing from current font.\n",
            "  font.set_text(s, 0.0, flags=flags)\n",
            "/usr/local/lib/python3.6/dist-packages/matplotlib/backends/backend_agg.py:214: RuntimeWarning: Glyph 54644 missing from current font.\n",
            "  font.set_text(s, 0.0, flags=flags)\n",
            "/usr/local/lib/python3.6/dist-packages/matplotlib/backends/backend_agg.py:214: RuntimeWarning: Glyph 50837 missing from current font.\n",
            "  font.set_text(s, 0.0, flags=flags)\n",
            "/usr/local/lib/python3.6/dist-packages/matplotlib/backends/backend_agg.py:214: RuntimeWarning: Glyph 44396 missing from current font.\n",
            "  font.set_text(s, 0.0, flags=flags)\n",
            "/usr/local/lib/python3.6/dist-packages/matplotlib/backends/backend_agg.py:214: RuntimeWarning: Glyph 53945 missing from current font.\n",
            "  font.set_text(s, 0.0, flags=flags)\n",
            "/usr/local/lib/python3.6/dist-packages/matplotlib/backends/backend_agg.py:214: RuntimeWarning: Glyph 49373 missing from current font.\n",
            "  font.set_text(s, 0.0, flags=flags)\n",
            "/usr/local/lib/python3.6/dist-packages/matplotlib/backends/backend_agg.py:214: RuntimeWarning: Glyph 54876 missing from current font.\n",
            "  font.set_text(s, 0.0, flags=flags)\n",
            "/usr/local/lib/python3.6/dist-packages/matplotlib/backends/backend_agg.py:214: RuntimeWarning: Glyph 54872 missing from current font.\n",
            "  font.set_text(s, 0.0, flags=flags)\n",
            "/usr/local/lib/python3.6/dist-packages/matplotlib/backends/backend_agg.py:214: RuntimeWarning: Glyph 44221 missing from current font.\n",
            "  font.set_text(s, 0.0, flags=flags)\n",
            "/usr/local/lib/python3.6/dist-packages/matplotlib/backends/backend_agg.py:214: RuntimeWarning: Glyph 54665 missing from current font.\n",
            "  font.set_text(s, 0.0, flags=flags)\n",
            "/usr/local/lib/python3.6/dist-packages/matplotlib/backends/backend_agg.py:214: RuntimeWarning: Glyph 50948 missing from current font.\n",
            "  font.set_text(s, 0.0, flags=flags)\n",
            "/usr/local/lib/python3.6/dist-packages/matplotlib/backends/backend_agg.py:214: RuntimeWarning: Glyph 51088 missing from current font.\n",
            "  font.set_text(s, 0.0, flags=flags)\n",
            "/usr/local/lib/python3.6/dist-packages/matplotlib/backends/backend_agg.py:214: RuntimeWarning: Glyph 50640 missing from current font.\n",
            "  font.set_text(s, 0.0, flags=flags)\n",
            "/usr/local/lib/python3.6/dist-packages/matplotlib/backends/backend_agg.py:214: RuntimeWarning: Glyph 54620 missing from current font.\n",
            "  font.set_text(s, 0.0, flags=flags)\n",
            "/usr/local/lib/python3.6/dist-packages/matplotlib/backends/backend_agg.py:214: RuntimeWarning: Glyph 51064 missing from current font.\n",
            "  font.set_text(s, 0.0, flags=flags)\n",
            "/usr/local/lib/python3.6/dist-packages/matplotlib/backends/backend_agg.py:214: RuntimeWarning: Glyph 49885 missing from current font.\n",
            "  font.set_text(s, 0.0, flags=flags)\n",
            "/usr/local/lib/python3.6/dist-packages/matplotlib/backends/backend_agg.py:183: RuntimeWarning: Glyph 50500 missing from current font.\n",
            "  font.set_text(s, 0, flags=flags)\n",
            "/usr/local/lib/python3.6/dist-packages/matplotlib/backends/backend_agg.py:183: RuntimeWarning: Glyph 46041 missing from current font.\n",
            "  font.set_text(s, 0, flags=flags)\n",
            "/usr/local/lib/python3.6/dist-packages/matplotlib/backends/backend_agg.py:183: RuntimeWarning: Glyph 54617 missing from current font.\n",
            "  font.set_text(s, 0, flags=flags)\n",
            "/usr/local/lib/python3.6/dist-packages/matplotlib/backends/backend_agg.py:183: RuntimeWarning: Glyph 45824 missing from current font.\n",
            "  font.set_text(s, 0, flags=flags)\n",
            "/usr/local/lib/python3.6/dist-packages/matplotlib/backends/backend_agg.py:183: RuntimeWarning: Glyph 49900 missing from current font.\n",
            "  font.set_text(s, 0, flags=flags)\n",
            "/usr/local/lib/python3.6/dist-packages/matplotlib/backends/backend_agg.py:183: RuntimeWarning: Glyph 44033 missing from current font.\n",
            "  font.set_text(s, 0, flags=flags)\n",
            "/usr/local/lib/python3.6/dist-packages/matplotlib/backends/backend_agg.py:183: RuntimeWarning: Glyph 49457 missing from current font.\n",
            "  font.set_text(s, 0, flags=flags)\n",
            "/usr/local/lib/python3.6/dist-packages/matplotlib/backends/backend_agg.py:183: RuntimeWarning: Glyph 48143 missing from current font.\n",
            "  font.set_text(s, 0, flags=flags)\n",
            "/usr/local/lib/python3.6/dist-packages/matplotlib/backends/backend_agg.py:183: RuntimeWarning: Glyph 51648 missing from current font.\n",
            "  font.set_text(s, 0, flags=flags)\n",
            "/usr/local/lib/python3.6/dist-packages/matplotlib/backends/backend_agg.py:183: RuntimeWarning: Glyph 49549 missing from current font.\n",
            "  font.set_text(s, 0, flags=flags)\n",
            "/usr/local/lib/python3.6/dist-packages/matplotlib/backends/backend_agg.py:183: RuntimeWarning: Glyph 54588 missing from current font.\n",
            "  font.set_text(s, 0, flags=flags)\n",
            "/usr/local/lib/python3.6/dist-packages/matplotlib/backends/backend_agg.py:183: RuntimeWarning: Glyph 54644 missing from current font.\n",
            "  font.set_text(s, 0, flags=flags)\n",
            "/usr/local/lib/python3.6/dist-packages/matplotlib/backends/backend_agg.py:183: RuntimeWarning: Glyph 50837 missing from current font.\n",
            "  font.set_text(s, 0, flags=flags)\n",
            "/usr/local/lib/python3.6/dist-packages/matplotlib/backends/backend_agg.py:183: RuntimeWarning: Glyph 44396 missing from current font.\n",
            "  font.set_text(s, 0, flags=flags)\n",
            "/usr/local/lib/python3.6/dist-packages/matplotlib/backends/backend_agg.py:183: RuntimeWarning: Glyph 53945 missing from current font.\n",
            "  font.set_text(s, 0, flags=flags)\n",
            "/usr/local/lib/python3.6/dist-packages/matplotlib/backends/backend_agg.py:183: RuntimeWarning: Glyph 49373 missing from current font.\n",
            "  font.set_text(s, 0, flags=flags)\n",
            "/usr/local/lib/python3.6/dist-packages/matplotlib/backends/backend_agg.py:183: RuntimeWarning: Glyph 54876 missing from current font.\n",
            "  font.set_text(s, 0, flags=flags)\n",
            "/usr/local/lib/python3.6/dist-packages/matplotlib/backends/backend_agg.py:183: RuntimeWarning: Glyph 54872 missing from current font.\n",
            "  font.set_text(s, 0, flags=flags)\n",
            "/usr/local/lib/python3.6/dist-packages/matplotlib/backends/backend_agg.py:183: RuntimeWarning: Glyph 44221 missing from current font.\n",
            "  font.set_text(s, 0, flags=flags)\n",
            "/usr/local/lib/python3.6/dist-packages/matplotlib/backends/backend_agg.py:183: RuntimeWarning: Glyph 54665 missing from current font.\n",
            "  font.set_text(s, 0, flags=flags)\n",
            "/usr/local/lib/python3.6/dist-packages/matplotlib/backends/backend_agg.py:183: RuntimeWarning: Glyph 50948 missing from current font.\n",
            "  font.set_text(s, 0, flags=flags)\n",
            "/usr/local/lib/python3.6/dist-packages/matplotlib/backends/backend_agg.py:183: RuntimeWarning: Glyph 51088 missing from current font.\n",
            "  font.set_text(s, 0, flags=flags)\n",
            "/usr/local/lib/python3.6/dist-packages/matplotlib/backends/backend_agg.py:183: RuntimeWarning: Glyph 50640 missing from current font.\n",
            "  font.set_text(s, 0, flags=flags)\n",
            "/usr/local/lib/python3.6/dist-packages/matplotlib/backends/backend_agg.py:183: RuntimeWarning: Glyph 54620 missing from current font.\n",
            "  font.set_text(s, 0, flags=flags)\n",
            "/usr/local/lib/python3.6/dist-packages/matplotlib/backends/backend_agg.py:183: RuntimeWarning: Glyph 51064 missing from current font.\n",
            "  font.set_text(s, 0, flags=flags)\n",
            "/usr/local/lib/python3.6/dist-packages/matplotlib/backends/backend_agg.py:183: RuntimeWarning: Glyph 49885 missing from current font.\n",
            "  font.set_text(s, 0, flags=flags)\n"
          ],
          "name": "stderr"
        },
        {
          "output_type": "display_data",
          "data": {
            "image/png": "[encoded data removed]",
            "text/plain": [
              "<Figure size 432x288 with 1 Axes>"
            ]
          },
          "metadata": {
            "tags": [],
            "needs_background": "light"
          }
        },
        {
          "output_type": "stream",
          "text": [
            "행위자 학대 심각성 및 지속성  카테고리 입니다.\n",
            "[[0.2555372  0.0865877  0.13087429 0.4854248  0.03901767 0.00255838]]\n",
            "평가척도 점수는 6점 중 2 점입니다.\n"
          ],
          "name": "stdout"
        }
      ]
    },
    {
      "cell_type": "code",
      "metadata": {
        "id": "dxc30JNil8B1",
        "colab": {
          "base_uri": "https://localhost:8080/",
          "height": 1000
        },
        "outputId": "0a14b89f-9277-4202-a848-1be608d27a9d"
      },
      "source": [
        "category_evaluation_predict(\"옆집에서 2일에 한번씩 큰소리가 나며 아이가 우는 소리와 맞는 소리가 들립니다. 또한 아이의 위생상태는 매우 좋지 않으며 집이 아주 더러우며 악취가 납니다.\")"
      ],
      "execution_count": null,
      "outputs": [
        {
          "output_type": "stream",
          "text": [
            "/usr/local/lib/python3.6/dist-packages/transformers/tokenization_utils_base.py:2179: FutureWarning: The `pad_to_max_length` argument is deprecated and will be removed in a future version, use `padding=True` or `padding='longest'` to pad to the longest sequence in the batch, or use `padding='max_length'` to pad to a max length. In this case, you can give a specific length with `max_length` (e.g. `max_length=45`) or leave max_length to None to pad to the maximal input size of the model (e.g. 512 for Bert).\n",
            "  FutureWarning,\n",
            "/usr/local/lib/python3.6/dist-packages/matplotlib/backends/backend_agg.py:214: RuntimeWarning: Glyph 50500 missing from current font.\n",
            "  font.set_text(s, 0.0, flags=flags)\n",
            "/usr/local/lib/python3.6/dist-packages/matplotlib/backends/backend_agg.py:214: RuntimeWarning: Glyph 46041 missing from current font.\n",
            "  font.set_text(s, 0.0, flags=flags)\n",
            "/usr/local/lib/python3.6/dist-packages/matplotlib/backends/backend_agg.py:214: RuntimeWarning: Glyph 54617 missing from current font.\n",
            "  font.set_text(s, 0.0, flags=flags)\n",
            "/usr/local/lib/python3.6/dist-packages/matplotlib/backends/backend_agg.py:214: RuntimeWarning: Glyph 45824 missing from current font.\n",
            "  font.set_text(s, 0.0, flags=flags)\n",
            "/usr/local/lib/python3.6/dist-packages/matplotlib/backends/backend_agg.py:214: RuntimeWarning: Glyph 49900 missing from current font.\n",
            "  font.set_text(s, 0.0, flags=flags)\n",
            "/usr/local/lib/python3.6/dist-packages/matplotlib/backends/backend_agg.py:214: RuntimeWarning: Glyph 44033 missing from current font.\n",
            "  font.set_text(s, 0.0, flags=flags)\n",
            "/usr/local/lib/python3.6/dist-packages/matplotlib/backends/backend_agg.py:214: RuntimeWarning: Glyph 49457 missing from current font.\n",
            "  font.set_text(s, 0.0, flags=flags)\n",
            "/usr/local/lib/python3.6/dist-packages/matplotlib/backends/backend_agg.py:214: RuntimeWarning: Glyph 48143 missing from current font.\n",
            "  font.set_text(s, 0.0, flags=flags)\n",
            "/usr/local/lib/python3.6/dist-packages/matplotlib/backends/backend_agg.py:214: RuntimeWarning: Glyph 51648 missing from current font.\n",
            "  font.set_text(s, 0.0, flags=flags)\n",
            "/usr/local/lib/python3.6/dist-packages/matplotlib/backends/backend_agg.py:214: RuntimeWarning: Glyph 49549 missing from current font.\n",
            "  font.set_text(s, 0.0, flags=flags)\n",
            "/usr/local/lib/python3.6/dist-packages/matplotlib/backends/backend_agg.py:214: RuntimeWarning: Glyph 54588 missing from current font.\n",
            "  font.set_text(s, 0.0, flags=flags)\n",
            "/usr/local/lib/python3.6/dist-packages/matplotlib/backends/backend_agg.py:214: RuntimeWarning: Glyph 54644 missing from current font.\n",
            "  font.set_text(s, 0.0, flags=flags)\n",
            "/usr/local/lib/python3.6/dist-packages/matplotlib/backends/backend_agg.py:214: RuntimeWarning: Glyph 50837 missing from current font.\n",
            "  font.set_text(s, 0.0, flags=flags)\n",
            "/usr/local/lib/python3.6/dist-packages/matplotlib/backends/backend_agg.py:214: RuntimeWarning: Glyph 44396 missing from current font.\n",
            "  font.set_text(s, 0.0, flags=flags)\n",
            "/usr/local/lib/python3.6/dist-packages/matplotlib/backends/backend_agg.py:214: RuntimeWarning: Glyph 53945 missing from current font.\n",
            "  font.set_text(s, 0.0, flags=flags)\n",
            "/usr/local/lib/python3.6/dist-packages/matplotlib/backends/backend_agg.py:214: RuntimeWarning: Glyph 49373 missing from current font.\n",
            "  font.set_text(s, 0.0, flags=flags)\n",
            "/usr/local/lib/python3.6/dist-packages/matplotlib/backends/backend_agg.py:214: RuntimeWarning: Glyph 54876 missing from current font.\n",
            "  font.set_text(s, 0.0, flags=flags)\n",
            "/usr/local/lib/python3.6/dist-packages/matplotlib/backends/backend_agg.py:214: RuntimeWarning: Glyph 54872 missing from current font.\n",
            "  font.set_text(s, 0.0, flags=flags)\n",
            "/usr/local/lib/python3.6/dist-packages/matplotlib/backends/backend_agg.py:214: RuntimeWarning: Glyph 44221 missing from current font.\n",
            "  font.set_text(s, 0.0, flags=flags)\n",
            "/usr/local/lib/python3.6/dist-packages/matplotlib/backends/backend_agg.py:214: RuntimeWarning: Glyph 54665 missing from current font.\n",
            "  font.set_text(s, 0.0, flags=flags)\n",
            "/usr/local/lib/python3.6/dist-packages/matplotlib/backends/backend_agg.py:214: RuntimeWarning: Glyph 50948 missing from current font.\n",
            "  font.set_text(s, 0.0, flags=flags)\n",
            "/usr/local/lib/python3.6/dist-packages/matplotlib/backends/backend_agg.py:214: RuntimeWarning: Glyph 51088 missing from current font.\n",
            "  font.set_text(s, 0.0, flags=flags)\n",
            "/usr/local/lib/python3.6/dist-packages/matplotlib/backends/backend_agg.py:214: RuntimeWarning: Glyph 50640 missing from current font.\n",
            "  font.set_text(s, 0.0, flags=flags)\n",
            "/usr/local/lib/python3.6/dist-packages/matplotlib/backends/backend_agg.py:214: RuntimeWarning: Glyph 54620 missing from current font.\n",
            "  font.set_text(s, 0.0, flags=flags)\n",
            "/usr/local/lib/python3.6/dist-packages/matplotlib/backends/backend_agg.py:214: RuntimeWarning: Glyph 51064 missing from current font.\n",
            "  font.set_text(s, 0.0, flags=flags)\n",
            "/usr/local/lib/python3.6/dist-packages/matplotlib/backends/backend_agg.py:214: RuntimeWarning: Glyph 49885 missing from current font.\n",
            "  font.set_text(s, 0.0, flags=flags)\n",
            "/usr/local/lib/python3.6/dist-packages/matplotlib/backends/backend_agg.py:183: RuntimeWarning: Glyph 50500 missing from current font.\n",
            "  font.set_text(s, 0, flags=flags)\n",
            "/usr/local/lib/python3.6/dist-packages/matplotlib/backends/backend_agg.py:183: RuntimeWarning: Glyph 46041 missing from current font.\n",
            "  font.set_text(s, 0, flags=flags)\n",
            "/usr/local/lib/python3.6/dist-packages/matplotlib/backends/backend_agg.py:183: RuntimeWarning: Glyph 54617 missing from current font.\n",
            "  font.set_text(s, 0, flags=flags)\n",
            "/usr/local/lib/python3.6/dist-packages/matplotlib/backends/backend_agg.py:183: RuntimeWarning: Glyph 45824 missing from current font.\n",
            "  font.set_text(s, 0, flags=flags)\n",
            "/usr/local/lib/python3.6/dist-packages/matplotlib/backends/backend_agg.py:183: RuntimeWarning: Glyph 49900 missing from current font.\n",
            "  font.set_text(s, 0, flags=flags)\n",
            "/usr/local/lib/python3.6/dist-packages/matplotlib/backends/backend_agg.py:183: RuntimeWarning: Glyph 44033 missing from current font.\n",
            "  font.set_text(s, 0, flags=flags)\n",
            "/usr/local/lib/python3.6/dist-packages/matplotlib/backends/backend_agg.py:183: RuntimeWarning: Glyph 49457 missing from current font.\n",
            "  font.set_text(s, 0, flags=flags)\n",
            "/usr/local/lib/python3.6/dist-packages/matplotlib/backends/backend_agg.py:183: RuntimeWarning: Glyph 48143 missing from current font.\n",
            "  font.set_text(s, 0, flags=flags)\n",
            "/usr/local/lib/python3.6/dist-packages/matplotlib/backends/backend_agg.py:183: RuntimeWarning: Glyph 51648 missing from current font.\n",
            "  font.set_text(s, 0, flags=flags)\n",
            "/usr/local/lib/python3.6/dist-packages/matplotlib/backends/backend_agg.py:183: RuntimeWarning: Glyph 49549 missing from current font.\n",
            "  font.set_text(s, 0, flags=flags)\n",
            "/usr/local/lib/python3.6/dist-packages/matplotlib/backends/backend_agg.py:183: RuntimeWarning: Glyph 54588 missing from current font.\n",
            "  font.set_text(s, 0, flags=flags)\n",
            "/usr/local/lib/python3.6/dist-packages/matplotlib/backends/backend_agg.py:183: RuntimeWarning: Glyph 54644 missing from current font.\n",
            "  font.set_text(s, 0, flags=flags)\n",
            "/usr/local/lib/python3.6/dist-packages/matplotlib/backends/backend_agg.py:183: RuntimeWarning: Glyph 50837 missing from current font.\n",
            "  font.set_text(s, 0, flags=flags)\n",
            "/usr/local/lib/python3.6/dist-packages/matplotlib/backends/backend_agg.py:183: RuntimeWarning: Glyph 44396 missing from current font.\n",
            "  font.set_text(s, 0, flags=flags)\n",
            "/usr/local/lib/python3.6/dist-packages/matplotlib/backends/backend_agg.py:183: RuntimeWarning: Glyph 53945 missing from current font.\n",
            "  font.set_text(s, 0, flags=flags)\n",
            "/usr/local/lib/python3.6/dist-packages/matplotlib/backends/backend_agg.py:183: RuntimeWarning: Glyph 49373 missing from current font.\n",
            "  font.set_text(s, 0, flags=flags)\n",
            "/usr/local/lib/python3.6/dist-packages/matplotlib/backends/backend_agg.py:183: RuntimeWarning: Glyph 54876 missing from current font.\n",
            "  font.set_text(s, 0, flags=flags)\n",
            "/usr/local/lib/python3.6/dist-packages/matplotlib/backends/backend_agg.py:183: RuntimeWarning: Glyph 54872 missing from current font.\n",
            "  font.set_text(s, 0, flags=flags)\n",
            "/usr/local/lib/python3.6/dist-packages/matplotlib/backends/backend_agg.py:183: RuntimeWarning: Glyph 44221 missing from current font.\n",
            "  font.set_text(s, 0, flags=flags)\n",
            "/usr/local/lib/python3.6/dist-packages/matplotlib/backends/backend_agg.py:183: RuntimeWarning: Glyph 54665 missing from current font.\n",
            "  font.set_text(s, 0, flags=flags)\n",
            "/usr/local/lib/python3.6/dist-packages/matplotlib/backends/backend_agg.py:183: RuntimeWarning: Glyph 50948 missing from current font.\n",
            "  font.set_text(s, 0, flags=flags)\n",
            "/usr/local/lib/python3.6/dist-packages/matplotlib/backends/backend_agg.py:183: RuntimeWarning: Glyph 51088 missing from current font.\n",
            "  font.set_text(s, 0, flags=flags)\n",
            "/usr/local/lib/python3.6/dist-packages/matplotlib/backends/backend_agg.py:183: RuntimeWarning: Glyph 50640 missing from current font.\n",
            "  font.set_text(s, 0, flags=flags)\n",
            "/usr/local/lib/python3.6/dist-packages/matplotlib/backends/backend_agg.py:183: RuntimeWarning: Glyph 54620 missing from current font.\n",
            "  font.set_text(s, 0, flags=flags)\n",
            "/usr/local/lib/python3.6/dist-packages/matplotlib/backends/backend_agg.py:183: RuntimeWarning: Glyph 51064 missing from current font.\n",
            "  font.set_text(s, 0, flags=flags)\n",
            "/usr/local/lib/python3.6/dist-packages/matplotlib/backends/backend_agg.py:183: RuntimeWarning: Glyph 49885 missing from current font.\n",
            "  font.set_text(s, 0, flags=flags)\n"
          ],
          "name": "stderr"
        },
        {
          "output_type": "display_data",
          "data": {
            "image/png": "[encoded data removed]",
            "text/plain": [
              "<Figure size 432x288 with 1 Axes>"
            ]
          },
          "metadata": {
            "tags": [],
            "needs_background": "light"
          }
        },
        {
          "output_type": "stream",
          "text": [
            "학대에 대한 인식  카테고리 입니다.\n",
            "[[0.09730545 0.0254382  0.12024534 0.01350234 0.7392164  0.00429223]]\n",
            "평가척도 점수는 6점 중 1 점입니다.\n"
          ],
          "name": "stdout"
        }
      ]
    },
    {
      "cell_type": "code",
      "metadata": {
        "id": "9DiKnHCjKVk6",
        "colab": {
          "base_uri": "https://localhost:8080/",
          "height": 1000
        },
        "outputId": "e9ddb0fb-60a5-463d-c2f3-4dde5e1ca9fd"
      },
      "source": [
        "category_evaluation_predict(\"집이 너무 더러우며 부모님이 치우시지를 않습니다. 정말 더러워서 생활하기가 힘듭니다.\")"
      ],
      "execution_count": null,
      "outputs": [
        {
          "output_type": "stream",
          "text": [
            "/usr/local/lib/python3.6/dist-packages/transformers/tokenization_utils_base.py:2179: FutureWarning: The `pad_to_max_length` argument is deprecated and will be removed in a future version, use `padding=True` or `padding='longest'` to pad to the longest sequence in the batch, or use `padding='max_length'` to pad to a max length. In this case, you can give a specific length with `max_length` (e.g. `max_length=45`) or leave max_length to None to pad to the maximal input size of the model (e.g. 512 for Bert).\n",
            "  FutureWarning,\n",
            "/usr/local/lib/python3.6/dist-packages/matplotlib/backends/backend_agg.py:214: RuntimeWarning: Glyph 50500 missing from current font.\n",
            "  font.set_text(s, 0.0, flags=flags)\n",
            "/usr/local/lib/python3.6/dist-packages/matplotlib/backends/backend_agg.py:214: RuntimeWarning: Glyph 46041 missing from current font.\n",
            "  font.set_text(s, 0.0, flags=flags)\n",
            "/usr/local/lib/python3.6/dist-packages/matplotlib/backends/backend_agg.py:214: RuntimeWarning: Glyph 54617 missing from current font.\n",
            "  font.set_text(s, 0.0, flags=flags)\n",
            "/usr/local/lib/python3.6/dist-packages/matplotlib/backends/backend_agg.py:214: RuntimeWarning: Glyph 45824 missing from current font.\n",
            "  font.set_text(s, 0.0, flags=flags)\n",
            "/usr/local/lib/python3.6/dist-packages/matplotlib/backends/backend_agg.py:214: RuntimeWarning: Glyph 49900 missing from current font.\n",
            "  font.set_text(s, 0.0, flags=flags)\n",
            "/usr/local/lib/python3.6/dist-packages/matplotlib/backends/backend_agg.py:214: RuntimeWarning: Glyph 44033 missing from current font.\n",
            "  font.set_text(s, 0.0, flags=flags)\n",
            "/usr/local/lib/python3.6/dist-packages/matplotlib/backends/backend_agg.py:214: RuntimeWarning: Glyph 49457 missing from current font.\n",
            "  font.set_text(s, 0.0, flags=flags)\n",
            "/usr/local/lib/python3.6/dist-packages/matplotlib/backends/backend_agg.py:214: RuntimeWarning: Glyph 48143 missing from current font.\n",
            "  font.set_text(s, 0.0, flags=flags)\n",
            "/usr/local/lib/python3.6/dist-packages/matplotlib/backends/backend_agg.py:214: RuntimeWarning: Glyph 51648 missing from current font.\n",
            "  font.set_text(s, 0.0, flags=flags)\n",
            "/usr/local/lib/python3.6/dist-packages/matplotlib/backends/backend_agg.py:214: RuntimeWarning: Glyph 49549 missing from current font.\n",
            "  font.set_text(s, 0.0, flags=flags)\n",
            "/usr/local/lib/python3.6/dist-packages/matplotlib/backends/backend_agg.py:214: RuntimeWarning: Glyph 54588 missing from current font.\n",
            "  font.set_text(s, 0.0, flags=flags)\n",
            "/usr/local/lib/python3.6/dist-packages/matplotlib/backends/backend_agg.py:214: RuntimeWarning: Glyph 54644 missing from current font.\n",
            "  font.set_text(s, 0.0, flags=flags)\n",
            "/usr/local/lib/python3.6/dist-packages/matplotlib/backends/backend_agg.py:214: RuntimeWarning: Glyph 50837 missing from current font.\n",
            "  font.set_text(s, 0.0, flags=flags)\n",
            "/usr/local/lib/python3.6/dist-packages/matplotlib/backends/backend_agg.py:214: RuntimeWarning: Glyph 44396 missing from current font.\n",
            "  font.set_text(s, 0.0, flags=flags)\n",
            "/usr/local/lib/python3.6/dist-packages/matplotlib/backends/backend_agg.py:214: RuntimeWarning: Glyph 53945 missing from current font.\n",
            "  font.set_text(s, 0.0, flags=flags)\n",
            "/usr/local/lib/python3.6/dist-packages/matplotlib/backends/backend_agg.py:214: RuntimeWarning: Glyph 49373 missing from current font.\n",
            "  font.set_text(s, 0.0, flags=flags)\n",
            "/usr/local/lib/python3.6/dist-packages/matplotlib/backends/backend_agg.py:214: RuntimeWarning: Glyph 54876 missing from current font.\n",
            "  font.set_text(s, 0.0, flags=flags)\n",
            "/usr/local/lib/python3.6/dist-packages/matplotlib/backends/backend_agg.py:214: RuntimeWarning: Glyph 54872 missing from current font.\n",
            "  font.set_text(s, 0.0, flags=flags)\n",
            "/usr/local/lib/python3.6/dist-packages/matplotlib/backends/backend_agg.py:214: RuntimeWarning: Glyph 44221 missing from current font.\n",
            "  font.set_text(s, 0.0, flags=flags)\n",
            "/usr/local/lib/python3.6/dist-packages/matplotlib/backends/backend_agg.py:214: RuntimeWarning: Glyph 54665 missing from current font.\n",
            "  font.set_text(s, 0.0, flags=flags)\n",
            "/usr/local/lib/python3.6/dist-packages/matplotlib/backends/backend_agg.py:214: RuntimeWarning: Glyph 50948 missing from current font.\n",
            "  font.set_text(s, 0.0, flags=flags)\n",
            "/usr/local/lib/python3.6/dist-packages/matplotlib/backends/backend_agg.py:214: RuntimeWarning: Glyph 51088 missing from current font.\n",
            "  font.set_text(s, 0.0, flags=flags)\n",
            "/usr/local/lib/python3.6/dist-packages/matplotlib/backends/backend_agg.py:214: RuntimeWarning: Glyph 50640 missing from current font.\n",
            "  font.set_text(s, 0.0, flags=flags)\n",
            "/usr/local/lib/python3.6/dist-packages/matplotlib/backends/backend_agg.py:214: RuntimeWarning: Glyph 54620 missing from current font.\n",
            "  font.set_text(s, 0.0, flags=flags)\n",
            "/usr/local/lib/python3.6/dist-packages/matplotlib/backends/backend_agg.py:214: RuntimeWarning: Glyph 51064 missing from current font.\n",
            "  font.set_text(s, 0.0, flags=flags)\n",
            "/usr/local/lib/python3.6/dist-packages/matplotlib/backends/backend_agg.py:214: RuntimeWarning: Glyph 49885 missing from current font.\n",
            "  font.set_text(s, 0.0, flags=flags)\n",
            "/usr/local/lib/python3.6/dist-packages/matplotlib/backends/backend_agg.py:183: RuntimeWarning: Glyph 50500 missing from current font.\n",
            "  font.set_text(s, 0, flags=flags)\n",
            "/usr/local/lib/python3.6/dist-packages/matplotlib/backends/backend_agg.py:183: RuntimeWarning: Glyph 46041 missing from current font.\n",
            "  font.set_text(s, 0, flags=flags)\n",
            "/usr/local/lib/python3.6/dist-packages/matplotlib/backends/backend_agg.py:183: RuntimeWarning: Glyph 54617 missing from current font.\n",
            "  font.set_text(s, 0, flags=flags)\n",
            "/usr/local/lib/python3.6/dist-packages/matplotlib/backends/backend_agg.py:183: RuntimeWarning: Glyph 45824 missing from current font.\n",
            "  font.set_text(s, 0, flags=flags)\n",
            "/usr/local/lib/python3.6/dist-packages/matplotlib/backends/backend_agg.py:183: RuntimeWarning: Glyph 49900 missing from current font.\n",
            "  font.set_text(s, 0, flags=flags)\n",
            "/usr/local/lib/python3.6/dist-packages/matplotlib/backends/backend_agg.py:183: RuntimeWarning: Glyph 44033 missing from current font.\n",
            "  font.set_text(s, 0, flags=flags)\n",
            "/usr/local/lib/python3.6/dist-packages/matplotlib/backends/backend_agg.py:183: RuntimeWarning: Glyph 49457 missing from current font.\n",
            "  font.set_text(s, 0, flags=flags)\n",
            "/usr/local/lib/python3.6/dist-packages/matplotlib/backends/backend_agg.py:183: RuntimeWarning: Glyph 48143 missing from current font.\n",
            "  font.set_text(s, 0, flags=flags)\n",
            "/usr/local/lib/python3.6/dist-packages/matplotlib/backends/backend_agg.py:183: RuntimeWarning: Glyph 51648 missing from current font.\n",
            "  font.set_text(s, 0, flags=flags)\n",
            "/usr/local/lib/python3.6/dist-packages/matplotlib/backends/backend_agg.py:183: RuntimeWarning: Glyph 49549 missing from current font.\n",
            "  font.set_text(s, 0, flags=flags)\n",
            "/usr/local/lib/python3.6/dist-packages/matplotlib/backends/backend_agg.py:183: RuntimeWarning: Glyph 54588 missing from current font.\n",
            "  font.set_text(s, 0, flags=flags)\n",
            "/usr/local/lib/python3.6/dist-packages/matplotlib/backends/backend_agg.py:183: RuntimeWarning: Glyph 54644 missing from current font.\n",
            "  font.set_text(s, 0, flags=flags)\n",
            "/usr/local/lib/python3.6/dist-packages/matplotlib/backends/backend_agg.py:183: RuntimeWarning: Glyph 50837 missing from current font.\n",
            "  font.set_text(s, 0, flags=flags)\n",
            "/usr/local/lib/python3.6/dist-packages/matplotlib/backends/backend_agg.py:183: RuntimeWarning: Glyph 44396 missing from current font.\n",
            "  font.set_text(s, 0, flags=flags)\n",
            "/usr/local/lib/python3.6/dist-packages/matplotlib/backends/backend_agg.py:183: RuntimeWarning: Glyph 53945 missing from current font.\n",
            "  font.set_text(s, 0, flags=flags)\n",
            "/usr/local/lib/python3.6/dist-packages/matplotlib/backends/backend_agg.py:183: RuntimeWarning: Glyph 49373 missing from current font.\n",
            "  font.set_text(s, 0, flags=flags)\n",
            "/usr/local/lib/python3.6/dist-packages/matplotlib/backends/backend_agg.py:183: RuntimeWarning: Glyph 54876 missing from current font.\n",
            "  font.set_text(s, 0, flags=flags)\n",
            "/usr/local/lib/python3.6/dist-packages/matplotlib/backends/backend_agg.py:183: RuntimeWarning: Glyph 54872 missing from current font.\n",
            "  font.set_text(s, 0, flags=flags)\n",
            "/usr/local/lib/python3.6/dist-packages/matplotlib/backends/backend_agg.py:183: RuntimeWarning: Glyph 44221 missing from current font.\n",
            "  font.set_text(s, 0, flags=flags)\n",
            "/usr/local/lib/python3.6/dist-packages/matplotlib/backends/backend_agg.py:183: RuntimeWarning: Glyph 54665 missing from current font.\n",
            "  font.set_text(s, 0, flags=flags)\n",
            "/usr/local/lib/python3.6/dist-packages/matplotlib/backends/backend_agg.py:183: RuntimeWarning: Glyph 50948 missing from current font.\n",
            "  font.set_text(s, 0, flags=flags)\n",
            "/usr/local/lib/python3.6/dist-packages/matplotlib/backends/backend_agg.py:183: RuntimeWarning: Glyph 51088 missing from current font.\n",
            "  font.set_text(s, 0, flags=flags)\n",
            "/usr/local/lib/python3.6/dist-packages/matplotlib/backends/backend_agg.py:183: RuntimeWarning: Glyph 50640 missing from current font.\n",
            "  font.set_text(s, 0, flags=flags)\n",
            "/usr/local/lib/python3.6/dist-packages/matplotlib/backends/backend_agg.py:183: RuntimeWarning: Glyph 54620 missing from current font.\n",
            "  font.set_text(s, 0, flags=flags)\n",
            "/usr/local/lib/python3.6/dist-packages/matplotlib/backends/backend_agg.py:183: RuntimeWarning: Glyph 51064 missing from current font.\n",
            "  font.set_text(s, 0, flags=flags)\n",
            "/usr/local/lib/python3.6/dist-packages/matplotlib/backends/backend_agg.py:183: RuntimeWarning: Glyph 49885 missing from current font.\n",
            "  font.set_text(s, 0, flags=flags)\n"
          ],
          "name": "stderr"
        },
        {
          "output_type": "display_data",
          "data": {
            "image/png": "[encoded data removed]",
            "text/plain": [
              "<Figure size 432x288 with 1 Axes>"
            ]
          },
          "metadata": {
            "tags": [],
            "needs_background": "light"
          }
        },
        {
          "output_type": "stream",
          "text": [
            "피해아동 욕구 및 특성  카테고리 입니다.\n",
            "[[0.2074865  0.7384094  0.0189771  0.00460373 0.02769458 0.00282867]]\n",
            "평가척도 점수는 6점 중 2 점입니다.\n"
          ],
          "name": "stdout"
        }
      ]
    },
    {
      "cell_type": "code",
      "metadata": {
        "id": "qcs4MAT4nNUf"
      },
      "source": [
        ""
      ],
      "execution_count": null,
      "outputs": []
    }
  ]
}